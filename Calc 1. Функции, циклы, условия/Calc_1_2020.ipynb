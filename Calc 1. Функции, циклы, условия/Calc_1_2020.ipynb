{
 "cells": [
  {
   "cell_type": "markdown",
   "metadata": {},
   "source": [
    "# Практическое занятие 1\n",
    "## Математический анализ\n",
    "\n",
    "https://docs.sympy.org/latest/tutorial/intro.html"
   ]
  },
  {
   "cell_type": "code",
   "execution_count": 6,
   "metadata": {},
   "outputs": [],
   "source": [
    "#Вначале для простоты будем подключать модуль sympy целиком\n",
    "from sympy import *"
   ]
  },
  {
   "cell_type": "markdown",
   "metadata": {},
   "source": [
    "## Действия с числами, числовые выражения\n",
    "Об основных типах данных Python 3.8 читайте здесь:\n",
    "\n",
    "https://docs.python.org/3/reference/datamodel.html#index-19\n",
    "\n",
    "Сложение и вычитание как обычно \"+\" и \"-\", деление \"/\", умножение \"*\".\n",
    "\n",
    "Возведение в степень в Python изображается $**$, например, $2^3$ будет $2**3$.\n",
    "\n",
    "## Символы, символьные выражения\n",
    "Для аналитических преобразований в sympy используется класс Symbol\n",
    "\n",
    "https://docs.sympy.org/latest/modules/core.html?highlight=symbol#module-sympy.core.symbol\n",
    "\n",
    "В этом классе есть метод Symbol для создания одного символа, метод symbols для создания нескольких символов одновременно.\n",
    "### Пример 1.\n",
    "Создадим символ $x$ и символы $y$, $z$, затем создадим символы $t_1, ..., t_6$. \n",
    "\n",
    "Для красивого отображения формул используем display(). Для распаковки кортежа символов используем $*$.\n",
    "Сравните результат с и без $*$."
   ]
  },
  {
   "cell_type": "code",
   "execution_count": 2,
   "metadata": {},
   "outputs": [
    {
     "data": {
      "text/latex": [
       "$\\displaystyle x$"
      ],
      "text/plain": [
       "x"
      ]
     },
     "metadata": {},
     "output_type": "display_data"
    },
    {
     "data": {
      "text/latex": [
       "$\\displaystyle y$"
      ],
      "text/plain": [
       "y"
      ]
     },
     "metadata": {},
     "output_type": "display_data"
    },
    {
     "data": {
      "text/latex": [
       "$\\displaystyle z$"
      ],
      "text/plain": [
       "z"
      ]
     },
     "metadata": {},
     "output_type": "display_data"
    },
    {
     "data": {
      "text/plain": [
       "(t1, t2, t3, t4, t5, t6)"
      ]
     },
     "metadata": {},
     "output_type": "display_data"
    },
    {
     "data": {
      "text/latex": [
       "$\\displaystyle t_{1}$"
      ],
      "text/plain": [
       "t1"
      ]
     },
     "metadata": {},
     "output_type": "display_data"
    },
    {
     "data": {
      "text/latex": [
       "$\\displaystyle t_{2}$"
      ],
      "text/plain": [
       "t2"
      ]
     },
     "metadata": {},
     "output_type": "display_data"
    },
    {
     "data": {
      "text/latex": [
       "$\\displaystyle t_{3}$"
      ],
      "text/plain": [
       "t3"
      ]
     },
     "metadata": {},
     "output_type": "display_data"
    },
    {
     "data": {
      "text/latex": [
       "$\\displaystyle t_{4}$"
      ],
      "text/plain": [
       "t4"
      ]
     },
     "metadata": {},
     "output_type": "display_data"
    },
    {
     "data": {
      "text/latex": [
       "$\\displaystyle t_{5}$"
      ],
      "text/plain": [
       "t5"
      ]
     },
     "metadata": {},
     "output_type": "display_data"
    },
    {
     "data": {
      "text/latex": [
       "$\\displaystyle t_{6}$"
      ],
      "text/plain": [
       "t6"
      ]
     },
     "metadata": {},
     "output_type": "display_data"
    }
   ],
   "source": [
    "x = Symbol('x')\n",
    "y, z = symbols('y, z')\n",
    "t = symbols('t1:7') # Обратите внимание, что последний номер 7, а не 6! Дело в том, что последний номер НЕ включается!\n",
    "display(x, y, z, t, *t)"
   ]
  },
  {
   "cell_type": "markdown",
   "metadata": {},
   "source": [
    "### Функции пользователя\n",
    "Для более наглядного и удобного решения задачи былает удобно разбить ее на подзадачи и каждую подзадачу оформить в виде функции. Функции бывают встроенные, такие как $\\sin$ и $\\log$, их можно использовать, подключив соответствующий модуль, например, Sympy. Можно написать собственные функции следующим образом:\n",
    "\n",
    "def function_name(arg1, ..., arg2=value):\n",
    "\n",
    "    .....\n",
    "    \n",
    "    return something\n",
    "Ключевое слово return можно опустить, тогда функция вернет в качестве результата None.\n",
    "\n",
    "У функции могут быть только обязательные аргументы, но могут быть и аргументы со значениями по умолчанию (необязательные аргументы).\n",
    "Вначале опишем функцию $f$ с обязательными аргументами $x$ и $a$.\n",
    "\n",
    "При вызове функции аргументы передаются по порядку, в нашем случае сначала значение  $x$, потом $a$.\n",
    "\n",
    "### Пример 2\n",
    "Опишем функцию $func\\_power(x,a)=x^a$:    "
   ]
  },
  {
   "cell_type": "code",
   "execution_count": 3,
   "metadata": {},
   "outputs": [],
   "source": [
    "def func_power(x, a):\n",
    "    return x**a"
   ]
  },
  {
   "cell_type": "markdown",
   "metadata": {},
   "source": [
    "При вызове функции сначала передаем значение  $x$, потом $a$. "
   ]
  },
  {
   "cell_type": "code",
   "execution_count": 4,
   "metadata": {},
   "outputs": [
    {
     "data": {
      "text/plain": [
       "8"
      ]
     },
     "execution_count": 4,
     "metadata": {},
     "output_type": "execute_result"
    }
   ],
   "source": [
    "func_power(2, 3)"
   ]
  },
  {
   "cell_type": "markdown",
   "metadata": {},
   "source": [
    "Можно передавать в качестве аргументов не только числа, но символы: "
   ]
  },
  {
   "cell_type": "code",
   "execution_count": 5,
   "metadata": {},
   "outputs": [
    {
     "data": {
      "text/latex": [
       "$\\displaystyle 2^{a}$"
      ],
      "text/plain": [
       "2**a"
      ]
     },
     "execution_count": 5,
     "metadata": {},
     "output_type": "execute_result"
    }
   ],
   "source": [
    "a = symbols('a')\n",
    "func_power(2, a)"
   ]
  },
  {
   "cell_type": "markdown",
   "metadata": {},
   "source": [
    "Аргументом функции может быть и имя другой функции.\n",
    "### Пример 3\n",
    "Опишем функцию, вычисляющую разность значений функции $f$ в точках $x_1$ и $x_2$, т.е. $f(x_2)-f(x_1)$."
   ]
  },
  {
   "cell_type": "code",
   "execution_count": 6,
   "metadata": {},
   "outputs": [],
   "source": [
    "def delta_f(f, x1, x2):\n",
    "    return f(x2) - f(x1)"
   ]
  },
  {
   "cell_type": "markdown",
   "metadata": {},
   "source": [
    "При вызове функции сначала передаем имя функции, потом точки $x_1$ и $x_2$. Возьмем в качестве функции $\\sin$, а точки $\\pi/6$ и $\\pi/3$."
   ]
  },
  {
   "cell_type": "code",
   "execution_count": 7,
   "metadata": {},
   "outputs": [
    {
     "data": {
      "text/latex": [
       "$\\displaystyle - \\frac{1}{2} + \\frac{\\sqrt{3}}{2}$"
      ],
      "text/plain": [
       "-1/2 + sqrt(3)/2"
      ]
     },
     "execution_count": 7,
     "metadata": {},
     "output_type": "execute_result"
    }
   ],
   "source": [
    "delta_f(sin, pi/6, pi/3)"
   ]
  },
  {
   "cell_type": "markdown",
   "metadata": {},
   "source": [
    "В качестве аргументов можно передать и значение функции, числовое или символьное. Пусть теперь функцией будет $\\log$, а точки - значения функции $func\\_power$ с аргументами (E, 3) и (a+1, a) соответственно."
   ]
  },
  {
   "cell_type": "code",
   "execution_count": 8,
   "metadata": {},
   "outputs": [
    {
     "data": {
      "text/latex": [
       "$\\displaystyle \\log{\\left(\\left(a + 1\\right)^{a} \\right)} - 3$"
      ],
      "text/plain": [
       "log((a + 1)**a) - 3"
      ]
     },
     "execution_count": 8,
     "metadata": {},
     "output_type": "execute_result"
    }
   ],
   "source": [
    "delta_f(log, func_power(E, 3), func_power(a + 1, a))"
   ]
  },
  {
   "cell_type": "markdown",
   "metadata": {},
   "source": [
    "### Необязательные аргументы\n",
    "Необязательные аргументы или аргументы со значением по умолчанию передаются всегда ПОСЛЕ обязательных аргументов!!!\n",
    "\n",
    "### Пример 4\n",
    "\n",
    "Опишем функцию $g(x)=\\log_a(x)/x$ с параметром $a$, по умолчанию равным числу $e$:"
   ]
  },
  {
   "cell_type": "code",
   "execution_count": 9,
   "metadata": {},
   "outputs": [],
   "source": [
    "def g(x, a=E):\n",
    "    return log(x, a)/x"
   ]
  },
  {
   "cell_type": "markdown",
   "metadata": {},
   "source": [
    "При вызове функции передадим только обязательный аргумент, если нас устраивает значение по умолчанию"
   ]
  },
  {
   "cell_type": "code",
   "execution_count": 10,
   "metadata": {},
   "outputs": [
    {
     "data": {
      "text/latex": [
       "$\\displaystyle \\frac{\\log{\\left(5 \\right)}}{5}$"
      ],
      "text/plain": [
       "log(5)/5"
      ]
     },
     "execution_count": 10,
     "metadata": {},
     "output_type": "execute_result"
    }
   ],
   "source": [
    "g(5)"
   ]
  },
  {
   "cell_type": "markdown",
   "metadata": {},
   "source": [
    "Обратим внимание, что $\\log(x,a)=\\ln(x)/\\ln(a)$, со значением по умолчанию $a=e$, так что натуральный логарифм обозначается $\\log$, а не $\\ln$, как мы привыкли.\n",
    "\n",
    "Если вместо значения по умолчанию нужно передать другое значение, \n",
    "просто передадим его в позиции нашего необязательного аргумента."
   ]
  },
  {
   "cell_type": "code",
   "execution_count": 11,
   "metadata": {},
   "outputs": [
    {
     "data": {
      "text/latex": [
       "$\\displaystyle \\frac{\\log{\\left(5 \\right)}}{5 \\log{\\left(2 \\right)}}$"
      ],
      "text/plain": [
       "log(5)/(5*log(2))"
      ]
     },
     "execution_count": 11,
     "metadata": {},
     "output_type": "execute_result"
    }
   ],
   "source": [
    "g(5, 2)"
   ]
  },
  {
   "cell_type": "markdown",
   "metadata": {},
   "source": [
    "Как уже заметили, все вычисления по умолчанию выполняются аналитически, никаких приближенных значений и округлений.\n",
    "\n",
    "Округленное значение можно получить несколькими способами. \n",
    "\n",
    "Например, можно воспользоваться функциями round, ceiling, floor."
   ]
  },
  {
   "cell_type": "code",
   "execution_count": 12,
   "metadata": {},
   "outputs": [
    {
     "data": {
      "text/plain": [
       "(0.4644, 1, 0)"
      ]
     },
     "execution_count": 12,
     "metadata": {},
     "output_type": "execute_result"
    }
   ],
   "source": [
    "log_2_5=g(5, 2)\n",
    "round(log_2_5, 4),  ceiling(log_2_5), floor(log_2_5)"
   ]
  },
  {
   "cell_type": "markdown",
   "metadata": {},
   "source": [
    "Другой способ: можно воспользоваться методом evalf():"
   ]
  },
  {
   "cell_type": "code",
   "execution_count": 13,
   "metadata": {},
   "outputs": [
    {
     "data": {
      "text/latex": [
       "$\\displaystyle 0.464385618977472$"
      ],
      "text/plain": [
       "0.464385618977472"
      ]
     },
     "execution_count": 13,
     "metadata": {},
     "output_type": "execute_result"
    }
   ],
   "source": [
    "log_2_5.evalf()"
   ]
  },
  {
   "cell_type": "markdown",
   "metadata": {},
   "source": [
    "У этого метода есть параметр со значением по умолчанию, равный числу знаков после запятой, этот параметр можно передать при вызове метода и получить значение числового выражения, округленное до $k$ знаков после запятой, например, так:"
   ]
  },
  {
   "cell_type": "code",
   "execution_count": 14,
   "metadata": {},
   "outputs": [
    {
     "data": {
      "text/latex": [
       "$\\displaystyle 0.4644$"
      ],
      "text/plain": [
       "0.4644"
      ]
     },
     "execution_count": 14,
     "metadata": {},
     "output_type": "execute_result"
    }
   ],
   "source": [
    "log_2_5.evalf(4)"
   ]
  },
  {
   "cell_type": "markdown",
   "metadata": {},
   "source": [
    "Округление производится по знакомым из школы правилам.\n",
    "\n",
    "Убедимся, что при этом само значение log_2_5 не изменилось:"
   ]
  },
  {
   "cell_type": "code",
   "execution_count": 15,
   "metadata": {},
   "outputs": [
    {
     "data": {
      "text/latex": [
       "$\\displaystyle \\frac{\\log{\\left(5 \\right)}}{5 \\log{\\left(2 \\right)}}$"
      ],
      "text/plain": [
       "log(5)/(5*log(2))"
      ]
     },
     "execution_count": 15,
     "metadata": {},
     "output_type": "execute_result"
    }
   ],
   "source": [
    "log_2_5"
   ]
  },
  {
   "cell_type": "markdown",
   "metadata": {},
   "source": [
    "Функцию round тоже можно использовать как метод:"
   ]
  },
  {
   "cell_type": "code",
   "execution_count": 16,
   "metadata": {},
   "outputs": [
    {
     "data": {
      "text/latex": [
       "$\\displaystyle 0.4644$"
      ],
      "text/plain": [
       "0.4644"
      ]
     },
     "execution_count": 16,
     "metadata": {},
     "output_type": "execute_result"
    }
   ],
   "source": [
    "log_2_5.round(4)"
   ]
  },
  {
   "cell_type": "markdown",
   "metadata": {},
   "source": [
    "А с ceiling и floor так не получится:"
   ]
  },
  {
   "cell_type": "code",
   "execution_count": 17,
   "metadata": {},
   "outputs": [
    {
     "ename": "AttributeError",
     "evalue": "'Mul' object has no attribute 'ceiling'",
     "output_type": "error",
     "traceback": [
      "\u001b[1;31m---------------------------------------------------------------------------\u001b[0m",
      "\u001b[1;31mAttributeError\u001b[0m                            Traceback (most recent call last)",
      "\u001b[1;32m<ipython-input-17-2de39ed23014>\u001b[0m in \u001b[0;36m<module>\u001b[1;34m\u001b[0m\n\u001b[1;32m----> 1\u001b[1;33m \u001b[0mlog_2_5\u001b[0m\u001b[1;33m.\u001b[0m\u001b[0mceiling\u001b[0m\u001b[1;33m(\u001b[0m\u001b[1;33m)\u001b[0m\u001b[1;33m,\u001b[0m \u001b[0mlog_2_5\u001b[0m\u001b[1;33m.\u001b[0m\u001b[0mfloor\u001b[0m\u001b[1;33m(\u001b[0m\u001b[1;33m)\u001b[0m\u001b[1;33m\u001b[0m\u001b[1;33m\u001b[0m\u001b[0m\n\u001b[0m",
      "\u001b[1;31mAttributeError\u001b[0m: 'Mul' object has no attribute 'ceiling'"
     ]
    }
   ],
   "source": [
    "log_2_5.ceiling(), log_2_5.floor()"
   ]
  },
  {
   "cell_type": "markdown",
   "metadata": {},
   "source": [
    "### Еще один способ передачи необязательных аргументов\n",
    "\n",
    "Аргументы со значениями по умолчанию можно передавать, обращаясь к ним по имени. Например, при вызове функции $g$ можно сделать так:"
   ]
  },
  {
   "cell_type": "code",
   "execution_count": 18,
   "metadata": {},
   "outputs": [
    {
     "data": {
      "text/latex": [
       "$\\displaystyle \\frac{\\log{\\left(3 \\right)}}{3 \\log{\\left(2 \\right)}}$"
      ],
      "text/plain": [
       "log(3)/(3*log(2))"
      ]
     },
     "execution_count": 18,
     "metadata": {},
     "output_type": "execute_result"
    }
   ],
   "source": [
    "g(3, a=2)"
   ]
  },
  {
   "cell_type": "markdown",
   "metadata": {},
   "source": [
    "Такой способ удобен, когда у функции много параметров по умолчанию, а изменить нужно только некоторые из них:\n",
    "### Пример 5"
   ]
  },
  {
   "cell_type": "code",
   "execution_count": 19,
   "metadata": {},
   "outputs": [
    {
     "data": {
      "text/latex": [
       "$\\displaystyle a^{5} + a^{2} + a + \\frac{1}{a}$"
      ],
      "text/plain": [
       "a**5 + a**2 + a + 1/a"
      ]
     },
     "execution_count": 19,
     "metadata": {},
     "output_type": "execute_result"
    }
   ],
   "source": [
    "def h(x, a=1, b=2, c=3, d=5):\n",
    "    return x**a + x**b + x**c + x**d\n",
    "h(a, c=-1)"
   ]
  },
  {
   "cell_type": "markdown",
   "metadata": {},
   "source": [
    "## Еще раз о циклах и условном операторе\n",
    "В теле функции можно использовать циклы, условные операторы и многое другое, поэтому напомним о них.\n",
    "### Цикл for\n",
    "### Пример 6\n",
    "Опишем функцию $sum\\_even$, которая создает $n>0$ символов $x_2,..x_{2n}$ с четными номерами и выдает в качестве результата их сумму.\n",
    "Для счетчика цикла используем range() (это неизменяемая последовательность целых чисел, используемая очень часто в качестве счетчика в цикле for).\n",
    "У range есть три необязательных аргумента, начало, конец и шаг, по умолчанию начало 0, конец и шаг 1. Важно!!! Конец не включается!!!\n",
    "\n",
    "В нашем примере надо начинать с 2, конец $2n+1$, поскольку последний нужный номер $2n$, а шаг 2.\n",
    "\n",
    "Для превращения числа в текст используем str(), это позволяет создавать символы с нужными номерами."
   ]
  },
  {
   "cell_type": "code",
   "execution_count": 20,
   "metadata": {},
   "outputs": [],
   "source": [
    "def sum_even(n):\n",
    "    res=0\n",
    "    for k in range(2, 2*n + 1, 2):\n",
    "        res += Symbol('x' + str(k))        \n",
    "    return res"
   ]
  },
  {
   "cell_type": "code",
   "execution_count": 21,
   "metadata": {},
   "outputs": [
    {
     "data": {
      "text/latex": [
       "$\\displaystyle x_{2} + x_{4} + x_{6} + x_{8}$"
      ],
      "text/plain": [
       "x2 + x4 + x6 + x8"
      ]
     },
     "execution_count": 21,
     "metadata": {},
     "output_type": "execute_result"
    }
   ],
   "source": [
    "sum_even(4)        "
   ]
  },
  {
   "cell_type": "markdown",
   "metadata": {},
   "source": [
    "### Условный оператор (if, elif, else)\n",
    "Полное описание условного оператора:\n",
    "\n",
    "if условие 1:\n",
    "\n",
    "    тело  1\n",
    "    \n",
    "elif условие 2:\n",
    "\n",
    "    тело  2\n",
    "\n",
    "elif условие 3:\n",
    "\n",
    "    тело  3 \n",
    "...\n",
    "\n",
    "else:\n",
    "\n",
    "    тело  n\n",
    "Если выполняется условие 1,  то выполняется тело 1, а условия 2, 3, ..., n не проверяются (elif означает else if) и соответствующие тела не выполняются. \n",
    "\n",
    "Если не выполняется условие 1, но выполняется условие 2,  то условия  3, ..., n не проверяются и соответствующие тела не выполняются. \n",
    "\n",
    "Для следующего примера понядобится функция input() с необязательным аргументом - приглашением ввода, а также функция int(), преобразующая текст, состоящий из цифр, в число в десятичной системе."
   ]
  },
  {
   "cell_type": "code",
   "execution_count": 10,
   "metadata": {},
   "outputs": [
    {
     "name": "stdout",
     "output_type": "stream",
     "text": [
      "Введите трехзначное натуральное число: 000000566\n",
      "Спасибо!\n"
     ]
    }
   ],
   "source": [
    "x = int(input('Введите трехзначное натуральное число: '))\n",
    "if x <= 0:\n",
    "    print('Это не натуральное число!')\n",
    "elif x < 10:\n",
    "    print('Это однозначное число!')\n",
    "elif x < 100:\n",
    "    print('Это двузначное число!')\n",
    "elif x < 1000:\n",
    "    print('Спасибо!')   \n",
    "else:\n",
    "    print('Что-то пошло не так!')    "
   ]
  },
  {
   "cell_type": "markdown",
   "metadata": {},
   "source": [
    "### Цикл while\n",
    "\n",
    "while условие:\n",
    "\n",
    "    тело  \n",
    "\n",
    "Вычислим, при каком $n$ выполняется $n!<10^{10}$. Для этого инициируем единицей переменную $res$, а затем в цикле будем домножать ее на $n$, пока $res<10^{10}$. Выведем последнее значение $n$, а также $n!$"
   ]
  },
  {
   "cell_type": "code",
   "execution_count": 24,
   "metadata": {},
   "outputs": [
    {
     "data": {
      "text/plain": [
       "(13, 6227020800)"
      ]
     },
     "execution_count": 24,
     "metadata": {},
     "output_type": "execute_result"
    }
   ],
   "source": [
    "res = 1\n",
    "n = 1\n",
    "while res < 10**10:\n",
    "    n += 1\n",
    "    res *= n\n",
    "n-1, int(res/n)    "
   ]
  },
  {
   "cell_type": "code",
   "execution_count": 25,
   "metadata": {},
   "outputs": [
    {
     "data": {
      "text/plain": [
       "(6227020800, 13)"
      ]
     },
     "execution_count": 25,
     "metadata": {},
     "output_type": "execute_result"
    }
   ],
   "source": [
    "res = 1\n",
    "for i in range(1,14):\n",
    "    res *= i\n",
    "res, i    "
   ]
  },
  {
   "cell_type": "markdown",
   "metadata": {},
   "source": [
    "### Полное описание цикла while:\n",
    "\n",
    "while условие:\n",
    "\n",
    "    тело цикла 1\n",
    "    \n",
    "else:\n",
    "\n",
    "    тело цикла 2\n",
    "\n",
    "Усли даже условие цикла while не выполняется ни разу, тогда при наличии блока else все равно выполняется тело цикла 2.\n",
    "Блок else выполняется один раз в любом случае, независимо от того, сколько раз выполнилось тело цикла 1.\n",
    "\n",
    "\n",
    "Чаще while используется без else."
   ]
  },
  {
   "cell_type": "code",
   "execution_count": 26,
   "metadata": {},
   "outputs": [
    {
     "name": "stdout",
     "output_type": "stream",
     "text": [
      "0 Конец цикла\n"
     ]
    }
   ],
   "source": [
    "n = 0\n",
    "while n > 1:\n",
    "    print(n)\n",
    "    n -= 1\n",
    "else:\n",
    "    print(n, 'Конец цикла')\n",
    "    "
   ]
  }
 ],
 "metadata": {
  "kernelspec": {
   "display_name": "Python 3",
   "language": "python",
   "name": "python3"
  },
  "language_info": {
   "codemirror_mode": {
    "name": "ipython",
    "version": 3
   },
   "file_extension": ".py",
   "mimetype": "text/x-python",
   "name": "python",
   "nbconvert_exporter": "python",
   "pygments_lexer": "ipython3",
   "version": "3.7.3"
  }
 },
 "nbformat": 4,
 "nbformat_minor": 2
}
