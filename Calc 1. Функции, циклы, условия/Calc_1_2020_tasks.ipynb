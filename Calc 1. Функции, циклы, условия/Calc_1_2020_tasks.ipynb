{
 "cells": [
  {
   "cell_type": "markdown",
   "metadata": {},
   "source": [
    "# Практическое занятие 1\n",
    "## Математический анализ\n",
    "\n",
    "https://docs.sympy.org/latest/tutorial/intro.html"
   ]
  },
  {
   "cell_type": "code",
   "execution_count": 4,
   "metadata": {},
   "outputs": [],
   "source": [
    "#Вначале для простоты будем подключать модуль sympy целиком\n",
    "from sympy import *"
   ]
  },
  {
   "cell_type": "markdown",
   "metadata": {},
   "source": [
    "### Функции пользователя\n",
    "#### Задание 1\n",
    "Описать функцию $f(x,n)=x(x+1)...(x+n-1)(x+n)$, $n>0$, вычислить  $f(3,5)$, $f(x,4)$, $f(y + z,1)$.      "
   ]
  },
  {
   "cell_type": "code",
   "execution_count": null,
   "metadata": {},
   "outputs": [],
   "source": []
  },
  {
   "cell_type": "markdown",
   "metadata": {},
   "source": [
    "#### Задание 2\n",
    "Описать функцию $right\\_ratio(f, x, delta\\_x)$, вычисляющую правое разностное отношение функции $f$ в точке $x$ при $\\Delta x$, т.е. $\\frac{f(x+\\Delta x)-f(x)}{\\Delta x}$. \n",
    "\n",
    "Аргумент $ delta\\_x$ по умолчанию равен 1.\n",
    "\n",
    "Вычислить правое разностное отношение $\\sin$ в точке $\\frac{\\pi}{4}$ со значением $\\Delta x$ равным  $\\frac{\\pi}{6}$ \n",
    "\n",
    "и правое разностное отношение $e^x$ при $x=3$ со значением $\\Delta x$  по умолчанию. Для вычисления $e^x$ воспользоваться функцией Sympy $\\exp(x)$."
   ]
  },
  {
   "cell_type": "code",
   "execution_count": null,
   "metadata": {},
   "outputs": [],
   "source": []
  },
  {
   "cell_type": "markdown",
   "metadata": {},
   "source": [
    "#### Задание 3\n",
    "Опиcать функцию $square\\_roots$, возвращающую корни квадратного уравнения $a x^2 + bx + c = 0$  с вещественными аргументами $a\\neq 0$, b, c и  необязательным параметром $is\\_real$, по умолчанию равным $True$. Функция возвращает список корней уравнения. Если корни комплексные, а $is\\_real=True$, то функция возвращает пустой список. Если корень один, то в списке корней он тоже должен быть один.\n",
    "\n",
    "Решить уравнения в вещественных числах:\n",
    "\n",
    "а) $3x^2+8x+4=0$, \n",
    "\n",
    "б) $x^2-4x+4=0$\n",
    "\n",
    "в) $2x^2+x+1=0$\n",
    "\n",
    "Уравнение в) решить отдельно в комплексных числах.\n",
    "\n",
    "Для красивого представления комплексных чисел можно воспользоваться функцией display.\n",
    "\n",
    "Если элементы списка нужно выводить в столбик, можно воспользоваться display(\\*имя_списка) (\\* в данном случае служебный символ)"
   ]
  },
  {
   "cell_type": "code",
   "execution_count": null,
   "metadata": {},
   "outputs": [],
   "source": []
  },
  {
   "cell_type": "markdown",
   "metadata": {},
   "source": [
    "#### Задание 4\n",
    "Описать функцию $check\\_eq(root\\_list, eq)$, проверяющую, что $x=root$ является решением уравнения $eq(x)=0$ для всех элементов списка root_list. Функция возвращает True, если все элементы списка являются корнями, если же хотя бы один не является, то результат False. В случае, если список пустой, $check\\_eq$ возвращает False. Обойтись только изученными на этом занятии средствами!\n",
    "\n",
    "С помощью $check\\_eq$ проверить, что $\\left[\\frac{\\pi}{3}, \\frac{2\\pi}{3}, \\frac{7\\pi}{3}\\right]$ являются корнями уравнения $\\sin(x)-\\frac{\\sqrt{3}}2=0$.\n",
    "\n",
    "##### Указание\n",
    "Описать функцию $eq\\_sin(x) = \\sin(x)-\\frac{\\sqrt{3}}2$.\n",
    "\n",
    "В цикле $for$ в роли счетчика можно использовать сами элементы списка, например так: "
   ]
  },
  {
   "cell_type": "code",
   "execution_count": null,
   "metadata": {},
   "outputs": [],
   "source": [
    "my_list = [3, 'a', sin(pi/3)]\n",
    "for item in my_list:\n",
    "    display(item)"
   ]
  },
  {
   "cell_type": "code",
   "execution_count": null,
   "metadata": {},
   "outputs": [],
   "source": []
  },
  {
   "cell_type": "markdown",
   "metadata": {},
   "source": [
    "#### Задание 5\n",
    "Описать функцию $less\\_c(my\\_list,c)$, возвращающую первый попавшийся элемент списка $my\\_list$, меньший $c$, и его номер в списке. Если таких элементов нет, возвращается ($None, None$).\n",
    "\n",
    "Вызвать функцию $less\\_c(my\\_list,c)$ со списком $my\\_list = [3, -2, 8]$ и $c = - 4$, затем с тем же списком, но $c = 1$.\n",
    "\n",
    "С помощью этой функции найти четное натуральное число $n$ до 100 (включительно), такое что $\\sin n <\\frac12$, построив предварительно список $list\\_sin$ синусов четных натуральных чисел (строить список с помощью for и range). "
   ]
  },
  {
   "cell_type": "code",
   "execution_count": null,
   "metadata": {},
   "outputs": [],
   "source": []
  },
  {
   "cell_type": "markdown",
   "metadata": {},
   "source": [
    "### Индивидуальное задание. N1\n",
    "\n",
    " Вычислить значение функции $f(x)$ с точностью до сотых в точках $x$ из списка $X$. \n",
    "\n",
    "\n",
    "\n",
    "### Указание.\n",
    "Воспользуйтесь методом evalf() для получения приближенного значения. Значения $f$ в точках \n",
    "из списка $X$ выведите в виде списка.\n",
    "\n",
    "N1\n",
    "\\begin{align*}\n",
    "       f(x)=\\log{\\left(8 x^{3} - 3 x^{2} + 2 x + 4 \\right)} \\tan{\\left(3 x^{2} + 3 x + 1 \\right)}\\qquad X=\\left[ 0, \\  \\pi, \\  2 \\pi\\right]\n",
    " \\end{align*}"
   ]
  },
  {
   "cell_type": "markdown",
   "metadata": {},
   "source": []
  },
  {
   "cell_type": "code",
   "execution_count": null,
   "metadata": {},
   "outputs": [],
   "source": []
  }
 ],
 "metadata": {
  "kernelspec": {
   "display_name": "Python 3",
   "language": "python",
   "name": "python3"
  },
  "language_info": {
   "codemirror_mode": {
    "name": "ipython",
    "version": 3
   },
   "file_extension": ".py",
   "mimetype": "text/x-python",
   "name": "python",
   "nbconvert_exporter": "python",
   "pygments_lexer": "ipython3",
   "version": "3.7.3"
  }
 },
 "nbformat": 4,
 "nbformat_minor": 2
}
