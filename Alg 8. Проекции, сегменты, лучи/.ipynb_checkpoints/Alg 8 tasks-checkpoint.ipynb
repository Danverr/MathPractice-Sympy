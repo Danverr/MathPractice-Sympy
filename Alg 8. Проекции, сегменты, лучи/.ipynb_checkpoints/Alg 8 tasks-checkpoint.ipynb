{
 "cells": [
  {
   "cell_type": "code",
   "execution_count": 71,
   "metadata": {
    "id": "xakB6v5rfgFZ"
   },
   "outputs": [],
   "source": [
    "import sympy\n",
    "from sympy import  Point, Line, Plane, Point3D, Segment, Ray, S, latex\n",
    "import matplotlib.pyplot as plt"
   ]
  },
  {
   "cell_type": "markdown",
   "metadata": {
    "id": "NILK48I4fgFd"
   },
   "source": [
    "# Практическое занятие 8\n",
    "# Алгебра\n",
    "https://docs.sympy.org/latest/search.html?q=geometry\n",
    "\n",
    "## Проекции, сегменты, лучи в модуле Geometry\n",
    "### Задание 1.\n",
    "Даны точки: $A(3, -2, 3)$,  $B(-2, 3, 1)$, \n",
    "$C(1, -8, 6)$, \n",
    "$D(1, 2, 4)$, \n",
    "$F(-7, 8, -1)$.\n",
    "\n",
    "Составить отрезки $АВ$ и $АС$ и лучи $CD$ и $BF$.\n",
    "\n",
    "Найти: \n",
    "\n",
    "угол между лучами $CD и $BF$\n",
    "\n",
    "направления луча $CD$ (xdirection, ydirection, zdirection)\n",
    "\n",
    "длину отрезка $АВ$\n",
    "\n",
    "середину отрезка $АВ$"
   ]
  },
  {
   "cell_type": "code",
   "execution_count": 72,
   "metadata": {
    "id": "plyL1jWrfgFe"
   },
   "outputs": [
    {
     "data": {
      "text/latex": [
       "$\\displaystyle \\operatorname{acos}{\\left(\\frac{3 \\sqrt{39}}{26} \\right)}$"
      ],
      "text/plain": [
       "acos(3*sqrt(39)/26)"
      ]
     },
     "metadata": {},
     "output_type": "display_data"
    },
    {
     "data": {
      "text/latex": [
       "$\\displaystyle 0$"
      ],
      "text/plain": [
       "0"
      ]
     },
     "metadata": {},
     "output_type": "display_data"
    },
    {
     "data": {
      "text/latex": [
       "$\\displaystyle \\infty$"
      ],
      "text/plain": [
       "oo"
      ]
     },
     "metadata": {},
     "output_type": "display_data"
    },
    {
     "data": {
      "text/latex": [
       "$\\displaystyle -\\infty$"
      ],
      "text/plain": [
       "-oo"
      ]
     },
     "metadata": {},
     "output_type": "display_data"
    },
    {
     "data": {
      "text/latex": [
       "$\\displaystyle 3 \\sqrt{6}$"
      ],
      "text/plain": [
       "3*sqrt(6)"
      ]
     },
     "metadata": {},
     "output_type": "display_data"
    },
    {
     "data": {
      "text/latex": [
       "$\\displaystyle Point3D\\left(\\frac{1}{2}, \\frac{1}{2}, 2\\right)$"
      ],
      "text/plain": [
       "Point3D(1/2, 1/2, 2)"
      ]
     },
     "metadata": {},
     "output_type": "display_data"
    }
   ],
   "source": [
    "A = Point(3,-2,3)\n",
    "B = Point(-2,3,1)\n",
    "C = Point(1,-8,6)\n",
    "D = Point(1,2,4)\n",
    "F = Point(-7,8,-1)\n",
    "\n",
    "CD = Ray(C, D)\n",
    "AB = Segment(A, B)\n",
    "\n",
    "display(CD.angle_between(Ray(B, F)))\n",
    "display(CD.xdirection, CD.ydirection, CD.zdirection)\n",
    "display(AB.length)\n",
    "display(AB.midpoint)"
   ]
  },
  {
   "cell_type": "markdown",
   "metadata": {
    "id": "XSbnLkTVfgFe"
   },
   "source": [
    "### Задание 2.\n",
    "Построить прямую $CD$ и проекцию точки $F$ и отрезка $АВ$  на эту прямую."
   ]
  },
  {
   "cell_type": "code",
   "execution_count": 73,
   "metadata": {
    "id": "tYSNLnZYfgFf"
   },
   "outputs": [
    {
     "data": {
      "text/latex": [
       "$\\displaystyle Point3D\\left(1, \\frac{227}{26}, \\frac{69}{26}\\right)$"
      ],
      "text/plain": [
       "Point3D(1, 227/26, 69/26)"
      ]
     },
     "metadata": {},
     "output_type": "display_data"
    },
    {
     "data": {
      "text/latex": [
       "$\\displaystyle Segment3D\\left(Point3D\\left(1, - \\frac{43}{26}, \\frac{123}{26}\\right), Point3D\\left(1, \\frac{46}{13}, \\frac{48}{13}\\right)\\right)$"
      ],
      "text/plain": [
       "Segment3D(Point3D(1, -43/26, 123/26), Point3D(1, 46/13, 48/13))"
      ]
     },
     "metadata": {},
     "output_type": "display_data"
    }
   ],
   "source": [
    "CD = Line(C, D)\n",
    "AB = Segment(A, B)\n",
    "\n",
    "display(CD.projection(F))\n",
    "display(CD.projection(AB))"
   ]
  },
  {
   "cell_type": "markdown",
   "metadata": {
    "id": "h5FAbVSrfgFf"
   },
   "source": [
    "### Задание 3.\n",
    "Построить серединный перпендикуляр отрезка $АС$, проходящий через точку $(8, -7, 9/2)$, найти для серединного перпендикуляра уравнение.\n",
    "\n",
    "Указание: должен получиться сегмент, использовать S(9)/2."
   ]
  },
  {
   "cell_type": "code",
   "execution_count": 74,
   "metadata": {
    "id": "jKul5ebxfgFf"
   },
   "outputs": [
    {
     "data": {
      "text/latex": [
       "$\\displaystyle Segment3D\\left(Point3D\\left(8, -7, \\frac{9}{2}\\right), Point3D\\left(2, -5, \\frac{9}{2}\\right)\\right)$"
      ],
      "text/plain": [
       "Segment3D(Point3D(8, -7, 9/2), Point3D(2, -5, 9/2))"
      ]
     },
     "metadata": {},
     "output_type": "display_data"
    },
    {
     "data": {
      "text/latex": [
       "$\\displaystyle \\left( x + 3 y + 13, \\  2 z - 9\\right)$"
      ],
      "text/plain": [
       "(x + 3*y + 13, 2*z - 9)"
      ]
     },
     "metadata": {},
     "output_type": "display_data"
    }
   ],
   "source": [
    "AC = Segment(A, C)\n",
    "P = Point(8,-7,S(9)/2)\n",
    "bisector = AC.perpendicular_bisector(P)\n",
    "display(bisector, AC.perpendicular_line(P).equation())"
   ]
  },
  {
   "cell_type": "markdown",
   "metadata": {
    "id": "fKoPA-TifgFg"
   },
   "source": [
    "### Задание 4\n",
    "Даны точки: $A(3, -2)$, $B(-2, 3)$, $C(1, -8)$.\n",
    "\n",
    "Построить на общем графике отрезки $АВ$ и $АС$, серединный перпендикуляр отрезка  $АС$.\n",
    "\n",
    "Точки $A$, $B$ и $C$ отметить и подписать именами.\n",
    "\n",
    "Для одинакового масштаба по осям использовать \n",
    "ax.set_aspect('equal')"
   ]
  },
  {
   "cell_type": "code",
   "execution_count": 114,
   "metadata": {
    "id": "wnoWfQI1fgFg"
   },
   "outputs": [
    {
     "data": {
      "text/plain": [
       "<matplotlib.legend.Legend at 0x1bca72539a0>"
      ]
     },
     "execution_count": 114,
     "metadata": {},
     "output_type": "execute_result"
    },
    {
     "data": {
      "image/png": "[encoded data removed]",
      "text/plain": [
       "<Figure size 432x288 with 1 Axes>"
      ]
     },
     "metadata": {
      "needs_background": "light"
     },
     "output_type": "display_data"
    }
   ],
   "source": [
    "def segPlot(ax, seg, label=\"\"):\n",
    "    ax.plot([seg.p1.x, seg.p2.x], [seg.p1.y, seg.p2.y], label=label)\n",
    "    \n",
    "def addPoint(ax, p, label=\"\"):\n",
    "    ax.scatter(p.x, p.y)    \n",
    "    ax.annotate(\n",
    "        label,\n",
    "        xy=(p.x, p.y),\n",
    "        xycoords='data',\n",
    "        xytext=(p.x + 0.4, p.y + 0.4),\n",
    "        textcoords='data'\n",
    "    )\n",
    "    \n",
    "ax = plt.gca()\n",
    "ax.set_aspect('equal')\n",
    "\n",
    "A = Point(3, -2)\n",
    "B = Point(-2, 3)\n",
    "C = Point(1, -8)\n",
    "\n",
    "addPoint(ax, A, \"A\")\n",
    "addPoint(ax, B, \"B\")\n",
    "addPoint(ax, C, \"C\")    \n",
    "\n",
    "segPlot(ax, Segment(A, B), \"AB\")\n",
    "segPlot(ax, Segment(A, C), \"AC\")\n",
    "segPlot(ax, AC.perpendicular_bisector(P), \"$\\perp AC$\")\n",
    "\n",
    "ax.legend()"
   ]
  },
  {
   "cell_type": "markdown",
   "metadata": {
    "id": "B70hvkAZfgFg"
   },
   "source": [
    "### Индивидуальное задание. Вариант 11\n",
    "Даны точки на плоскости: $L(-3, -1)$, $M(9, 5)$, $N(5, 5)$, $P(3, 7/2)$.\n",
    "\n",
    "Построить отрезок $LM$ и луч $MN$, составить уравнения серединного перпендикуляра  к $LM$ и перпендикуляра к $MN$, проходящего через точку $P$, найти точку пересечения перпендикуляров.\n",
    "\n",
    "Построить на графике отрезок, луч (в виде отрезка) и оба перпендикуляра, отметить и подписать концы отрезка и начало луча (точку M), а также точку пересечения перпендикуляров и основания перпендикуляров (точки пересечения перпендикуляров с отрезком и лучом соответственно).\n",
    "\n",
    "В легенду включить уравнения перпендикуляров и уравнения прямых, на которых лежат отрезок и\n",
    " луч."
   ]
  },
  {
   "cell_type": "code",
   "execution_count": 122,
   "metadata": {
    "id": "93FuNdCZfgFh"
   },
   "outputs": [
    {
     "data": {
      "text/plain": [
       "<matplotlib.legend.Legend at 0x1bca747c370>"
      ]
     },
     "execution_count": 122,
     "metadata": {},
     "output_type": "execute_result"
    },
    {
     "data": {
      "image/png": "[encoded data removed]",
      "text/plain": [
       "<Figure size 432x288 with 1 Axes>"
      ]
     },
     "metadata": {
      "needs_background": "light"
     },
     "output_type": "display_data"
    }
   ],
   "source": [
    "ax = plt.gca()\n",
    "ax.set_aspect('equal')\n",
    "\n",
    "L = Point(-3, -1)\n",
    "M = Point(9, 5)\n",
    "N = Point(5, 5)\n",
    "P = Point(3, S(7)/2)\n",
    "addPoint(ax, L, \"L\")\n",
    "addPoint(ax, M, \"M\")\n",
    "#addPoint(ax, N, \"N\")\n",
    "#addPoint(ax, P, \"P\")\n",
    "\n",
    "LM = Segment(L, M)\n",
    "MN = Ray(M, N)\n",
    "segPlot(ax, LM, \"$LM = $\" + latex(Line(L, M).equation()))\n",
    "segPlot(ax, MN, \"$MN = $\" + latex(Line(M, N).equation()))\n",
    "\n",
    "LM_perp = LM.perpendicular_bisector()\n",
    "MN_perp = MN.perpendicular_line(P)\n",
    "segPlot(ax, LM_perp, \"$\\perp LM = $\" + latex(LM_perp.equation()))\n",
    "segPlot(ax, MN_perp, \"$\\perp MN = $\" + latex(MN_perp.equation()))\n",
    "\n",
    "#addPoint(ax, LM_perp.intersection(LM)[0], \"$(\\perp LM) \\cap LM$\")\n",
    "addPoint(ax, MN_perp.intersection(MN)[0], \"$(\\perp MN) \\cap MN$\")\n",
    "addPoint(ax, LM_perp.intersection(MN_perp)[0], \"$(\\perp LM) \\cap (\\perp MN)$\")\n",
    "\n",
    "ax.legend()"
   ]
  }
 ],
 "metadata": {
  "colab": {
   "collapsed_sections": [],
   "name": "Alg_8_2020_tasks.ipynb",
   "provenance": []
  },
  "kernelspec": {
   "display_name": "Python 3",
   "language": "python",
   "name": "python3"
  },
  "language_info": {
   "codemirror_mode": {
    "name": "ipython",
    "version": 3
   },
   "file_extension": ".py",
   "mimetype": "text/x-python",
   "name": "python",
   "nbconvert_exporter": "python",
   "pygments_lexer": "ipython3",
   "version": "3.9.0"
  }
 },
 "nbformat": 4,
 "nbformat_minor": 1
}
