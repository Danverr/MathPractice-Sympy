{
 "cells": [
  {
   "cell_type": "code",
   "execution_count": 1,
   "metadata": {},
   "outputs": [],
   "source": [
    "import sympy\n",
    "import numpy as np\n",
    "from sympy import Eq, plot_implicit, Matrix, plot, symbols\n",
    "from sympy.core import sympify\n",
    "from sympy.geometry.point import Point, Point2D, Point3D\n",
    "from sympy.geometry.line import Line\n",
    "from sympy.core.symbol import _symbol\n",
    "from sympy import pi as Pi\n",
    "from sympy import cos as Cos\n",
    "from sympy import sin as Sin\n",
    "from sympy.geometry.entity import GeometryEntity, GeometrySet\n",
    "import matplotlib.pyplot as plt"
   ]
  },
  {
   "cell_type": "markdown",
   "metadata": {},
   "source": [
    "# Занятие 16\n",
    "# Алгебра\n",
    "## Кривые второго порядка на плоскости: парабола"
   ]
  },
  {
   "cell_type": "markdown",
   "metadata": {},
   "source": [
    "### Задание 1\n",
    "Определить класс parabola по образцу класса ellipse.\n",
    "\n",
    "Реализовать атрибуты: \n",
    "\n",
    "параметр $p$,\n",
    "\n",
    "вершина (vertex) в виде точки Point\n",
    "\n",
    "фокус (focus) в виде точки Point\n",
    "\n",
    "угол angle по умолчанию 0 для параболы с осью, параллельной OX, \n",
    "а для параболы с осью, параллельной  OY angle = $\\pi/2$\n",
    "\n",
    "ось симметрии (axis_symmetry) в виде прямой Line\n",
    "\n",
    "директриса (directrix) в виде прямой Line\n",
    "\n",
    "Реализовать методы \n",
    "\n",
    "equation(self) - уравнение параболы,\n",
    "\n",
    "dir_equation(self) - уравнение директрисы,\n",
    "\n",
    "ax_sym_equation(self) - уравнение оси симметрии,\n",
    "\n",
    "rotate(self, angle) - поворот на угол angle против часовой стрелки, метод не изменяет параболу, а возвращает параболу с теми же p и вершиной, но угол увеличен на angle по сравнению с исходной параболой. \n",
    "\n",
    "В конструкторе экземпляра класса  \n",
    "\n",
    "__new__(cls, p, vertex=None, angle=None)\n",
    "\n",
    "p - обязательный параметр, а вид параболы по умолчанию  - парабола с осью, параллельной оси OX,\n",
    "вершина по умолчанию в начале координат."
   ]
  },
  {
   "cell_type": "code",
   "execution_count": null,
   "metadata": {},
   "outputs": [],
   "source": []
  },
  {
   "cell_type": "markdown",
   "metadata": {},
   "source": [
    "### Задание 2\n",
    "Построить параболу с $p = 3$, вершиной в (-5, 2), осью симметрии, образующей угол $\\pi/4$ с положительным направлением оси ОХ. Вывести на экран ее параметр p, вершину, угол, фокус, ось симметрии и директрису, а также уравнение параболы, оси симметрии и директрисы. "
   ]
  },
  {
   "cell_type": "code",
   "execution_count": null,
   "metadata": {},
   "outputs": [],
   "source": []
  },
  {
   "cell_type": "markdown",
   "metadata": {},
   "source": [
    "### Индивидуальное задание\n",
    "Построить параболу, построить другую параболу путем поворота исходной параболы на $\\alpha$. Вывести на экран вершину, угол, фокус, ось симметрии и директрису обеих парабол. \n",
    "\n",
    "Использовать уравнения повернутой параболы, ее оси симметрии и директрисы для построения графиков в одной координатной плоскости. \n",
    "\n",
    "Цвета параболы, оси симметрии, директрисы индивидуальные, название графика Парабола, подписи осей $x$ и $y$."
   ]
  },
  {
   "cell_type": "code",
   "execution_count": null,
   "metadata": {},
   "outputs": [],
   "source": []
  }
 ],
 "metadata": {
  "kernelspec": {
   "display_name": "Python 3",
   "language": "python",
   "name": "python3"
  },
  "language_info": {
   "codemirror_mode": {
    "name": "ipython",
    "version": 3
   },
   "file_extension": ".py",
   "mimetype": "text/x-python",
   "name": "python",
   "nbconvert_exporter": "python",
   "pygments_lexer": "ipython3",
   "version": "3.9.0"
  }
 },
 "nbformat": 4,
 "nbformat_minor": 2
}
