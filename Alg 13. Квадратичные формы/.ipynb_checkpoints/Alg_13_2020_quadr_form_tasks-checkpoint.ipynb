{
 "cells": [
  {
   "cell_type": "code",
   "execution_count": 16,
   "metadata": {},
   "outputs": [],
   "source": [
    "import sympy\n",
    "from sympy import Eq, S, latex, plot_implicit, Matrix, symbols, simplify, expand, collect, solve, solveset\n",
    "from sympy import pi as Pi\n",
    "from sympy import sqrt as Sqrt\n",
    "from sympy import cos as Cos\n",
    "from sympy import sin as Sin\n",
    "import matplotlib.pyplot as plt\n",
    "%matplotlib inline"
   ]
  },
  {
   "cell_type": "code",
   "execution_count": 56,
   "metadata": {},
   "outputs": [],
   "source": [
    "def getQuadrForm(A, X):\n",
    "    return sympy.simplify((X.transpose() * A * X)[0, 0])"
   ]
  },
  {
   "cell_type": "code",
   "execution_count": 57,
   "metadata": {},
   "outputs": [],
   "source": [
    "def checkQuadrForm(A, X, u):\n",
    "    return getQuadrForm(A, X) - u == 0"
   ]
  },
  {
   "cell_type": "code",
   "execution_count": 27,
   "metadata": {},
   "outputs": [],
   "source": [
    "def getEigenVectBasis(A):\n",
    "    T = Matrix([])\n",
    "\n",
    "    for num, cnt, vectors in A.eigenvects():\n",
    "        for vect in vectors:\n",
    "            T = T.row_join(vect)\n",
    "            \n",
    "    return T"
   ]
  },
  {
   "cell_type": "code",
   "execution_count": 25,
   "metadata": {},
   "outputs": [],
   "source": [
    "def toBasis(A, T):\n",
    "    return T**(-1) * A * T"
   ]
  },
  {
   "cell_type": "code",
   "execution_count": 41,
   "metadata": {},
   "outputs": [],
   "source": [
    "DEG = 0\n",
    "RAD = 1\n",
    "CW = 0\n",
    "CCW = 1\n",
    "\n",
    "def getRotationMatrix(alpha, unit=RAD, direction=CCW):\n",
    "    global DEG, RAD, CW, CWW\n",
    "    \n",
    "    if direction == CW:\n",
    "        alpha *= -1\n",
    "        \n",
    "    if unit == DEG:\n",
    "        alpha = degToRad(alpha)\n",
    "        \n",
    "    return Matrix([\n",
    "        [Cos(alpha), -Sin(alpha), 0],\n",
    "        [Sin(alpha),  Cos(alpha), 0],\n",
    "        [         0,           0, 1],\n",
    "    ])"
   ]
  },
  {
   "cell_type": "markdown",
   "metadata": {},
   "source": [
    "# Занятие 13\n",
    "# Алгебра\n",
    "### Задание 1.\n",
    "Составить матрицу квадратичной формы $7x^2+10\\sqrt{3}xy-3y^2−20z^2$, проверить, что она определяет именно заданное уравнение. Найти и вывести на экран собственные числа и собственные векторы матрицы квадратичной формы. "
   ]
  },
  {
   "cell_type": "code",
   "execution_count": 59,
   "metadata": {},
   "outputs": [
    {
     "data": {
      "text/plain": [
       "True"
      ]
     },
     "metadata": {},
     "output_type": "display_data"
    },
    {
     "data": {
      "text/plain": [
       "[(-20,\n",
       "  1,\n",
       "  [Matrix([\n",
       "   [0],\n",
       "   [0],\n",
       "   [1]])]),\n",
       " (-8,\n",
       "  1,\n",
       "  [Matrix([\n",
       "   [-sqrt(3)/3],\n",
       "   [         1],\n",
       "   [         0]])]),\n",
       " (12,\n",
       "  1,\n",
       "  [Matrix([\n",
       "   [sqrt(3)],\n",
       "   [      1],\n",
       "   [      0]])])]"
      ]
     },
     "metadata": {},
     "output_type": "display_data"
    }
   ],
   "source": [
    "x, y, z = symbols(\"x y z\")\n",
    "X = Matrix([x, y, z])\n",
    "u = 7*x**2 + 10*Sqrt(3)*x*y - 3*y**2 - 20*z**2\n",
    "\n",
    "A = Matrix([\n",
    "    [ 7        , 5*Sqrt(3),   0],\n",
    "    [ 5*Sqrt(3),        -3,   0],\n",
    "    [         0,         0, -20],\n",
    "])\n",
    "\n",
    "display(checkQuadrForm(A, X, u), A.eigenvects())"
   ]
  },
  {
   "cell_type": "markdown",
   "metadata": {},
   "source": [
    "### Задание 2.\n",
    "Привести квадратичную форму Примера 1 к каноническому виду с помощью перехода к новому базису из собственных векторов."
   ]
  },
  {
   "cell_type": "code",
   "execution_count": 60,
   "metadata": {},
   "outputs": [
    {
     "data": {
      "text/latex": [
       "$\\displaystyle \\left[\\begin{matrix}0 & - \\frac{\\sqrt{3}}{3} & \\sqrt{3}\\\\0 & 1 & 1\\\\1 & 0 & 0\\end{matrix}\\right]$"
      ],
      "text/plain": [
       "Matrix([\n",
       "[0, -sqrt(3)/3, sqrt(3)],\n",
       "[0,          1,       1],\n",
       "[1,          0,       0]])"
      ]
     },
     "metadata": {},
     "output_type": "display_data"
    },
    {
     "data": {
      "text/latex": [
       "$\\displaystyle \\left[\\begin{matrix}-20 & 0 & 0\\\\0 & -8 & 0\\\\0 & 0 & 12\\end{matrix}\\right]$"
      ],
      "text/plain": [
       "Matrix([\n",
       "[-20,  0,  0],\n",
       "[  0, -8,  0],\n",
       "[  0,  0, 12]])"
      ]
     },
     "metadata": {},
     "output_type": "display_data"
    }
   ],
   "source": [
    "T = getEigenVectBasis(A)\n",
    "display(T, toBasis(A, T))"
   ]
  },
  {
   "cell_type": "markdown",
   "metadata": {},
   "source": [
    "### Задание 3.\n",
    "Определить тип кривой второго порядка, заданной уравнением\n",
    "$$\n",
    "97x^2 - 144xy + 97y^2 + 482x - 532y = 3452\n",
    "$$\n",
    "Построить в одной координатной плоскости график заданного уравнения и канонического уравнения соответствующей кривой, каноническое уравнение сделать названием графика. "
   ]
  },
  {
   "cell_type": "code",
   "execution_count": 143,
   "metadata": {},
   "outputs": [
    {
     "data": {
      "text/plain": [
       "True"
      ]
     },
     "metadata": {},
     "output_type": "display_data"
    },
    {
     "data": {
      "image/png": "[encoded data removed]",
      "text/plain": [
       "<Figure size 432x288 with 1 Axes>"
      ]
     },
     "metadata": {
      "needs_background": "light"
     },
     "output_type": "display_data"
    }
   ],
   "source": [
    "u = 97*x**2 - 144*x*y + 97*y**2 + 482*x - 532*y - 3452\n",
    "\n",
    "A = Matrix([\n",
    "    [97, -72, 241],\n",
    "    [-72, 97, -266],\n",
    "    [241, -266, -3452],\n",
    "])\n",
    "\n",
    "X = Matrix([x, y, 1])\n",
    "\n",
    "display(checkQuadrForm(A, X, u))\n",
    "\n",
    "alpha = sympy.acot((A[0,0]-A[1,1]) / (2*A[0,1]))/2\n",
    "T = getRotationMatrix(alpha)\n",
    "A = toBasis(A, T)\n",
    "\n",
    "x1, y1 = symbols(\"x1 y1\")\n",
    "T = Matrix([x1 - A[0, 2] / A[0, 0], y1 - A[1, 2] / A[1, 1], 1])\n",
    "newForm = getQuadrForm(A, T)\n",
    "free = newForm.subs({x1: 0, y1: 0})\n",
    "newForm /= -free\n",
    "\n",
    "p = plot_implicit(\n",
    "    newForm,    \n",
    "    line_color='g',\n",
    "    aspect_ratio=(1,1),\n",
    "    xlabel='$x$',\n",
    "    ylabel='$y$',\n",
    "    title=latex(Eq(newForm.subs({x1: x, y1:y}) - free/abs(free), 1), mode='inline')+'\\n',    \n",
    "    adaptive=False,\n",
    "    show=False\n",
    ")\n",
    "p.extend(plot_implicit(\n",
    "    u,\n",
    "    line_color='m',\n",
    "    adaptive=False,\n",
    "    show=False\n",
    "))\n",
    "p.show()"
   ]
  },
  {
   "cell_type": "markdown",
   "metadata": {},
   "source": [
    "### Задание 4.\n",
    "Определить тип кривой второго порядка, заданной уравнением\n",
    "$$\n",
    "x^2+2xy+y^2-4x+4y=4\n",
    "$$\n",
    "Построить в одной координатной плоскости график заданного уравнения и канонического уравнения соответствующей кривой, каноническое уравнение сделать названием графика. \n",
    "\n",
    "Указание: каноническое уравнение параболы $y^2 = 2px$ или $x^2 = 2py$; для того, чтобы выразить $x$ или $y$ можно воспользоваться solve или solveset."
   ]
  },
  {
   "cell_type": "code",
   "execution_count": 144,
   "metadata": {},
   "outputs": [
    {
     "data": {
      "text/plain": [
       "True"
      ]
     },
     "metadata": {},
     "output_type": "display_data"
    },
    {
     "data": {
      "image/png": "[encoded data removed]",
      "text/plain": [
       "<Figure size 432x288 with 1 Axes>"
      ]
     },
     "metadata": {
      "needs_background": "light"
     },
     "output_type": "display_data"
    }
   ],
   "source": [
    "u = x**2 + 2*x*y + y**2 - 4*x + 4*y - 4\n",
    "\n",
    "A = Matrix([\n",
    "    [1, 1, -2],\n",
    "    [1, 1, 2],\n",
    "    [-2, 2, -4],\n",
    "])\n",
    "\n",
    "X = Matrix([x, y, 1])\n",
    "\n",
    "display(checkQuadrForm(A, X, u))\n",
    "\n",
    "alpha = sympy.acot((A[0,0]-A[1,1]) / (2*A[0,1]))/2\n",
    "T = getRotationMatrix(alpha)\n",
    "A = toBasis(A, T)\n",
    "\n",
    "x1, y1 = symbols(\"x1 y1\")\n",
    "newForm = getQuadrForm(A, X) / 2 + 2\n",
    "\n",
    "p = plot_implicit(\n",
    "    newForm,    \n",
    "    line_color='g',\n",
    "    aspect_ratio=(1,1),\n",
    "    xlabel='$x$',\n",
    "    ylabel='$y$',\n",
    "    title=latex(newForm, mode='inline')+'\\n',\n",
    "    adaptive=False,\n",
    "    show=False\n",
    ")\n",
    "p.extend(plot_implicit(\n",
    "    u,\n",
    "    line_color='m',\n",
    "    adaptive=False,\n",
    "    show=False\n",
    "))\n",
    "p.show()"
   ]
  },
  {
   "cell_type": "markdown",
   "metadata": {},
   "source": [
    "###  Индивидуальное задание\n",
    "Составить матрицу квадратичной формы и привести ее к каноническому виду с помощью перехода к новому базису из собственных векторов. Векторы выводить на экран не нужно. Вывести на экран матрицу в исходном виде и канонической форме, а также саму квадратичную форму в каноническом виде.\n",
    "\n",
    "$$Q = 6186 x^{2} - 60 \\sqrt{91} x y + 2564 \\sqrt{21} x z - 5225 y^{2} + 210 \\sqrt{39} y z - 4711 z^{2}$$"
   ]
  },
  {
   "cell_type": "code",
   "execution_count": 148,
   "metadata": {},
   "outputs": [
    {
     "data": {
      "text/latex": [
       "$\\displaystyle \\left[\\begin{matrix}6186 & - 30 \\sqrt{91} & 1282 \\sqrt{21}\\\\- 30 \\sqrt{91} & -5225 & 105 \\sqrt{39}\\\\1282 \\sqrt{21} & 105 \\sqrt{39} & -4711\\end{matrix}\\right]$"
      ],
      "text/plain": [
       "Matrix([\n",
       "[         6186, -30*sqrt(91), 1282*sqrt(21)],\n",
       "[ -30*sqrt(91),        -5225,  105*sqrt(39)],\n",
       "[1282*sqrt(21), 105*sqrt(39),         -4711]])"
      ]
     },
     "metadata": {},
     "output_type": "display_data"
    },
    {
     "data": {
      "text/latex": [
       "$\\displaystyle \\left[\\begin{matrix}-7500 & 0 & 0\\\\0 & -5000 & 0\\\\0 & 0 & 8750\\end{matrix}\\right]$"
      ],
      "text/plain": [
       "Matrix([\n",
       "[-7500,     0,    0],\n",
       "[    0, -5000,    0],\n",
       "[    0,     0, 8750]])"
      ]
     },
     "metadata": {},
     "output_type": "display_data"
    },
    {
     "data": {
      "text/latex": [
       "$\\displaystyle - 7500 x^{2} - 5000 y^{2} + 8750 z^{2}$"
      ],
      "text/plain": [
       "-7500*x**2 - 5000*y**2 + 8750*z**2"
      ]
     },
     "metadata": {},
     "output_type": "display_data"
    }
   ],
   "source": [
    "u = 6186*x**2 - 60*Sqrt(91)*x*y + 2564*Sqrt(21)*x*z - 5225*y**(2) + 210*Sqrt(39)*y*z - 4711*z**2\n",
    "\n",
    "A = Matrix([\n",
    "    [6186, -30*Sqrt(91), 1282*Sqrt(21)],\n",
    "    [-30*Sqrt(91), -5225, 105*Sqrt(39)],\n",
    "    [1282*Sqrt(21), 105*Sqrt(39), -4711],\n",
    "])\n",
    "\n",
    "x, y, z = symbols(\"x y z\")\n",
    "X = Matrix([x, y, z])\n",
    "\n",
    "checkQuadrForm(A, X, u)\n",
    "A_new = toBasis(A, getEigenVectBasis(A))\n",
    "\n",
    "display(A, A_new, getQuadrForm(A_new, X))"
   ]
  }
 ],
 "metadata": {
  "kernelspec": {
   "display_name": "Python 3",
   "language": "python",
   "name": "python3"
  },
  "language_info": {
   "codemirror_mode": {
    "name": "ipython",
    "version": 3
   },
   "file_extension": ".py",
   "mimetype": "text/x-python",
   "name": "python",
   "nbconvert_exporter": "python",
   "pygments_lexer": "ipython3",
   "version": "3.9.0"
  }
 },
 "nbformat": 4,
 "nbformat_minor": 2
}
