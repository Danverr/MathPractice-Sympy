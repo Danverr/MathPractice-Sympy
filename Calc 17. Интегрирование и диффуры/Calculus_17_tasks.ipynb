{
 "cells": [
  {
   "cell_type": "code",
   "execution_count": 1,
   "metadata": {},
   "outputs": [],
   "source": [
    "import numpy as np\n",
    "import sympy\n",
    "from sympy import S, Symbol, symbols, Function, dsolve, solveset, plot_implicit, integrate, diff, plot\n",
    "from sympy import sin as Sin\n",
    "from sympy import cos as Cos\n",
    "from sympy import exp as Exp\n",
    "from sympy import log as Log\n",
    "from sympy import pi as Pi\n",
    "import matplotlib.pyplot as plt\n",
    "%matplotlib inline"
   ]
  },
  {
   "cell_type": "markdown",
   "metadata": {},
   "source": [
    "## Занятие 17\n",
    "## Математический анализ\n",
    "## Линейные ОДУ второго порядка с постоянными коэффициентами\n",
    "## Задание № 1\n",
    "Решить аналитически ОДУ с разделяющимися переменными\n",
    "$$\n",
    "y'=\\ln(x+2)e^{2-y}.\n",
    "$$\n",
    "Найти общий интеграл. "
   ]
  },
  {
   "cell_type": "markdown",
   "metadata": {},
   "source": [
    "$$y(x) = \\ln(c_1 + e^2 ((x + 2) \\ln(x + 2) - x))$$"
   ]
  },
  {
   "cell_type": "markdown",
   "metadata": {},
   "source": [
    "## Задание № 2\n",
    "Решить аналитически задачу Коши\n",
    "$$\n",
    "y^3y'=\\frac{1}{1+x^2},\\qquad y(0)=1.\n",
    "$$\n",
    "Найти общий интеграл, учесть начальное условие. \n",
    "Построить график $y$, пользуясь plot_implicit."
   ]
  },
  {
   "cell_type": "code",
   "execution_count": null,
   "metadata": {},
   "outputs": [],
   "source": []
  },
  {
   "cell_type": "markdown",
   "metadata": {},
   "source": [
    "## Индивидуальное задание\n",
    "Решить задачу Коши аналитически, методом Эйлера и методом Рунге-Кутты. Построить в одной координатной плоскости графики точного и приближенных решений."
   ]
  },
  {
   "cell_type": "code",
   "execution_count": null,
   "metadata": {},
   "outputs": [],
   "source": []
  }
 ],
 "metadata": {
  "kernelspec": {
   "display_name": "Python 3",
   "language": "python",
   "name": "python3"
  },
  "language_info": {
   "codemirror_mode": {
    "name": "ipython",
    "version": 3
   },
   "file_extension": ".py",
   "mimetype": "text/x-python",
   "name": "python",
   "nbconvert_exporter": "python",
   "pygments_lexer": "ipython3",
   "version": "3.9.0"
  }
 },
 "nbformat": 4,
 "nbformat_minor": 2
}
