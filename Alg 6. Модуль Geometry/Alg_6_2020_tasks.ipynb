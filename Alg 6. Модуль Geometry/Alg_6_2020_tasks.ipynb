{
 "cells": [
  {
   "cell_type": "code",
   "execution_count": 2,
   "metadata": {},
   "outputs": [],
   "source": [
    "import sympy\n",
    "from IPython.display import Markdown\n",
    "from sympy import  Symbol, symbols, S, Point, Line, Plane, Point3D, Matrix"
   ]
  },
  {
   "cell_type": "code",
   "execution_count": 3,
   "metadata": {},
   "outputs": [],
   "source": [
    "def toDeg(x):\n",
    "    return float(x * 180 / sympy.pi)"
   ]
  },
  {
   "cell_type": "markdown",
   "metadata": {},
   "source": [
    "# Занятие 6\n",
    "# Алгебра\n",
    "\n",
    "##  Прямые и плоскости в пространстве. Geometry.\n",
    "### Задание 1.\n",
    "Найти угол между плоскостями $ABC$ и  $ABD$, где \n",
    "$A(-1, 2, -4)$,\n",
    "$B(2, -2, 1)$,\n",
    "$C(5, 3, -6)$,\n",
    "$D(0, 3, -6)$."
   ]
  },
  {
   "cell_type": "code",
   "execution_count": 18,
   "metadata": {},
   "outputs": [
    {
     "data": {
      "text/latex": [
       "$\\displaystyle \\operatorname{acos}{\\left(\\frac{99 \\sqrt{40454}}{20227} \\right)}$"
      ],
      "text/plain": [
       "acos(99*sqrt(40454)/20227)"
      ]
     },
     "execution_count": 18,
     "metadata": {},
     "output_type": "execute_result"
    }
   ],
   "source": [
    "A = Point(-1, 2, -4)\n",
    "B = Point(2, -2, 1)\n",
    "C = Point(5, 3, -6)\n",
    "D = Point(0, 3, -6)\n",
    "\n",
    "ABC = Plane(A, B, C)\n",
    "ABD = Plane(A, B, D)\n",
    "ABC.angle_between(ABD)"
   ]
  },
  {
   "cell_type": "markdown",
   "metadata": {},
   "source": [
    "### Задание 2.\n",
    "Найти угол между прямой, проходящей через точки $A(-3,5,1)$ и $B(5,2,-3)$ и плоскостью, в которой лежат точки \n",
    "$K(4,3,0)$, $M(2,4,-2)$ и $N(-2,2,-1)$."
   ]
  },
  {
   "cell_type": "code",
   "execution_count": 7,
   "metadata": {},
   "outputs": [
    {
     "data": {
      "text/latex": [
       "$\\displaystyle - \\operatorname{asin}{\\left(\\frac{86 \\sqrt{15397}}{15397} \\right)}$"
      ],
      "text/plain": [
       "-asin(86*sqrt(15397)/15397)"
      ]
     },
     "metadata": {},
     "output_type": "display_data"
    }
   ],
   "source": [
    "A = Point(-3, 5, 1)\n",
    "B = Point(5, 2, -3)\n",
    "AB = Line(A, B)\n",
    "\n",
    "K = Point(4, 3, 0)\n",
    "M = Point(2, 4, -2)\n",
    "N = Point(-2, 2, -1)\n",
    "\n",
    "KMN = Plane(K, M, N)\n",
    "display(KMN.angle_between(AB))"
   ]
  },
  {
   "cell_type": "markdown",
   "metadata": {},
   "source": [
    "### Задание 3.\n",
    "Проверить, лежат ли точки в одной плоскости\n",
    "\n",
    "а) $A(3, 2, -1)$, $B(2, -1, 0)$, $C(5, 2, -6)$, $D(6, 5, -7)$\n",
    "\n",
    "b) $A(-1, 5, -4)$, $B(7, -2, 1)$, $C(6, 3, -8)$, $D(0, 3, 0)$"
   ]
  },
  {
   "cell_type": "code",
   "execution_count": 20,
   "metadata": {},
   "outputs": [
    {
     "data": {
      "text/plain": [
       "True"
      ]
     },
     "metadata": {},
     "output_type": "display_data"
    },
    {
     "data": {
      "text/plain": [
       "False"
      ]
     },
     "metadata": {},
     "output_type": "display_data"
    }
   ],
   "source": [
    "A = Point(3, 2, -1)\n",
    "B = Point(2, -1, 0)\n",
    "C = Point(5, 2, -6)\n",
    "D = Point(6, 5, -7)\n",
    "display(Point3D.are_coplanar(A, B, C, D))\n",
    "\n",
    "A = Point(-1, 5, -4)\n",
    "B = Point(7, -2, 1)\n",
    "C = Point(6, 3, -8)\n",
    "D = Point(0, 3, 0)\n",
    "display(Point3D.are_coplanar(A, B, C, D))    "
   ]
  },
  {
   "cell_type": "markdown",
   "metadata": {},
   "source": [
    "###  Задание 4.\n",
    "Прямая задана параметрическими уравнениями:\n",
    "$$\n",
    "\\left\\{\\begin{matrix}\n",
    "x=2+5t\\\\\n",
    "y=-1-2t\\\\\n",
    "z=4-3t\n",
    "\\end{matrix}\\right..\n",
    "$$\n",
    "Представить прямую в виде линии пересечения двух плоскостей (вывести на экран уравнения плоскостей), \n",
    "одна из которых проходит через начало координат, а вторая плоскость перпендикулярна первой плоскости.\n",
    "\n",
    "Указание: сначала составить список правых частей параметрических уравнений, затем составить две различные точки на прямой и далее решить средствами для работы с прямыми и плоскостями из модуля Geometry."
   ]
  },
  {
   "cell_type": "code",
   "execution_count": 9,
   "metadata": {},
   "outputs": [
    {
     "data": {
      "text/latex": [
       "$\\displaystyle 11 x + 26 y + z$"
      ],
      "text/plain": [
       "11*x + 26*y + z"
      ]
     },
     "metadata": {},
     "output_type": "display_data"
    },
    {
     "data": {
      "text/latex": [
       "$\\displaystyle 76 x - 38 y + 152 z - 798$"
      ],
      "text/plain": [
       "76*x - 38*y + 152*z - 798"
      ]
     },
     "metadata": {},
     "output_type": "display_data"
    }
   ],
   "source": [
    "t = symbols(\"t\")\n",
    "line_param = Matrix([2, -1, 4]) + Matrix([5, -2, -3])*t\n",
    "\n",
    "A = Point(line_param.subs(t, 0))\n",
    "B = Point(line_param.subs(t, 1))\n",
    "O = Point(0, 0, 0)\n",
    "\n",
    "plane1 = Plane(A, B, O)\n",
    "plane2 = plane1.perpendicular_plane(A, B)\n",
    "\n",
    "display(plane1.equation(), plane2.equation())"
   ]
  },
  {
   "cell_type": "markdown",
   "metadata": {},
   "source": [
    "###  Задание 5.\n",
    "Даны точки  пространстве\n",
    "$A(-2, 7, -5)$, $B(6, 2, -4)$, $C(14, -3, -2)$, $D(22, -8, -2)$, $K(30, -7, -4)$,\n",
    "$M(94, -35, -2)$.\n",
    "\n",
    "Определить, какие тройки точек лежат на одной прямой, какие четверки - в одной плоскости.\n",
    "\n",
    "Для проверки того, что три точки лежат на одной прямой использовать Point3D.are_collinear.\n",
    "\n",
    "Вывести на экран тройки точек, лежащие на одной прямой и четверки точек, лежащих в одной плоскости."
   ]
  },
  {
   "cell_type": "code",
   "execution_count": 5,
   "metadata": {},
   "outputs": [
    {
     "data": {
      "text/markdown": [
       "#### На одной прямой:"
      ],
      "text/plain": [
       "<IPython.core.display.Markdown object>"
      ]
     },
     "metadata": {},
     "output_type": "display_data"
    },
    {
     "data": {
      "text/plain": [
       "(Point3D(-2, 7, -5), Point3D(6, 2, -4), Point3D(22, -8, -2))"
      ]
     },
     "metadata": {},
     "output_type": "display_data"
    },
    {
     "data": {
      "text/plain": [
       "(Point3D(-2, 7, -5), Point3D(30, -7, -4), Point3D(94, -35, -2))"
      ]
     },
     "metadata": {},
     "output_type": "display_data"
    },
    {
     "data": {
      "text/markdown": [
       "#### На одной плоскости:"
      ],
      "text/plain": [
       "<IPython.core.display.Markdown object>"
      ]
     },
     "metadata": {},
     "output_type": "display_data"
    },
    {
     "data": {
      "text/plain": [
       "(Point3D(-2, 7, -5),\n",
       " Point3D(6, 2, -4),\n",
       " Point3D(14, -3, -2),\n",
       " Point3D(22, -8, -2))"
      ]
     },
     "metadata": {},
     "output_type": "display_data"
    },
    {
     "data": {
      "text/plain": [
       "(Point3D(-2, 7, -5),\n",
       " Point3D(6, 2, -4),\n",
       " Point3D(22, -8, -2),\n",
       " Point3D(30, -7, -4))"
      ]
     },
     "metadata": {},
     "output_type": "display_data"
    },
    {
     "data": {
      "text/plain": [
       "(Point3D(-2, 7, -5),\n",
       " Point3D(6, 2, -4),\n",
       " Point3D(22, -8, -2),\n",
       " Point3D(94, -35, -2))"
      ]
     },
     "metadata": {},
     "output_type": "display_data"
    },
    {
     "data": {
      "text/plain": [
       "(Point3D(-2, 7, -5),\n",
       " Point3D(6, 2, -4),\n",
       " Point3D(30, -7, -4),\n",
       " Point3D(94, -35, -2))"
      ]
     },
     "metadata": {},
     "output_type": "display_data"
    },
    {
     "data": {
      "text/plain": [
       "(Point3D(-2, 7, -5),\n",
       " Point3D(14, -3, -2),\n",
       " Point3D(30, -7, -4),\n",
       " Point3D(94, -35, -2))"
      ]
     },
     "metadata": {},
     "output_type": "display_data"
    },
    {
     "data": {
      "text/plain": [
       "(Point3D(-2, 7, -5),\n",
       " Point3D(22, -8, -2),\n",
       " Point3D(30, -7, -4),\n",
       " Point3D(94, -35, -2))"
      ]
     },
     "metadata": {},
     "output_type": "display_data"
    },
    {
     "data": {
      "text/plain": [
       "(Point3D(6, 2, -4),\n",
       " Point3D(22, -8, -2),\n",
       " Point3D(30, -7, -4),\n",
       " Point3D(94, -35, -2))"
      ]
     },
     "metadata": {},
     "output_type": "display_data"
    }
   ],
   "source": [
    "points = (\n",
    "    Point(-2, 7, -5),\n",
    "    Point(6, 2, -4),\n",
    "    Point(14, -3, -2),\n",
    "    Point(22, -8, -2),\n",
    "    Point(30, -7, -4),\n",
    "    Point(94, -35, -2),\n",
    ")\n",
    "n = len(points)\n",
    "\n",
    "display(Markdown(\"#### На одной прямой:\"))\n",
    "\n",
    "for i in range(n):\n",
    "    for j in range(i + 1, n):\n",
    "        for k in range(j + 1, n):\n",
    "            A,B,C = points[i], points[j], points[k]\n",
    "            \n",
    "            if Point3D.are_collinear(A, B, C):\n",
    "                display((A, B, C))\n",
    "\n",
    "display(Markdown(\"#### На одной плоскости:\"))\n",
    "                \n",
    "for i in range(n):\n",
    "    for j in range(i + 1, n):\n",
    "        for k in range(j + 1, n):\n",
    "            for l in range(k + 1, n):\n",
    "                A,B,C,D = points[i], points[j], points[k], points[l]\n",
    "            \n",
    "                if Point3D.are_coplanar(A, B, C, D):\n",
    "                    display((A, B, C, D))"
   ]
  },
  {
   "cell_type": "markdown",
   "metadata": {},
   "source": [
    "###  Задание 6.\n",
    "Составить уравнения всех (различных!) плоскостей, определяемых точками задания 5.\n",
    "\n",
    "Указание: решать аналогично Примеру 11, проверить, что $A$, $B$, $C$ не лежат на одной прямой и составить плоскость $ABC$, включить ее в список плоскостей. "
   ]
  },
  {
   "cell_type": "code",
   "execution_count": 5,
   "metadata": {},
   "outputs": [
    {
     "data": {
      "text/latex": [
       "$\\displaystyle - 5 x - 8 y + 46$"
      ],
      "text/plain": [
       "-5*x - 8*y + 46"
      ]
     },
     "metadata": {},
     "output_type": "display_data"
    },
    {
     "data": {
      "text/latex": [
       "$\\displaystyle 9 x + 24 y + 48 z + 90$"
      ],
      "text/plain": [
       "9*x + 24*y + 48*z + 90"
      ]
     },
     "metadata": {},
     "output_type": "display_data"
    },
    {
     "data": {
      "text/latex": [
       "$\\displaystyle 32 x + 80 y + 96 z - 16$"
      ],
      "text/plain": [
       "32*x + 80*y + 96*z - 16"
      ]
     },
     "metadata": {},
     "output_type": "display_data"
    },
    {
     "data": {
      "text/latex": [
       "$\\displaystyle 18 x + 48 y + 48 z - 12$"
      ],
      "text/plain": [
       "18*x + 48*y + 48*z - 12"
      ]
     },
     "metadata": {},
     "output_type": "display_data"
    },
    {
     "data": {
      "text/latex": [
       "$\\displaystyle 64 x + 160 y + 144 z - 128$"
      ],
      "text/plain": [
       "64*x + 160*y + 144*z - 128"
      ]
     },
     "metadata": {},
     "output_type": "display_data"
    },
    {
     "data": {
      "text/latex": [
       "$\\displaystyle 10 x + 16 y + 48 z + 4$"
      ],
      "text/plain": [
       "10*x + 16*y + 48*z + 4"
      ]
     },
     "metadata": {},
     "output_type": "display_data"
    },
    {
     "data": {
      "text/latex": [
       "$\\displaystyle 144 z + 288$"
      ],
      "text/plain": [
       "144*z + 288"
      ]
     },
     "metadata": {},
     "output_type": "display_data"
    }
   ],
   "source": [
    "points = (\n",
    "    Point(-2, 7, -5),\n",
    "    Point(6, 2, -4),\n",
    "    Point(14, -3, -2),\n",
    "    Point(22, -8, -2),\n",
    "    Point(30, -7, -4),\n",
    "    Point(94, -35, -2),\n",
    ")\n",
    "n = len(points)\n",
    "\n",
    "planes = []\n",
    "\n",
    "for i in range(n):\n",
    "    for j in range(i + 1, n):\n",
    "        for k in range(j + 1, n):\n",
    "            A,B,C = points[i], points[j], points[k]\n",
    "            \n",
    "            if not Point3D.are_collinear(A, B, C):\n",
    "                cur_plane = Plane(A, B, C)\n",
    "                is_unique = True\n",
    "                \n",
    "                for plane in planes:\n",
    "                    if plane.is_coplanar(cur_plane):\n",
    "                        is_unique = False\n",
    "                        break\n",
    "                \n",
    "                if is_unique:\n",
    "                    planes.append(cur_plane)\n",
    "                    display(cur_plane.equation())"
   ]
  },
  {
   "cell_type": "markdown",
   "metadata": {},
   "source": [
    "### Индивидуальное задание\n",
    "\n",
    "Даны точки в пространстве\n",
    "$A(-6, -2, -3)$, $H(-7, -8, -5)$, $K(-8, -7, -6)$ и\n",
    "$P(-7, -5, -5)$.\n",
    "\n",
    "Найти угол между прямой $KP$ и плоскостью $z = 0$, угол между $KA$ и $AH$, угол между плоскостями $KPA$ \n",
    "и $PAH$.\n",
    "\n",
    "Составить уравнение: \n",
    "\n",
    "a) плоскости, параллельной $KPA$ и проходящей через $H$,\n",
    "\n",
    "b) плоскости, перпендикулярной $KPA$ и проходящей через $K$ и $A$,\n",
    "\n",
    "c) прямой, перпендикулярной $KPA$ и проходящей через $A$."
   ]
  },
  {
   "cell_type": "code",
   "execution_count": 4,
   "metadata": {},
   "outputs": [
    {
     "data": {
      "text/markdown": [
       "#### Угол между прямой $KP$ и плоскостью $z = 0$"
      ],
      "text/plain": [
       "<IPython.core.display.Markdown object>"
      ]
     },
     "metadata": {},
     "output_type": "display_data"
    },
    {
     "data": {
      "text/latex": [
       "$\\displaystyle \\operatorname{asin}{\\left(\\frac{\\sqrt{6}}{6} \\right)}$"
      ],
      "text/plain": [
       "asin(sqrt(6)/6)"
      ]
     },
     "metadata": {},
     "output_type": "display_data"
    },
    {
     "data": {
      "text/markdown": [
       "#### Угол между $KA$ и $AH$"
      ],
      "text/plain": [
       "<IPython.core.display.Markdown object>"
      ]
     },
     "metadata": {},
     "output_type": "display_data"
    },
    {
     "data": {
      "text/latex": [
       "$\\displaystyle \\operatorname{acos}{\\left(- \\frac{\\sqrt{1558}}{41} \\right)}$"
      ],
      "text/plain": [
       "acos(-sqrt(1558)/41)"
      ]
     },
     "metadata": {},
     "output_type": "display_data"
    },
    {
     "data": {
      "text/markdown": [
       "#### Угол между плоскостями $KPA$ и $PAH$"
      ],
      "text/plain": [
       "<IPython.core.display.Markdown object>"
      ]
     },
     "metadata": {},
     "output_type": "display_data"
    },
    {
     "data": {
      "text/latex": [
       "$\\displaystyle \\operatorname{acos}{\\left(\\frac{\\sqrt{15}}{15} \\right)}$"
      ],
      "text/plain": [
       "acos(sqrt(15)/15)"
      ]
     },
     "metadata": {},
     "output_type": "display_data"
    },
    {
     "data": {
      "text/markdown": [
       "#### Ур-е плоскости, параллельной $KPA$ и проходящей через $H$"
      ],
      "text/plain": [
       "<IPython.core.display.Markdown object>"
      ]
     },
     "metadata": {},
     "output_type": "display_data"
    },
    {
     "data": {
      "text/latex": [
       "$\\displaystyle x - y + z + 4$"
      ],
      "text/plain": [
       "x - y + z + 4"
      ]
     },
     "metadata": {},
     "output_type": "display_data"
    },
    {
     "data": {
      "text/markdown": [
       "#### Ур-е плоскости, перпендикулярной $KPA$ и проходящей через $K$ и $A$"
      ],
      "text/plain": [
       "<IPython.core.display.Markdown object>"
      ]
     },
     "metadata": {},
     "output_type": "display_data"
    },
    {
     "data": {
      "text/latex": [
       "$\\displaystyle 8 x + y - 7 z + 29$"
      ],
      "text/plain": [
       "8*x + y - 7*z + 29"
      ]
     },
     "metadata": {},
     "output_type": "display_data"
    },
    {
     "data": {
      "text/markdown": [
       "#### Ур-е прямой, перпендикулярной $KPA$ и проходящей через $A$"
      ],
      "text/plain": [
       "<IPython.core.display.Markdown object>"
      ]
     },
     "metadata": {},
     "output_type": "display_data"
    },
    {
     "data": {
      "text/latex": [
       "$\\displaystyle \\left( x + y + 8, \\  - x + z - 3\\right)$"
      ],
      "text/plain": [
       "(x + y + 8, -x + z - 3)"
      ]
     },
     "metadata": {},
     "output_type": "display_data"
    }
   ],
   "source": [
    "A = Point(-6, -2, -3)\n",
    "H = Point(-7, -8, -5)\n",
    "K = Point(-8, -7, -6)\n",
    "P = Point(-7, -5, -5)\n",
    "\n",
    "display(Markdown(\"#### Угол между прямой $KP$ и плоскостью $z = 0$\"))\n",
    "KP = Line(K, P)\n",
    "Oxy = Plane(Point(0, 0, 0), Point(1, 0, 0), Point(0, 1, 0))\n",
    "display(Oxy.angle_between(KP))\n",
    "\n",
    "display(Markdown(\"#### Угол между $KA$ и $AH$\"))\n",
    "KA = Line(K, A)\n",
    "AH = Line(A, H)\n",
    "display(KA.angle_between(AH))\n",
    "\n",
    "display(Markdown(\"#### Угол между плоскостями $KPA$ и $PAH$\"))\n",
    "KPA = Plane(K, P, A)\n",
    "PAH = Plane(P, A, H)\n",
    "display(KPA.angle_between(PAH))\n",
    "\n",
    "display(Markdown(\"#### Ур-е плоскости, параллельной $KPA$ и проходящей через $H$\"))\n",
    "display(KPA.parallel_plane(H).equation())\n",
    "\n",
    "display(Markdown(\"#### Ур-е плоскости, перпендикулярной $KPA$ и проходящей через $K$ и $A$\"))\n",
    "display(KPA.perpendicular_plane(K, A).equation())\n",
    "\n",
    "display(Markdown(\"#### Ур-е прямой, перпендикулярной $KPA$ и проходящей через $A$\"))\n",
    "display(KPA.perpendicular_line(A).equation())"
   ]
  }
 ],
 "metadata": {
  "kernelspec": {
   "display_name": "Python 3",
   "language": "python",
   "name": "python3"
  },
  "language_info": {
   "codemirror_mode": {
    "name": "ipython",
    "version": 3
   },
   "file_extension": ".py",
   "mimetype": "text/x-python",
   "name": "python",
   "nbconvert_exporter": "python",
   "pygments_lexer": "ipython3",
   "version": "3.9.0"
  }
 },
 "nbformat": 4,
 "nbformat_minor": 4
}
