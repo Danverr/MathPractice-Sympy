{
 "cells": [
  {
   "cell_type": "markdown",
   "metadata": {},
   "source": [
    "## Занятие 7\n",
    "## Математический анализ\n",
    "## Исследование функции с sympy.calculus.util и sympy.calculus.singularities"
   ]
  },
  {
   "cell_type": "code",
   "execution_count": 1,
   "metadata": {},
   "outputs": [],
   "source": [
    "from IPython.display import Markdown\n",
    "import sympy\n",
    "from sympy import S, Interval, plot\n",
    "from sympy import sin as Sin\n",
    "from sympy import cos as Cos\n",
    "from sympy import exp as Exp\n",
    "from sympy import log as Log\n",
    "from sympy import pi as Pi\n",
    "from sympy.calculus.util import continuous_domain, function_range, periodicity, stationary_points, maximum, minimum, AccumBounds\n",
    "from sympy.calculus.singularities import singularities, is_increasing, is_decreasing, is_monotonic\n",
    "from sympy.calculus.singularities import is_strictly_increasing, is_strictly_decreasing\n",
    "%matplotlib inline"
   ]
  },
  {
   "cell_type": "code",
   "execution_count": 26,
   "metadata": {},
   "outputs": [],
   "source": [
    "def analyse(f, x, interval=S.Reals, ylim=None):\n",
    "    singular = singularities(f, x)\n",
    "    stat_points = stationary_points(f, x, interval)\n",
    "    \n",
    "    display(Markdown(f\"#### 1. Область определения\"), continuous_domain(f, x, domain=interval))\n",
    "    display(Markdown(f\"Сингулярные точки\"), singular)\n",
    "    display(Markdown(f\"#### 2. Область значений\"), function_range(f, x, domain=interval))\n",
    "    if(interval == S.Reals):\n",
    "        display(Markdown(f\"#### 3. Периодичность\"), periodicity(f, x, check=False))\n",
    "    display(Markdown(f\"#### 4. Стационарные точки\"), stat_points)\n",
    "    display(Markdown(f\"#### 5. Max/Min значения\"), maximum(f, x, interval), minimum(f, x, interval))\n",
    "    \n",
    "    if(interval == S.Reals):\n",
    "        return\n",
    "    \n",
    "    display(Markdown(f\"#### 6. Монотонность\"))\n",
    "    points = [interval.args[0], *stat_points.args, interval.args[1]]\n",
    "    intervals = [Interval.open(points[i], points[i + 1]) for i in range(len(points) - 1)]\n",
    "\n",
    "    for inter in intervals:\n",
    "        display(inter)\n",
    "        print(\"Монотонна?\", is_monotonic(f, interval=inter))\n",
    "        print(\"Убывающая?\", is_decreasing(f, interval=inter))\n",
    "        print(\"Возрастающая?\", is_increasing(f, interval=inter))\n",
    "        print(\"Строго убывающая?\", is_strictly_decreasing(f, interval=inter))\n",
    "        print(\"Строго возрастающая?\", is_strictly_increasing(f, interval=inter))\n",
    "    \n",
    "    display(Markdown(f\"#### 7. Max/Min значения (с помощью AccumulationBounds)\"))\n",
    "    display(f.subs(x, AccumBounds(interval.start, interval.end)))\n",
    "    \n",
    "    display(Markdown(f\"#### 8. График\"))\n",
    "    if(ylim == None):\n",
    "        plot(f, (x, interval.start, interval.end))\n",
    "    else:\n",
    "        plot(f, (x, interval.start, interval.end), ylim=ylim)"
   ]
  },
  {
   "cell_type": "markdown",
   "metadata": {},
   "source": [
    "## Схема анализа функции.\n",
    "1. Область определения\n",
    "\n",
    "sympy.calculus.util.continuous_domain(f, symbol, domain)\n",
    "\n",
    "f - выражение, описывающее функцию, \n",
    "\n",
    "symbol - переменная, от которой зависит исследуемая функция,\n",
    "\n",
    "domain - область значений переменной, на которой рассматривается функция,\n",
    "\n",
    "если функция рассматривается на всей вещественной прямой, то domain=S.Reals\n",
    "\n",
    "Сингулярные точки (точки, в которых функция не существует) находятся с помощью\n",
    "\n",
    "sympy.calculus.singularities.singularities(f, symbol, domain=None)\n",
    "\n",
    "2. Область значений\n",
    "\n",
    "sympy.calculus.util.function_range(f, symbol, domain)\n",
    "\n",
    "3. Периодичность\n",
    "\n",
    "sympy.calculus.util.periodicity(f, symbol, check=False)\n",
    "\n",
    "4. Стационарные точки \n",
    "\n",
    "sympy.calculus.util.stationary_points(f, symbol, domain=Reals)\n",
    "\n",
    "5. Точки экстремума\n",
    "\n",
    "sympy.calculus.util.maximum(f, symbol, domain=Reals)\n",
    "\n",
    "sympy.calculus.util.minimum(f, symbol, domain=Reals)\n",
    "\n",
    "6. Монотонность\n",
    "\n",
    "sympy.calculus.singularities.is_decreasing(f, interval=Reals, symbol=None)\n",
    "\n",
    "sympy.calculus.singularities.is_increasing(f, interval=Reals, symbol=None)\n",
    "\n",
    "sympy.calculus.singularities.is_monotonic(f, interval=Reals, symbol=None)\n",
    "\n",
    "sympy.calculus.singularities.is_strictly_decreasing(f, interval=Reals, symbol=None)\n",
    "\n",
    "sympy.calculus.singularities.is_strictly_increasing(f, interval=Reals, symbol=None)\n",
    "\n",
    "7. Минимальное и максимальное значение функции на интервале \n",
    "\n",
    "sympy.calculus.util.AccumulationBounds(min, max)\n",
    "\n",
    "Свойства: delta, max, min, mid\n",
    "\n",
    "### Задание 1.  \n",
    "Исследовать функцию по п.1 - 5 на области определения и по п. 1 - 7 на одном периоде, построить график.\n",
    "$$\n",
    "f(x) = e^{\\sin(x)}.\n",
    "$$"
   ]
  },
  {
   "cell_type": "code",
   "execution_count": 27,
   "metadata": {
    "scrolled": false
   },
   "outputs": [
    {
     "data": {
      "text/markdown": [
       "#### 1. Область определения"
      ],
      "text/plain": [
       "<IPython.core.display.Markdown object>"
      ]
     },
     "metadata": {},
     "output_type": "display_data"
    },
    {
     "data": {
      "text/latex": [
       "$\\displaystyle \\mathbb{R}$"
      ],
      "text/plain": [
       "Reals"
      ]
     },
     "metadata": {},
     "output_type": "display_data"
    },
    {
     "data": {
      "text/markdown": [
       "Сингулярные точки"
      ],
      "text/plain": [
       "<IPython.core.display.Markdown object>"
      ]
     },
     "metadata": {},
     "output_type": "display_data"
    },
    {
     "data": {
      "text/latex": [
       "$\\displaystyle \\emptyset$"
      ],
      "text/plain": [
       "EmptySet"
      ]
     },
     "metadata": {},
     "output_type": "display_data"
    },
    {
     "data": {
      "text/markdown": [
       "#### 2. Область значений"
      ],
      "text/plain": [
       "<IPython.core.display.Markdown object>"
      ]
     },
     "metadata": {},
     "output_type": "display_data"
    },
    {
     "data": {
      "text/latex": [
       "$\\displaystyle \\left[e^{-1}, e\\right]$"
      ],
      "text/plain": [
       "Interval(exp(-1), E)"
      ]
     },
     "metadata": {},
     "output_type": "display_data"
    },
    {
     "data": {
      "text/markdown": [
       "#### 3. Периодичность"
      ],
      "text/plain": [
       "<IPython.core.display.Markdown object>"
      ]
     },
     "metadata": {},
     "output_type": "display_data"
    },
    {
     "data": {
      "text/latex": [
       "$\\displaystyle 2 \\pi$"
      ],
      "text/plain": [
       "2*pi"
      ]
     },
     "metadata": {},
     "output_type": "display_data"
    },
    {
     "data": {
      "text/markdown": [
       "#### 4. Стационарные точки"
      ],
      "text/plain": [
       "<IPython.core.display.Markdown object>"
      ]
     },
     "metadata": {},
     "output_type": "display_data"
    },
    {
     "data": {
      "text/latex": [
       "$\\displaystyle \\left\\{2 n \\pi + \\frac{\\pi}{2}\\; |\\; n \\in \\mathbb{Z}\\right\\} \\cup \\left\\{2 n \\pi + \\frac{3 \\pi}{2}\\; |\\; n \\in \\mathbb{Z}\\right\\}$"
      ],
      "text/plain": [
       "Union(ImageSet(Lambda(_n, 2*_n*pi + pi/2), Integers), ImageSet(Lambda(_n, 2*_n*pi + 3*pi/2), Integers))"
      ]
     },
     "metadata": {},
     "output_type": "display_data"
    },
    {
     "data": {
      "text/markdown": [
       "#### 5. Max/Min значения"
      ],
      "text/plain": [
       "<IPython.core.display.Markdown object>"
      ]
     },
     "metadata": {},
     "output_type": "display_data"
    },
    {
     "data": {
      "text/latex": [
       "$\\displaystyle e$"
      ],
      "text/plain": [
       "E"
      ]
     },
     "metadata": {},
     "output_type": "display_data"
    },
    {
     "data": {
      "text/latex": [
       "$\\displaystyle e^{-1}$"
      ],
      "text/plain": [
       "exp(-1)"
      ]
     },
     "metadata": {},
     "output_type": "display_data"
    }
   ],
   "source": [
    "x = sympy.symbols(\"x\")\n",
    "f = Exp(Sin(x))\n",
    "analyse(f, x)"
   ]
  },
  {
   "cell_type": "code",
   "execution_count": 28,
   "metadata": {
    "scrolled": false
   },
   "outputs": [
    {
     "data": {
      "text/markdown": [
       "### Анализ на промежутке $(0, 2\\pi)$"
      ],
      "text/plain": [
       "<IPython.core.display.Markdown object>"
      ]
     },
     "metadata": {},
     "output_type": "display_data"
    },
    {
     "data": {
      "text/markdown": [
       "#### 1. Область определения"
      ],
      "text/plain": [
       "<IPython.core.display.Markdown object>"
      ]
     },
     "metadata": {},
     "output_type": "display_data"
    },
    {
     "data": {
      "text/latex": [
       "$\\displaystyle \\left(0, 2 \\pi\\right)$"
      ],
      "text/plain": [
       "Interval.open(0, 2*pi)"
      ]
     },
     "metadata": {},
     "output_type": "display_data"
    },
    {
     "data": {
      "text/markdown": [
       "Сингулярные точки"
      ],
      "text/plain": [
       "<IPython.core.display.Markdown object>"
      ]
     },
     "metadata": {},
     "output_type": "display_data"
    },
    {
     "data": {
      "text/latex": [
       "$\\displaystyle \\emptyset$"
      ],
      "text/plain": [
       "EmptySet"
      ]
     },
     "metadata": {},
     "output_type": "display_data"
    },
    {
     "data": {
      "text/markdown": [
       "#### 2. Область значений"
      ],
      "text/plain": [
       "<IPython.core.display.Markdown object>"
      ]
     },
     "metadata": {},
     "output_type": "display_data"
    },
    {
     "data": {
      "text/latex": [
       "$\\displaystyle \\left[e^{-1}, e\\right]$"
      ],
      "text/plain": [
       "Interval(exp(-1), E)"
      ]
     },
     "metadata": {},
     "output_type": "display_data"
    },
    {
     "data": {
      "text/markdown": [
       "#### 4. Стационарные точки"
      ],
      "text/plain": [
       "<IPython.core.display.Markdown object>"
      ]
     },
     "metadata": {},
     "output_type": "display_data"
    },
    {
     "data": {
      "text/latex": [
       "$\\displaystyle \\left\\{\\frac{\\pi}{2}, \\frac{3 \\pi}{2}\\right\\}$"
      ],
      "text/plain": [
       "FiniteSet(pi/2, 3*pi/2)"
      ]
     },
     "metadata": {},
     "output_type": "display_data"
    },
    {
     "data": {
      "text/markdown": [
       "#### 5. Max/Min значения"
      ],
      "text/plain": [
       "<IPython.core.display.Markdown object>"
      ]
     },
     "metadata": {},
     "output_type": "display_data"
    },
    {
     "data": {
      "text/latex": [
       "$\\displaystyle e$"
      ],
      "text/plain": [
       "E"
      ]
     },
     "metadata": {},
     "output_type": "display_data"
    },
    {
     "data": {
      "text/latex": [
       "$\\displaystyle e^{-1}$"
      ],
      "text/plain": [
       "exp(-1)"
      ]
     },
     "metadata": {},
     "output_type": "display_data"
    },
    {
     "data": {
      "text/markdown": [
       "#### 6. Монотонность"
      ],
      "text/plain": [
       "<IPython.core.display.Markdown object>"
      ]
     },
     "metadata": {},
     "output_type": "display_data"
    },
    {
     "data": {
      "text/latex": [
       "$\\displaystyle \\left(0, \\frac{\\pi}{2}\\right)$"
      ],
      "text/plain": [
       "Interval.open(0, pi/2)"
      ]
     },
     "metadata": {},
     "output_type": "display_data"
    },
    {
     "name": "stdout",
     "output_type": "stream",
     "text": [
      "Монотонна? True\n",
      "Убывающая? None\n",
      "Возрастающая? None\n",
      "Строго убывающая? None\n",
      "Строго возрастающая? None\n"
     ]
    },
    {
     "data": {
      "text/latex": [
       "$\\displaystyle \\left(\\frac{\\pi}{2}, \\frac{3 \\pi}{2}\\right)$"
      ],
      "text/plain": [
       "Interval.open(pi/2, 3*pi/2)"
      ]
     },
     "metadata": {},
     "output_type": "display_data"
    },
    {
     "name": "stdout",
     "output_type": "stream",
     "text": [
      "Монотонна? True\n",
      "Убывающая? None\n",
      "Возрастающая? None\n",
      "Строго убывающая? None\n",
      "Строго возрастающая? None\n"
     ]
    },
    {
     "data": {
      "text/latex": [
       "$\\displaystyle \\left(\\frac{3 \\pi}{2}, 2 \\pi\\right)$"
      ],
      "text/plain": [
       "Interval.open(3*pi/2, 2*pi)"
      ]
     },
     "metadata": {},
     "output_type": "display_data"
    },
    {
     "name": "stdout",
     "output_type": "stream",
     "text": [
      "Монотонна? True\n",
      "Убывающая? None\n",
      "Возрастающая? None\n",
      "Строго убывающая? None\n",
      "Строго возрастающая? None\n"
     ]
    },
    {
     "data": {
      "text/markdown": [
       "#### 7. Max/Min значения (с помощью AccumulationBounds)"
      ],
      "text/plain": [
       "<IPython.core.display.Markdown object>"
      ]
     },
     "metadata": {},
     "output_type": "display_data"
    },
    {
     "data": {
      "text/latex": [
       "$\\displaystyle \\left\\langle e^{-1}, e\\right\\rangle$"
      ],
      "text/plain": [
       "AccumBounds(exp(-1), E)"
      ]
     },
     "metadata": {},
     "output_type": "display_data"
    },
    {
     "data": {
      "text/markdown": [
       "#### 8. График"
      ],
      "text/plain": [
       "<IPython.core.display.Markdown object>"
      ]
     },
     "metadata": {},
     "output_type": "display_data"
    },
    {
     "data": {
      "image/png": "[encoded data removed]",
      "text/plain": [
       "<Figure size 432x288 with 1 Axes>"
      ]
     },
     "metadata": {
      "needs_background": "light"
     },
     "output_type": "display_data"
    }
   ],
   "source": [
    "display(Markdown(f\"### Анализ на промежутке $(0, 2\\pi)$\"))\n",
    "analyse(f, x, Interval.open(0, 2*Pi))"
   ]
  },
  {
   "cell_type": "markdown",
   "metadata": {},
   "source": [
    "### Задание 2.  \n",
    "Исследовать функцию по п.1 - 5 на области определения и по п. 1 - 7  на одном периоде, построить график.\n",
    "$$\n",
    "f(x) = \\frac{1}{\\sin(x) + \\cos(x)}.\n",
    "$$"
   ]
  },
  {
   "cell_type": "code",
   "execution_count": 29,
   "metadata": {
    "scrolled": false
   },
   "outputs": [
    {
     "data": {
      "text/markdown": [
       "#### 1. Область определения"
      ],
      "text/plain": [
       "<IPython.core.display.Markdown object>"
      ]
     },
     "metadata": {},
     "output_type": "display_data"
    },
    {
     "data": {
      "text/latex": [
       "$\\displaystyle \\mathbb{R} \\setminus \\left(\\left\\{2 n \\pi + \\frac{3 \\pi}{4}\\; |\\; n \\in \\mathbb{Z}\\right\\} \\cup \\left\\{2 n \\pi + \\frac{7 \\pi}{4}\\; |\\; n \\in \\mathbb{Z}\\right\\}\\right)$"
      ],
      "text/plain": [
       "Complement(Reals, Union(ImageSet(Lambda(_n, 2*_n*pi + 3*pi/4), Integers), ImageSet(Lambda(_n, 2*_n*pi + 7*pi/4), Integers)))"
      ]
     },
     "metadata": {},
     "output_type": "display_data"
    },
    {
     "data": {
      "text/markdown": [
       "Сингулярные точки"
      ],
      "text/plain": [
       "<IPython.core.display.Markdown object>"
      ]
     },
     "metadata": {},
     "output_type": "display_data"
    },
    {
     "data": {
      "text/latex": [
       "$\\displaystyle \\left\\{2 n \\pi + \\frac{3 \\pi}{4}\\; |\\; n \\in \\mathbb{Z}\\right\\} \\cup \\left\\{2 n \\pi + \\frac{7 \\pi}{4}\\; |\\; n \\in \\mathbb{Z}\\right\\}$"
      ],
      "text/plain": [
       "Union(ImageSet(Lambda(_n, 2*_n*pi + 3*pi/4), Integers), ImageSet(Lambda(_n, 2*_n*pi + 7*pi/4), Integers))"
      ]
     },
     "metadata": {},
     "output_type": "display_data"
    },
    {
     "data": {
      "text/markdown": [
       "#### 2. Область значений"
      ],
      "text/plain": [
       "<IPython.core.display.Markdown object>"
      ]
     },
     "metadata": {},
     "output_type": "display_data"
    },
    {
     "data": {
      "text/latex": [
       "$\\displaystyle \\left(-\\infty, - \\frac{\\sqrt{2}}{2}\\right] \\cup \\left[\\frac{\\sqrt{2}}{2}, \\infty\\right)$"
      ],
      "text/plain": [
       "Union(Interval(-oo, -sqrt(2)/2), Interval(sqrt(2)/2, oo))"
      ]
     },
     "metadata": {},
     "output_type": "display_data"
    },
    {
     "data": {
      "text/markdown": [
       "#### 3. Периодичность"
      ],
      "text/plain": [
       "<IPython.core.display.Markdown object>"
      ]
     },
     "metadata": {},
     "output_type": "display_data"
    },
    {
     "data": {
      "text/latex": [
       "$\\displaystyle 2 \\pi$"
      ],
      "text/plain": [
       "2*pi"
      ]
     },
     "metadata": {},
     "output_type": "display_data"
    },
    {
     "data": {
      "text/markdown": [
       "#### 4. Стационарные точки"
      ],
      "text/plain": [
       "<IPython.core.display.Markdown object>"
      ]
     },
     "metadata": {},
     "output_type": "display_data"
    },
    {
     "data": {
      "text/latex": [
       "$\\displaystyle \\left(\\left\\{2 n \\pi + \\frac{5 \\pi}{4}\\; |\\; n \\in \\mathbb{Z}\\right\\} \\setminus \\left(\\left\\{2 n \\pi + \\frac{3 \\pi}{4}\\; |\\; n \\in \\mathbb{Z}\\right\\} \\cup \\left\\{2 n \\pi + \\frac{7 \\pi}{4}\\; |\\; n \\in \\mathbb{Z}\\right\\}\\right)\\right) \\cup \\left(\\left\\{2 n \\pi + \\frac{\\pi}{4}\\; |\\; n \\in \\mathbb{Z}\\right\\} \\setminus \\left(\\left\\{2 n \\pi + \\frac{3 \\pi}{4}\\; |\\; n \\in \\mathbb{Z}\\right\\} \\cup \\left\\{2 n \\pi + \\frac{7 \\pi}{4}\\; |\\; n \\in \\mathbb{Z}\\right\\}\\right)\\right)$"
      ],
      "text/plain": [
       "Union(Complement(ImageSet(Lambda(_n, 2*_n*pi + 5*pi/4), Integers), Union(ImageSet(Lambda(_n, 2*_n*pi + 3*pi/4), Integers), ImageSet(Lambda(_n, 2*_n*pi + 7*pi/4), Integers))), Complement(ImageSet(Lambda(_n, 2*_n*pi + pi/4), Integers), Union(ImageSet(Lambda(_n, 2*_n*pi + 3*pi/4), Integers), ImageSet(Lambda(_n, 2*_n*pi + 7*pi/4), Integers))))"
      ]
     },
     "metadata": {},
     "output_type": "display_data"
    },
    {
     "data": {
      "text/markdown": [
       "#### 5. Max/Min значения"
      ],
      "text/plain": [
       "<IPython.core.display.Markdown object>"
      ]
     },
     "metadata": {},
     "output_type": "display_data"
    },
    {
     "data": {
      "text/latex": [
       "$\\displaystyle \\infty$"
      ],
      "text/plain": [
       "oo"
      ]
     },
     "metadata": {},
     "output_type": "display_data"
    },
    {
     "data": {
      "text/latex": [
       "$\\displaystyle -\\infty$"
      ],
      "text/plain": [
       "-oo"
      ]
     },
     "metadata": {},
     "output_type": "display_data"
    }
   ],
   "source": [
    "f = 1 / (Sin(x) + Cos(x))\n",
    "analyse(f, x)"
   ]
  },
  {
   "cell_type": "code",
   "execution_count": 30,
   "metadata": {},
   "outputs": [
    {
     "data": {
      "text/markdown": [
       "### Анализ на промежутке $(0, 2\\pi)$"
      ],
      "text/plain": [
       "<IPython.core.display.Markdown object>"
      ]
     },
     "metadata": {},
     "output_type": "display_data"
    },
    {
     "data": {
      "text/markdown": [
       "#### 1. Область определения"
      ],
      "text/plain": [
       "<IPython.core.display.Markdown object>"
      ]
     },
     "metadata": {},
     "output_type": "display_data"
    },
    {
     "data": {
      "text/latex": [
       "$\\displaystyle \\left[0, \\frac{3 \\pi}{4}\\right) \\cup \\left(\\frac{3 \\pi}{4}, \\frac{7 \\pi}{4}\\right) \\cup \\left(\\frac{7 \\pi}{4}, 2 \\pi\\right]$"
      ],
      "text/plain": [
       "Union(Interval.Ropen(0, 3*pi/4), Interval.open(3*pi/4, 7*pi/4), Interval.Lopen(7*pi/4, 2*pi))"
      ]
     },
     "metadata": {},
     "output_type": "display_data"
    },
    {
     "data": {
      "text/markdown": [
       "Сингулярные точки"
      ],
      "text/plain": [
       "<IPython.core.display.Markdown object>"
      ]
     },
     "metadata": {},
     "output_type": "display_data"
    },
    {
     "data": {
      "text/latex": [
       "$\\displaystyle \\left\\{2 n \\pi + \\frac{3 \\pi}{4}\\; |\\; n \\in \\mathbb{Z}\\right\\} \\cup \\left\\{2 n \\pi + \\frac{7 \\pi}{4}\\; |\\; n \\in \\mathbb{Z}\\right\\}$"
      ],
      "text/plain": [
       "Union(ImageSet(Lambda(_n, 2*_n*pi + 3*pi/4), Integers), ImageSet(Lambda(_n, 2*_n*pi + 7*pi/4), Integers))"
      ]
     },
     "metadata": {},
     "output_type": "display_data"
    },
    {
     "data": {
      "text/markdown": [
       "#### 2. Область значений"
      ],
      "text/plain": [
       "<IPython.core.display.Markdown object>"
      ]
     },
     "metadata": {},
     "output_type": "display_data"
    },
    {
     "data": {
      "text/latex": [
       "$\\displaystyle \\left(-\\infty, - \\frac{\\sqrt{2}}{2}\\right] \\cup \\left[\\frac{\\sqrt{2}}{2}, \\infty\\right)$"
      ],
      "text/plain": [
       "Union(Interval(-oo, -sqrt(2)/2), Interval(sqrt(2)/2, oo))"
      ]
     },
     "metadata": {},
     "output_type": "display_data"
    },
    {
     "data": {
      "text/markdown": [
       "#### 4. Стационарные точки"
      ],
      "text/plain": [
       "<IPython.core.display.Markdown object>"
      ]
     },
     "metadata": {},
     "output_type": "display_data"
    },
    {
     "data": {
      "text/latex": [
       "$\\displaystyle \\left\\{\\frac{\\pi}{4}, \\frac{5 \\pi}{4}\\right\\}$"
      ],
      "text/plain": [
       "FiniteSet(pi/4, 5*pi/4)"
      ]
     },
     "metadata": {},
     "output_type": "display_data"
    },
    {
     "data": {
      "text/markdown": [
       "#### 5. Max/Min значения"
      ],
      "text/plain": [
       "<IPython.core.display.Markdown object>"
      ]
     },
     "metadata": {},
     "output_type": "display_data"
    },
    {
     "data": {
      "text/latex": [
       "$\\displaystyle \\infty$"
      ],
      "text/plain": [
       "oo"
      ]
     },
     "metadata": {},
     "output_type": "display_data"
    },
    {
     "data": {
      "text/latex": [
       "$\\displaystyle -\\infty$"
      ],
      "text/plain": [
       "-oo"
      ]
     },
     "metadata": {},
     "output_type": "display_data"
    },
    {
     "data": {
      "text/markdown": [
       "#### 6. Монотонность"
      ],
      "text/plain": [
       "<IPython.core.display.Markdown object>"
      ]
     },
     "metadata": {},
     "output_type": "display_data"
    },
    {
     "data": {
      "text/latex": [
       "$\\displaystyle \\left(0, \\frac{\\pi}{4}\\right)$"
      ],
      "text/plain": [
       "Interval.open(0, pi/4)"
      ]
     },
     "metadata": {},
     "output_type": "display_data"
    },
    {
     "name": "stdout",
     "output_type": "stream",
     "text": [
      "Монотонна? True\n",
      "Убывающая? True\n",
      "Возрастающая? False\n",
      "Строго убывающая? True\n",
      "Строго возрастающая? False\n"
     ]
    },
    {
     "data": {
      "text/latex": [
       "$\\displaystyle \\left(\\frac{\\pi}{4}, \\frac{5 \\pi}{4}\\right)$"
      ],
      "text/plain": [
       "Interval.open(pi/4, 5*pi/4)"
      ]
     },
     "metadata": {},
     "output_type": "display_data"
    },
    {
     "name": "stdout",
     "output_type": "stream",
     "text": [
      "Монотонна? True\n",
      "Убывающая? False\n",
      "Возрастающая? None\n",
      "Строго убывающая? False\n",
      "Строго возрастающая? None\n"
     ]
    },
    {
     "data": {
      "text/latex": [
       "$\\displaystyle \\left(\\frac{5 \\pi}{4}, 2 \\pi\\right)$"
      ],
      "text/plain": [
       "Interval.open(5*pi/4, 2*pi)"
      ]
     },
     "metadata": {},
     "output_type": "display_data"
    },
    {
     "name": "stdout",
     "output_type": "stream",
     "text": [
      "Монотонна? True\n",
      "Убывающая? None\n",
      "Возрастающая? False\n",
      "Строго убывающая? None\n",
      "Строго возрастающая? False\n"
     ]
    },
    {
     "data": {
      "text/markdown": [
       "#### 7. Max/Min значения (с помощью AccumulationBounds)"
      ],
      "text/plain": [
       "<IPython.core.display.Markdown object>"
      ]
     },
     "metadata": {},
     "output_type": "display_data"
    },
    {
     "data": {
      "text/latex": [
       "$\\displaystyle \\left\\langle -\\infty, \\infty\\right\\rangle$"
      ],
      "text/plain": [
       "AccumBounds(-oo, oo)"
      ]
     },
     "metadata": {},
     "output_type": "display_data"
    },
    {
     "data": {
      "text/markdown": [
       "#### 8. График"
      ],
      "text/plain": [
       "<IPython.core.display.Markdown object>"
      ]
     },
     "metadata": {},
     "output_type": "display_data"
    },
    {
     "data": {
      "image/png": "[encoded data removed]",
      "text/plain": [
       "<Figure size 432x288 with 1 Axes>"
      ]
     },
     "metadata": {
      "needs_background": "light"
     },
     "output_type": "display_data"
    }
   ],
   "source": [
    "display(Markdown(f\"### Анализ на промежутке $(0, 2\\pi)$\"))\n",
    "analyse(f, x, Interval(0, 2*Pi), ylim=(-5, 5))"
   ]
  },
  {
   "cell_type": "markdown",
   "metadata": {},
   "source": [
    "### Индивидуальное задание. Вариант 11\n",
    "Исследовать функцию $f(x)$, найти минимальное и максимальное значение на каком-нибудь конечном интервале, не содержащем точек разрыва, построить график.\n",
    "\n",
    "$$f(x) = 3 \\sqrt{4 - 5 \\cos{\\left(x \\right)}}$$"
   ]
  },
  {
   "cell_type": "code",
   "execution_count": 32,
   "metadata": {},
   "outputs": [
    {
     "data": {
      "text/markdown": [
       "#### 1. Область определения"
      ],
      "text/plain": [
       "<IPython.core.display.Markdown object>"
      ]
     },
     "metadata": {},
     "output_type": "display_data"
    },
    {
     "data": {
      "text/latex": [
       "$\\displaystyle \\left[\\operatorname{atan}{\\left(\\frac{3}{4} \\right)}, - \\operatorname{atan}{\\left(\\frac{3}{4} \\right)} + 2 \\pi\\right]$"
      ],
      "text/plain": [
       "Interval(atan(3/4), -atan(3/4) + 2*pi)"
      ]
     },
     "metadata": {},
     "output_type": "display_data"
    },
    {
     "data": {
      "text/markdown": [
       "Сингулярные точки"
      ],
      "text/plain": [
       "<IPython.core.display.Markdown object>"
      ]
     },
     "metadata": {},
     "output_type": "display_data"
    },
    {
     "data": {
      "text/latex": [
       "$\\displaystyle \\emptyset$"
      ],
      "text/plain": [
       "EmptySet"
      ]
     },
     "metadata": {},
     "output_type": "display_data"
    },
    {
     "data": {
      "text/markdown": [
       "#### 2. Область значений"
      ],
      "text/plain": [
       "<IPython.core.display.Markdown object>"
      ]
     },
     "metadata": {},
     "output_type": "display_data"
    },
    {
     "data": {
      "text/latex": [
       "$\\displaystyle \\left[0, 9\\right]$"
      ],
      "text/plain": [
       "Interval(0, 9)"
      ]
     },
     "metadata": {},
     "output_type": "display_data"
    },
    {
     "data": {
      "text/markdown": [
       "#### 3. Периодичность"
      ],
      "text/plain": [
       "<IPython.core.display.Markdown object>"
      ]
     },
     "metadata": {},
     "output_type": "display_data"
    },
    {
     "data": {
      "text/latex": [
       "$\\displaystyle 2 \\pi$"
      ],
      "text/plain": [
       "2*pi"
      ]
     },
     "metadata": {},
     "output_type": "display_data"
    },
    {
     "data": {
      "text/markdown": [
       "#### 4. Стационарные точки"
      ],
      "text/plain": [
       "<IPython.core.display.Markdown object>"
      ]
     },
     "metadata": {},
     "output_type": "display_data"
    },
    {
     "data": {
      "text/latex": [
       "$\\displaystyle \\left\\{\\pi\\right\\}$"
      ],
      "text/plain": [
       "FiniteSet(pi)"
      ]
     },
     "metadata": {},
     "output_type": "display_data"
    },
    {
     "data": {
      "text/markdown": [
       "#### 5. Max/Min значения"
      ],
      "text/plain": [
       "<IPython.core.display.Markdown object>"
      ]
     },
     "metadata": {},
     "output_type": "display_data"
    },
    {
     "data": {
      "text/latex": [
       "$\\displaystyle 9$"
      ],
      "text/plain": [
       "9"
      ]
     },
     "metadata": {},
     "output_type": "display_data"
    },
    {
     "data": {
      "text/latex": [
       "$\\displaystyle 0$"
      ],
      "text/plain": [
       "0"
      ]
     },
     "metadata": {},
     "output_type": "display_data"
    },
    {
     "data": {
      "text/markdown": [
       "### Анализ на промежутке $(2, 4)$"
      ],
      "text/plain": [
       "<IPython.core.display.Markdown object>"
      ]
     },
     "metadata": {},
     "output_type": "display_data"
    },
    {
     "data": {
      "text/markdown": [
       "#### 7. Минимальное и максимальное значения на интервале"
      ],
      "text/plain": [
       "<IPython.core.display.Markdown object>"
      ]
     },
     "metadata": {},
     "output_type": "display_data"
    },
    {
     "data": {
      "text/latex": [
       "$\\displaystyle \\left\\langle 3 \\sqrt{4 - 5 \\cos{\\left(2 \\right)}}, 9\\right\\rangle$"
      ],
      "text/plain": [
       "AccumBounds(3*sqrt(4 - 5*cos(2)), 9)"
      ]
     },
     "metadata": {},
     "output_type": "display_data"
    },
    {
     "data": {
      "text/markdown": [
       "#### 8. График"
      ],
      "text/plain": [
       "<IPython.core.display.Markdown object>"
      ]
     },
     "metadata": {},
     "output_type": "display_data"
    },
    {
     "data": {
      "image/png": "[encoded data removed]",
      "text/plain": [
       "<Figure size 432x288 with 1 Axes>"
      ]
     },
     "metadata": {
      "needs_background": "light"
     },
     "output_type": "display_data"
    },
    {
     "data": {
      "text/plain": [
       "<sympy.plotting.plot.Plot at 0x24952f92af0>"
      ]
     },
     "execution_count": 32,
     "metadata": {},
     "output_type": "execute_result"
    }
   ],
   "source": [
    "f = 3 * sympy.sqrt(4 - 5*Cos(x))\n",
    "analyse(f, x)\n",
    "\n",
    "interval = Interval.open(2, 4)\n",
    "display(Markdown(f\"### Анализ на промежутке $(2, 4)$\"))\n",
    "\n",
    "display(Markdown(f\"#### 7. Минимальное и максимальное значения на интервале\"))\n",
    "display(f.subs(x, AccumBounds(interval.start, interval.end)))\n",
    "\n",
    "display(Markdown(f\"#### 8. График\"))\n",
    "plot(f, (x, interval.start, interval.end))"
   ]
  }
 ],
 "metadata": {
  "kernelspec": {
   "display_name": "Python 3",
   "language": "python",
   "name": "python3"
  },
  "language_info": {
   "codemirror_mode": {
    "name": "ipython",
    "version": 3
   },
   "file_extension": ".py",
   "mimetype": "text/x-python",
   "name": "python",
   "nbconvert_exporter": "python",
   "pygments_lexer": "ipython3",
   "version": "3.9.0"
  }
 },
 "nbformat": 4,
 "nbformat_minor": 2
}
