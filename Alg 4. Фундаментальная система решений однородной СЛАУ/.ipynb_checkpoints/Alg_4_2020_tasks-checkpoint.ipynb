{
 "cells": [
  {
   "cell_type": "markdown",
   "metadata": {},
   "source": [
    "## Занятие 4\n",
    "## Алгебра\n",
    "## Фундаментальная система решений однородной СЛАУ"
   ]
  },
  {
   "cell_type": "markdown",
   "metadata": {},
   "source": [
    "https://docs.sympy.org/latest/modules"
   ]
  },
  {
   "cell_type": "code",
   "execution_count": 98,
   "metadata": {},
   "outputs": [],
   "source": [
    "from IPython.display import Markdown\n",
    "import sympy\n",
    "from sympy import linsolve, Matrix, S, Symbol, symbols, Eq, linear_eq_to_matrix, simplify, zeros"
   ]
  },
  {
   "cell_type": "code",
   "execution_count": 32,
   "metadata": {},
   "outputs": [],
   "source": [
    "Ab_list = [\n",
    "    Matrix([\n",
    "        [ -1, -3, 5, 2, 14],\n",
    "        [ 2, -1, 4, 7, 56],\n",
    "        [ 3, 4, -1, 0, 5],\n",
    "        [ 5, 0, 1, -3, - 6],\n",
    "    ]),\n",
    "    Matrix([\n",
    "        [ 1, 3, 5, 2, 24],\n",
    "        [ 2, -1, 4, 1, 20],\n",
    "        [ 3, 4, -1, 0, 5],\n",
    "        [ 5, 3, 3, 1, 5],\n",
    "    ]),\n",
    "    Matrix([\n",
    "        [ 1, 3, 5, 2, 24],\n",
    "        [ 2, -1, 4, 1, 20],\n",
    "        [ 3, 2, 9, 3, 44],\n",
    "        [1, -4, -1, -1, -4],\n",
    "    ])\n",
    "]"
   ]
  },
  {
   "cell_type": "code",
   "execution_count": 60,
   "metadata": {},
   "outputs": [
    {
     "data": {
      "text/markdown": [
       "#### Вариант 1:"
      ],
      "text/plain": [
       "<IPython.core.display.Markdown object>"
      ]
     },
     "metadata": {},
     "output_type": "display_data"
    },
    {
     "data": {
      "text/latex": [
       "$\\displaystyle \\left[\\begin{matrix}-1 & -3 & 5 & 2 & 14\\\\2 & -1 & 4 & 7 & 56\\\\3 & 4 & -1 & 0 & 5\\\\5 & 0 & 1 & -3 & -6\\end{matrix}\\right]$"
      ],
      "text/plain": [
       "Matrix([\n",
       "[-1, -3,  5,  2, 14],\n",
       "[ 2, -1,  4,  7, 56],\n",
       "[ 3,  4, -1,  0,  5],\n",
       "[ 5,  0,  1, -3, -6]])"
      ]
     },
     "metadata": {},
     "output_type": "display_data"
    },
    {
     "data": {
      "text/latex": [
       "$\\displaystyle \\left\\{\\left( 3, \\  -1, \\  0, \\  7\\right)\\right\\}$"
      ],
      "text/plain": [
       "FiniteSet((3, -1, 0, 7))"
      ]
     },
     "metadata": {},
     "output_type": "display_data"
    },
    {
     "data": {
      "text/markdown": [
       "#### Вариант 2:"
      ],
      "text/plain": [
       "<IPython.core.display.Markdown object>"
      ]
     },
     "metadata": {},
     "output_type": "display_data"
    },
    {
     "data": {
      "text/latex": [
       "$\\displaystyle \\left[\\begin{matrix}1 & 3 & 5 & 2 & 24\\\\2 & -1 & 4 & 1 & 20\\\\3 & 4 & -1 & 0 & 5\\\\5 & 3 & 3 & 1 & 5\\end{matrix}\\right]$"
      ],
      "text/plain": [
       "Matrix([\n",
       "[1,  3,  5, 2, 24],\n",
       "[2, -1,  4, 1, 20],\n",
       "[3,  4, -1, 0,  5],\n",
       "[5,  3,  3, 1,  5]])"
      ]
     },
     "metadata": {},
     "output_type": "display_data"
    },
    {
     "data": {
      "text/latex": [
       "$\\displaystyle \\emptyset$"
      ],
      "text/plain": [
       "EmptySet"
      ]
     },
     "metadata": {},
     "output_type": "display_data"
    },
    {
     "data": {
      "text/markdown": [
       "#### Вариант 3:"
      ],
      "text/plain": [
       "<IPython.core.display.Markdown object>"
      ]
     },
     "metadata": {},
     "output_type": "display_data"
    },
    {
     "data": {
      "text/latex": [
       "$\\displaystyle \\left[\\begin{matrix}1 & 3 & 5 & 2 & 24\\\\2 & -1 & 4 & 1 & 20\\\\3 & 2 & 9 & 3 & 44\\\\1 & -4 & -1 & -1 & -4\\end{matrix}\\right]$"
      ],
      "text/plain": [
       "Matrix([\n",
       "[1,  3,  5,  2, 24],\n",
       "[2, -1,  4,  1, 20],\n",
       "[3,  2,  9,  3, 44],\n",
       "[1, -4, -1, -1, -4]])"
      ]
     },
     "metadata": {},
     "output_type": "display_data"
    },
    {
     "data": {
      "text/latex": [
       "$\\displaystyle \\left\\{\\left( - \\frac{17 \\tau_{0}}{7} - \\frac{5 \\tau_{1}}{7} + 12, \\  - \\frac{6 \\tau_{0}}{7} - \\frac{3 \\tau_{1}}{7} + 4, \\  \\tau_{0}, \\  \\tau_{1}\\right)\\right\\}$"
      ],
      "text/plain": [
       "FiniteSet((-17*tau0/7 - 5*tau1/7 + 12, -6*tau0/7 - 3*tau1/7 + 4, tau0, tau1))"
      ]
     },
     "metadata": {},
     "output_type": "display_data"
    }
   ],
   "source": [
    "for index, Ab in enumerate(Ab_list):\n",
    "    display(Markdown(f\"#### Вариант {index + 1}:\"), Ab, linsolve(Ab))    "
   ]
  },
  {
   "cell_type": "markdown",
   "metadata": {},
   "source": [
    "### Задание 1.\n",
    "Проверить по теореме Кронекера-Капелли совместность СЛАУ $AX = b$, если\n",
    "\\begin{align*}\n",
    "a)\\ A = \\left(\n",
    "\\begin{matrix}\n",
    "-1 & -3 & 5 & 2\\\\\n",
    "2 & -1 & 4 & 7\\\\\n",
    "3 & 4 & -1 & 0\\\\\n",
    "5 & 0 & 1 & -3\n",
    "\\end{matrix}\n",
    "\\right), \\quad \n",
    "b = \\left(\n",
    "\\begin{matrix}\n",
    "14\\\\ 56\\\\ 5\\\\ -6\n",
    "\\end{matrix}\n",
    "\\right), \\quad \n",
    "b)\\ A = \\left(\n",
    "\\begin{matrix}\n",
    "1 & 3 & 5 & 2\\\\\n",
    "2 & -1 & 4 & 1\\\\\n",
    "3 & 4 & -1 & 0\\\\\n",
    "5 & 3 & 3 & 1\n",
    "\\end{matrix}\n",
    "\\right), \\quad \n",
    "b = \\left(\n",
    "\\begin{matrix}\n",
    "24\\\\ 20\\\\ 5\\\\ 5\n",
    "\\end{matrix}\n",
    "\\right), \\quad \n",
    "c)\\ A = \\left(\n",
    "\\begin{matrix}\n",
    "1 & 3 & 5 & 2\\\\\n",
    "2 & -1 & 4 & 1\\\\\n",
    "3 & 2 & 9 & 3\\\\\n",
    "1 & -4 & -1 & -1\n",
    "\\end{matrix}\n",
    "\\right), \\quad \n",
    "b = \\left(\n",
    "\\begin{matrix}\n",
    "24\\\\ 20\\\\ 44\\\\ -4\n",
    "\\end{matrix}\n",
    "\\right)\n",
    "\\end{align*}"
   ]
  },
  {
   "cell_type": "code",
   "execution_count": 49,
   "metadata": {},
   "outputs": [
    {
     "data": {
      "text/markdown": [
       "#### Вариант 1:"
      ],
      "text/plain": [
       "<IPython.core.display.Markdown object>"
      ]
     },
     "metadata": {},
     "output_type": "display_data"
    },
    {
     "data": {
      "text/latex": [
       "$\\displaystyle \\left[\\begin{matrix}-1 & -3 & 5 & 2 & 14\\\\2 & -1 & 4 & 7 & 56\\\\3 & 4 & -1 & 0 & 5\\\\5 & 0 & 1 & -3 & -6\\end{matrix}\\right]$"
      ],
      "text/plain": [
       "Matrix([\n",
       "[-1, -3,  5,  2, 14],\n",
       "[ 2, -1,  4,  7, 56],\n",
       "[ 3,  4, -1,  0,  5],\n",
       "[ 5,  0,  1, -3, -6]])"
      ]
     },
     "metadata": {},
     "output_type": "display_data"
    },
    {
     "data": {
      "text/markdown": [
       "Ранг матрицы А = 4"
      ],
      "text/plain": [
       "<IPython.core.display.Markdown object>"
      ]
     },
     "metadata": {},
     "output_type": "display_data"
    },
    {
     "data": {
      "text/markdown": [
       "Ранг матрицы Ab = 4"
      ],
      "text/plain": [
       "<IPython.core.display.Markdown object>"
      ]
     },
     "metadata": {},
     "output_type": "display_data"
    },
    {
     "data": {
      "text/markdown": [
       "СЛАУ Совместна"
      ],
      "text/plain": [
       "<IPython.core.display.Markdown object>"
      ]
     },
     "metadata": {},
     "output_type": "display_data"
    },
    {
     "data": {
      "text/markdown": [
       "#### Вариант 2:"
      ],
      "text/plain": [
       "<IPython.core.display.Markdown object>"
      ]
     },
     "metadata": {},
     "output_type": "display_data"
    },
    {
     "data": {
      "text/latex": [
       "$\\displaystyle \\left[\\begin{matrix}1 & 3 & 5 & 2 & 24\\\\2 & -1 & 4 & 1 & 20\\\\3 & 4 & -1 & 0 & 5\\\\5 & 3 & 3 & 1 & 5\\end{matrix}\\right]$"
      ],
      "text/plain": [
       "Matrix([\n",
       "[1,  3,  5, 2, 24],\n",
       "[2, -1,  4, 1, 20],\n",
       "[3,  4, -1, 0,  5],\n",
       "[5,  3,  3, 1,  5]])"
      ]
     },
     "metadata": {},
     "output_type": "display_data"
    },
    {
     "data": {
      "text/markdown": [
       "Ранг матрицы А = 3"
      ],
      "text/plain": [
       "<IPython.core.display.Markdown object>"
      ]
     },
     "metadata": {},
     "output_type": "display_data"
    },
    {
     "data": {
      "text/markdown": [
       "Ранг матрицы Ab = 4"
      ],
      "text/plain": [
       "<IPython.core.display.Markdown object>"
      ]
     },
     "metadata": {},
     "output_type": "display_data"
    },
    {
     "data": {
      "text/markdown": [
       "СЛАУ Несовместна"
      ],
      "text/plain": [
       "<IPython.core.display.Markdown object>"
      ]
     },
     "metadata": {},
     "output_type": "display_data"
    },
    {
     "data": {
      "text/markdown": [
       "#### Вариант 3:"
      ],
      "text/plain": [
       "<IPython.core.display.Markdown object>"
      ]
     },
     "metadata": {},
     "output_type": "display_data"
    },
    {
     "data": {
      "text/latex": [
       "$\\displaystyle \\left[\\begin{matrix}1 & 3 & 5 & 2 & 24\\\\2 & -1 & 4 & 1 & 20\\\\3 & 2 & 9 & 3 & 44\\\\1 & -4 & -1 & -1 & -4\\end{matrix}\\right]$"
      ],
      "text/plain": [
       "Matrix([\n",
       "[1,  3,  5,  2, 24],\n",
       "[2, -1,  4,  1, 20],\n",
       "[3,  2,  9,  3, 44],\n",
       "[1, -4, -1, -1, -4]])"
      ]
     },
     "metadata": {},
     "output_type": "display_data"
    },
    {
     "data": {
      "text/markdown": [
       "Ранг матрицы А = 2"
      ],
      "text/plain": [
       "<IPython.core.display.Markdown object>"
      ]
     },
     "metadata": {},
     "output_type": "display_data"
    },
    {
     "data": {
      "text/markdown": [
       "Ранг матрицы Ab = 2"
      ],
      "text/plain": [
       "<IPython.core.display.Markdown object>"
      ]
     },
     "metadata": {},
     "output_type": "display_data"
    },
    {
     "data": {
      "text/markdown": [
       "СЛАУ Совместна"
      ],
      "text/plain": [
       "<IPython.core.display.Markdown object>"
      ]
     },
     "metadata": {},
     "output_type": "display_data"
    }
   ],
   "source": [
    "for index, Ab in enumerate(Ab_list):\n",
    "    display(Markdown(f\"#### Вариант {index + 1}:\"), Ab)\n",
    "    A_rank = Ab[:, :-1].rank()\n",
    "    Ab_rank = Ab.rank()\n",
    "    \n",
    "    display(Markdown(f\"- Ранг матрицы А = {A_rank}\"))\n",
    "    display(Markdown(f\"- Ранг матрицы Ab = {Ab_rank}\"))\n",
    "    \n",
    "    if A_rank == Ab_rank:\n",
    "        display(Markdown(\"- СЛАУ Совместна\"))\n",
    "    else:\n",
    "        display(Markdown(\"- СЛАУ Несовместна\"))"
   ]
  },
  {
   "cell_type": "markdown",
   "metadata": {},
   "source": [
    "---\n",
    "### Задание 2.\n",
    "Проверить единственность решения в совместных СЛАУ Задания 1."
   ]
  },
  {
   "cell_type": "code",
   "execution_count": 58,
   "metadata": {},
   "outputs": [
    {
     "data": {
      "text/markdown": [
       "#### Вариант 1:"
      ],
      "text/plain": [
       "<IPython.core.display.Markdown object>"
      ]
     },
     "metadata": {},
     "output_type": "display_data"
    },
    {
     "data": {
      "text/markdown": [
       "- СЛАУ Совместна"
      ],
      "text/plain": [
       "<IPython.core.display.Markdown object>"
      ]
     },
     "metadata": {},
     "output_type": "display_data"
    },
    {
     "data": {
      "text/markdown": [
       "- Решение единственно"
      ],
      "text/plain": [
       "<IPython.core.display.Markdown object>"
      ]
     },
     "metadata": {},
     "output_type": "display_data"
    },
    {
     "data": {
      "text/markdown": [
       "#### Вариант 2:"
      ],
      "text/plain": [
       "<IPython.core.display.Markdown object>"
      ]
     },
     "metadata": {},
     "output_type": "display_data"
    },
    {
     "data": {
      "text/markdown": [
       "- СЛАУ Несовместна"
      ],
      "text/plain": [
       "<IPython.core.display.Markdown object>"
      ]
     },
     "metadata": {},
     "output_type": "display_data"
    },
    {
     "data": {
      "text/markdown": [
       "#### Вариант 3:"
      ],
      "text/plain": [
       "<IPython.core.display.Markdown object>"
      ]
     },
     "metadata": {},
     "output_type": "display_data"
    },
    {
     "data": {
      "text/markdown": [
       "- СЛАУ Совместна"
      ],
      "text/plain": [
       "<IPython.core.display.Markdown object>"
      ]
     },
     "metadata": {},
     "output_type": "display_data"
    },
    {
     "data": {
      "text/markdown": [
       "- Решений бесконечно много"
      ],
      "text/plain": [
       "<IPython.core.display.Markdown object>"
      ]
     },
     "metadata": {},
     "output_type": "display_data"
    }
   ],
   "source": [
    "for index, Ab in enumerate(Ab_list):\n",
    "    display(Markdown(f\"#### Вариант {index + 1}:\"))\n",
    "    A = Ab[:, :-1]\n",
    "    \n",
    "    if A.rank() == Ab.rank():\n",
    "        display(Markdown(\"- СЛАУ Совместна\"))\n",
    "        \n",
    "        if A.rank() == A.shape[1]:            \n",
    "            display(Markdown(\"- Решение единственно\"))\n",
    "        else:\n",
    "            display(Markdown(\"- Решений бесконечно много\"))\n",
    "            \n",
    "    else:\n",
    "        display(Markdown(\"- СЛАУ Несовместна\"))"
   ]
  },
  {
   "cell_type": "markdown",
   "metadata": {},
   "source": [
    "---\n",
    "### Задание 3\n",
    "Для однородных СЛАУ, соответствующих СЛАУ из Задания 1 установить, есть ли у однородной СЛАУ нетривиальное решение. "
   ]
  },
  {
   "cell_type": "code",
   "execution_count": 59,
   "metadata": {},
   "outputs": [
    {
     "data": {
      "text/markdown": [
       "#### Вариант 1:"
      ],
      "text/plain": [
       "<IPython.core.display.Markdown object>"
      ]
     },
     "metadata": {},
     "output_type": "display_data"
    },
    {
     "data": {
      "text/markdown": [
       "ОСЛАУ не имеет нетривиальных решений"
      ],
      "text/plain": [
       "<IPython.core.display.Markdown object>"
      ]
     },
     "metadata": {},
     "output_type": "display_data"
    },
    {
     "data": {
      "text/markdown": [
       "#### Вариант 2:"
      ],
      "text/plain": [
       "<IPython.core.display.Markdown object>"
      ]
     },
     "metadata": {},
     "output_type": "display_data"
    },
    {
     "data": {
      "text/markdown": [
       "ОСЛАУ имеет нетривиальные решения"
      ],
      "text/plain": [
       "<IPython.core.display.Markdown object>"
      ]
     },
     "metadata": {},
     "output_type": "display_data"
    },
    {
     "data": {
      "text/markdown": [
       "#### Вариант 3:"
      ],
      "text/plain": [
       "<IPython.core.display.Markdown object>"
      ]
     },
     "metadata": {},
     "output_type": "display_data"
    },
    {
     "data": {
      "text/markdown": [
       "ОСЛАУ имеет нетривиальные решения"
      ],
      "text/plain": [
       "<IPython.core.display.Markdown object>"
      ]
     },
     "metadata": {},
     "output_type": "display_data"
    }
   ],
   "source": [
    "for index, Ab in enumerate(Ab_list):\n",
    "    display(Markdown(f\"#### Вариант {index + 1}:\"))\n",
    "    A = Ab[:, :-1]\n",
    "    \n",
    "    if A.rank() < A.shape[1]:\n",
    "        display(Markdown(\"ОСЛАУ имеет нетривиальные решения\"))\n",
    "    else:\n",
    "        display(Markdown(\"ОСЛАУ не имеет нетривиальных решений\"))"
   ]
  },
  {
   "cell_type": "markdown",
   "metadata": {},
   "source": [
    "---\n",
    "### Задание 4\n",
    "Для однородных СЛАУ из Задания 3, имеющих нетривиальное решение, составить ФСР. "
   ]
  },
  {
   "cell_type": "code",
   "execution_count": 130,
   "metadata": {},
   "outputs": [
    {
     "data": {
      "text/markdown": [
       "#### Вариант 1:"
      ],
      "text/plain": [
       "<IPython.core.display.Markdown object>"
      ]
     },
     "metadata": {},
     "output_type": "display_data"
    },
    {
     "data": {
      "text/markdown": [
       "#### Вариант 2:"
      ],
      "text/plain": [
       "<IPython.core.display.Markdown object>"
      ]
     },
     "metadata": {},
     "output_type": "display_data"
    },
    {
     "data": {
      "text/latex": [
       "$\\displaystyle \\left[\\begin{matrix}\\frac{7}{82}\\\\- \\frac{6}{41}\\\\- \\frac{27}{82}\\\\1\\end{matrix}\\right]$"
      ],
      "text/plain": [
       "Matrix([\n",
       "[  7/82],\n",
       "[ -6/41],\n",
       "[-27/82],\n",
       "[     1]])"
      ]
     },
     "metadata": {},
     "output_type": "display_data"
    },
    {
     "data": {
      "text/markdown": [
       "#### Вариант 3:"
      ],
      "text/plain": [
       "<IPython.core.display.Markdown object>"
      ]
     },
     "metadata": {},
     "output_type": "display_data"
    },
    {
     "data": {
      "text/latex": [
       "$\\displaystyle \\left[\\begin{matrix}- \\frac{17}{7}\\\\- \\frac{6}{7}\\\\1\\\\0\\end{matrix}\\right]$"
      ],
      "text/plain": [
       "Matrix([\n",
       "[-17/7],\n",
       "[ -6/7],\n",
       "[    1],\n",
       "[    0]])"
      ]
     },
     "metadata": {},
     "output_type": "display_data"
    },
    {
     "data": {
      "text/latex": [
       "$\\displaystyle \\left[\\begin{matrix}- \\frac{5}{7}\\\\- \\frac{3}{7}\\\\0\\\\1\\end{matrix}\\right]$"
      ],
      "text/plain": [
       "Matrix([\n",
       "[-5/7],\n",
       "[-3/7],\n",
       "[   0],\n",
       "[   1]])"
      ]
     },
     "metadata": {},
     "output_type": "display_data"
    }
   ],
   "source": [
    "for index, Ab in enumerate(Ab_list):\n",
    "    display(Markdown(f\"#### Вариант {index + 1}:\"))\n",
    "    display(*Ab[:, :-1].nullspace())"
   ]
  },
  {
   "cell_type": "markdown",
   "metadata": {},
   "source": [
    "---\n",
    "### Задание 5\n",
    "Для однородных СЛАУ из Задания 4 построить общее решение, используя построенную в Задании 4 ФСР. Сравнить с результатом, возвращаемым linsolve. "
   ]
  },
  {
   "cell_type": "code",
   "execution_count": 110,
   "metadata": {},
   "outputs": [
    {
     "data": {
      "text/markdown": [
       "#### Вариант 1:"
      ],
      "text/plain": [
       "<IPython.core.display.Markdown object>"
      ]
     },
     "metadata": {},
     "output_type": "display_data"
    },
    {
     "data": {
      "text/latex": [
       "$\\displaystyle \\left[\\begin{matrix}0\\\\0\\\\0\\\\0\\end{matrix}\\right]$"
      ],
      "text/plain": [
       "Matrix([\n",
       "[0],\n",
       "[0],\n",
       "[0],\n",
       "[0]])"
      ]
     },
     "metadata": {},
     "output_type": "display_data"
    },
    {
     "data": {
      "text/latex": [
       "$\\displaystyle \\left\\{\\left( 0, \\  0, \\  0, \\  0\\right)\\right\\}$"
      ],
      "text/plain": [
       "FiniteSet((0, 0, 0, 0))"
      ]
     },
     "metadata": {},
     "output_type": "display_data"
    },
    {
     "data": {
      "text/markdown": [
       "#### Вариант 2:"
      ],
      "text/plain": [
       "<IPython.core.display.Markdown object>"
      ]
     },
     "metadata": {},
     "output_type": "display_data"
    },
    {
     "data": {
      "text/latex": [
       "$\\displaystyle \\left[\\begin{matrix}\\frac{7 \\alpha_{1}}{82}\\\\- \\frac{6 \\alpha_{1}}{41}\\\\- \\frac{27 \\alpha_{1}}{82}\\\\\\alpha_{1}\\end{matrix}\\right]$"
      ],
      "text/plain": [
       "Matrix([\n",
       "[  7*alpha1/82],\n",
       "[ -6*alpha1/41],\n",
       "[-27*alpha1/82],\n",
       "[       alpha1]])"
      ]
     },
     "metadata": {},
     "output_type": "display_data"
    },
    {
     "data": {
      "text/latex": [
       "$\\displaystyle \\left\\{\\left( \\frac{7 x_{4}}{82}, \\  - \\frac{6 x_{4}}{41}, \\  - \\frac{27 x_{4}}{82}, \\  x_{4}\\right)\\right\\}$"
      ],
      "text/plain": [
       "FiniteSet((7*x4/82, -6*x4/41, -27*x4/82, x4))"
      ]
     },
     "metadata": {},
     "output_type": "display_data"
    },
    {
     "data": {
      "text/markdown": [
       "#### Вариант 3:"
      ],
      "text/plain": [
       "<IPython.core.display.Markdown object>"
      ]
     },
     "metadata": {},
     "output_type": "display_data"
    },
    {
     "data": {
      "text/latex": [
       "$\\displaystyle \\left[\\begin{matrix}- \\frac{17 \\alpha_{1}}{7} - \\frac{5 \\alpha_{2}}{7}\\\\- \\frac{6 \\alpha_{1}}{7} - \\frac{3 \\alpha_{2}}{7}\\\\\\alpha_{1}\\\\\\alpha_{2}\\end{matrix}\\right]$"
      ],
      "text/plain": [
       "Matrix([\n",
       "[-17*alpha1/7 - 5*alpha2/7],\n",
       "[ -6*alpha1/7 - 3*alpha2/7],\n",
       "[                   alpha1],\n",
       "[                   alpha2]])"
      ]
     },
     "metadata": {},
     "output_type": "display_data"
    },
    {
     "data": {
      "text/latex": [
       "$\\displaystyle \\left\\{\\left( - \\frac{17 x_{3}}{7} - \\frac{5 x_{4}}{7}, \\  - \\frac{6 x_{3}}{7} - \\frac{3 x_{4}}{7}, \\  x_{3}, \\  x_{4}\\right)\\right\\}$"
      ],
      "text/plain": [
       "FiniteSet((-17*x3/7 - 5*x4/7, -6*x3/7 - 3*x4/7, x3, x4))"
      ]
     },
     "metadata": {},
     "output_type": "display_data"
    }
   ],
   "source": [
    "for index, Ab in enumerate(Ab_list):   \n",
    "    display(Markdown(f\"#### Вариант {index + 1}:\"))\n",
    "    m = Ab.shape[1] - 1\n",
    "    A = Ab[:, :-1]\n",
    "    ns = A.nullspace()\n",
    "    x = symbols(f'x1:{m + 1}')\n",
    "    X = zeros(m, 1)\n",
    "    \n",
    "    for i, vect in enumerate(ns):\n",
    "        X += vect*Symbol(f'alpha{i + 1}')\n",
    "    \n",
    "    display(X, linsolve((A, zeros(m, 1)), x))    "
   ]
  },
  {
   "cell_type": "markdown",
   "metadata": {},
   "source": [
    "---\n",
    "### Индивидуальное задание. Вариант 11.\n",
    "Дана СЛАУ $AX = b$. Проверить совместность по теореме Кронекера-Капелли. Если СЛАУ совместна, проверить единственность решения.\n",
    "Для соответствующей однородной СЛАУ проверить существование нетривиального решения. В случае, если оно существует, \n",
    "найти размерность пространства решений и составить ФСР и общее решение однородной СЛАУ.\n",
    "\n",
    "\\begin{align*}\n",
    " A = \\left[\\begin{matrix}-2 & -2 & -1 & 4\\\\2 & -7 & -6 & -9\\\\0 & -36 & -28 & -20\\\\2 & -34 & -27 & -24\\end{matrix}\\right],\n",
    "\\qquad b = \\left[\\begin{matrix}5\\\\-1\\\\16\\\\11\\end{matrix}\\right]. \n",
    " \\end{align*}"
   ]
  },
  {
   "cell_type": "code",
   "execution_count": 134,
   "metadata": {},
   "outputs": [
    {
     "data": {
      "text/markdown": [
       "#### Расширенная матрица системы:"
      ],
      "text/plain": [
       "<IPython.core.display.Markdown object>"
      ]
     },
     "metadata": {},
     "output_type": "display_data"
    },
    {
     "data": {
      "text/latex": [
       "$\\displaystyle \\left[\\begin{matrix}-2 & -2 & -1 & 4 & 5\\\\2 & -7 & -6 & -9 & -1\\\\0 & -36 & -28 & -20 & 16\\\\2 & -34 & -27 & -24 & 11\\end{matrix}\\right]$"
      ],
      "text/plain": [
       "Matrix([\n",
       "[-2,  -2,  -1,   4,  5],\n",
       "[ 2,  -7,  -6,  -9, -1],\n",
       "[ 0, -36, -28, -20, 16],\n",
       "[ 2, -34, -27, -24, 11]])"
      ]
     },
     "metadata": {},
     "output_type": "display_data"
    },
    {
     "data": {
      "text/markdown": [
       "#### Решение $Ax = b$:"
      ],
      "text/plain": [
       "<IPython.core.display.Markdown object>"
      ]
     },
     "metadata": {},
     "output_type": "display_data"
    },
    {
     "data": {
      "text/latex": [
       "$\\displaystyle \\left\\{\\left( \\frac{5 \\tau_{0}}{18} + \\frac{23 \\tau_{1}}{9} - \\frac{37}{18}, \\  - \\frac{7 \\tau_{0}}{9} - \\frac{5 \\tau_{1}}{9} - \\frac{4}{9}, \\  \\tau_{0}, \\  \\tau_{1}\\right)\\right\\}$"
      ],
      "text/plain": [
       "FiniteSet((5*tau0/18 + 23*tau1/9 - 37/18, -7*tau0/9 - 5*tau1/9 - 4/9, tau0, tau1))"
      ]
     },
     "metadata": {},
     "output_type": "display_data"
    },
    {
     "data": {
      "text/markdown": [
       "#### Решение $Ax = 0$:"
      ],
      "text/plain": [
       "<IPython.core.display.Markdown object>"
      ]
     },
     "metadata": {},
     "output_type": "display_data"
    },
    {
     "data": {
      "text/latex": [
       "$\\displaystyle \\left\\{\\left( \\frac{5 \\tau_{0}}{18} + \\frac{23 \\tau_{1}}{9}, \\  - \\frac{7 \\tau_{0}}{9} - \\frac{5 \\tau_{1}}{9}, \\  \\tau_{0}, \\  \\tau_{1}\\right)\\right\\}$"
      ],
      "text/plain": [
       "FiniteSet((5*tau0/18 + 23*tau1/9, -7*tau0/9 - 5*tau1/9, tau0, tau1))"
      ]
     },
     "metadata": {},
     "output_type": "display_data"
    }
   ],
   "source": [
    "A = Matrix([\n",
    "    [-2, -2, -1, 4],\n",
    "    [2, -7, -6, -9],\n",
    "    [0, -36, -28, -20],\n",
    "    [2, -34, -27, -24]\n",
    "])\n",
    "\n",
    "b = Matrix([5, -1, 16, 11])\n",
    "\n",
    "Ab = A.row_join(b)\n",
    "\n",
    "display(\n",
    "    Markdown(\"#### Расширенная матрица системы:\"), Ab,\n",
    "    Markdown(\"#### Решение $Ax = b$:\"), linsolve(Ab),\n",
    "    Markdown(\"#### Решение $Ax = 0$:\"), linsolve((A, zeros(A.shape[0], 1)))\n",
    ")"
   ]
  },
  {
   "cell_type": "code",
   "execution_count": 136,
   "metadata": {},
   "outputs": [
    {
     "data": {
      "text/markdown": [
       "#### СЛАУ совместна?"
      ],
      "text/plain": [
       "<IPython.core.display.Markdown object>"
      ]
     },
     "metadata": {},
     "output_type": "display_data"
    },
    {
     "data": {
      "text/plain": [
       "True"
      ]
     },
     "metadata": {},
     "output_type": "display_data"
    },
    {
     "data": {
      "text/markdown": [
       "#### Решение единственно?"
      ],
      "text/plain": [
       "<IPython.core.display.Markdown object>"
      ]
     },
     "metadata": {},
     "output_type": "display_data"
    },
    {
     "data": {
      "text/plain": [
       "False"
      ]
     },
     "metadata": {},
     "output_type": "display_data"
    },
    {
     "data": {
      "text/markdown": [
       "#### У ОСЛАУ есть нетривиальные решения?"
      ],
      "text/plain": [
       "<IPython.core.display.Markdown object>"
      ]
     },
     "metadata": {},
     "output_type": "display_data"
    },
    {
     "data": {
      "text/plain": [
       "True"
      ]
     },
     "metadata": {},
     "output_type": "display_data"
    },
    {
     "data": {
      "text/markdown": [
       "#### Размерность пр-ва решений:"
      ],
      "text/plain": [
       "<IPython.core.display.Markdown object>"
      ]
     },
     "metadata": {},
     "output_type": "display_data"
    },
    {
     "data": {
      "text/plain": [
       "2"
      ]
     },
     "metadata": {},
     "output_type": "display_data"
    },
    {
     "data": {
      "text/markdown": [
       "#### ФСР:"
      ],
      "text/plain": [
       "<IPython.core.display.Markdown object>"
      ]
     },
     "metadata": {},
     "output_type": "display_data"
    },
    {
     "data": {
      "text/latex": [
       "$\\displaystyle \\left[\\begin{matrix}\\frac{5}{18}\\\\- \\frac{7}{9}\\\\1\\\\0\\end{matrix}\\right]$"
      ],
      "text/plain": [
       "Matrix([\n",
       "[5/18],\n",
       "[-7/9],\n",
       "[   1],\n",
       "[   0]])"
      ]
     },
     "metadata": {},
     "output_type": "display_data"
    },
    {
     "data": {
      "text/latex": [
       "$\\displaystyle \\left[\\begin{matrix}\\frac{23}{9}\\\\- \\frac{5}{9}\\\\0\\\\1\\end{matrix}\\right]$"
      ],
      "text/plain": [
       "Matrix([\n",
       "[23/9],\n",
       "[-5/9],\n",
       "[   0],\n",
       "[   1]])"
      ]
     },
     "metadata": {},
     "output_type": "display_data"
    },
    {
     "data": {
      "text/markdown": [
       "#### Общее решение ОСЛАУ:"
      ],
      "text/plain": [
       "<IPython.core.display.Markdown object>"
      ]
     },
     "metadata": {},
     "output_type": "display_data"
    },
    {
     "data": {
      "text/latex": [
       "$\\displaystyle \\left[\\begin{matrix}\\frac{5 \\alpha_{1}}{18} + \\frac{23 \\alpha_{2}}{9}\\\\- \\frac{7 \\alpha_{1}}{9} - \\frac{5 \\alpha_{2}}{9}\\\\\\alpha_{1}\\\\\\alpha_{2}\\end{matrix}\\right]$"
      ],
      "text/plain": [
       "Matrix([\n",
       "[5*alpha1/18 + 23*alpha2/9],\n",
       "[ -7*alpha1/9 - 5*alpha2/9],\n",
       "[                   alpha1],\n",
       "[                   alpha2]])"
      ]
     },
     "metadata": {},
     "output_type": "display_data"
    }
   ],
   "source": [
    "display(Markdown(\"#### СЛАУ совместна?\"), A.rank() == Ab.rank())\n",
    "display(Markdown(\"#### Решение единственно?\"), A.rank() == A.shape[1])\n",
    "display(Markdown(\"#### У ОСЛАУ есть нетривиальные решения?\"), A.rank() < A.shape[1])\n",
    "display(Markdown(\"#### Размерность пр-ва решений:\"), A.shape[1] - A.rank())\n",
    "display(Markdown(\"#### ФСР:\"),  *A.nullspace())\n",
    "\n",
    "m = A.shape[1]\n",
    "x = symbols(f'x1:{m + 1}')\n",
    "X = zeros(m, 1)\n",
    "\n",
    "for i, vect in enumerate(A.nullspace()):\n",
    "    X += vect*Symbol(f'alpha{i + 1}')\n",
    "\n",
    "display(Markdown(\"#### Общее решение ОСЛАУ:\"), X)"
   ]
  }
 ],
 "metadata": {
  "kernelspec": {
   "display_name": "Python 3",
   "language": "python",
   "name": "python3"
  },
  "language_info": {
   "codemirror_mode": {
    "name": "ipython",
    "version": 3
   },
   "file_extension": ".py",
   "mimetype": "text/x-python",
   "name": "python",
   "nbconvert_exporter": "python",
   "pygments_lexer": "ipython3",
   "version": "3.9.0"
  }
 },
 "nbformat": 4,
 "nbformat_minor": 2
}
