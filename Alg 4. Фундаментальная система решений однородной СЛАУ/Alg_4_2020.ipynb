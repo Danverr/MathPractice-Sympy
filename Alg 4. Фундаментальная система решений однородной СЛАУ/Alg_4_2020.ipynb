{
 "cells": [
  {
   "cell_type": "markdown",
   "metadata": {},
   "source": [
    "# Занятие 4\n",
    "# Алгебра\n",
    "## Фундаментальная система решений однородной СЛАУ"
   ]
  },
  {
   "cell_type": "markdown",
   "metadata": {},
   "source": [
    "https://docs.sympy.org/latest/modules/solvers/solveset.html#sympy.solvers.solveset.linsolve"
   ]
  },
  {
   "cell_type": "code",
   "execution_count": 1,
   "metadata": {},
   "outputs": [],
   "source": [
    "import sympy\n",
    "from sympy import linsolve, Matrix, S, Symbol, symbols, Eq, linear_eq_to_matrix, zeros"
   ]
  },
  {
   "cell_type": "markdown",
   "metadata": {},
   "source": [
    "### Ранг матрицы\n",
    "Рангом ненулевой матрицы называется максимальный порядок ненулевых миноров этой матрицы.\n",
    "\n",
    "Альтернативное определение ранга - максимальное число линейно независимых столбцов (или строк) матрицы.\n",
    "\n",
    "У объектов класса Matrix есть метод rank(), вычисляющий ранг матрицы.\n",
    "### Пример 1.\n",
    "Найти ранг матрицы\n",
    "$$\n",
    "A=\\left(\n",
    "\\begin{matrix}\n",
    "2&3&5&8\\\\\n",
    "3&-2&1&-1\\\\\n",
    "5&1&6&7\n",
    "\\end{matrix}\n",
    "\\right)\n",
    "$$"
   ]
  },
  {
   "cell_type": "code",
   "execution_count": 2,
   "metadata": {},
   "outputs": [
    {
     "data": {
      "text/plain": [
       "2"
      ]
     },
     "execution_count": 2,
     "metadata": {},
     "output_type": "execute_result"
    }
   ],
   "source": [
    "A = Matrix([[2, 3, 5, 8], [3, -2, 1, -1], [5, 1, 6, 7]])\n",
    "A.rank()"
   ]
  },
  {
   "cell_type": "markdown",
   "metadata": {},
   "source": [
    "### Теорема Кронекера-Капелли\n",
    "СЛАУ совместна тогда и только тогда, когда ранг матрицы левой части равен рангу расширенной матрицы СЛАУ.\n",
    "### Пример 2\n",
    "С помощью ранга определить совместность СЛАУ:\n",
    "$$\n",
    "\\left\\{\n",
    "\\begin{matrix}\n",
    "2x_1 + 3x_2 - x_3 + x_4 = 5\\\\\n",
    "3x_1 - 2x_2 + x_3 + 4x_4 = 2\\\\\n",
    "x_1 - 5x_2 + 2x_3 + 3x_4 = -3\n",
    "\\end{matrix}\n",
    "\\right.\n",
    "$$\n",
    "Запишем СЛАУ в матричном виде, составим расширенную матрицу путем присоединения столбца правой части к матрице левой части.\n",
    "Сравним ранги матриц."
   ]
  },
  {
   "cell_type": "code",
   "execution_count": 3,
   "metadata": {},
   "outputs": [
    {
     "data": {
      "text/plain": [
       "True"
      ]
     },
     "execution_count": 3,
     "metadata": {},
     "output_type": "execute_result"
    }
   ],
   "source": [
    "A = Matrix([[2, 3, -1, 1], [3, -2, 1, 4], [1, -5, 2, 3]])\n",
    "b = Matrix([5, 2, -3])\n",
    "A.rank() == A.row_join(b).rank()"
   ]
  },
  {
   "cell_type": "markdown",
   "metadata": {},
   "source": [
    "Равенство рангов означает совместность данной СЛАУ.\n",
    "### Теорема \n",
    "СЛАУ $AX = b$ с $n$ переменными имеет единственное решение тогда и только тогда, когда $rg A = rg B = n$.\n",
    "\n",
    "Здесь $B$ - расширенная матрица СЛАУ, полученная присоединение к $A$ справа столбца $b$.\n",
    "### Пример 3\n",
    "Определить какие из перечисленных СЛАУ имеют единственное решение:\n",
    "$$\n",
    "a)\\ \n",
    "\\left\\{\n",
    "\\begin{matrix}\n",
    "2x_1 + 3x_2 - x_3 + x_4 = 11\\\\\n",
    "3x_1 - 2x_2 + x_3 + 4x_4 = 6\\\\\n",
    "x_1 - 5x_2 + 2x_3 + 3x_4 = -5\\\\\n",
    "-x_1 + x_2 + 2x_3 - x_4 = -7\n",
    "\\end{matrix}\n",
    "\\right.\n",
    "\\qquad b)\\ \n",
    "\\left\\{\n",
    "\\begin{matrix}\n",
    "2x_1 + 3x_2 - x_3 = 5\\\\\n",
    "3x_1 - 2x_2 + x_3  = 2\\\\\n",
    "x_1 - 5x_2 + 2x_3 = -3\n",
    "\\end{matrix}\n",
    "\\right.\n",
    "\\qquad c)\\ \n",
    "\\left\\{\n",
    "\\begin{matrix}\n",
    "2x_1 + 3x_2 - x_3 = 5\\\\\n",
    "x_1 - 2x_2 + x_3 = 2\\\\\n",
    "x_1 - 5x_2 + 2x_3 = -3\n",
    "\\end{matrix}\n",
    "\\right.\n",
    "$$\n",
    "Запишем все СЛАУ в виде расширенной матрицы.\n",
    "Сравним ранги матриц. Пользуемся срезами slice и отрицательной нумерацией для выделения матрицы левой части."
   ]
  },
  {
   "cell_type": "code",
   "execution_count": 4,
   "metadata": {},
   "outputs": [
    {
     "data": {
      "text/latex": [
       "$\\displaystyle \\left[\\begin{matrix}2 & 3 & -1 & 1 & 11\\\\-1 & -2 & 1 & 4 & 6\\\\1 & -5 & 2 & 3 & -5\\\\-1 & 1 & 2 & -1 & -7\\end{matrix}\\right]$"
      ],
      "text/plain": [
       "Matrix([\n",
       "[ 2,  3, -1,  1, 11],\n",
       "[-1, -2,  1,  4,  6],\n",
       "[ 1, -5,  2,  3, -5],\n",
       "[-1,  1,  2, -1, -7]])"
      ]
     },
     "metadata": {},
     "output_type": "display_data"
    },
    {
     "data": {
      "text/latex": [
       "$\\displaystyle \\left[\\begin{matrix}2 & 3 & -1 & 5\\\\1 & -2 & 1 & 2\\\\1 & -5 & 2 & -3\\end{matrix}\\right]$"
      ],
      "text/plain": [
       "Matrix([\n",
       "[2,  3, -1,  5],\n",
       "[1, -2,  1,  2],\n",
       "[1, -5,  2, -3]])"
      ]
     },
     "metadata": {},
     "output_type": "display_data"
    }
   ],
   "source": [
    "B_a = Matrix([[2, 3, -1, 1, 11], [-1, -2, 1, 4, 6], [1, -5, 2, 3, -5], [-1, 1, 2, -1, -7]])\n",
    "B_b = Matrix([[2, 3, -1, 5], [3, -2, 1, 2], [1, -5, 2, -3]])\n",
    "B_c = Matrix([[2, 3, -1, 5], [1, -2, 1, 2], [1, -5, 2, -3]])\n",
    "for B in [B_a, B_b, B_c]:\n",
    "    rgA = B[:, :-1].rank()\n",
    "    n, m = B[:, :-1].shape # m -число столбцов, m равно числу переменных\n",
    "    if rgA == B.rank() and rgA == m:\n",
    "        display(B)"
   ]
  },
  {
   "cell_type": "markdown",
   "metadata": {},
   "source": [
    "### Однородная СЛАУ\n",
    "СЛАУ вида  $AX = \\bar 0$, где $\\bar 0$ - нулевой вектор.\n",
    "\n",
    "Однородная СЛАУ всегда совместна, она имеет по крайней мере одно решение - нулевой вектор.\n",
    "### Теорема \n",
    "Однородная СЛАУ с $n$ переменными имеет нетривиальное решение тогда и только тогда, когда $rg A < n$.\n",
    "### Пример 3\n",
    "Определить какие из перечисленных однородных СЛАУ имеют нетривиальное решение:\n",
    "$$\n",
    "a)\\ \n",
    "\\left\\{\n",
    "\\begin{matrix}\n",
    "x_1 + 2x_2 - 3x_3 + x_4 = 0\\\\\n",
    "x_1 - 2x_2 + x_3 + 3x_4 = 0\\\\\n",
    "x_1 - 5x_2 + 2x_3 + 3x_4 = 0\\\\\n",
    "-x_1 + x_2 + 2x_3 - x_4 = 0\n",
    "\\end{matrix}\n",
    "\\right.\n",
    "\\qquad b)\\ \n",
    "\\left\\{\n",
    "\\begin{matrix}\n",
    "2x_1 + x_2 - x_3 = 0\\\\\n",
    "-x_1 + 2x_2 + x_3  = 0\\\\\n",
    "-2x_1 - x_2 + 2x_3 = 0\n",
    "\\end{matrix}\n",
    "\\right.\n",
    "\\qquad c)\\ \n",
    "\\left\\{\n",
    "\\begin{matrix}\n",
    "2x_1 + 3x_2 - x_3 = 0\\\\\n",
    "3x_1 - 2x_2 + 2x_3 = 0\\\\\n",
    "5x_1 + x_2 + x_3 = 0\n",
    "\\end{matrix}\n",
    "\\right.\n",
    "$$\n",
    "Сравним ранги матриц СЛАУ с их размерностями.\n",
    "## enumerate\n",
    "Изучим удобное средство для перебора элементов в списке с одновременным обращением по индексу.\n",
    "Удобно использовать enumerate в цикле for. \n",
    "#### for i, item in enumerate(my_list):\n",
    "позволяет для каждого элемента списка получить доступ как к самому элементу, так и к его номеру в списке.\n",
    "\n",
    "Будем перебирать в цикле матрицы СЛАУ, а выводить на экран номер СЛАУ (a, b или c)."
   ]
  },
  {
   "cell_type": "code",
   "execution_count": 5,
   "metadata": {},
   "outputs": [
    {
     "data": {
      "text/plain": [
       "'a'"
      ]
     },
     "metadata": {},
     "output_type": "display_data"
    },
    {
     "data": {
      "text/plain": [
       "'c'"
      ]
     },
     "metadata": {},
     "output_type": "display_data"
    }
   ],
   "source": [
    "A_a = Matrix([[1, 2, -3, 1], [1, -2, 1, 3], [1, -5, 2, 3], [-1, 1, 2, -1]])\n",
    "A_b = Matrix([[2, 1, -1], [-1, 2, 1], [-2, -1, 2]])\n",
    "A_c = Matrix([[2, 3, -1], [3, -2, 2], [5, 1, 1]])\n",
    "number = ['a', 'b', 'c']\n",
    "for i, A in enumerate([A_a, A_b, A_c]):\n",
    "    if A.rank() < A.shape[1]:\n",
    "        display(number[i])"
   ]
  },
  {
   "cell_type": "markdown",
   "metadata": {},
   "source": [
    "### Теорема \n",
    "Однородная СЛАУ квадратной матрицей имеет нетривиальное решение тогда и только тогда, когда определитель этой матрицы равен нулю.\n",
    "### Пример 4\n",
    "Проверить утверждение теоремы на матрицах СЛАУ из Примера 3. Вычислить определитель матрицы однородной СЛАУ и решить СЛАУ с помощью linsolve.\n",
    "\n",
    "Будем использовать zeros(n, 1) для построения нулевого вектора.\n",
    "\n",
    "Поскольку в каждой СЛАУ разное число переменных, то для подстановки в linsolve переменных будем создавать их столько, сколько нужно в каждой СЛАУ. При нумерации переменных с единицы последний номер будет равен размерности матрицы, но в диапазоне нужно указать на единицу больше, чтобы последний символ был создан. Обозначим $n$ размерность матрицы $A$, преобразуем $n + 1$ в строку, чтобы использовать при создании символов."
   ]
  },
  {
   "cell_type": "code",
   "execution_count": 6,
   "metadata": {},
   "outputs": [
    {
     "data": {
      "text/plain": [
       "'a'"
      ]
     },
     "metadata": {},
     "output_type": "display_data"
    },
    {
     "data": {
      "text/latex": [
       "$\\displaystyle 0$"
      ],
      "text/plain": [
       "0"
      ]
     },
     "metadata": {},
     "output_type": "display_data"
    },
    {
     "data": {
      "text/latex": [
       "$\\displaystyle \\left\\{\\left( - \\frac{11 x_{4}}{4}, \\  - \\frac{x_{4}}{4}, \\  - \\frac{3 x_{4}}{4}, \\  x_{4}\\right)\\right\\}$"
      ],
      "text/plain": [
       "FiniteSet((-11*x4/4, -x4/4, -3*x4/4, x4))"
      ]
     },
     "metadata": {},
     "output_type": "display_data"
    },
    {
     "data": {
      "text/plain": [
       "'b'"
      ]
     },
     "metadata": {},
     "output_type": "display_data"
    },
    {
     "data": {
      "text/latex": [
       "$\\displaystyle 5$"
      ],
      "text/plain": [
       "5"
      ]
     },
     "metadata": {},
     "output_type": "display_data"
    },
    {
     "data": {
      "text/latex": [
       "$\\displaystyle \\left\\{\\left( 0, \\  0, \\  0\\right)\\right\\}$"
      ],
      "text/plain": [
       "FiniteSet((0, 0, 0))"
      ]
     },
     "metadata": {},
     "output_type": "display_data"
    },
    {
     "data": {
      "text/plain": [
       "'c'"
      ]
     },
     "metadata": {},
     "output_type": "display_data"
    },
    {
     "data": {
      "text/latex": [
       "$\\displaystyle 0$"
      ],
      "text/plain": [
       "0"
      ]
     },
     "metadata": {},
     "output_type": "display_data"
    },
    {
     "data": {
      "text/latex": [
       "$\\displaystyle \\left\\{\\left( - \\frac{4 x_{3}}{13}, \\  \\frac{7 x_{3}}{13}, \\  x_{3}\\right)\\right\\}$"
      ],
      "text/plain": [
       "FiniteSet((-4*x3/13, 7*x3/13, x3))"
      ]
     },
     "metadata": {},
     "output_type": "display_data"
    }
   ],
   "source": [
    "for i, A in enumerate([A_a, A_b, A_c]):\n",
    "    n, m = A.shape\n",
    "    display(number[i], A.det(), linsolve((A, zeros(n, 1)), symbols('x1:' + str(n + 1))))"
   ]
  },
  {
   "cell_type": "markdown",
   "metadata": {},
   "source": [
    "###  Линейное подпространство решений однородной СЛАУ\n",
    "### Теорема\n",
    "Множество всех решений однородной СЛАУ $AX = \\bar 0$ с $n$ переменными является линейным подпространством арифметического пространства $R^n$.\n",
    "### Фундаментальная система решений (ФСР) однородной СЛАУ\n",
    "это произвольный базис подпространства решений СЛАУ.\n",
    "### Теорема\n",
    "Размерность подпространства решений однородной СЛАУ $AX = \\bar 0$ с $n$ переменными равна $n - r$, где $r = rg(A)$.\n",
    "### Общее решение  однородной СЛАУ\n",
    "Любое решение $X$ однородной СЛАУ выражается как линейная комбинация векторов ФСР этой СЛАУ:\n",
    "$$\n",
    "X = \\alpha_1 e_1 + \\alpha_2 e_2 + ... + \\alpha_m e_m, \n",
    "$$\n",
    "где $e_1, e_2, ..., e_m$ - векторы ФСР.\n",
    "\n",
    "## nullspace\n",
    "Метод nullspace позволяет построить ФСР однородной СЛАУ с матрицей $AX = \\bar 0$.\n",
    "https://docs.sympy.org/latest/modules/matrices/matrices.html?highlight=nullspace#sympy.matrices.matrices.MatrixSubspaces.nullspace\n",
    "Метод nullspace возвращает список векторов ФСР.\n",
    "### Пример 5\n",
    "Построить ФСР однородной СЛАУ 4-го порядка из Примера 3 а.\n",
    "Для удобства скопируем матрицу СЛАУ. Для красивого представления ФСР на экране воспользуемся display и распакуем список с помощью *."
   ]
  },
  {
   "cell_type": "code",
   "execution_count": 7,
   "metadata": {},
   "outputs": [
    {
     "data": {
      "text/latex": [
       "$\\displaystyle \\left[\\begin{matrix}- \\frac{11}{4}\\\\- \\frac{1}{4}\\\\- \\frac{3}{4}\\\\1\\end{matrix}\\right]$"
      ],
      "text/plain": [
       "Matrix([\n",
       "[-11/4],\n",
       "[ -1/4],\n",
       "[ -3/4],\n",
       "[    1]])"
      ]
     },
     "metadata": {},
     "output_type": "display_data"
    }
   ],
   "source": [
    "A5 = Matrix([[1, 2, -3, 1], [1, -2, 1, 3], [1, -5, 2, 3], [-1, 1, 2, -1]])\n",
    "display(*A5.nullspace())"
   ]
  },
  {
   "cell_type": "markdown",
   "metadata": {},
   "source": [
    "ФСР данной СЛАУ состоит из одного вектора.\n",
    "### Пример 6\n",
    "Построим ФСР однородной СЛАУ, состоящей из первых двух уравнений СЛАУ из Примера 5."
   ]
  },
  {
   "cell_type": "code",
   "execution_count": 8,
   "metadata": {},
   "outputs": [
    {
     "data": {
      "text/latex": [
       "$\\displaystyle \\left[\\begin{matrix}1\\\\1\\\\1\\\\0\\end{matrix}\\right]$"
      ],
      "text/plain": [
       "Matrix([\n",
       "[1],\n",
       "[1],\n",
       "[1],\n",
       "[0]])"
      ]
     },
     "metadata": {},
     "output_type": "display_data"
    },
    {
     "data": {
      "text/latex": [
       "$\\displaystyle \\left[\\begin{matrix}-2\\\\\\frac{1}{2}\\\\0\\\\1\\end{matrix}\\right]$"
      ],
      "text/plain": [
       "Matrix([\n",
       "[ -2],\n",
       "[1/2],\n",
       "[  0],\n",
       "[  1]])"
      ]
     },
     "metadata": {},
     "output_type": "display_data"
    },
    {
     "data": {
      "text/plain": [
       "2"
      ]
     },
     "execution_count": 8,
     "metadata": {},
     "output_type": "execute_result"
    }
   ],
   "source": [
    "A6 = A5[:2, :]\n",
    "display(*A6.nullspace())\n",
    "A6.rank()"
   ]
  },
  {
   "cell_type": "markdown",
   "metadata": {},
   "source": [
    "### Пример 7\n",
    "Построим на основе ФСР однородной СЛАУ примера 6 общее решение СЛАУ. Решим СЛАУ с помощью linsolve и сравним результаты."
   ]
  },
  {
   "cell_type": "code",
   "execution_count": 9,
   "metadata": {},
   "outputs": [
    {
     "name": "stdout",
     "output_type": "stream",
     "text": [
      "4\n"
     ]
    },
    {
     "data": {
      "text/latex": [
       "$\\displaystyle \\left[\\begin{matrix}\\alpha_{1} - 2 \\alpha_{2}\\\\\\alpha_{1} + \\frac{\\alpha_{2}}{2}\\\\\\alpha_{1}\\\\\\alpha_{2}\\end{matrix}\\right]$"
      ],
      "text/plain": [
       "Matrix([\n",
       "[alpha1 - 2*alpha2],\n",
       "[alpha1 + alpha2/2],\n",
       "[           alpha1],\n",
       "[           alpha2]])"
      ]
     },
     "metadata": {},
     "output_type": "display_data"
    },
    {
     "data": {
      "text/latex": [
       "$\\displaystyle \\left[\\begin{matrix}1 & 2 & -3 & 1\\\\1 & -2 & 1 & 3\\end{matrix}\\right]$"
      ],
      "text/plain": [
       "Matrix([\n",
       "[1,  2, -3, 1],\n",
       "[1, -2,  1, 3]])"
      ]
     },
     "metadata": {},
     "output_type": "display_data"
    },
    {
     "data": {
      "text/latex": [
       "$\\displaystyle \\left\\{\\left( x_{3} - 2 x_{4}, \\  x_{3} + \\frac{x_{4}}{2}, \\  x_{3}, \\  x_{4}\\right)\\right\\}$"
      ],
      "text/plain": [
       "FiniteSet((x3 - 2*x4, x3 + x4/2, x3, x4))"
      ]
     },
     "metadata": {},
     "output_type": "display_data"
    }
   ],
   "source": [
    "A6_ns = A6.nullspace()\n",
    "n, m = A6.shape\n",
    "print(m)\n",
    "x = symbols('x1:' + str(m + 1))\n",
    "zero_vect = zeros(m, 1)\n",
    "X = zero_vect\n",
    "for i, vect in enumerate(A6.nullspace()):\n",
    "    X += vect*Symbol('alpha'+str(i + 1))\n",
    "display(X, A6, linsolve((A6, zeros(n, 1)), x))    "
   ]
  },
  {
   "cell_type": "markdown",
   "metadata": {},
   "source": [
    "Общее решение отличается от результата linsolve только именами переменных. \n",
    "\n",
    "Заметим, что ФСР у любой СЛАУ с ненулевой матрицей бесконечное число. \n",
    "\n",
    "### Для красивого вывода на экран\n",
    "можно создать вспомогательный символ Х и составить уравнение Eq, заодно преобразовав множество решений в матрицу из одного столбца.\n",
    "\n",
    "Заметим, что в случае, если множество состоит из более чем одного элемента, нужны дополнительные действия для поэлементного преобразования в матрицу."
   ]
  },
  {
   "cell_type": "code",
   "execution_count": 10,
   "metadata": {},
   "outputs": [
    {
     "data": {
      "text/latex": [
       "$\\displaystyle X = \\left[\\begin{matrix}x_{3} - 2 x_{4}\\\\x_{3} + \\frac{x_{4}}{2}\\\\x_{3}\\\\x_{4}\\end{matrix}\\right]$"
      ],
      "text/plain": [
       "Eq(X, Matrix([\n",
       "[x3 - 2*x4],\n",
       "[x3 + x4/2],\n",
       "[       x3],\n",
       "[       x4]]))"
      ]
     },
     "metadata": {},
     "output_type": "display_data"
    }
   ],
   "source": [
    "display(Eq(Symbol('X'), Matrix(*linsolve((A6, zeros(n, 1)), x)), evaluate=False))"
   ]
  }
 ],
 "metadata": {
  "kernelspec": {
   "display_name": "Python 3",
   "language": "python",
   "name": "python3"
  },
  "language_info": {
   "codemirror_mode": {
    "name": "ipython",
    "version": 3
   },
   "file_extension": ".py",
   "mimetype": "text/x-python",
   "name": "python",
   "nbconvert_exporter": "python",
   "pygments_lexer": "ipython3",
   "version": "3.9.0"
  }
 },
 "nbformat": 4,
 "nbformat_minor": 2
}
