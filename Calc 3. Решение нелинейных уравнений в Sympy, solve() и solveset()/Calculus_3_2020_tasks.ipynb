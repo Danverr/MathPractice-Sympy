{
 "cells": [
  {
   "cell_type": "markdown",
   "metadata": {},
   "source": [
    "## Занятие 3\n",
    "## Математический анализ\n",
    "## Решение нелинейных уравнений в Sympy. Solve и solveset.\n",
    "https://docs.sympy.org/latest/modules/solvers/solveset.html"
   ]
  },
  {
   "cell_type": "code",
   "execution_count": 181,
   "metadata": {},
   "outputs": [],
   "source": [
    "from IPython.display import Markdown\n",
    "from sympy import Symbol, symbols, S, solve, solveset, Intersection, Interval, EmptySet, Union, Eq, plot\n",
    "import sympy\n",
    "# Продолжим использовать магию\n",
    "%matplotlib inline"
   ]
  },
  {
   "cell_type": "code",
   "execution_count": 39,
   "metadata": {},
   "outputs": [],
   "source": [
    "x,y = symbols(\"x y\")"
   ]
  },
  {
   "cell_type": "markdown",
   "metadata": {},
   "source": [
    "### Задание 1\n",
    "Решить уравнение $6x^4 + 9x^3 - 99x^2 - 66x + 360 = 0$ с помощью solve и solveset."
   ]
  },
  {
   "cell_type": "code",
   "execution_count": 21,
   "metadata": {},
   "outputs": [
    {
     "data": {
      "text/plain": [
       "[-4, -5/2, 2, 3]"
      ]
     },
     "metadata": {},
     "output_type": "display_data"
    },
    {
     "data": {
      "text/latex": [
       "$\\displaystyle \\left\\{-4, - \\frac{5}{2}, 2, 3\\right\\}$"
      ],
      "text/plain": [
       "FiniteSet(-4, -5/2, 2, 3)"
      ]
     },
     "metadata": {},
     "output_type": "display_data"
    }
   ],
   "source": [
    "display(   solve(6*x**4 + 9*x**3 - 99*x**2 - 66*x + 360))\n",
    "display(solveset(6*x**4 + 9*x**3 - 99*x**2 - 66*x + 360))"
   ]
  },
  {
   "cell_type": "markdown",
   "metadata": {},
   "source": [
    "### Задание 2.\n",
    "Найти только вещественные решения уравнения $12x^8 + 32x^6 + 21x^4 - 2x^2 - 3 = 0$."
   ]
  },
  {
   "cell_type": "code",
   "execution_count": 6,
   "metadata": {},
   "outputs": [
    {
     "data": {
      "text/latex": [
       "$\\displaystyle \\left\\{- \\frac{\\sqrt{3}}{3}, \\frac{\\sqrt{3}}{3}\\right\\}$"
      ],
      "text/plain": [
       "FiniteSet(-sqrt(3)/3, sqrt(3)/3)"
      ]
     },
     "execution_count": 6,
     "metadata": {},
     "output_type": "execute_result"
    }
   ],
   "source": [
    "solveset(12*x**8 + 32*x**6 + 21*x**4 - 2*x**2 - 3, domain=S.Reals)"
   ]
  },
  {
   "cell_type": "markdown",
   "metadata": {},
   "source": [
    "### Задание 3.\n",
    "Решить уравнение $\\log_2(\\sin(x))=-1$. "
   ]
  },
  {
   "cell_type": "code",
   "execution_count": 12,
   "metadata": {},
   "outputs": [
    {
     "data": {
      "text/latex": [
       "$\\displaystyle \\left\\{2 n \\pi + \\frac{5 \\pi}{6}\\; |\\; n \\in \\mathbb{Z}\\right\\} \\cup \\left\\{2 n \\pi + \\frac{\\pi}{6}\\; |\\; n \\in \\mathbb{Z}\\right\\}$"
      ],
      "text/plain": [
       "Union(ImageSet(Lambda(_n, 2*_n*pi + 5*pi/6), Integers), ImageSet(Lambda(_n, 2*_n*pi + pi/6), Integers))"
      ]
     },
     "execution_count": 12,
     "metadata": {},
     "output_type": "execute_result"
    }
   ],
   "source": [
    "solveset(sympy.log(sympy.sin(x), 2) + 1)"
   ]
  },
  {
   "cell_type": "markdown",
   "metadata": {},
   "source": [
    "### Задание 4.\n",
    "Найдем решения уравнения $2{\\rm tg}^2(x) - 3{\\rm tg}(x) - 5 = 0$ на открытом интервале  $(-5\\pi/4, 11\\pi/4)$. "
   ]
  },
  {
   "cell_type": "code",
   "execution_count": 28,
   "metadata": {},
   "outputs": [
    {
     "data": {
      "text/latex": [
       "$\\displaystyle \\left\\{- \\frac{\\pi}{4}, \\frac{3 \\pi}{4}, \\frac{7 \\pi}{4}, - \\pi + \\operatorname{atan}{\\left(\\frac{5}{2} \\right)}, \\operatorname{atan}{\\left(\\frac{5}{2} \\right)} + \\pi, \\operatorname{atan}{\\left(\\frac{5}{2} \\right)} + 2 \\pi, \\operatorname{atan}{\\left(\\frac{5}{2} \\right)}\\right\\}$"
      ],
      "text/plain": [
       "FiniteSet(atan(5/2), -pi/4, 3*pi/4, 7*pi/4, atan(5/2) + pi, -pi + atan(5/2), atan(5/2) + 2*pi)"
      ]
     },
     "execution_count": 28,
     "metadata": {},
     "output_type": "execute_result"
    }
   ],
   "source": [
    "Intersection(solveset(2*sympy.tan(x)**2 - 3*sympy.tan(x) - 5), Interval.open(-5*sympy.pi/4, 11*sympy.pi/4))"
   ]
  },
  {
   "cell_type": "code",
   "execution_count": 124,
   "metadata": {},
   "outputs": [
    {
     "data": {
      "text/markdown": [
       "#### Решение $2y^2 - 3y - 5 = 0$"
      ],
      "text/plain": [
       "<IPython.core.display.Markdown object>"
      ]
     },
     "metadata": {},
     "output_type": "display_data"
    },
    {
     "data": {
      "text/latex": [
       "$\\displaystyle \\left\\{-1, \\frac{5}{2}\\right\\}$"
      ],
      "text/plain": [
       "FiniteSet(-1, 5/2)"
      ]
     },
     "metadata": {},
     "output_type": "display_data"
    },
    {
     "data": {
      "text/markdown": [
       "#### Решение $tg(x) = y$"
      ],
      "text/plain": [
       "<IPython.core.display.Markdown object>"
      ]
     },
     "metadata": {},
     "output_type": "display_data"
    },
    {
     "data": {
      "text/latex": [
       "$\\displaystyle \\left\\{2 n \\pi + \\operatorname{atan}{\\left(\\frac{5}{2} \\right)}\\; |\\; n \\in \\mathbb{Z}\\right\\} \\cup \\left\\{2 n \\pi + \\frac{3 \\pi}{4}\\; |\\; n \\in \\mathbb{Z}\\right\\} \\cup \\left\\{2 n \\pi + \\frac{7 \\pi}{4}\\; |\\; n \\in \\mathbb{Z}\\right\\} \\cup \\left\\{2 n \\pi + \\operatorname{atan}{\\left(\\frac{5}{2} \\right)} + \\pi\\; |\\; n \\in \\mathbb{Z}\\right\\}$"
      ],
      "text/plain": [
       "Union(ImageSet(Lambda(_n, 2*_n*pi + 3*pi/4), Integers), ImageSet(Lambda(_n, 2*_n*pi + 7*pi/4), Integers), ImageSet(Lambda(_n, 2*_n*pi + atan(5/2) + pi), Integers), ImageSet(Lambda(_n, 2*_n*pi + atan(5/2)), Integers))"
      ]
     },
     "metadata": {},
     "output_type": "display_data"
    },
    {
     "data": {
      "text/markdown": [
       "#### Итоговое решение"
      ],
      "text/plain": [
       "<IPython.core.display.Markdown object>"
      ]
     },
     "metadata": {},
     "output_type": "display_data"
    },
    {
     "data": {
      "text/latex": [
       "$\\displaystyle \\left\\{- \\frac{\\pi}{4}, \\frac{3 \\pi}{4}, \\frac{7 \\pi}{4}, - \\pi + \\operatorname{atan}{\\left(\\frac{5}{2} \\right)}, \\operatorname{atan}{\\left(\\frac{5}{2} \\right)} + \\pi, \\operatorname{atan}{\\left(\\frac{5}{2} \\right)} + 2 \\pi, \\operatorname{atan}{\\left(\\frac{5}{2} \\right)}\\right\\}$"
      ],
      "text/plain": [
       "FiniteSet(atan(5/2), -pi/4, 3*pi/4, 7*pi/4, atan(5/2) + pi, -pi + atan(5/2), atan(5/2) + 2*pi)"
      ]
     },
     "metadata": {},
     "output_type": "display_data"
    }
   ],
   "source": [
    "sol_y = solveset(2*y**2 - 3*y - 5)\n",
    "display(Markdown(\"#### Решение $2y^2 - 3y - 5 = 0$\"), sol_y)\n",
    "\n",
    "sol_x = Union(*[solveset(sympy.tan(x) - s) for s in sol_y])\n",
    "display(Markdown(\"#### Решение $tg(x) = y$\"), sol_x)\n",
    "\n",
    "sol = Intersection(sol_x, Interval.open(-5*sympy.pi/4, 11*sympy.pi/4))\n",
    "display(Markdown(\"#### Итоговое решение\"), sol)"
   ]
  },
  {
   "cell_type": "markdown",
   "metadata": {},
   "source": [
    "### Задание 5.\n",
    "Найти область определения функции $\\sqrt{\\sin^2 x - 1}$."
   ]
  },
  {
   "cell_type": "markdown",
   "metadata": {},
   "source": [
    "---\n",
    "Т.к. подкоренное должно быть больше нуля:\n",
    "\n",
    "$\\sin^2 x - 1 \\geqslant 0$\n",
    "\n",
    "$\\sin^2 x \\geqslant 1$\n",
    "\n",
    "Т.к. $0 \\geqslant \\sin^2 x \\geqslant 1$:\n",
    "\n",
    "$\\sin^2 x = 1$"
   ]
  },
  {
   "cell_type": "code",
   "execution_count": 179,
   "metadata": {},
   "outputs": [
    {
     "data": {
      "text/latex": [
       "$\\displaystyle \\left\\{2 n \\pi + \\frac{\\pi}{2}\\; |\\; n \\in \\mathbb{Z}\\right\\} \\cup \\left\\{2 n \\pi + \\frac{3 \\pi}{2}\\; |\\; n \\in \\mathbb{Z}\\right\\}$"
      ],
      "text/plain": [
       "Union(ImageSet(Lambda(_n, 2*_n*pi + pi/2), Integers), ImageSet(Lambda(_n, 2*_n*pi + 3*pi/2), Integers))"
      ]
     },
     "execution_count": 179,
     "metadata": {},
     "output_type": "execute_result"
    }
   ],
   "source": [
    "solveset(sympy.sin(x)**2 - 1)"
   ]
  },
  {
   "cell_type": "markdown",
   "metadata": {},
   "source": [
    "### Задание 6.\n",
    "Найти решение уравнения $\\frac{(x^3 + 5 x^2 - 3 x - 15)\\ln(x^2 - 3)}{x^2 - 3 x + 2} = 0$. Выполнить проверку подстановкой subs.\n",
    "#### Указание.\n",
    "Решение нужно разбить на части. Нужно учесть область определения выражения в левой части уравнения."
   ]
  },
  {
   "cell_type": "code",
   "execution_count": 122,
   "metadata": {},
   "outputs": [
    {
     "data": {
      "text/markdown": [
       "#### Решение ур-я в числителе:"
      ],
      "text/plain": [
       "<IPython.core.display.Markdown object>"
      ]
     },
     "metadata": {},
     "output_type": "display_data"
    },
    {
     "data": {
      "text/latex": [
       "$\\displaystyle \\left\\{-5, -2, 2\\right\\}$"
      ],
      "text/plain": [
       "FiniteSet(-5, -2, 2)"
      ]
     },
     "metadata": {},
     "output_type": "display_data"
    },
    {
     "data": {
      "text/markdown": [
       "#### Решение ур-я в знаменателе:"
      ],
      "text/plain": [
       "<IPython.core.display.Markdown object>"
      ]
     },
     "metadata": {},
     "output_type": "display_data"
    },
    {
     "data": {
      "text/latex": [
       "$\\displaystyle \\left\\{1, 2\\right\\}$"
      ],
      "text/plain": [
       "FiniteSet(1, 2)"
      ]
     },
     "metadata": {},
     "output_type": "display_data"
    },
    {
     "data": {
      "text/markdown": [
       "#### Итоговое решение:"
      ],
      "text/plain": [
       "<IPython.core.display.Markdown object>"
      ]
     },
     "metadata": {},
     "output_type": "display_data"
    },
    {
     "data": {
      "text/latex": [
       "$\\displaystyle \\left\\{-5, -2\\right\\}$"
      ],
      "text/plain": [
       "FiniteSet(-5, -2)"
      ]
     },
     "metadata": {},
     "output_type": "display_data"
    },
    {
     "data": {
      "text/markdown": [
       "#### Проверка:"
      ],
      "text/plain": [
       "<IPython.core.display.Markdown object>"
      ]
     },
     "metadata": {},
     "output_type": "display_data"
    },
    {
     "data": {
      "text/plain": [
       "[0, 0]"
      ]
     },
     "metadata": {},
     "output_type": "display_data"
    }
   ],
   "source": [
    "num = (x**3 + 5*x**2 - 3*x - 15) * sympy.ln(x**2 - 3)\n",
    "den = x**2  - 3*x + 2\n",
    "expr = num / den\n",
    "\n",
    "num_sol = solveset(num)\n",
    "den_sol = solveset(den)\n",
    "sol = num_sol - den_sol\n",
    "\n",
    "display(Markdown(\"#### Решение ур-я в числителе:\"), num_sol)\n",
    "display(Markdown(\"#### Решение ур-я в знаменателе:\"), den_sol)\n",
    "display(Markdown(\"#### Итоговое решение:\"), sol)\n",
    "\n",
    "display(Markdown(\"#### Проверка:\"))\n",
    "display([expr.subs(x, s) for s in sol])"
   ]
  },
  {
   "cell_type": "code",
   "execution_count": 180,
   "metadata": {},
   "outputs": [
    {
     "data": {
      "text/latex": [
       "$\\displaystyle \\left\\{-5, -2\\right\\}$"
      ],
      "text/plain": [
       "FiniteSet(-5, -2)"
      ]
     },
     "execution_count": 180,
     "metadata": {},
     "output_type": "execute_result"
    }
   ],
   "source": [
    "solveset(expr)"
   ]
  },
  {
   "cell_type": "markdown",
   "metadata": {},
   "source": [
    "### Индивидуальное задание (№ 11).\n",
    "Через все точки пересечения графиков функций $f(x)$ и $g(x)$ провести горизонтальные прямые. Изобразить на графике $f(x)$ зеленым цветом, $g(x)$ красным, горизонтальные линии черным. \n",
    "Формулы для $f(x)$ и $g(x)$ включить в легенду.\n",
    "\n",
    "\\begin{align*}\n",
    " f(x) = \\frac{\\left(x + 4\\right) \\left(x + 7\\right)}{9}\\\\\n",
    " g(x) = \\frac{\\left(x + 4\\right) \\left(7 x - 5\\right)}{9}\n",
    "\\end{align*}"
   ]
  },
  {
   "cell_type": "code",
   "execution_count": 192,
   "metadata": {},
   "outputs": [
    {
     "data": {
      "image/png": "[encoded data removed]",
      "text/plain": [
       "<Figure size 432x288 with 1 Axes>"
      ]
     },
     "metadata": {
      "needs_background": "light"
     },
     "output_type": "display_data"
    }
   ],
   "source": [
    "f = (x + 4) * (x + 7) / 9\n",
    "g = (x + 4) * (7*x - 5) / 9\n",
    "\n",
    "points = solveset(f - g)\n",
    "\n",
    "interval = (x, points.args[0] - 1, points.args[-1] + 1)\n",
    "\n",
    "plt = plot(xlabel=\"$x$\", ylabel=\"$y$\", legend=True, show=False)\n",
    "plt.append(plot(f, interval, label=\"$f(x) = \\\\frac{\\left(x + 4\\\\right) \\left(x + 7\\\\right)}{9}$\", line_color=\"green\", show=False)[0])\n",
    "plt.append(plot(g, interval, label=\"$g(x) = \\\\frac{\\left(x + 4\\\\right) \\left(7 x - 5\\\\right)}{9}$\", line_color=\"red\", show=False)[0])\n",
    "\n",
    "for p in points:\n",
    "    val = f.subs(x, p)\n",
    "    plt.append(plot(val, interval, line_color=\"black\", label=val, show=False)[0])\n",
    "\n",
    "plt.show()"
   ]
  }
 ],
 "metadata": {
  "kernelspec": {
   "display_name": "Python 3",
   "language": "python",
   "name": "python3"
  },
  "language_info": {
   "codemirror_mode": {
    "name": "ipython",
    "version": 3
   },
   "file_extension": ".py",
   "mimetype": "text/x-python",
   "name": "python",
   "nbconvert_exporter": "python",
   "pygments_lexer": "ipython3",
   "version": "3.9.0"
  }
 },
 "nbformat": 4,
 "nbformat_minor": 2
}
