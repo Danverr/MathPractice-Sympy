{
 "cells": [
  {
   "cell_type": "markdown",
   "metadata": {},
   "source": [
    "## Занятие 3\n",
    "## Математический анализ\n",
    "## Решение нелинейных уравнений в Sympy. Solve и solveset.\n",
    "https://docs.sympy.org/latest/modules/solvers/solveset.html"
   ]
  },
  {
   "cell_type": "code",
   "execution_count": 21,
   "metadata": {},
   "outputs": [],
   "source": [
    "# Применим такой способ импорта библиотеки:\n",
    "from sympy import Symbol, symbols, S, solve, solveset, Intersection, Interval, EmptySet, Union, plot \n",
    "# А для того, чтобы использовать все остальное, сделаем так:\n",
    "import sympy\n",
    "# Продолжим использовать магию\n",
    "%matplotlib inline"
   ]
  },
  {
   "cell_type": "markdown",
   "metadata": {},
   "source": [
    "Для решения нелинейных уравнений вида \n",
    "$$\n",
    "f(x) = 0\n",
    "$$\n",
    "можно использовать метод  solve, которому передается выражение $f(x)$ и переменная, относительно которой нужно решать уравнение. Возвращает solve список list корней уравнения, он может быть пустым или конечным.\n",
    "### Пример 1\n",
    "Решим уравнение $x^2 - 1 = 0$ с помощью solve. Поскольку в левой части уравнения только одна переменная, ее можно явно не указывать."
   ]
  },
  {
   "cell_type": "code",
   "execution_count": 22,
   "metadata": {},
   "outputs": [
    {
     "data": {
      "text/plain": [
       "[-1, 1]"
      ]
     },
     "execution_count": 22,
     "metadata": {},
     "output_type": "execute_result"
    }
   ],
   "source": [
    "x = Symbol('x')\n",
    "solve(x**2 - 1)"
   ]
  },
  {
   "cell_type": "markdown",
   "metadata": {},
   "source": [
    "Очевидно, решения уравнений $x^2 - 1 = 0$ и $y^2 - 1 = 0$ должны быть одинаковыми. Проверим:"
   ]
  },
  {
   "cell_type": "code",
   "execution_count": 23,
   "metadata": {},
   "outputs": [
    {
     "data": {
      "text/plain": [
       "True"
      ]
     },
     "execution_count": 23,
     "metadata": {},
     "output_type": "execute_result"
    }
   ],
   "source": [
    "y = Symbol('y')\n",
    "res1 = solve(x**2 - 1)\n",
    "res2 = solve(y**2 - 1)\n",
    "res1 == res2"
   ]
  },
  {
   "cell_type": "markdown",
   "metadata": {},
   "source": [
    "### Пример 2.\n",
    "Уравнение, не имеющее вещественного решения $x^2 + 1 = 0$, решается solve по умолчанию в комплексных числах "
   ]
  },
  {
   "cell_type": "code",
   "execution_count": 24,
   "metadata": {},
   "outputs": [
    {
     "data": {
      "text/plain": [
       "[-I, I]"
      ]
     },
     "execution_count": 24,
     "metadata": {},
     "output_type": "execute_result"
    }
   ],
   "source": [
    "solve(x**2 + 1)"
   ]
  },
  {
   "cell_type": "markdown",
   "metadata": {},
   "source": [
    "Для решения уравнения в вещественных числах можно использовать solveset с необязательным параметром  domain=S.Reals. \n",
    "\n",
    "Укажем, что решение ищется только в вещественных числах:"
   ]
  },
  {
   "cell_type": "code",
   "execution_count": 25,
   "metadata": {},
   "outputs": [
    {
     "data": {
      "text/latex": [
       "$\\displaystyle \\emptyset$"
      ],
      "text/plain": [
       "EmptySet"
      ]
     },
     "execution_count": 25,
     "metadata": {},
     "output_type": "execute_result"
    }
   ],
   "source": [
    "solveset(x**2 + 1, domain=S.Reals)"
   ]
  },
  {
   "cell_type": "markdown",
   "metadata": {},
   "source": [
    "Solveset возвращает  множество set корней уравнения, оно может быть пустым, конечным или даже бесконечным.\n",
    "### Пример 3.\n",
    "Уравнение, имеющее бесконечно много решений $\\sin(x)=0$. "
   ]
  },
  {
   "cell_type": "code",
   "execution_count": 26,
   "metadata": {},
   "outputs": [
    {
     "data": {
      "text/latex": [
       "$\\displaystyle \\left\\{2 n \\pi\\; |\\; n \\in \\mathbb{Z}\\right\\} \\cup \\left\\{2 n \\pi + \\pi\\; |\\; n \\in \\mathbb{Z}\\right\\}$"
      ],
      "text/plain": [
       "Union(ImageSet(Lambda(_n, 2*_n*pi + pi), Integers), ImageSet(Lambda(_n, 2*_n*pi), Integers))"
      ]
     },
     "execution_count": 26,
     "metadata": {},
     "output_type": "execute_result"
    }
   ],
   "source": [
    "solveset(sympy.sin(x))"
   ]
  },
  {
   "cell_type": "markdown",
   "metadata": {},
   "source": [
    "Сравним результат с solve"
   ]
  },
  {
   "cell_type": "code",
   "execution_count": 27,
   "metadata": {},
   "outputs": [
    {
     "data": {
      "text/plain": [
       "[0, pi]"
      ]
     },
     "execution_count": 27,
     "metadata": {},
     "output_type": "execute_result"
    }
   ],
   "source": [
    "solve(sympy.sin(x))"
   ]
  },
  {
   "cell_type": "markdown",
   "metadata": {},
   "source": [
    "solve находит только корни на интервале $[0, 2\\pi)$."
   ]
  },
  {
   "cell_type": "markdown",
   "metadata": {},
   "source": [
    "Если нужно отобрать корни уравнения на некотором интервале, то это можно сделать с помощью solveset,  Intersection и Interval.\n",
    "\n",
    "### Пример 4.\n",
    "Найдем решения уравнения $\\sin^2(x) = \\frac{1}{2}$ на отрезке $[-\\pi, \\pi]$. Для того, чтобы обращаться с $\\frac{1}{2}$ без округлений, превратим эту дробь в символ с помощью метода S. Достаточно превратить в символ числитель дроби S(1), чтобы действия с ней выполнялись аналитически."
   ]
  },
  {
   "cell_type": "code",
   "execution_count": 28,
   "metadata": {},
   "outputs": [
    {
     "data": {
      "text/latex": [
       "$\\displaystyle \\left\\{- \\frac{3 \\pi}{4}, - \\frac{\\pi}{4}, \\frac{\\pi}{4}, \\frac{3 \\pi}{4}\\right\\}$"
      ],
      "text/plain": [
       "FiniteSet(-3*pi/4, -pi/4, pi/4, 3*pi/4)"
      ]
     },
     "execution_count": 28,
     "metadata": {},
     "output_type": "execute_result"
    }
   ],
   "source": [
    "Intersection(solveset(sympy.sin(x)**2 - S(1)/2), Interval(-sympy.pi, sympy.pi))"
   ]
  },
  {
   "cell_type": "markdown",
   "metadata": {},
   "source": [
    "### Пример 5.\n",
    "Найдем решения уравнения $\\sin^2(x) = \\frac{1}{2}$ на открытом интервале $(-3\\pi/4, 3\\pi/4)$."
   ]
  },
  {
   "cell_type": "code",
   "execution_count": 29,
   "metadata": {},
   "outputs": [
    {
     "data": {
      "text/latex": [
       "$\\displaystyle \\left\\{- \\frac{\\pi}{4}, \\frac{\\pi}{4}\\right\\}$"
      ],
      "text/plain": [
       "FiniteSet(-pi/4, pi/4)"
      ]
     },
     "execution_count": 29,
     "metadata": {},
     "output_type": "execute_result"
    }
   ],
   "source": [
    "Intersection(solveset(sympy.sin(x)**2 - S(1)/2), Interval.open(-3*sympy.pi/4, 3*sympy.pi/4))"
   ]
  },
  {
   "cell_type": "markdown",
   "metadata": {},
   "source": [
    "Сравним с тем, что получится, если не указать, что интервал открытый:"
   ]
  },
  {
   "cell_type": "code",
   "execution_count": 30,
   "metadata": {},
   "outputs": [
    {
     "data": {
      "text/latex": [
       "$\\displaystyle \\left\\{- \\frac{3 \\pi}{4}, - \\frac{\\pi}{4}, \\frac{\\pi}{4}, \\frac{3 \\pi}{4}\\right\\}$"
      ],
      "text/plain": [
       "FiniteSet(-3*pi/4, -pi/4, pi/4, 3*pi/4)"
      ]
     },
     "execution_count": 30,
     "metadata": {},
     "output_type": "execute_result"
    }
   ],
   "source": [
    "Intersection(solveset(sympy.sin(x)**2 - S(1)/2), Interval(-3*sympy.pi/4, 3*sympy.pi/4))"
   ]
  },
  {
   "cell_type": "markdown",
   "metadata": {},
   "source": [
    "### Пример 6.\n",
    "Можно найти пересечение множеств решений разных уравнений.\n",
    "\n",
    "Найдем пересечение решений уравнений $\\sin(x) = \\frac{\\sqrt2}{2}$ и $\\cos(x) = \\frac{\\sqrt2}{2}$. "
   ]
  },
  {
   "cell_type": "code",
   "execution_count": 31,
   "metadata": {},
   "outputs": [
    {
     "data": {
      "text/latex": [
       "$\\displaystyle \\left\\{2 n \\pi + \\frac{\\pi}{4}\\; |\\; n \\in \\mathbb{Z}\\right\\}$"
      ],
      "text/plain": [
       "ImageSet(Lambda(_n, 2*_n*pi + pi/4), Integers)"
      ]
     },
     "execution_count": 31,
     "metadata": {},
     "output_type": "execute_result"
    }
   ],
   "source": [
    "res1 = solveset(sympy.sin(x) - sympy.sqrt(2)/2)\n",
    "res2 = solveset(sympy.cos(x) - sympy.sqrt(2)/2)\n",
    "Intersection(res1, res2)"
   ]
  },
  {
   "cell_type": "markdown",
   "metadata": {},
   "source": [
    "### Пример 7.\n",
    "Пользуясь solveset()  решим аналитически уравнение\n",
    "$$\n",
    "4\\sin^2(x^2 + 2x - 1) - 3 = 0, \n",
    "$$\n",
    "при условии $3x^2 + 2x - 1$ от 0 до $2\\pi$.\n",
    "\n",
    "Попытка решить уравнение сразу к успеху не приводит:"
   ]
  },
  {
   "cell_type": "code",
   "execution_count": 32,
   "metadata": {},
   "outputs": [
    {
     "data": {
      "text/latex": [
       "$\\displaystyle \\left\\{x \\mid x \\in \\mathbb{R} \\wedge \\sin^{2}{\\left(x^{2} + 2 x - 1 \\right)} - \\frac{3}{4} = 0 \\right\\}$"
      ],
      "text/plain": [
       "ConditionSet(x, Eq(sin(x**2 + 2*x - 1)**2 - 3/4, 0), Reals)"
      ]
     },
     "execution_count": 32,
     "metadata": {},
     "output_type": "execute_result"
    }
   ],
   "source": [
    "solveset(4*sympy.sin(x**2 + 2*x - 1)**2 - 3, domain=S.Reals)"
   ]
  },
  {
   "cell_type": "markdown",
   "metadata": {},
   "source": [
    "Будем решать задачу последовательно.\n",
    "\n",
    "Вначале решим уравнение $4y^2-3=0$"
   ]
  },
  {
   "cell_type": "code",
   "execution_count": 33,
   "metadata": {},
   "outputs": [
    {
     "data": {
      "text/latex": [
       "$\\displaystyle - \\frac{\\sqrt{3}}{2}$"
      ],
      "text/plain": [
       "-sqrt(3)/2"
      ]
     },
     "metadata": {},
     "output_type": "display_data"
    },
    {
     "data": {
      "text/latex": [
       "$\\displaystyle \\frac{\\sqrt{3}}{2}$"
      ],
      "text/plain": [
       "sqrt(3)/2"
      ]
     },
     "metadata": {},
     "output_type": "display_data"
    }
   ],
   "source": [
    "x, y, z = symbols('x y z')\n",
    "sol1 = solveset(4*y**2 - 3, domain=S.Reals)\n",
    "display(*sol1)"
   ]
  },
  {
   "cell_type": "markdown",
   "metadata": {},
   "source": [
    "Отдельно для каждого корня решим уравнение $\\sin z=a$, $a=\\frac{-\\sqrt 3}{2},\\ \\frac{\\sqrt 3}{2}$."
   ]
  },
  {
   "cell_type": "code",
   "execution_count": 34,
   "metadata": {},
   "outputs": [
    {
     "data": {
      "text/latex": [
       "$\\displaystyle \\left\\{2 n \\pi + \\frac{2 \\pi}{3}\\; |\\; n \\in \\mathbb{Z}\\right\\} \\cup \\left\\{2 n \\pi + \\frac{\\pi}{3}\\; |\\; n \\in \\mathbb{Z}\\right\\}$"
      ],
      "text/plain": [
       "Union(ImageSet(Lambda(_n, 2*_n*pi + 2*pi/3), Integers), ImageSet(Lambda(_n, 2*_n*pi + pi/3), Integers))"
      ]
     },
     "metadata": {},
     "output_type": "display_data"
    },
    {
     "data": {
      "text/latex": [
       "$\\displaystyle \\left\\{2 n \\pi + \\frac{4 \\pi}{3}\\; |\\; n \\in \\mathbb{Z}\\right\\} \\cup \\left\\{2 n \\pi + \\frac{5 \\pi}{3}\\; |\\; n \\in \\mathbb{Z}\\right\\}$"
      ],
      "text/plain": [
       "Union(ImageSet(Lambda(_n, 2*_n*pi + 4*pi/3), Integers), ImageSet(Lambda(_n, 2*_n*pi + 5*pi/3), Integers))"
      ]
     },
     "metadata": {},
     "output_type": "display_data"
    }
   ],
   "source": [
    "sol2 = {solveset(sympy.sin(z) - s, domain=S.Reals) for s in sol1}\n",
    "display(*sol2)"
   ]
  },
  {
   "cell_type": "markdown",
   "metadata": {},
   "source": [
    "Объединим решения в одно множество с помощью метода Union. В качестве аргумента передадим распакованное множество *sol2."
   ]
  },
  {
   "cell_type": "code",
   "execution_count": 35,
   "metadata": {},
   "outputs": [
    {
     "data": {
      "text/latex": [
       "$\\displaystyle \\left\\{2 n \\pi + \\frac{4 \\pi}{3}\\; |\\; n \\in \\mathbb{Z}\\right\\} \\cup \\left\\{2 n \\pi + \\frac{5 \\pi}{3}\\; |\\; n \\in \\mathbb{Z}\\right\\} \\cup \\left\\{2 n \\pi + \\frac{2 \\pi}{3}\\; |\\; n \\in \\mathbb{Z}\\right\\} \\cup \\left\\{2 n \\pi + \\frac{\\pi}{3}\\; |\\; n \\in \\mathbb{Z}\\right\\}$"
      ],
      "text/plain": [
       "Union(ImageSet(Lambda(_n, 2*_n*pi + 4*pi/3), Integers), ImageSet(Lambda(_n, 2*_n*pi + 5*pi/3), Integers), ImageSet(Lambda(_n, 2*_n*pi + 2*pi/3), Integers), ImageSet(Lambda(_n, 2*_n*pi + pi/3), Integers))"
      ]
     },
     "metadata": {},
     "output_type": "display_data"
    }
   ],
   "source": [
    "sol3 = Union(*sol2)\n",
    "display(sol3)"
   ]
  },
  {
   "cell_type": "markdown",
   "metadata": {},
   "source": [
    "Выберем корни из интервала $[0,2\\pi]$"
   ]
  },
  {
   "cell_type": "code",
   "execution_count": 36,
   "metadata": {},
   "outputs": [
    {
     "data": {
      "text/latex": [
       "$\\displaystyle \\left\\{\\frac{\\pi}{3}, \\frac{2 \\pi}{3}, \\frac{4 \\pi}{3}, \\frac{5 \\pi}{3}\\right\\}$"
      ],
      "text/plain": [
       "FiniteSet(pi/3, 2*pi/3, 4*pi/3, 5*pi/3)"
      ]
     },
     "metadata": {},
     "output_type": "display_data"
    }
   ],
   "source": [
    "sol4 = Intersection(sol3, Interval(0,2*sympy.pi)) \n",
    "display(sol4)"
   ]
  },
  {
   "cell_type": "markdown",
   "metadata": {},
   "source": [
    "Для каждого элемента $item$ множества sol4 решим уравнение $x^2+2x-1-item=0$. \n",
    "\n",
    "В распакованном виде решения красиво изображаются с помощью display."
   ]
  },
  {
   "cell_type": "code",
   "execution_count": 37,
   "metadata": {},
   "outputs": [
    {
     "data": {
      "text/latex": [
       "$\\displaystyle \\left\\{-1 + \\frac{\\sqrt{3} \\sqrt{6 + 5 \\pi}}{3}, - \\frac{\\sqrt{3} \\sqrt{6 + 5 \\pi}}{3} - 1\\right\\}$"
      ],
      "text/plain": [
       "FiniteSet(-1 + sqrt(3)*sqrt(6 + 5*pi)/3, -sqrt(3)*sqrt(6 + 5*pi)/3 - 1)"
      ]
     },
     "metadata": {},
     "output_type": "display_data"
    },
    {
     "data": {
      "text/latex": [
       "$\\displaystyle \\left\\{-1 + \\frac{\\sqrt{6} \\sqrt{3 + \\pi}}{3}, - \\frac{\\sqrt{6} \\sqrt{3 + \\pi}}{3} - 1\\right\\}$"
      ],
      "text/plain": [
       "FiniteSet(-1 + sqrt(6)*sqrt(3 + pi)/3, -sqrt(6)*sqrt(3 + pi)/3 - 1)"
      ]
     },
     "metadata": {},
     "output_type": "display_data"
    },
    {
     "data": {
      "text/latex": [
       "$\\displaystyle \\left\\{-1 + \\frac{\\sqrt{6} \\sqrt{3 + 2 \\pi}}{3}, - \\frac{\\sqrt{6} \\sqrt{3 + 2 \\pi}}{3} - 1\\right\\}$"
      ],
      "text/plain": [
       "FiniteSet(-1 + sqrt(6)*sqrt(3 + 2*pi)/3, -sqrt(6)*sqrt(3 + 2*pi)/3 - 1)"
      ]
     },
     "metadata": {},
     "output_type": "display_data"
    },
    {
     "data": {
      "text/latex": [
       "$\\displaystyle \\left\\{-1 + \\frac{\\sqrt{3} \\sqrt{\\pi + 6}}{3}, - \\frac{\\sqrt{3} \\sqrt{\\pi + 6}}{3} - 1\\right\\}$"
      ],
      "text/plain": [
       "FiniteSet(-1 + sqrt(3)*sqrt(pi + 6)/3, -sqrt(3)*sqrt(pi + 6)/3 - 1)"
      ]
     },
     "metadata": {},
     "output_type": "display_data"
    }
   ],
   "source": [
    "sol5 = {solveset(x**2 + 2*x - 1 - item, domain=S.Reals) for item in sol4}\n",
    "display(*sol5)"
   ]
  },
  {
   "cell_type": "markdown",
   "metadata": {},
   "source": [
    "Объединим полученные решения, получим ответ к задаче."
   ]
  },
  {
   "cell_type": "code",
   "execution_count": 38,
   "metadata": {},
   "outputs": [
    {
     "data": {
      "text/latex": [
       "$\\displaystyle \\left\\{-1 + \\frac{\\sqrt{3} \\sqrt{6 + 5 \\pi}}{3}, -1 + \\frac{\\sqrt{3} \\sqrt{\\pi + 6}}{3}, -1 + \\frac{\\sqrt{6} \\sqrt{3 + \\pi}}{3}, -1 + \\frac{\\sqrt{6} \\sqrt{3 + 2 \\pi}}{3}, - \\frac{\\sqrt{3} \\sqrt{6 + 5 \\pi}}{3} - 1, - \\frac{\\sqrt{3} \\sqrt{\\pi + 6}}{3} - 1, - \\frac{\\sqrt{6} \\sqrt{3 + \\pi}}{3} - 1, - \\frac{\\sqrt{6} \\sqrt{3 + 2 \\pi}}{3} - 1\\right\\}$"
      ],
      "text/plain": [
       "FiniteSet(-1 + sqrt(3)*sqrt(pi + 6)/3, -1 + sqrt(6)*sqrt(3 + pi)/3, -sqrt(3)*sqrt(pi + 6)/3 - 1, -sqrt(6)*sqrt(3 + pi)/3 - 1, -1 + sqrt(3)*sqrt(6 + 5*pi)/3, -1 + sqrt(6)*sqrt(3 + 2*pi)/3, -sqrt(3)*sqrt(6 + 5*pi)/3 - 1, -sqrt(6)*sqrt(3 + 2*pi)/3 - 1)"
      ]
     },
     "execution_count": 38,
     "metadata": {},
     "output_type": "execute_result"
    }
   ],
   "source": [
    "sol6 = Union(*sol5)\n",
    "sol6"
   ]
  },
  {
   "cell_type": "markdown",
   "metadata": {},
   "source": [
    "### Пример 8.\n",
    "Найти точки пересечения графиков функций $y = x^2$ и $y = 3x - 1$.\n",
    "Построить графики так, чтобы на график попали обе точки пересечения. \n",
    "\n",
    "Вначале найдем решение уравнения $x^2 = 3x - 1$"
   ]
  },
  {
   "cell_type": "code",
   "execution_count": 39,
   "metadata": {},
   "outputs": [
    {
     "data": {
      "text/latex": [
       "$\\displaystyle \\left\\{\\frac{3}{2} - \\frac{\\sqrt{5}}{2}, \\frac{\\sqrt{5}}{2} + \\frac{3}{2}\\right\\}$"
      ],
      "text/plain": [
       "FiniteSet(3/2 - sqrt(5)/2, sqrt(5)/2 + 3/2)"
      ]
     },
     "execution_count": 39,
     "metadata": {},
     "output_type": "execute_result"
    }
   ],
   "source": [
    "res = solveset(x**2 - 3*x + 1)\n",
    "res"
   ]
  },
  {
   "cell_type": "markdown",
   "metadata": {},
   "source": [
    "Построим графики функций на интервале, содержащем точки пересечения. Для красоты отступим на 1 влево и вправо от левой и правой точек пересечения.\n",
    "\n",
    "Для того, чтобы вычислить пределы по горизонтальной оси, воспользуемся встроенными функциями min и max, с их помощью можно найти минимальный и максимальный корень уравнения."
   ]
  },
  {
   "cell_type": "code",
   "execution_count": 40,
   "metadata": {},
   "outputs": [
    {
     "data": {
      "image/png": "[encoded data removed]",
      "text/plain": [
       "<Figure size 432x288 with 1 Axes>"
      ]
     },
     "metadata": {
      "needs_background": "light"
     },
     "output_type": "display_data"
    }
   ],
   "source": [
    "x_limits = (x, min(res) - 1, max(res) + 1)\n",
    "point1, point2 = [(x0, 3*x0 - 1) for x0 in x_limits[1:3]]\n",
    "p = plot(x**2, x_limits, line_color='green', legend=True, label='$x^2$', show=False)\n",
    "p.append(sympy.plot(3*x - 1, x_limits, line_color='red', legend=True, label='$3x - 1$', show=False)[0])\n",
    "p.show()"
   ]
  }
 ],
 "metadata": {
  "kernelspec": {
   "display_name": "Python 3",
   "language": "python",
   "name": "python3"
  },
  "language_info": {
   "codemirror_mode": {
    "name": "ipython",
    "version": 3
   },
   "file_extension": ".py",
   "mimetype": "text/x-python",
   "name": "python",
   "nbconvert_exporter": "python",
   "pygments_lexer": "ipython3",
   "version": "3.9.0"
  }
 },
 "nbformat": 4,
 "nbformat_minor": 2
}
