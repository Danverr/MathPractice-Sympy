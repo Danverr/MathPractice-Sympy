{
 "cells": [
  {
   "cell_type": "code",
   "execution_count": 1,
   "metadata": {},
   "outputs": [],
   "source": [
    "import sympy\n",
    "import numpy as np\n",
    "from sympy import Expr, Eq, latex, plot_implicit, Matrix, plot, solve, linsolve, nonlinsolve, symbols\n",
    "from sympy import pi as Pi\n",
    "from sympy import cos as Cos\n",
    "from sympy import sin as Sin\n",
    "import matplotlib.pyplot as plt"
   ]
  },
  {
   "cell_type": "markdown",
   "metadata": {},
   "source": [
    "# Занятие 12\n",
    "# Алгебра\n",
    "### Задание 1.\n",
    "Написать функцию, составляющую матрицу линейного оператора поворота на alpha градусов или радиан По или Против часовой стрелки на плоскости. Параметры: обязательные - угол поворота, необязательные - тип меры угла (градусы или радианы), направление поворота (По или Против часовой стрелки). Значения по умолчанию - против часовой стрелки в радианах.\n",
    "\n",
    "Использовать полученную функцию для выведения на экран координат векторов, полученных поворотом на 10, 20, 45 градусов По или часовой стрелке и на $\\pi/3$ радиан против."
   ]
  },
  {
   "cell_type": "code",
   "execution_count": 2,
   "metadata": {},
   "outputs": [],
   "source": [
    "def degToRad(deg):\n",
    "    return deg * Pi / 180\n",
    "\n",
    "def radToDeg(rad):\n",
    "    return rad * 180 / Pi"
   ]
  },
  {
   "cell_type": "code",
   "execution_count": 76,
   "metadata": {},
   "outputs": [],
   "source": [
    "DEG = 0\n",
    "RAD = 1\n",
    "CW = 0\n",
    "CCW = 1\n",
    "\n",
    "def getRotationMatrix(alpha, unit=RAD, direction=CCW):\n",
    "    global DEG, RAD, CW, CWW\n",
    "    \n",
    "    if direction == CW:\n",
    "        alpha *= -1\n",
    "        \n",
    "    if unit == DEG:\n",
    "        alpha = degToRad(alpha)\n",
    "        \n",
    "    return Matrix([\n",
    "        [Cos(alpha), -Sin(alpha)],\n",
    "        [Sin(alpha),  Cos(alpha)],\n",
    "    ])"
   ]
  },
  {
   "cell_type": "code",
   "execution_count": 84,
   "metadata": {},
   "outputs": [
    {
     "name": "stdout",
     "output_type": "stream",
     "text": [
      "----------------\n",
      " -10 r\n"
     ]
    },
    {
     "data": {
      "text/latex": [
       "$\\displaystyle \\left[\\begin{matrix}\\cos{\\left(\\frac{\\pi}{18} \\right)} & \\sin{\\left(\\frac{\\pi}{18} \\right)}\\\\- \\sin{\\left(\\frac{\\pi}{18} \\right)} & \\cos{\\left(\\frac{\\pi}{18} \\right)}\\end{matrix}\\right]$"
      ],
      "text/plain": [
       "Matrix([\n",
       "[ cos(pi/18), sin(pi/18)],\n",
       "[-sin(pi/18), cos(pi/18)]])"
      ]
     },
     "metadata": {},
     "output_type": "display_data"
    },
    {
     "name": "stdout",
     "output_type": "stream",
     "text": [
      "----------------\n",
      " -20 g\n"
     ]
    },
    {
     "data": {
      "text/latex": [
       "$\\displaystyle \\left[\\begin{matrix}\\cos{\\left(\\frac{\\pi}{9} \\right)} & \\sin{\\left(\\frac{\\pi}{9} \\right)}\\\\- \\sin{\\left(\\frac{\\pi}{9} \\right)} & \\cos{\\left(\\frac{\\pi}{9} \\right)}\\end{matrix}\\right]$"
      ],
      "text/plain": [
       "Matrix([\n",
       "[ cos(pi/9), sin(pi/9)],\n",
       "[-sin(pi/9), cos(pi/9)]])"
      ]
     },
     "metadata": {},
     "output_type": "display_data"
    },
    {
     "name": "stdout",
     "output_type": "stream",
     "text": [
      "----------------\n",
      " -45 m\n"
     ]
    },
    {
     "data": {
      "text/latex": [
       "$\\displaystyle \\left[\\begin{matrix}\\frac{\\sqrt{2}}{2} & \\frac{\\sqrt{2}}{2}\\\\- \\frac{\\sqrt{2}}{2} & \\frac{\\sqrt{2}}{2}\\end{matrix}\\right]$"
      ],
      "text/plain": [
       "Matrix([\n",
       "[ sqrt(2)/2, sqrt(2)/2],\n",
       "[-sqrt(2)/2, sqrt(2)/2]])"
      ]
     },
     "metadata": {},
     "output_type": "display_data"
    },
    {
     "name": "stdout",
     "output_type": "stream",
     "text": [
      "----------------\n",
      " 60 y\n"
     ]
    },
    {
     "data": {
      "text/latex": [
       "$\\displaystyle \\left[\\begin{matrix}\\frac{1}{2} & - \\frac{\\sqrt{3}}{2}\\\\\\frac{\\sqrt{3}}{2} & \\frac{1}{2}\\end{matrix}\\right]$"
      ],
      "text/plain": [
       "Matrix([\n",
       "[      1/2, -sqrt(3)/2],\n",
       "[sqrt(3)/2,        1/2]])"
      ]
     },
     "metadata": {},
     "output_type": "display_data"
    },
    {
     "data": {
      "image/png": "[encoded data removed]",
      "text/plain": [
       "<Figure size 432x288 with 1 Axes>"
      ]
     },
     "metadata": {
      "needs_background": "light"
     },
     "output_type": "display_data"
    }
   ],
   "source": [
    "def plotvec(vect, color='black'):\n",
    "    plt.plot([0, vect[0]],[0, vect[1]], color)\n",
    "\n",
    "x, y = symbols(\"x y\")\n",
    "\n",
    "v = Matrix([1, 0])\n",
    "plotvec(v)\n",
    "plotvec(Matrix([0, 1]))\n",
    "plotvec(Matrix([0,-1]))\n",
    "plotvec(Matrix([-1,0]))\n",
    "plt.gca().set_aspect(\"equal\")\n",
    "\n",
    "angles = [-10, -20, -45, radToDeg(Pi/3)]\n",
    "col = [\"r\", \"g\", \"m\", \"y\"]\n",
    "\n",
    "for i, ang in enumerate(angles):\n",
    "    print(\"----------------\\n\", ang, col[i])\n",
    "    R = getRotationMatrix(ang, DEG)\n",
    "    display(R)\n",
    "    plotvec(R * v, col[i])"
   ]
  },
  {
   "cell_type": "markdown",
   "metadata": {},
   "source": [
    "### Задание 2.\n",
    "Найти собственные числа и собственные векторы линейного оператора, заданного матрицей \n",
    "$$\n",
    "\\left(\\begin{matrix}\n",
    "-34&20&-5\\\\\n",
    "-40&56&-20\\\\\n",
    "20&-8&50\n",
    "\\end{matrix}\\right)\n",
    "$$\n",
    "Воспользоваться eigenvals и eigenvects, проверить выполнение равенства нулю характеристического многочлена $|A-\\lambda E|$ и условия $Ax=\\lambda x$.\n"
   ]
  },
  {
   "cell_type": "code",
   "execution_count": 48,
   "metadata": {},
   "outputs": [
    {
     "data": {
      "text/plain": [
       "{56: 1, 40: 1, -24: 1}"
      ]
     },
     "metadata": {},
     "output_type": "display_data"
    },
    {
     "data": {
      "text/plain": [
       "(-24,\n",
       " 1,\n",
       " [Matrix([\n",
       "  [-9/2],\n",
       "  [  -2],\n",
       "  [   1]])])"
      ]
     },
     "metadata": {},
     "output_type": "display_data"
    },
    {
     "data": {
      "text/plain": [
       "(40,\n",
       " 1,\n",
       " [Matrix([\n",
       "  [ 5/6],\n",
       "  [10/3],\n",
       "  [   1]])])"
      ]
     },
     "metadata": {},
     "output_type": "display_data"
    },
    {
     "data": {
      "text/plain": [
       "(56,\n",
       " 1,\n",
       " [Matrix([\n",
       "  [-1/2],\n",
       "  [  -2],\n",
       "  [   1]])])"
      ]
     },
     "metadata": {},
     "output_type": "display_data"
    },
    {
     "name": "stdout",
     "output_type": "stream",
     "text": [
      "-------------------\n",
      "\n",
      "lambda = -24\n",
      "\n",
      "|A - lambda*E| = 0\n",
      "\n",
      "Проверяем собственные вектора:\n"
     ]
    },
    {
     "data": {
      "text/plain": [
       "True"
      ]
     },
     "metadata": {},
     "output_type": "display_data"
    },
    {
     "name": "stdout",
     "output_type": "stream",
     "text": [
      "-------------------\n",
      "\n",
      "lambda = 40\n",
      "\n",
      "|A - lambda*E| = 0\n",
      "\n",
      "Проверяем собственные вектора:\n"
     ]
    },
    {
     "data": {
      "text/plain": [
       "True"
      ]
     },
     "metadata": {},
     "output_type": "display_data"
    },
    {
     "name": "stdout",
     "output_type": "stream",
     "text": [
      "-------------------\n",
      "\n",
      "lambda = 56\n",
      "\n",
      "|A - lambda*E| = 0\n",
      "\n",
      "Проверяем собственные вектора:\n"
     ]
    },
    {
     "data": {
      "text/plain": [
       "True"
      ]
     },
     "metadata": {},
     "output_type": "display_data"
    }
   ],
   "source": [
    "A = Matrix([\n",
    "    [-34, 20,  -5],\n",
    "    [-40, 56, -20],\n",
    "    [ 20, -8,  50]\n",
    "])\n",
    "\n",
    "display(A.eigenvals(), *A.eigenvects())\n",
    "\n",
    "for num, cnt, vectors in A.eigenvects():\n",
    "    print(\"-------------------\")\n",
    "    print(f\"\\nlambda = {num}\")    \n",
    "    print(f\"\\n|A - lambda*E| = {(A - num*sympy.eye(3)).det()}\")\n",
    "    print(f\"\\nПроверяем собственные вектора:\")\n",
    "    for vect in vectors:\n",
    "        display(A*vect == num*vect)"
   ]
  },
  {
   "cell_type": "markdown",
   "metadata": {},
   "source": [
    "### Задание 3.\n",
    "Построить матрицу оператора из задания 2 в базисе из векторов $(1,1,1)$, $(0,5,3)$ и $(1,6,0)$.\n"
   ]
  },
  {
   "cell_type": "code",
   "execution_count": 29,
   "metadata": {},
   "outputs": [
    {
     "data": {
      "text/latex": [
       "$\\displaystyle \\left[\\begin{matrix}-1 & 71 & 26\\\\21 & 13 & -18\\\\-18 & 14 & 60\\end{matrix}\\right]$"
      ],
      "text/plain": [
       "Matrix([\n",
       "[ -1, 71,  26],\n",
       "[ 21, 13, -18],\n",
       "[-18, 14,  60]])"
      ]
     },
     "metadata": {},
     "output_type": "display_data"
    }
   ],
   "source": [
    "T = Matrix([\n",
    "    [1, 0, 1],\n",
    "    [1, 5, 6],\n",
    "    [1, 3, 0],\n",
    "])\n",
    "\n",
    "display(T**(-1) * A * T)"
   ]
  },
  {
   "cell_type": "markdown",
   "metadata": {},
   "source": [
    "### Задание 4.\n",
    "Построить матрицу оператора из задания 2 в базисе из собственных векторов с помощью eigenvects и матрицы перехода. Сравнить диагональные элементы с собственными числами."
   ]
  },
  {
   "cell_type": "code",
   "execution_count": 33,
   "metadata": {},
   "outputs": [
    {
     "data": {
      "text/latex": [
       "$\\displaystyle \\left[\\begin{matrix}- \\frac{9}{2}\\\\-2\\\\1\\end{matrix}\\right]$"
      ],
      "text/plain": [
       "Matrix([\n",
       "[-9/2],\n",
       "[  -2],\n",
       "[   1]])"
      ]
     },
     "metadata": {},
     "output_type": "display_data"
    },
    {
     "data": {
      "text/latex": [
       "$\\displaystyle \\left[\\begin{matrix}\\frac{5}{6}\\\\\\frac{10}{3}\\\\1\\end{matrix}\\right]$"
      ],
      "text/plain": [
       "Matrix([\n",
       "[ 5/6],\n",
       "[10/3],\n",
       "[   1]])"
      ]
     },
     "metadata": {},
     "output_type": "display_data"
    },
    {
     "data": {
      "text/latex": [
       "$\\displaystyle \\left[\\begin{matrix}- \\frac{1}{2}\\\\-2\\\\1\\end{matrix}\\right]$"
      ],
      "text/plain": [
       "Matrix([\n",
       "[-1/2],\n",
       "[  -2],\n",
       "[   1]])"
      ]
     },
     "metadata": {},
     "output_type": "display_data"
    },
    {
     "data": {
      "text/latex": [
       "$\\displaystyle \\left[\\begin{matrix}- \\frac{9}{2} & \\frac{5}{6} & - \\frac{1}{2}\\\\-2 & \\frac{10}{3} & -2\\\\1 & 1 & 1\\end{matrix}\\right]$"
      ],
      "text/plain": [
       "Matrix([\n",
       "[-9/2,  5/6, -1/2],\n",
       "[  -2, 10/3,   -2],\n",
       "[   1,    1,    1]])"
      ]
     },
     "metadata": {},
     "output_type": "display_data"
    },
    {
     "data": {
      "text/latex": [
       "$\\displaystyle \\left[\\begin{matrix}-24 & 0 & 0\\\\0 & 40 & 0\\\\0 & 0 & 56\\end{matrix}\\right]$"
      ],
      "text/plain": [
       "Matrix([\n",
       "[-24,  0,  0],\n",
       "[  0, 40,  0],\n",
       "[  0,  0, 56]])"
      ]
     },
     "metadata": {},
     "output_type": "display_data"
    },
    {
     "data": {
      "text/plain": [
       "{56: 1, 40: 1, -24: 1}"
      ]
     },
     "metadata": {},
     "output_type": "display_data"
    }
   ],
   "source": [
    "T = Matrix([])\n",
    "\n",
    "for num, cnt, vectors in A.eigenvects():\n",
    "    for vect in vectors:\n",
    "        display(vect)        \n",
    "        T = T.row_join(vect)\n",
    "    \n",
    "display(T, T**(-1) * A * T, A.eigenvals())"
   ]
  },
  {
   "cell_type": "markdown",
   "metadata": {},
   "source": [
    "###  Индивидуальное задание. Вариант 11.\n",
    "Найти собственные числа и собственные векторы линейного оператора. Построить матрицу оператора в заданном базисе. Построить матрицу оператора в базисе из собственных векторов.\n",
    "\n",
    "Вывести на экран матрицу оператора А, матрицу перехода к базису ($e_1$, $e_2$, $e_3$), матрицу оператора в базисе ($e_1$, $e_2$, $e_3$), матрицу перехода к базису из собственных векторов, матрицу оператора в базисе из собственных векторов.\n",
    "\n",
    "$$A = \\left[\\begin{matrix}-443 & 216 & -300\\\\-24 & 49 & -84\\\\300 & -264 & 271\\end{matrix}\\right],\\quad e_1 = \\left[\\begin{matrix}-2\\\\-2\\\\-4\\end{matrix}\\right],\\quad e_2 = \\left[\\begin{matrix}-4\\\\4\\\\1\\end{matrix}\\right],\\quad e_3 = \\left[\\begin{matrix}-3\\\\-4\\\\-2\\end{matrix}\\right]$$"
   ]
  },
  {
   "cell_type": "code",
   "execution_count": 46,
   "metadata": {
    "scrolled": false
   },
   "outputs": [
    {
     "name": "stdout",
     "output_type": "stream",
     "text": [
      "Матрица линейного оператора, собственные числа и вектора\n"
     ]
    },
    {
     "data": {
      "text/latex": [
       "$\\displaystyle \\left[\\begin{matrix}-443 & 216 & -300\\\\-24 & 49 & -84\\\\300 & -264 & 271\\end{matrix}\\right]$"
      ],
      "text/plain": [
       "Matrix([\n",
       "[-443,  216, -300],\n",
       "[ -24,   49,  -84],\n",
       "[ 300, -264,  271]])"
      ]
     },
     "metadata": {},
     "output_type": "display_data"
    },
    {
     "data": {
      "text/plain": [
       "(-287,\n",
       " 1,\n",
       " [Matrix([\n",
       "  [-7/4],\n",
       "  [ 1/8],\n",
       "  [   1]])])"
      ]
     },
     "metadata": {},
     "output_type": "display_data"
    },
    {
     "data": {
      "text/plain": [
       "(-41,\n",
       " 1,\n",
       " [Matrix([\n",
       "  [-2/7],\n",
       "  [ 6/7],\n",
       "  [   1]])])"
      ]
     },
     "metadata": {},
     "output_type": "display_data"
    },
    {
     "data": {
      "text/plain": [
       "(205,\n",
       " 1,\n",
       " [Matrix([\n",
       "  [-11/18],\n",
       "  [  -4/9],\n",
       "  [     1]])])"
      ]
     },
     "metadata": {},
     "output_type": "display_data"
    },
    {
     "name": "stdout",
     "output_type": "stream",
     "text": [
      "\n",
      "\n",
      "Матрица перехода в базис (e1, e2, e3) и новая матрица\n"
     ]
    },
    {
     "data": {
      "text/latex": [
       "$\\displaystyle \\left[\\begin{matrix}-2 & -4 & -3\\\\-2 & 4 & -4\\\\-4 & 1 & -2\\end{matrix}\\right]$"
      ],
      "text/plain": [
       "Matrix([\n",
       "[-2, -4, -3],\n",
       "[-2,  4, -4],\n",
       "[-4,  1, -2]])"
      ]
     },
     "metadata": {},
     "output_type": "display_data"
    },
    {
     "data": {
      "text/latex": [
       "$\\displaystyle \\left[\\begin{matrix}\\frac{21065}{41} & \\frac{33606}{41} & \\frac{7776}{41}\\\\- \\frac{9936}{41} & - \\frac{15169}{41} & - \\frac{6600}{41}\\\\- \\frac{23400}{41} & - \\frac{34104}{41} & - \\frac{10939}{41}\\end{matrix}\\right]$"
      ],
      "text/plain": [
       "Matrix([\n",
       "[ 21065/41,  33606/41,   7776/41],\n",
       "[ -9936/41, -15169/41,  -6600/41],\n",
       "[-23400/41, -34104/41, -10939/41]])"
      ]
     },
     "metadata": {},
     "output_type": "display_data"
    },
    {
     "name": "stdout",
     "output_type": "stream",
     "text": [
      "\n",
      "\n",
      "Матрица перехода в базис из собственных векторов и новая матрица\n"
     ]
    },
    {
     "data": {
      "text/latex": [
       "$\\displaystyle \\left[\\begin{matrix}- \\frac{7}{4} & - \\frac{2}{7} & - \\frac{11}{18}\\\\\\frac{1}{8} & \\frac{6}{7} & - \\frac{4}{9}\\\\1 & 1 & 1\\end{matrix}\\right]$"
      ],
      "text/plain": [
       "Matrix([\n",
       "[-7/4, -2/7, -11/18],\n",
       "[ 1/8,  6/7,   -4/9],\n",
       "[   1,    1,      1]])"
      ]
     },
     "metadata": {},
     "output_type": "display_data"
    },
    {
     "data": {
      "text/latex": [
       "$\\displaystyle \\left[\\begin{matrix}-287 & 0 & 0\\\\0 & -41 & 0\\\\0 & 0 & 205\\end{matrix}\\right]$"
      ],
      "text/plain": [
       "Matrix([\n",
       "[-287,   0,   0],\n",
       "[   0, -41,   0],\n",
       "[   0,   0, 205]])"
      ]
     },
     "metadata": {},
     "output_type": "display_data"
    }
   ],
   "source": [
    "A = Matrix([\n",
    "    [-443,  216, -300],\n",
    "    [ -24,   49,  -84],\n",
    "    [ 300, -264,  271],\n",
    "])\n",
    "\n",
    "print(\"Матрица линейного оператора, собственные числа и вектора\")\n",
    "display(A, *A.eigenvects())\n",
    "\n",
    "T = Matrix([\n",
    "    [-2, -4, -3],\n",
    "    [-2,  4, -4],\n",
    "    [-4,  1, -2],\n",
    "])\n",
    "\n",
    "print(\"\\n\\nМатрица перехода в базис (e1, e2, e3) и новая матрица\")\n",
    "display(T, T**(-1) * A * T)\n",
    "\n",
    "T = Matrix([])\n",
    "\n",
    "for num, cnt, vectors in A.eigenvects():\n",
    "    for vect in vectors:\n",
    "        T = T.row_join(vect)\n",
    "\n",
    "print(\"\\n\\nМатрица перехода в базис из собственных векторов и новая матрица\")\n",
    "display(T, T**(-1) * A * T)"
   ]
  }
 ],
 "metadata": {
  "kernelspec": {
   "display_name": "Python 3",
   "language": "python",
   "name": "python3"
  },
  "language_info": {
   "codemirror_mode": {
    "name": "ipython",
    "version": 3
   },
   "file_extension": ".py",
   "mimetype": "text/x-python",
   "name": "python",
   "nbconvert_exporter": "python",
   "pygments_lexer": "ipython3",
   "version": "3.9.0"
  }
 },
 "nbformat": 4,
 "nbformat_minor": 2
}
