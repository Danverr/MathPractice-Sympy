{
 "cells": [
  {
   "cell_type": "code",
   "execution_count": 102,
   "metadata": {},
   "outputs": [],
   "source": [
    "from IPython.display import Markdown\n",
    "import sympy\n",
    "from sympy import I\n",
    "import numpy as np\n",
    "import matplotlib.pyplot as plt"
   ]
  },
  {
   "cell_type": "code",
   "execution_count": 18,
   "metadata": {},
   "outputs": [],
   "source": [
    "def initAx(ax):\n",
    "    ax.set_aspect('equal')\n",
    "    ax.spines['right'].set_color('none')\n",
    "    ax.spines['top'].set_color('none')\n",
    "    ax.spines['bottom'].set_position(('data', 0))\n",
    "    ax.spines['left'].set_position(('data', 0))\n",
    "    ax.plot(1, 0, \">k\", transform=ax.get_yaxis_transform(), clip_on=False)\n",
    "    ax.plot(0, 1, \"^k\", transform=ax.get_xaxis_transform(), clip_on=False)"
   ]
  },
  {
   "cell_type": "code",
   "execution_count": 29,
   "metadata": {},
   "outputs": [],
   "source": [
    "def drawPoint(z, name=None, offset=(0.1, 0.1), color='g'):\n",
    "    ax = plt.gca()\n",
    "    initAx(ax)\n",
    "    \n",
    "    x, y = sympy.re(z), sympy.im(z)\n",
    "    \n",
    "    ax.scatter(x, y, color=color)\n",
    "    \n",
    "    ax.annotate(\n",
    "        name,\n",
    "        xy=(x, y),\n",
    "        xytext=(x + offset[0], y + offset[1])\n",
    "    )"
   ]
  },
  {
   "cell_type": "code",
   "execution_count": 152,
   "metadata": {},
   "outputs": [],
   "source": [
    "def getTrigForm(z):\n",
    "    r = sympy.latex(sympy.functions.Abs(z))\n",
    "    phi = sympy.latex(sympy.functions.arg(z))\n",
    "    return f\"${r}(\\cos({phi}) + i\\sin({phi}))$\"\n",
    "    #return r*(sympy.cos(phi) + I*sympy.sin(phi))\n",
    "    \n",
    "def getTrigForm(r, phi):\n",
    "    r = sympy.latex(r)\n",
    "    phi = sympy.latex(phi)\n",
    "    return f\"${r}(\\cos({phi}) + i\\sin({phi}))$\"\n",
    "    #return r*(sympy.cos(phi) + I*sympy.sin(phi))"
   ]
  },
  {
   "cell_type": "code",
   "execution_count": 138,
   "metadata": {},
   "outputs": [],
   "source": [
    "def getExpForm(z):\n",
    "    r = sympy.latex(sympy.functions.Abs(z))\n",
    "    phi = sympy.latex(sympy.functions.arg(z))\n",
    "    return f\"${r}e^\" + \"{i(\" + str(phi) + \")}$\"\n",
    "    #return r*sympy.exp(phi * I)"
   ]
  },
  {
   "cell_type": "markdown",
   "metadata": {},
   "source": [
    "# Занятие 10\n",
    "# Алгебра\n",
    "## Комплексные числа в sympy\n",
    "### Задание 1.\n",
    "Даны комплексные числа\n",
    "$$\n",
    "z_1 = 5\\sqrt{3} + 5i,\\quad z_2 = -3 + 3i,\\quad z_3 = - 1 + i,\\quad z_4 = i,\\quad z_5 = \\frac{12}{13} + \\frac{5}{13}i,\n",
    "$$\n",
    "вычислить (представить в алгебраической форме) с помощью sympy\n",
    "$$\n",
    "z_1 \\cdot z_2,\\quad (z_2 - 5z_3)^6,\\quad \\sqrt{\\frac{z_4}{z_3}},\\quad \\frac{z_1^2 + z_3}{13z_5 - 2z_2}.\n",
    "$$"
   ]
  },
  {
   "cell_type": "code",
   "execution_count": 136,
   "metadata": {},
   "outputs": [
    {
     "data": {
      "text/latex": [
       "$\\displaystyle \\left(-3 + 3 i\\right) \\left(5 \\sqrt{3} + 5 i\\right)$"
      ],
      "text/plain": [
       "(-3 + 3*I)*(5*sqrt(3) + 5*I)"
      ]
     },
     "metadata": {},
     "output_type": "display_data"
    },
    {
     "data": {
      "text/latex": [
       "$\\displaystyle \\left(2 - 2 i\\right)^{6}$"
      ],
      "text/plain": [
       "(2 - 2*I)**6"
      ]
     },
     "metadata": {},
     "output_type": "display_data"
    },
    {
     "data": {
      "text/latex": [
       "$\\displaystyle \\frac{\\sqrt{2} \\sqrt{i \\left(-1 - i\\right)}}{2}$"
      ],
      "text/plain": [
       "sqrt(2)*sqrt(I*(-1 - I))/2"
      ]
     },
     "metadata": {},
     "output_type": "display_data"
    },
    {
     "data": {
      "text/latex": [
       "$\\displaystyle \\frac{\\left(18 + i\\right) \\left(-1 + i + \\left(5 \\sqrt{3} + 5 i\\right)^{2}\\right)}{325}$"
      ],
      "text/plain": [
       "(18 + I)*(-1 + I + (5*sqrt(3) + 5*I)**2)/325"
      ]
     },
     "metadata": {},
     "output_type": "display_data"
    }
   ],
   "source": [
    "z_1 = 5*sympy.sqrt(3) + 5*I\n",
    "z_2 = -3 + 3*I\n",
    "z_3 = - 1 + I\n",
    "z_4 = I\n",
    "z_5 = sympy.S(12)/13 + sympy.S(5)/13*I\n",
    "\n",
    "display(\n",
    "    (z_1*z_2),\n",
    "    (z_2 - 5*z_3)**6,\n",
    "    sympy.sqrt(z_4 / z_3),\n",
    "    (z_1**2 + z_3) / (13*z_5 - 2*z_2)\n",
    ")"
   ]
  },
  {
   "cell_type": "markdown",
   "metadata": {},
   "source": [
    "### Задание  2.\n",
    "Вычисления Примера 1 проделать для мнимой единицы из python (использовать встроенную функцию complex)."
   ]
  },
  {
   "cell_type": "code",
   "execution_count": 15,
   "metadata": {},
   "outputs": [
    {
     "data": {
      "text/plain": [
       "(-40.98076211353316+10.98076211353316j)"
      ]
     },
     "metadata": {},
     "output_type": "display_data"
    },
    {
     "data": {
      "text/plain": [
       "(-0+512j)"
      ]
     },
     "metadata": {},
     "output_type": "display_data"
    },
    {
     "data": {
      "text/plain": [
       "(0.7768869870150187-0.32179712645279135j)"
      ]
     },
     "metadata": {},
     "output_type": "display_data"
    },
    {
     "data": {
      "text/plain": [
       "(2.4442998757586345+5.0026022363445835j)"
      ]
     },
     "metadata": {},
     "output_type": "display_data"
    }
   ],
   "source": [
    "z_1 = complex(5*sympy.sqrt(3), 5)\n",
    "z_2 = complex(-3, 3)\n",
    "z_3 = complex(-1, 1)\n",
    "z_4 = complex(0, 1)\n",
    "z_5 = complex(12/13, 5/13)\n",
    "\n",
    "display(\n",
    "    z_1*z_2,\n",
    "    (z_2 - 5*z_3)**6,\n",
    "    (z_4 / z_3)**(1/2),\n",
    "    (z_1**2 + z_3) / (13*z_5 - 2*z_2)\n",
    ")"
   ]
  },
  {
   "cell_type": "markdown",
   "metadata": {},
   "source": [
    "### Задание  3.\n",
    "Изобразить на координатной плоскости точки, соответствующие корням  $7$-й степени комплексного числа $z = \\frac{3}{5} + i\\frac{3}{5}$. Подписать точки $Ak$, где $k$  - номер корня."
   ]
  },
  {
   "cell_type": "code",
   "execution_count": 30,
   "metadata": {},
   "outputs": [
    {
     "data": {
      "image/png": "[encoded data removed]",
      "text/plain": [
       "<Figure size 432x288 with 1 Axes>"
      ]
     },
     "metadata": {
      "needs_background": "light"
     },
     "output_type": "display_data"
    }
   ],
   "source": [
    "z = 3/5 + 3/5*I\n",
    "n = 7\n",
    "roots = [sympy.root(z, n, k) for k in range(n)]\n",
    "\n",
    "for i, root in enumerate(roots):\n",
    "    drawPoint(root, f\"A{i}\")"
   ]
  },
  {
   "cell_type": "markdown",
   "metadata": {},
   "source": [
    "### Задание  4.\n",
    "Изобразить на координатной плоскости точки, соответствующие $z_4 = - \\frac{3}{5} + \\frac{4}{5}i$ и $\\bar{z_4}$, подписать $z_4$ тригонометрической формой, $\\bar{z_4}$ - экспоненциальной ($z = r e^{i\\varphi}$, $r$ и $\\varphi$ такие же, как в тригонометрической форме)."
   ]
  },
  {
   "cell_type": "code",
   "execution_count": 139,
   "metadata": {},
   "outputs": [
    {
     "data": {
      "image/png": "[encoded data removed]",
      "text/plain": [
       "<Figure size 432x288 with 1 Axes>"
      ]
     },
     "metadata": {
      "needs_background": "light"
     },
     "output_type": "display_data"
    }
   ],
   "source": [
    "z = -3/5 + 4/5*I\n",
    "drawPoint(z, getTrigForm(z))\n",
    "\n",
    "z_ = -3/5 - 4/5*I\n",
    "drawPoint(z_, getExpForm(z_))"
   ]
  },
  {
   "cell_type": "markdown",
   "metadata": {},
   "source": [
    "#### Задание  5.\n",
    "Изобразить корни 4 степени числа $5e^{\\frac{i\\pi}{8}}$, в полярной системе координат, подписи к точкам - аргументы (углы) сответствующих комплексных чисел. \n",
    "\n",
    "Число вводить в тригонометрической форме, для получения корней комплексного числа $z = r(\\cos(\\varphi) + \\sin(\\varphi))$ использовать формулу \n",
    "$\\sqrt[n]{z} = \\sqrt[n]{r}(\\cos(\\varphi_k) + i \\sin(\\varphi_k))$, \n",
    "$\\varphi_k = \\frac{\\varphi + 2\\pi k}{n}$, $k = 0, ..., n$. \n",
    "\n",
    "Вывести алгебраическую форму полученных корней на экран и сравнить с результатом, полученным с помощью sympy.root (с использованием sympy.expand_complex для упрощения выражения). Аналитическое представление оказывается разным.\n",
    "\n",
    "Для каждого корня найти разность в формате float модуля разности корней, полученных двумя способами (т.е. нужно для каждой пары одинаковых корней, полученных двумя способами находить разность корней, вычислять модуль sympy.Abs этой разности и преобразовывать результат в формат float)."
   ]
  },
  {
   "cell_type": "code",
   "execution_count": 161,
   "metadata": {},
   "outputs": [
    {
     "data": {
      "text/markdown": [
       "$\\sqrt[4]{5}(\\cos(\\frac{\\pi}{32}) + i\\sin(\\frac{\\pi}{32}))$"
      ],
      "text/plain": [
       "<IPython.core.display.Markdown object>"
      ]
     },
     "metadata": {},
     "output_type": "display_data"
    },
    {
     "data": {
      "text/latex": [
       "$\\displaystyle \\sqrt[4]{5} \\cos{\\left(\\frac{\\operatorname{atan}{\\left(\\frac{\\sqrt{\\frac{1}{2} - \\frac{\\sqrt{2}}{4}}}{\\sqrt{\\frac{\\sqrt{2}}{4} + \\frac{1}{2}}} \\right)}}{4} \\right)} + \\sqrt[4]{5} i \\sin{\\left(\\frac{\\operatorname{atan}{\\left(\\frac{\\sqrt{\\frac{1}{2} - \\frac{\\sqrt{2}}{4}}}{\\sqrt{\\frac{\\sqrt{2}}{4} + \\frac{1}{2}}} \\right)}}{4} \\right)}$"
      ],
      "text/plain": [
       "5**(1/4)*cos(atan(sqrt(1/2 - sqrt(2)/4)/sqrt(sqrt(2)/4 + 1/2))/4) + 5**(1/4)*I*sin(atan(sqrt(1/2 - sqrt(2)/4)/sqrt(sqrt(2)/4 + 1/2))/4)"
      ]
     },
     "metadata": {},
     "output_type": "display_data"
    },
    {
     "data": {
      "text/plain": [
       "5.245609643939854e-68"
      ]
     },
     "metadata": {},
     "output_type": "display_data"
    },
    {
     "data": {
      "text/markdown": [
       "---"
      ],
      "text/plain": [
       "<IPython.core.display.Markdown object>"
      ]
     },
     "metadata": {},
     "output_type": "display_data"
    },
    {
     "data": {
      "text/markdown": [
       "$\\sqrt[4]{5}(\\cos(\\frac{17 \\pi}{32}) + i\\sin(\\frac{17 \\pi}{32}))$"
      ],
      "text/plain": [
       "<IPython.core.display.Markdown object>"
      ]
     },
     "metadata": {},
     "output_type": "display_data"
    },
    {
     "data": {
      "text/latex": [
       "$\\displaystyle - \\sqrt[4]{5} \\sin{\\left(\\frac{\\operatorname{atan}{\\left(\\frac{\\sqrt{\\frac{1}{2} - \\frac{\\sqrt{2}}{4}}}{\\sqrt{\\frac{\\sqrt{2}}{4} + \\frac{1}{2}}} \\right)}}{4} \\right)} + \\sqrt[4]{5} i \\cos{\\left(\\frac{\\operatorname{atan}{\\left(\\frac{\\sqrt{\\frac{1}{2} - \\frac{\\sqrt{2}}{4}}}{\\sqrt{\\frac{\\sqrt{2}}{4} + \\frac{1}{2}}} \\right)}}{4} \\right)}$"
      ],
      "text/plain": [
       "-5**(1/4)*sin(atan(sqrt(1/2 - sqrt(2)/4)/sqrt(sqrt(2)/4 + 1/2))/4) + 5**(1/4)*I*cos(atan(sqrt(1/2 - sqrt(2)/4)/sqrt(sqrt(2)/4 + 1/2))/4)"
      ]
     },
     "metadata": {},
     "output_type": "display_data"
    },
    {
     "data": {
      "text/plain": [
       "5.245609643939854e-68"
      ]
     },
     "metadata": {},
     "output_type": "display_data"
    },
    {
     "data": {
      "text/markdown": [
       "---"
      ],
      "text/plain": [
       "<IPython.core.display.Markdown object>"
      ]
     },
     "metadata": {},
     "output_type": "display_data"
    },
    {
     "data": {
      "text/markdown": [
       "$\\sqrt[4]{5}(\\cos(\\frac{33 \\pi}{32}) + i\\sin(\\frac{33 \\pi}{32}))$"
      ],
      "text/plain": [
       "<IPython.core.display.Markdown object>"
      ]
     },
     "metadata": {},
     "output_type": "display_data"
    },
    {
     "data": {
      "text/latex": [
       "$\\displaystyle - \\sqrt[4]{5} \\cos{\\left(\\frac{\\operatorname{atan}{\\left(\\frac{\\sqrt{\\frac{1}{2} - \\frac{\\sqrt{2}}{4}}}{\\sqrt{\\frac{\\sqrt{2}}{4} + \\frac{1}{2}}} \\right)}}{4} \\right)} - \\sqrt[4]{5} i \\sin{\\left(\\frac{\\operatorname{atan}{\\left(\\frac{\\sqrt{\\frac{1}{2} - \\frac{\\sqrt{2}}{4}}}{\\sqrt{\\frac{\\sqrt{2}}{4} + \\frac{1}{2}}} \\right)}}{4} \\right)}$"
      ],
      "text/plain": [
       "-5**(1/4)*cos(atan(sqrt(1/2 - sqrt(2)/4)/sqrt(sqrt(2)/4 + 1/2))/4) - 5**(1/4)*I*sin(atan(sqrt(1/2 - sqrt(2)/4)/sqrt(sqrt(2)/4 + 1/2))/4)"
      ]
     },
     "metadata": {},
     "output_type": "display_data"
    },
    {
     "data": {
      "text/plain": [
       "5.245609643939854e-68"
      ]
     },
     "metadata": {},
     "output_type": "display_data"
    },
    {
     "data": {
      "text/markdown": [
       "---"
      ],
      "text/plain": [
       "<IPython.core.display.Markdown object>"
      ]
     },
     "metadata": {},
     "output_type": "display_data"
    },
    {
     "data": {
      "text/markdown": [
       "$\\sqrt[4]{5}(\\cos(\\frac{49 \\pi}{32}) + i\\sin(\\frac{49 \\pi}{32}))$"
      ],
      "text/plain": [
       "<IPython.core.display.Markdown object>"
      ]
     },
     "metadata": {},
     "output_type": "display_data"
    },
    {
     "data": {
      "text/latex": [
       "$\\displaystyle \\sqrt[4]{5} \\sin{\\left(\\frac{\\operatorname{atan}{\\left(\\frac{\\sqrt{\\frac{1}{2} - \\frac{\\sqrt{2}}{4}}}{\\sqrt{\\frac{\\sqrt{2}}{4} + \\frac{1}{2}}} \\right)}}{4} \\right)} - \\sqrt[4]{5} i \\cos{\\left(\\frac{\\operatorname{atan}{\\left(\\frac{\\sqrt{\\frac{1}{2} - \\frac{\\sqrt{2}}{4}}}{\\sqrt{\\frac{\\sqrt{2}}{4} + \\frac{1}{2}}} \\right)}}{4} \\right)}$"
      ],
      "text/plain": [
       "5**(1/4)*sin(atan(sqrt(1/2 - sqrt(2)/4)/sqrt(sqrt(2)/4 + 1/2))/4) - 5**(1/4)*I*cos(atan(sqrt(1/2 - sqrt(2)/4)/sqrt(sqrt(2)/4 + 1/2))/4)"
      ]
     },
     "metadata": {},
     "output_type": "display_data"
    },
    {
     "data": {
      "text/plain": [
       "5.245609643939854e-68"
      ]
     },
     "metadata": {},
     "output_type": "display_data"
    },
    {
     "data": {
      "text/markdown": [
       "---"
      ],
      "text/plain": [
       "<IPython.core.display.Markdown object>"
      ]
     },
     "metadata": {},
     "output_type": "display_data"
    },
    {
     "data": {
      "image/png": "[encoded data removed]",
      "text/plain": [
       "<Figure size 432x288 with 1 Axes>"
      ]
     },
     "metadata": {
      "needs_background": "light"
     },
     "output_type": "display_data"
    }
   ],
   "source": [
    "r0, phi0 = 5, sympy.pi / 8\n",
    "z = r0*(sympy.cos(phi0) + I*sympy.sin(phi0))\n",
    "n = 4\n",
    "\n",
    "arg_list = [(phi0 + 2*sympy.pi*k) / n for k in range(n)]\n",
    "r_list = [sympy.root(r0, n)] * n\n",
    "roots = [sympy.expand_complex(sympy.root(z, n, k)) for k in range(n)]\n",
    "\n",
    "for i in range(n):\n",
    "    r, phi, root = r_list[i], arg_list[i], roots[i]\n",
    "    display(\n",
    "        Markdown(getTrigForm(r, phi)),\n",
    "        root,        \n",
    "        float(sympy.Abs(r*(sympy.cos(phi) + I*sympy.sin(phi)) - root)),        \n",
    "        Markdown(\"---\")\n",
    "    )\n",
    "\n",
    "plt.polar(arg_list, r_list, 'go')\n",
    "for k, phi_k in enumerate(arg_list):\n",
    "    plt.annotate(\n",
    "        f\"${sympy.latex(phi_k)}$\",\n",
    "        xy=(phi_k, r_list[k]),\n",
    "        xytext=(phi_k + 0.15, r_list[k])\n",
    "    )"
   ]
  },
  {
   "cell_type": "markdown",
   "metadata": {},
   "source": [
    "### Индивидуальное задание.\n",
    "\n",
    "$$(-5 - 9 i)x^2 + (-50 + 122 i)x + 385 - 155 i = 0$$\n",
    "\n",
    "Решить уравнение.\n",
    "Для получения корней использовать sympy.roots.\n",
    "Корни уравнения вывести на экран в алгебраической, тригонометрической и экспоненциальной форме."
   ]
  },
  {
   "cell_type": "code",
   "execution_count": 131,
   "metadata": {},
   "outputs": [
    {
     "data": {
      "text/latex": [
       "$\\displaystyle 4 + 3 i$"
      ],
      "text/plain": [
       "4 + 3*I"
      ]
     },
     "metadata": {},
     "output_type": "display_data"
    },
    {
     "data": {
      "text/markdown": [
       "$5(\\cos(\\operatorname{atan}{\\left(\\frac{3}{4} \\right)}) + i\\sin(\\operatorname{atan}{\\left(\\frac{3}{4} \\right)}))$"
      ],
      "text/plain": [
       "<IPython.core.display.Markdown object>"
      ]
     },
     "metadata": {},
     "output_type": "display_data"
    },
    {
     "data": {
      "text/markdown": [
       "$5e^{i\\operatorname{atan}{\\left(\\frac{3}{4} \\right)}}$"
      ],
      "text/plain": [
       "<IPython.core.display.Markdown object>"
      ]
     },
     "metadata": {},
     "output_type": "display_data"
    },
    {
     "data": {
      "text/markdown": [
       "---"
      ],
      "text/plain": [
       "<IPython.core.display.Markdown object>"
      ]
     },
     "metadata": {},
     "output_type": "display_data"
    },
    {
     "data": {
      "text/latex": [
       "$\\displaystyle 4 + 7 i$"
      ],
      "text/plain": [
       "4 + 7*I"
      ]
     },
     "metadata": {},
     "output_type": "display_data"
    },
    {
     "data": {
      "text/markdown": [
       "$\\sqrt{65}(\\cos(\\operatorname{atan}{\\left(\\frac{7}{4} \\right)}) + i\\sin(\\operatorname{atan}{\\left(\\frac{7}{4} \\right)}))$"
      ],
      "text/plain": [
       "<IPython.core.display.Markdown object>"
      ]
     },
     "metadata": {},
     "output_type": "display_data"
    },
    {
     "data": {
      "text/markdown": [
       "$\\sqrt{65}e^{i\\operatorname{atan}{\\left(\\frac{7}{4} \\right)}}$"
      ],
      "text/plain": [
       "<IPython.core.display.Markdown object>"
      ]
     },
     "metadata": {},
     "output_type": "display_data"
    },
    {
     "data": {
      "text/markdown": [
       "---"
      ],
      "text/plain": [
       "<IPython.core.display.Markdown object>"
      ]
     },
     "metadata": {},
     "output_type": "display_data"
    }
   ],
   "source": [
    "x = sympy.symbols(\"x\")\n",
    "eq = sympy.Eq((-5 - 9*I)*x**2 + x*(-50 + 122*I) + (385 - 155*I), 0)\n",
    "sol = sympy.solveset(eq)\n",
    "\n",
    "for s in sol:\n",
    "    display(s, Markdown(getTrigForm(s)), Markdown(getExpForm(s)), Markdown(\"---\"))"
   ]
  }
 ],
 "metadata": {
  "kernelspec": {
   "display_name": "Python 3",
   "language": "python",
   "name": "python3"
  },
  "language_info": {
   "codemirror_mode": {
    "name": "ipython",
    "version": 3
   },
   "file_extension": ".py",
   "mimetype": "text/x-python",
   "name": "python",
   "nbconvert_exporter": "python",
   "pygments_lexer": "ipython3",
   "version": "3.9.0"
  }
 },
 "nbformat": 4,
 "nbformat_minor": 2
}
