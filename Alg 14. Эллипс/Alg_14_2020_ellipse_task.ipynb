{
 "cells": [
  {
   "cell_type": "code",
   "execution_count": 35,
   "metadata": {},
   "outputs": [],
   "source": [
    "import matplotlib.pyplot as plt\n",
    "import sympy\n",
    "from sympy import Ellipse, Point, Line, S, plot_implicit, Eq, solve, symbols"
   ]
  },
  {
   "cell_type": "markdown",
   "metadata": {},
   "source": [
    "# Занятие 14\n",
    "# Алгебра\n",
    "### Задание 1.\n",
    "Построить эллипс с центром в точке А(1, 2), полуосями 3 и 2. Вычислить и вывести на экран эксцентриситет, площадь и длину дуги полученного эллипса, центр, полуоси, periapsis, apoapsis, межфокусное расстояние и фокусы."
   ]
  },
  {
   "cell_type": "code",
   "execution_count": 161,
   "metadata": {},
   "outputs": [
    {
     "data": {
      "text/plain": [
       "'eccentricity'"
      ]
     },
     "metadata": {},
     "output_type": "display_data"
    },
    {
     "data": {
      "text/latex": [
       "$\\displaystyle \\frac{\\sqrt{5}}{3}$"
      ],
      "text/plain": [
       "sqrt(5)/3"
      ]
     },
     "metadata": {},
     "output_type": "display_data"
    },
    {
     "data": {
      "text/plain": [
       "'area'"
      ]
     },
     "metadata": {},
     "output_type": "display_data"
    },
    {
     "data": {
      "text/latex": [
       "$\\displaystyle 6 \\pi$"
      ],
      "text/plain": [
       "6*pi"
      ]
     },
     "metadata": {},
     "output_type": "display_data"
    },
    {
     "data": {
      "text/plain": [
       "'circumference'"
      ]
     },
     "metadata": {},
     "output_type": "display_data"
    },
    {
     "data": {
      "text/latex": [
       "$\\displaystyle 12 E\\left(\\frac{5}{9}\\right)$"
      ],
      "text/plain": [
       "12*elliptic_e(5/9)"
      ]
     },
     "metadata": {},
     "output_type": "display_data"
    },
    {
     "data": {
      "text/plain": [
       "'center'"
      ]
     },
     "metadata": {},
     "output_type": "display_data"
    },
    {
     "data": {
      "text/latex": [
       "$\\displaystyle Point2D\\left(1, 2\\right)$"
      ],
      "text/plain": [
       "Point2D(1, 2)"
      ]
     },
     "metadata": {},
     "output_type": "display_data"
    },
    {
     "data": {
      "text/plain": [
       "'hradius'"
      ]
     },
     "metadata": {},
     "output_type": "display_data"
    },
    {
     "data": {
      "text/latex": [
       "$\\displaystyle 3$"
      ],
      "text/plain": [
       "3"
      ]
     },
     "metadata": {},
     "output_type": "display_data"
    },
    {
     "data": {
      "text/plain": [
       "'vradius'"
      ]
     },
     "metadata": {},
     "output_type": "display_data"
    },
    {
     "data": {
      "text/latex": [
       "$\\displaystyle 2$"
      ],
      "text/plain": [
       "2"
      ]
     },
     "metadata": {},
     "output_type": "display_data"
    },
    {
     "data": {
      "text/plain": [
       "'periapsis'"
      ]
     },
     "metadata": {},
     "output_type": "display_data"
    },
    {
     "data": {
      "text/latex": [
       "$\\displaystyle 3 - \\sqrt{5}$"
      ],
      "text/plain": [
       "3 - sqrt(5)"
      ]
     },
     "metadata": {},
     "output_type": "display_data"
    },
    {
     "data": {
      "text/plain": [
       "'apoapsis'"
      ]
     },
     "metadata": {},
     "output_type": "display_data"
    },
    {
     "data": {
      "text/latex": [
       "$\\displaystyle \\sqrt{5} + 3$"
      ],
      "text/plain": [
       "sqrt(5) + 3"
      ]
     },
     "metadata": {},
     "output_type": "display_data"
    },
    {
     "data": {
      "text/plain": [
       "'focus_distance'"
      ]
     },
     "metadata": {},
     "output_type": "display_data"
    },
    {
     "data": {
      "text/latex": [
       "$\\displaystyle \\sqrt{5}$"
      ],
      "text/plain": [
       "sqrt(5)"
      ]
     },
     "metadata": {},
     "output_type": "display_data"
    },
    {
     "data": {
      "text/plain": [
       "'foci'"
      ]
     },
     "metadata": {},
     "output_type": "display_data"
    },
    {
     "data": {
      "text/plain": [
       "(Point2D(1 - sqrt(5), 2), Point2D(1 + sqrt(5), 2))"
      ]
     },
     "metadata": {},
     "output_type": "display_data"
    }
   ],
   "source": [
    "A = Point(1, 2)\n",
    "ellipse = Ellipse(A, hradius=3, vradius=2)\n",
    "display(\n",
    "    \"eccentricity\", ellipse.eccentricity,\n",
    "    \"area\", ellipse.area,\n",
    "    \"circumference\", ellipse.circumference,\n",
    "    \"center\", ellipse.center,\n",
    "    \"hradius\", ellipse.hradius,\n",
    "    \"vradius\", ellipse.vradius,\n",
    "    \"periapsis\", ellipse.periapsis,\n",
    "    \"apoapsis\", ellipse.apoapsis,\n",
    "    \"focus_distance\", ellipse.focus_distance,\n",
    "    \"foci\", ellipse.foci,\n",
    ")"
   ]
  },
  {
   "cell_type": "markdown",
   "metadata": {},
   "source": [
    "### Задание 2.\n",
    "Вывести на экран уравнение эллипса из задания 1, повернутого на 30 градусов против часовой стрелки относительно его центра,  переменные u и v.\n",
    "\n",
    "Изоразить на графике эллипс и повернутый эллипс."
   ]
  },
  {
   "cell_type": "code",
   "execution_count": 162,
   "metadata": {},
   "outputs": [
    {
     "data": {
      "image/png": "[encoded data removed]",
      "text/plain": [
       "<Figure size 432x288 with 1 Axes>"
      ]
     },
     "metadata": {
      "needs_background": "light"
     },
     "output_type": "display_data"
    }
   ],
   "source": [
    "u, v = symbols(\"u v\")\n",
    "eq  = ellipse.equation(x='u', y='v')\n",
    "eq1 = ellipse.equation(x='u', y='v', _slope=sympy.tan(sympy.pi/6))\n",
    "plt = plot_implicit(eq, line_color='green', show=False, aspect_ratio=(1, 1))\n",
    "plt.append(plot_implicit(eq1, show=False, aspect_ratio=(1, 1))[0])\n",
    "plt.show()"
   ]
  },
  {
   "cell_type": "markdown",
   "metadata": {},
   "source": [
    "### Задание 3.\n",
    "Найти вершины эллипса из Задания 1.\n",
    "\n",
    "Указание: вершины эллипса искать как решение системы уравнений, составленной из уравнения эллипса и уравнения прямой, проходящей через форкусы (воспользоваться Line и методом equation()); вторую пару вершин получить как решение системы из уравнения эллипса и прямой, проходящей через центр эллипса перпендикулярно прямой, проходящей через фокусы. "
   ]
  },
  {
   "cell_type": "code",
   "execution_count": 163,
   "metadata": {},
   "outputs": [
    {
     "data": {
      "text/plain": [
       "[{x: -2, y: 2}, {x: 4, y: 2}]"
      ]
     },
     "metadata": {},
     "output_type": "display_data"
    },
    {
     "data": {
      "text/plain": [
       "[{x: 1, y: 0}, {x: 1, y: 4}]"
      ]
     },
     "metadata": {},
     "output_type": "display_data"
    }
   ],
   "source": [
    "x, y = symbols(\"x y\")\n",
    "\n",
    "p1 = Line(ellipse.foci[0], ellipse.foci[1])\n",
    "display(sympy.solve([p1.equation(), ellipse.equation()]))\n",
    "\n",
    "p2 = p1.perpendicular_line(A)\n",
    "display(sympy.solve([p2.equation(), ellipse.equation()]))"
   ]
  },
  {
   "cell_type": "markdown",
   "metadata": {},
   "source": [
    "###  Индивидуальное задание. Вариант 11\n",
    "Построить эллипс с заданными центром, вертикальной полуосью  и эксцентриситетом.\n",
    "Изобразить на графике этот эллипс, а также эллипс, повернутый на угол $\\alpha$ против часовой стрелки. \n",
    "\n",
    "Вывести на экран центр и фокусы эллипса, длины полуосей, уравнение эллипса, вершины эллипса.\n",
    "\n",
    "Центр $Point2D\\left(-4, -1\\right)$, вертикальная полуось $5$, эксцентриситет $5 / 14$, угол поворота $\\pi / 6$, по часовой стрелке."
   ]
  },
  {
   "cell_type": "code",
   "execution_count": 175,
   "metadata": {},
   "outputs": [
    {
     "data": {
      "image/png": "[encoded data removed]",
      "text/plain": [
       "<Figure size 432x288 with 1 Axes>"
      ]
     },
     "metadata": {
      "needs_background": "light"
     },
     "output_type": "display_data"
    }
   ],
   "source": [
    "center = Point(-4, -1)\n",
    "vradius = 5\n",
    "eccentricity = S(5)/14\n",
    "angle = -sympy.pi/6\n",
    "intervals = [(x, -15, 8), (y, -10, 10)]\n",
    "\n",
    "ellipse = Ellipse(center, vradius=vradius, eccentricity=eccentricity)\n",
    "plt = plot_implicit(ellipse.equation(x=x, y=y), *intervals, line_color='green', aspect_ratio=(1, 1), show=False)\n",
    "plt.append(plot_implicit(ellipse.equation(x=x, y=y, _slope=sympy.tan(angle)), *intervals, aspect_ratio=(1, 1), show=False)[0])\n",
    "plt.show()"
   ]
  }
 ],
 "metadata": {
  "kernelspec": {
   "display_name": "Python 3",
   "language": "python",
   "name": "python3"
  },
  "language_info": {
   "codemirror_mode": {
    "name": "ipython",
    "version": 3
   },
   "file_extension": ".py",
   "mimetype": "text/x-python",
   "name": "python",
   "nbconvert_exporter": "python",
   "pygments_lexer": "ipython3",
   "version": "3.9.0"
  }
 },
 "nbformat": 4,
 "nbformat_minor": 2
}
