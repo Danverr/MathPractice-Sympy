{
 "cells": [
  {
   "cell_type": "markdown",
   "metadata": {},
   "source": [
    "## Занятие 4\n",
    "## Математический анализ\n",
    "## Анализ функции. Построение графика в matplotlib.pyplot\n",
    "https://matplotlib.org\n",
    "https://matplotlib.org/api/_as_gen/matplotlib.pyplot.plot.html\n",
    "https://matplotlib.org/tutorials/text/annotations.html"
   ]
  },
  {
   "cell_type": "code",
   "execution_count": 80,
   "metadata": {},
   "outputs": [],
   "source": [
    "from IPython.display import Markdown\n",
    "\n",
    "# Импорт библиотеки matplotlib.pyplot обычно осуществляется так:\n",
    "import matplotlib.pyplot as plt\n",
    "from sympy import Symbol, symbols, S, solve, solveset, latex, fraction, Eq, Intersection\n",
    "\n",
    "# А для того, чтобы использовать все остальное, сделаем так:\n",
    "import sympy\n",
    "import numpy as np\n",
    "from sympy.calculus.util import continuous_domain"
   ]
  },
  {
   "cell_type": "markdown",
   "metadata": {},
   "source": [
    "### Задание 1\n",
    "Найти точки пересечения графика функции $f(x) = (x^2 + 3 x - 2)\\log_2(3x+1)$ с осями координат, построить график и отметить точки пересечения.\n",
    "\n",
    "#### Указание. \n",
    "Определить функцию как в Примере 3, поскольку нужно будет использовать функцию  $\\log_2(x)$ из каждого пакета sympy и numpy.\n",
    "В numpy использовать $log2(x)$ для вычисления логарифма по основанию 2.\n",
    "\n",
    "Сроить график только в пределах области определения функции. Точки пересечения с осью OX должны быть не только решениями соответствующего уравнения, но и принадлежать области определения функции."
   ]
  },
  {
   "cell_type": "code",
   "execution_count": 135,
   "metadata": {},
   "outputs": [
    {
     "data": {
      "text/markdown": [
       "#### Функция:"
      ],
      "text/plain": [
       "<IPython.core.display.Markdown object>"
      ]
     },
     "metadata": {},
     "output_type": "display_data"
    },
    {
     "data": {
      "text/latex": [
       "$\\displaystyle \\frac{\\left(x^{2} + 3 x - 2\\right) \\log{\\left(3 x + 1 \\right)}}{\\log{\\left(2 \\right)}}$"
      ],
      "text/plain": [
       "(x**2 + 3*x - 2)*log(3*x + 1)/log(2)"
      ]
     },
     "metadata": {},
     "output_type": "display_data"
    },
    {
     "data": {
      "text/markdown": [
       "#### Область определения:"
      ],
      "text/plain": [
       "<IPython.core.display.Markdown object>"
      ]
     },
     "metadata": {},
     "output_type": "display_data"
    },
    {
     "data": {
      "text/latex": [
       "$\\displaystyle \\left(- \\frac{1}{3}, \\infty\\right)$"
      ],
      "text/plain": [
       "Interval.open(-1/3, oo)"
      ]
     },
     "metadata": {},
     "output_type": "display_data"
    },
    {
     "data": {
      "text/markdown": [
       "#### Точки пересечения:"
      ],
      "text/plain": [
       "<IPython.core.display.Markdown object>"
      ]
     },
     "metadata": {},
     "output_type": "display_data"
    },
    {
     "data": {
      "text/plain": [
       "[0, -3/2 + sqrt(17)/2]"
      ]
     },
     "metadata": {},
     "output_type": "display_data"
    },
    {
     "data": {
      "text/markdown": [
       "#### График:"
      ],
      "text/plain": [
       "<IPython.core.display.Markdown object>"
      ]
     },
     "metadata": {},
     "output_type": "display_data"
    },
    {
     "data": {
      "text/plain": [
       "<matplotlib.legend.Legend at 0x21be92ad1c0>"
      ]
     },
     "execution_count": 135,
     "metadata": {},
     "output_type": "execute_result"
    },
    {
     "data": {
      "image/png": "[encoded data removed]",
      "text/plain": [
       "<Figure size 432x288 with 1 Axes>"
      ]
     },
     "metadata": {
      "needs_background": "light"
     },
     "output_type": "display_data"
    }
   ],
   "source": [
    "def f(x, lib=\"sympy\"):\n",
    "    if lib == \"sympy\":\n",
    "        return (x**2 + 3*x - 2) * sympy.log(3*x + 1, 2)\n",
    "    elif lib == \"numpy\":\n",
    "        return (x**2 + 3*x - 2) * np.log2(3*x + 1)\n",
    "    else:\n",
    "        return \"Wrong lib value\"\n",
    "\n",
    "f_x = f(Symbol(\"x\"))\n",
    "dom = continuous_domain(f_x, Symbol(\"x\"), S.Reals)\n",
    "x_coord = list(set([*Intersection(solveset(f_x), dom)] + [f(0)]))\n",
    "y_coord = [f(x) for x in x_coord]\n",
    "\n",
    "display(Markdown(\"#### Функция:\"), f_x)\n",
    "display(Markdown(\"#### Область определения:\"), dom)\n",
    "display(Markdown(\"#### Точки пересечения:\"), x_coord)\n",
    "display(Markdown(\"#### График:\"))\n",
    "\n",
    "ax = plt.gca()\n",
    "ls = np.linspace(float(dom.left), 5, 100)\n",
    "ls = np.delete(ls, 0)\n",
    "\n",
    "ax.plot(ls, f(ls, \"numpy\"), label=f\"$ f(x)={latex(f_x)}$\")\n",
    "ax.scatter(x_coord, y_coord)\n",
    "\n",
    "for i, x in enumerate(x_coord):\n",
    "    y = y_coord[i]    \n",
    "    ax.annotate(\n",
    "        'A' + str(i + 1),\n",
    "        xy=(x, y),\n",
    "        xycoords='data',\n",
    "        xytext=(x + 0.5, y + 20), textcoords='data',\n",
    "        arrowprops=dict(arrowstyle=\"->\",connectionstyle=\"arc3\"),\n",
    "    ) \n",
    "    \n",
    "ax.legend(loc=\"best\")"
   ]
  },
  {
   "cell_type": "markdown",
   "metadata": {},
   "source": [
    "### Задание 2\n",
    "Найти асимптоты графика функции $g(x) = \\frac{35x^2 + 4x - 15}{3x - 2}$, построить график и асимптоты, в легенду графика включить формулы функции и асимптот, подписать оси 'x' и 'y'."
   ]
  },
  {
   "cell_type": "code",
   "execution_count": 82,
   "metadata": {},
   "outputs": [],
   "source": [
    "def get_diag_as(f, x):\n",
    "    kpos = sympy.limit(f(x)/x, x, +sympy.oo)\n",
    "    kneg = sympy.limit(f(x)/x, x, -sympy.oo)    \n",
    "    \n",
    "    k_list = list(set([kpos, kneg]))\n",
    "    as_list = [(k, sympy.limit(f(x) - k*x, x, sympy.oo)) for k in k_list]    \n",
    "\n",
    "    return as_list"
   ]
  },
  {
   "cell_type": "code",
   "execution_count": 83,
   "metadata": {},
   "outputs": [],
   "source": [
    "def get_vert_as(f, x):\n",
    "    fnum, fdenom = sympy.fraction(f(x)) \n",
    "    return [*sympy.solveset(fdenom, x)]"
   ]
  },
  {
   "cell_type": "code",
   "execution_count": 84,
   "metadata": {},
   "outputs": [],
   "source": [
    "def with_axis(ax):\n",
    "    ax.spines['right'].set_color('none')\n",
    "    ax.spines['top'].set_color('none')\n",
    "    ax.spines['bottom'].set_position(('data', 0))\n",
    "    ax.spines['left'].set_position(('data', 0))\n",
    "    ax.plot(1, 0, \">k\", transform=ax.get_yaxis_transform(), clip_on=False)\n",
    "    ax.plot(0, 1, \"^k\", transform=ax.get_xaxis_transform(), clip_on=False)"
   ]
  },
  {
   "cell_type": "code",
   "execution_count": 95,
   "metadata": {},
   "outputs": [
    {
     "data": {
      "text/markdown": [
       "#### Функция:"
      ],
      "text/plain": [
       "<IPython.core.display.Markdown object>"
      ]
     },
     "metadata": {},
     "output_type": "display_data"
    },
    {
     "data": {
      "text/latex": [
       "$\\displaystyle \\frac{35 x^{2} + 4 x - 15}{3 x - 2}$"
      ],
      "text/plain": [
       "(35*x**2 + 4*x - 15)/(3*x - 2)"
      ]
     },
     "metadata": {},
     "output_type": "display_data"
    },
    {
     "data": {
      "text/markdown": [
       "#### Наклонные асимптоты в виде $(k, b)$:"
      ],
      "text/plain": [
       "<IPython.core.display.Markdown object>"
      ]
     },
     "metadata": {},
     "output_type": "display_data"
    },
    {
     "data": {
      "text/plain": [
       "[(35/3, 82/9)]"
      ]
     },
     "metadata": {},
     "output_type": "display_data"
    },
    {
     "data": {
      "text/markdown": [
       "#### Вертикальные асимптоты в точках:"
      ],
      "text/plain": [
       "<IPython.core.display.Markdown object>"
      ]
     },
     "metadata": {},
     "output_type": "display_data"
    },
    {
     "data": {
      "text/plain": [
       "[2/3]"
      ]
     },
     "metadata": {},
     "output_type": "display_data"
    },
    {
     "data": {
      "text/plain": [
       "<matplotlib.legend.Legend at 0x21be8e7e490>"
      ]
     },
     "execution_count": 95,
     "metadata": {},
     "output_type": "execute_result"
    },
    {
     "data": {
      "image/png": "[encoded data removed]",
      "text/plain": [
       "<Figure size 432x288 with 1 Axes>"
      ]
     },
     "metadata": {
      "needs_background": "light"
     },
     "output_type": "display_data"
    }
   ],
   "source": [
    "def f(x):\n",
    "    return (35*x**2 + 4*x - 15) / (3*x - 2)\n",
    "\n",
    "x_sym = Symbol(\"x\")\n",
    "diag_as = get_diag_as(f, x_sym)\n",
    "vert_as = get_vert_as(f, x_sym)\n",
    "\n",
    "display(Markdown(\"#### Функция:\"), f(x_sym))\n",
    "display(Markdown(\"#### Наклонные асимптоты в виде $(k, b)$:\"), diag_as)\n",
    "display(Markdown(\"#### Вертикальные асимптоты в точках:\"), vert_as)\n",
    "\n",
    "ax = plt.gca()\n",
    "ax.set(ylim=(-50, 50))\n",
    "plt.xlabel(\"Ось X\")\n",
    "plt.ylabel(\"Ось Y\")\n",
    "\n",
    "v_as = vert_as[0]\n",
    "ax.axvline(x=v_as, color='red', linestyle='--', label=f\"$asympt. x={v_as}$\")    \n",
    "\n",
    "X1, X2 = np.linspace(-5, float(v_as - 0.01), 100), np.linspace(float(v_as + 0.01), 5, 100)\n",
    "Y1, Y2 = f(X1), f(X2)\n",
    "ax.plot(X1, Y1, 'k-', label=r'$g(x)=' + sympy.latex(f(x_sym)) + r'$') # График левой ветви функции\n",
    "ax.plot(X2, Y2, 'k-') # График правой ветви функции\n",
    "\n",
    "d_as = diag_as[0][0]*x_sym + diag_as[0][1]\n",
    "ax.plot( # График наклонной асимптоты\n",
    "    [X1[0], X2[-1]],\n",
    "    [d_as.subs(x_sym, X1[0]), d_as.subs(x_sym, X2[-1])], \n",
    "    'g--', label=r'$asympt. y=' + sympy.latex(d_as) + r'$'\n",
    ")\n",
    "\n",
    "ax.legend(loc='best')"
   ]
  },
  {
   "cell_type": "markdown",
   "metadata": {},
   "source": [
    "### Задание 3.\n",
    "Описать в виде функции траекторию пули, выпущенной со скоростью $v_0$ под углом $\\alpha$ к горизонту (по умолчанию $v_0 = 0$, $\\alpha = \\pi/2$)\n",
    "$$\n",
    "\\left\\{\n",
    "\\begin{matrix}\n",
    "x=v_0t\\cos\\alpha\\\\\n",
    "y=v_0t\\sin\\alpha-\\frac{10t^2}{2}\n",
    "\\end{matrix}\n",
    "\\right.\n",
    "$$\n",
    "Аргументы функции $t$, $v_0$ и $\\alpha$, результат - два выражения $x$ и $y$, в соответствии с формулами, приведенными выше.\n",
    "\n",
    "Определить соответствующий набору параметров $v_0$ и $\\alpha$ диапазон значений параметра времени $t$, учитывая, что пуля не должна провалиться сквозь землю. \n",
    "\n",
    "Построить траектории при заданных значениях начальной скорости и угла на одном графике (($v_0 = 1$, $\\alpha = \\pi/6$), ($v_0 = 2$, $\\alpha= \\pi/4$), ($v_0 = 2$, $\\alpha = 1$)). Графики должны быть соответственно зеленого, красного и черного цвета. \n",
    "\n",
    "Подписать оси $x$, $y$.\n",
    "\n",
    "В легенде отразить значения параметров, например, $v_0 = 2,\\ \\alpha = \\pi/6$.\n",
    "\n",
    "Название графика - Траектории пуль.\n",
    "#### Указание.\n",
    "Использовать $\\sin$ из numpy.\n",
    "\n",
    "Решить уравнение $y = 0$ относительно $t$, пользуясь solve или solveset, чтобы с помощью найденного значения $t$ определить правую границу значений $x$."
   ]
  },
  {
   "cell_type": "markdown",
   "metadata": {},
   "source": [
    "#### Решение.\n",
    "Определим функцию, зададим списком данные наборы параметров ($v_0 = 1$, $\\alpha = \\pi/6$), ($v_0 = 2$, $\\alpha= \\pi/4$), ($v_0 = 2$, $\\alpha = 1$) и найдем значение параметра $t$, при котором  $y = 0$. Затем подстановкой subs в t_interval найдем наибольшее значение $t$ и построим графики:"
   ]
  },
  {
   "cell_type": "code",
   "execution_count": 138,
   "metadata": {},
   "outputs": [
    {
     "data": {
      "text/plain": [
       "<matplotlib.legend.Legend at 0x21be936cfa0>"
      ]
     },
     "execution_count": 138,
     "metadata": {},
     "output_type": "execute_result"
    },
    {
     "data": {
      "image/png": "[encoded data removed]",
      "text/plain": [
       "<Figure size 432x288 with 1 Axes>"
      ]
     },
     "metadata": {
      "needs_background": "light"
     },
     "output_type": "display_data"
    }
   ],
   "source": [
    "ax = plt.gca()\n",
    "plt.xlabel(\"Ось X\")\n",
    "plt.ylabel(\"Ось Y\")\n",
    "ax.set_title('Траектории пуль')\n",
    "\n",
    "t, v0, alpha = symbols(\"t v_0 alpha\")\n",
    "f = v0 * t * sympy.cos(alpha)\n",
    "g = v0 * t * sympy.sin(alpha) - 5 * t**2\n",
    "\n",
    "pars = [{v0: 1, alpha: sympy.pi/6}, {v0: 2, alpha: sympy.pi/4}, {v0: 2, alpha: 1}]\n",
    "colors = [\"green\", \"red\", \"black\"]\n",
    "\n",
    "for num, par in enumerate(pars):\n",
    "    x, y = f.subs(par), g.subs(par)    \n",
    "    t_max = float(solve(y)[-1])\n",
    "    ls = np.linspace(0, t_max, 100)\n",
    "    X, Y = [float(x.subs(t, i)) for i in ls], [float(y.subs(t, i)) for i in ls]\n",
    "    ax.plot(X, Y, label=f\"$v_0 = {par[v0]}, \\\\alpha = {par[alpha]}$\", color=colors[num])\n",
    "    \n",
    "ax.legend(loc='upper right')"
   ]
  },
  {
   "cell_type": "markdown",
   "metadata": {},
   "source": [
    "### Индивидуальное задание.\n",
    "Построить в одной координатной плоскости графики функций $f(x) = $\n",
    "    $0$, $g(x) = $\n",
    "    $2 \\cos{\\left(2 x \\right)}$ на \n",
    "    отрезке $\\left[ 3 \\pi / 2, \\  3 \\pi\\right]$, $f(x)$ красная \n",
    "    сплошная линия, $g(x)$ зеленая пунктирная линия. \n",
    "    Отметки на горизонтальной оси от $3 \\pi / 2$ до $3 \\pi$ с \n",
    "    шагом $\\pi / 4$, отметки подписать формулами как в Примере 3.  \n",
    "    По вертикальной оси отметки $-2$, 0, $2$."
   ]
  },
  {
   "cell_type": "code",
   "execution_count": 143,
   "metadata": {},
   "outputs": [
    {
     "data": {
      "text/plain": [
       "[<matplotlib.axis.YTick at 0x21bea663a60>,\n",
       " <matplotlib.axis.YTick at 0x21be8df7370>,\n",
       " <matplotlib.axis.YTick at 0x21be93684f0>]"
      ]
     },
     "execution_count": 143,
     "metadata": {},
     "output_type": "execute_result"
    },
    {
     "data": {
      "image/png": "[encoded data removed]",
      "text/plain": [
       "<Figure size 432x288 with 1 Axes>"
      ]
     },
     "metadata": {
      "needs_background": "light"
     },
     "output_type": "display_data"
    }
   ],
   "source": [
    "def f(x):\n",
    "    return x*0\n",
    "\n",
    "def g(x):    \n",
    "    return 2*np.cos(2*x)\n",
    "\n",
    "x = Symbol(\"x\")\n",
    "dom = (3*sympy.pi/2, 3*sympy.pi)\n",
    "step = sympy.pi/4\n",
    "ls = np.linspace(float(dom[0]), float(dom[1]), 100)\n",
    "\n",
    "ax = plt.gca()\n",
    "ax.plot(ls, f(ls), \"r\")\n",
    "ax.plot(ls, g(ls), \"g--\")\n",
    "\n",
    "ticks_num = int((dom[1] - dom[0]) / step) + 1\n",
    "ax.set_xticks([dom[0] + step * i  for i in range(ticks_num)])\n",
    "ax.set_xticklabels([f\"${latex(dom[0] + step * i)}$\" for i in range(ticks_num)]) \n",
    "ax.set_yticks([-2, 0, 2])"
   ]
  }
 ],
 "metadata": {
  "kernelspec": {
   "display_name": "Python 3",
   "language": "python",
   "name": "python3"
  },
  "language_info": {
   "codemirror_mode": {
    "name": "ipython",
    "version": 3
   },
   "file_extension": ".py",
   "mimetype": "text/x-python",
   "name": "python",
   "nbconvert_exporter": "python",
   "pygments_lexer": "ipython3",
   "version": "3.9.0"
  }
 },
 "nbformat": 4,
 "nbformat_minor": 2
}
