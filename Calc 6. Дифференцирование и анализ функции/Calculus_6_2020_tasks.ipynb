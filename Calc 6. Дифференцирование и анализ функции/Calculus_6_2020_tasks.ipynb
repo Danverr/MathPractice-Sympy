{
 "cells": [
  {
   "cell_type": "markdown",
   "metadata": {},
   "source": [
    "## Занятие 6\n",
    "## Математический анализ\n",
    "## Дифференцирование"
   ]
  },
  {
   "cell_type": "code",
   "execution_count": 3,
   "metadata": {},
   "outputs": [],
   "source": [
    "from IPython.display import Markdown\n",
    "import numpy as np\n",
    "import matplotlib.pyplot as plt\n",
    "import sympy\n",
    "from sympy import diff, solve, nsolve, solveset, latex, S, simplify, fraction, symbols\n",
    "from sympy import sin as Sin\n",
    "from sympy.calculus.util import continuous_domain\n",
    "%matplotlib inline"
   ]
  },
  {
   "cell_type": "code",
   "execution_count": 4,
   "metadata": {},
   "outputs": [],
   "source": [
    "# Константы\n",
    "x = symbols(\"x\")\n",
    "eps = 1e-6"
   ]
  },
  {
   "cell_type": "code",
   "execution_count": 5,
   "metadata": {},
   "outputs": [],
   "source": [
    "def getParity(f):    \n",
    "    parity = \"Функция общего вида\"\n",
    "    \n",
    "    if f(-x) == f(x):\n",
    "        parity = \"Четная функция\"\n",
    "    elif f(-x) == -f(x):\n",
    "        parity = \"Нечетная функция\"\n",
    "        \n",
    "    return parity"
   ]
  },
  {
   "cell_type": "code",
   "execution_count": 6,
   "metadata": {},
   "outputs": [],
   "source": [
    "def getDomain(f):\n",
    "    return continuous_domain(f(x), x, domain=S.Reals)"
   ]
  },
  {
   "cell_type": "code",
   "execution_count": 7,
   "metadata": {},
   "outputs": [],
   "source": [
    "def getSolutions_num(f, dom, isFoo=True):\n",
    "    expr = f(x) if isFoo else f\n",
    "    solutions = []\n",
    "    X0 = np.linspace(*dom)\n",
    "    \n",
    "    for i in range(len(X0) - 1):\n",
    "        try:\n",
    "            val = nsolve(expr, x, [X0[i], X0[i + 1]], solver='bisect')\n",
    "        except:\n",
    "            pass\n",
    "        else:\n",
    "            solutions.append(val)\n",
    "    \n",
    "    solutions = set(solutions)\n",
    "    return [(sol, expr.subs(x, sol)) for sol in solutions]    "
   ]
  },
  {
   "cell_type": "code",
   "execution_count": 8,
   "metadata": {},
   "outputs": [],
   "source": [
    "def getSolutions(f, isFoo=True):\n",
    "    expr = f(x) if isFoo else f\n",
    "    solutions = list(solveset(simplify(expr)))\n",
    "    return [(sol, expr.subs(x, sol)) for sol in solutions]        "
   ]
  },
  {
   "cell_type": "code",
   "execution_count": 9,
   "metadata": {},
   "outputs": [],
   "source": [
    "def getExtremumPoints(f, dom):\n",
    "    diff = f(x).diff(x)\n",
    "    points = getSolutions_num(diff, dom, isFoo=False)\n",
    "    extr = []\n",
    "    \n",
    "    for p in points:\n",
    "        l, r = diff.subs(x, p[0] - eps), diff.subs(x, p[0] + eps)\n",
    "        p_type = \"min\" if l < 0 and r > 0 else \"max\"\n",
    "        extr.append({\"point\": (p[0], f(p[0])), \"type\": p_type})\n",
    "    \n",
    "    return extr"
   ]
  },
  {
   "cell_type": "code",
   "execution_count": 10,
   "metadata": {},
   "outputs": [],
   "source": [
    "def getInflectionPoints(f, dom):\n",
    "    diff = f(x).diff(x, 2)\n",
    "    points = getSolutions_num(diff, dom, isFoo=False)\n",
    "    inflectionPoints = []\n",
    "    \n",
    "    for p in points:\n",
    "        l, r = diff.subs(x, p[0] - eps), diff.subs(x, p[0] + eps)\n",
    "        \n",
    "        if l * r < 0:\n",
    "            inflectionPoints.append((p[0], f(p[0])))\n",
    "    \n",
    "    return inflectionPoints"
   ]
  },
  {
   "cell_type": "code",
   "execution_count": 11,
   "metadata": {},
   "outputs": [],
   "source": [
    "def setToPoints(s):\n",
    "    points = []  \n",
    "    \n",
    "    def getPoint(val, isOpen):\n",
    "        return {\"val\": float(val), \"isOpen\": isOpen}\n",
    "\n",
    "    if isinstance(s, sympy.Interval):\n",
    "        points.append(getPoint(s.args[0], s.args[2]))\n",
    "        points.append(getPoint(s.args[1], s.args[3]))\n",
    "    else:\n",
    "        for arg in s.args:\n",
    "            points.append(getPoint(arg.left,  arg.left_open))\n",
    "            points.append(getPoint(arg.right,  arg.right_open))\n",
    "    \n",
    "    return points"
   ]
  },
  {
   "cell_type": "code",
   "execution_count": 12,
   "metadata": {},
   "outputs": [],
   "source": [
    "def getVertAsympt(f, dom):    \n",
    "    if dom == S.Reals:\n",
    "        return []\n",
    "    \n",
    "    asympt = []\n",
    "    p = setToPoints(dom)\n",
    "    \n",
    "    for i in range(len(p) - 1):\n",
    "        if p[i][\"isOpen\"] and p[i + 1][\"isOpen\"] and p[i][\"val\"] == p[i + 1][\"val\"]:\n",
    "            val = p[i][\"val\"] \n",
    "            l_lim = f(x).limit(x, val, dir='-')\n",
    "            r_lim = f(x).limit(x, val, dir=\"+\")\n",
    "            \n",
    "            if abs(l_lim) == sympy.oo or abs(r_lim) == sympy.oo:\n",
    "                asympt.append(p[i][\"val\"])\n",
    "    \n",
    "    return asympt"
   ]
  },
  {
   "cell_type": "code",
   "execution_count": 13,
   "metadata": {},
   "outputs": [],
   "source": [
    "def getInclinedAsympt(f):\n",
    "    kpos = sympy.limit(f(x)/x, x, +sympy.oo)\n",
    "    kneg = sympy.limit(f(x)/x, x, -sympy.oo)   \n",
    "    k_list = list(set([kpos, kneg]))\n",
    "    return [(k, sympy.limit(f(x) - k*x, x, sympy.oo)) for k in k_list if abs(k) != sympy.oo]"
   ]
  },
  {
   "cell_type": "code",
   "execution_count": 14,
   "metadata": {},
   "outputs": [],
   "source": [
    "def annotate(ax, p, text=\"\", offset=(0, 0)):\n",
    "    ax.annotate(\n",
    "        text,\n",
    "        xy=p,\n",
    "        xytext=(p[0] + offset[0], p[1] + offset[1]),\n",
    "        xycoords='data',\n",
    "        textcoords='data',\n",
    "        arrowprops=dict(arrowstyle=\"->\", connectionstyle=\"arc3,rad=.2\")\n",
    "    ) "
   ]
  },
  {
   "cell_type": "code",
   "execution_count": 15,
   "metadata": {},
   "outputs": [],
   "source": [
    "def drawPlot(f, plot_dom=(-10, 10), dom=S.Reals, extr_points=[], inf_points=[], vert_as=[], inc_as=[]):   \n",
    "    domLinspace = np.linspace(*plot_dom, 1000)\n",
    "    ax = plt.gca()\n",
    "    ax.set(ylim=plot_dom) \n",
    "    plt.xlabel(\"Ось X\")\n",
    "    plt.ylabel(\"Ось Y\")\n",
    "    \n",
    "    annot_offset = abs(plot_dom[0] - plot_dom[1]) / 10\n",
    "    \n",
    "    # Точки экстремума\n",
    "    p_num = 1\n",
    "    for p in extr_points:\n",
    "        annotate(ax, p[\"point\"], f'$(\\cdot)\\\\{p[\"type\"]}$', (annot_offset, p_num*annot_offset))\n",
    "        p_num += 1\n",
    "        \n",
    "    # Точки перегиба\n",
    "    p_num = 1\n",
    "    for p in inf_points:\n",
    "        annotate(ax, p, \"Перегиб\", (annot_offset, -p_num*annot_offset))\n",
    "        p_num += 1\n",
    "    \n",
    "    # График функции\n",
    "    inter_p = setToPoints(sympy.Intersection(sympy.Interval(*plot_dom), dom)) \n",
    "    \n",
    "    for i in range(len(inter_p) - 1):\n",
    "        l, r = inter_p[i], inter_p[i + 1]        \n",
    "        \n",
    "        X = np.linspace(\n",
    "            l[\"val\"] + (eps if l[\"isOpen\"] else 0),\n",
    "            r[\"val\"] + (-eps if r[\"isOpen\"] else 0),\n",
    "            1000\n",
    "        )\n",
    "        Y = f(X, lib=\"numpy\")\n",
    "        \n",
    "        if i == 0:\n",
    "            ax.plot(X, Y, \"b-\", label=f\"$f(x)={sympy.latex(f(x))}$\")\n",
    "        else:\n",
    "            ax.plot(X, Y, \"b-\")\n",
    "    \n",
    "    # Графики вертикальных асимптот\n",
    "    for asympt in vert_as:\n",
    "        ax.axvline(x=asympt, color='red', linestyle='--', label=f\"$asympt: x={asympt}$\")    \n",
    "    \n",
    "    # Графики наклонных асимптот\n",
    "    for asympt in inc_as:\n",
    "        ax.plot( \n",
    "            domLinspace, asympt[0] * domLinspace + asympt[1],\n",
    "            'g--', label=f'$asympt: y={sympy.latex(asympt[0] * x + asympt[1])}$'\n",
    "        )\n",
    "        \n",
    "    ax.legend(loc='lower right')"
   ]
  },
  {
   "cell_type": "code",
   "execution_count": 16,
   "metadata": {},
   "outputs": [],
   "source": [
    "def analyse(f, plot_dom=(-10, 10)):\n",
    "    dom = getDomain(f)\n",
    "    vert_as = getVertAsympt(f, dom)\n",
    "    inc_as = getInclinedAsympt(f)\n",
    "    extr_points = getExtremumPoints(f, plot_dom)\n",
    "    inf_points = getInflectionPoints(f, plot_dom)\n",
    "    \n",
    "    display(Markdown(f\"#### 1. Область определения\"), dom)\n",
    "    display(Markdown(f\"#### 2. Четность\"), Markdown(getParity(f)))\n",
    "    display(Markdown(f\"#### 3. Точки пересечения с осями координат\"), getSolutions_num(f, plot_dom))\n",
    "    display(Markdown(f\"#### 4. Точки экстремума\"), extr_points)\n",
    "    display(Markdown(f\"#### 5. Точки перегиба\"), inf_points) \n",
    "    display(Markdown(f\"#### 6. Асимптоты\"))\n",
    "    display(Markdown(f\" 6.1 Вертикальные\"), vert_as)\n",
    "    display(Markdown(f\" 6.2 Наклонные/Горизонтальные\"), inc_as)\n",
    "    display(Markdown(f\"#### 7. График\"))\n",
    "    \n",
    "    drawPlot(\n",
    "        f,\n",
    "        plot_dom=plot_dom,\n",
    "        dom=dom,\n",
    "        extr_points=extr_points,\n",
    "        inf_points=inf_points,\n",
    "        vert_as=vert_as,\n",
    "        inc_as=inc_as\n",
    "    )"
   ]
  },
  {
   "cell_type": "markdown",
   "metadata": {},
   "source": [
    "## Лабораторная работа 6\n",
    "## Математический анализ\n",
    "## Задание 1\n",
    "Исследовать функцию с помощью производной, найти необходимые пределы и решить уравнения.\n",
    "\n",
    "Построить график функции и асимптот, отметить и подписать точки экстремума и точки перегиба,\n",
    "включить функцию и асимптоты в легенду. \n",
    "$$\n",
    "y = x^2e^{-x}\n",
    "$$"
   ]
  },
  {
   "cell_type": "code",
   "execution_count": 17,
   "metadata": {},
   "outputs": [
    {
     "data": {
      "text/markdown": [
       "#### 1. Область определения"
      ],
      "text/plain": [
       "<IPython.core.display.Markdown object>"
      ]
     },
     "metadata": {},
     "output_type": "display_data"
    },
    {
     "data": {
      "text/latex": [
       "$\\displaystyle \\mathbb{R}$"
      ],
      "text/plain": [
       "Reals"
      ]
     },
     "metadata": {},
     "output_type": "display_data"
    },
    {
     "data": {
      "text/markdown": [
       "#### 2. Четность"
      ],
      "text/plain": [
       "<IPython.core.display.Markdown object>"
      ]
     },
     "metadata": {},
     "output_type": "display_data"
    },
    {
     "data": {
      "text/markdown": [
       "Функция общего вида"
      ],
      "text/plain": [
       "<IPython.core.display.Markdown object>"
      ]
     },
     "metadata": {},
     "output_type": "display_data"
    },
    {
     "data": {
      "text/markdown": [
       "#### 3. Точки пересечения с осями координат"
      ],
      "text/plain": [
       "<IPython.core.display.Markdown object>"
      ]
     },
     "metadata": {},
     "output_type": "display_data"
    },
    {
     "data": {
      "text/plain": [
       "[(0, 0)]"
      ]
     },
     "metadata": {},
     "output_type": "display_data"
    },
    {
     "data": {
      "text/markdown": [
       "#### 4. Точки экстремума"
      ],
      "text/plain": [
       "<IPython.core.display.Markdown object>"
      ]
     },
     "metadata": {},
     "output_type": "display_data"
    },
    {
     "data": {
      "text/plain": [
       "[{'point': (0, 0), 'type': 'min'},\n",
       " {'point': (2.00000000000000, 0.541341132946451), 'type': 'max'}]"
      ]
     },
     "metadata": {},
     "output_type": "display_data"
    },
    {
     "data": {
      "text/markdown": [
       "#### 5. Точки перегиба"
      ],
      "text/plain": [
       "<IPython.core.display.Markdown object>"
      ]
     },
     "metadata": {},
     "output_type": "display_data"
    },
    {
     "data": {
      "text/plain": [
       "[(3.41421356237309, 0.383536990512539), (0.585786437626905, 0.191018226056977)]"
      ]
     },
     "metadata": {},
     "output_type": "display_data"
    },
    {
     "data": {
      "text/markdown": [
       "#### 6. Асимптоты"
      ],
      "text/plain": [
       "<IPython.core.display.Markdown object>"
      ]
     },
     "metadata": {},
     "output_type": "display_data"
    },
    {
     "data": {
      "text/markdown": [
       " 6.1 Вертикальные"
      ],
      "text/plain": [
       "<IPython.core.display.Markdown object>"
      ]
     },
     "metadata": {},
     "output_type": "display_data"
    },
    {
     "data": {
      "text/plain": [
       "[]"
      ]
     },
     "metadata": {},
     "output_type": "display_data"
    },
    {
     "data": {
      "text/markdown": [
       " 6.2 Наклонные/Горизонтальные"
      ],
      "text/plain": [
       "<IPython.core.display.Markdown object>"
      ]
     },
     "metadata": {},
     "output_type": "display_data"
    },
    {
     "data": {
      "text/plain": [
       "[(0, 0)]"
      ]
     },
     "metadata": {},
     "output_type": "display_data"
    },
    {
     "data": {
      "text/markdown": [
       "#### 7. График"
      ],
      "text/plain": [
       "<IPython.core.display.Markdown object>"
      ]
     },
     "metadata": {},
     "output_type": "display_data"
    },
    {
     "data": {
      "image/png": "[encoded data removed]",
      "text/plain": [
       "<Figure size 432x288 with 1 Axes>"
      ]
     },
     "metadata": {
      "needs_background": "light"
     },
     "output_type": "display_data"
    }
   ],
   "source": [
    "def f(x, lib=\"sympy\"):\n",
    "    if lib == \"sympy\":\n",
    "        return x**2 * sympy.exp(-x)\n",
    "    elif lib == \"numpy\":\n",
    "        return x**2 * np.exp(-x)\n",
    "\n",
    "analyse(f, (-5, 5))"
   ]
  },
  {
   "cell_type": "markdown",
   "metadata": {},
   "source": [
    "## Задание 2\n",
    "Исследовать функцию с помощью производной, найти необходимые пределы и решить уравнения.\n",
    "\n",
    "Построить график функции и асимптот, отметить и подписать точки экстремума и точки перегиба,\n",
    "включить функцию и асимптоты в легенду. \n",
    "$$\n",
    "y=xe^{2/x} + 1 \n",
    "$$"
   ]
  },
  {
   "cell_type": "code",
   "execution_count": 18,
   "metadata": {},
   "outputs": [
    {
     "data": {
      "text/markdown": [
       "#### 1. Область определения"
      ],
      "text/plain": [
       "<IPython.core.display.Markdown object>"
      ]
     },
     "metadata": {},
     "output_type": "display_data"
    },
    {
     "data": {
      "text/latex": [
       "$\\displaystyle \\left(-\\infty, 0\\right) \\cup \\left(0, \\infty\\right)$"
      ],
      "text/plain": [
       "Union(Interval.open(-oo, 0), Interval.open(0, oo))"
      ]
     },
     "metadata": {},
     "output_type": "display_data"
    },
    {
     "data": {
      "text/markdown": [
       "#### 2. Четность"
      ],
      "text/plain": [
       "<IPython.core.display.Markdown object>"
      ]
     },
     "metadata": {},
     "output_type": "display_data"
    },
    {
     "data": {
      "text/markdown": [
       "Функция общего вида"
      ],
      "text/plain": [
       "<IPython.core.display.Markdown object>"
      ]
     },
     "metadata": {},
     "output_type": "display_data"
    },
    {
     "data": {
      "text/markdown": [
       "#### 3. Точки пересечения с осями координат"
      ],
      "text/plain": [
       "<IPython.core.display.Markdown object>"
      ]
     },
     "metadata": {},
     "output_type": "display_data"
    },
    {
     "data": {
      "text/plain": [
       "[(-2.34575075492277, 1.11022302462516e-16)]"
      ]
     },
     "metadata": {},
     "output_type": "display_data"
    },
    {
     "data": {
      "text/markdown": [
       "#### 4. Точки экстремума"
      ],
      "text/plain": [
       "<IPython.core.display.Markdown object>"
      ]
     },
     "metadata": {},
     "output_type": "display_data"
    },
    {
     "data": {
      "text/plain": [
       "[{'point': (2.00000000000000, 6.43656365691809), 'type': 'min'}]"
      ]
     },
     "metadata": {},
     "output_type": "display_data"
    },
    {
     "data": {
      "text/markdown": [
       "#### 5. Точки перегиба"
      ],
      "text/plain": [
       "<IPython.core.display.Markdown object>"
      ]
     },
     "metadata": {},
     "output_type": "display_data"
    },
    {
     "data": {
      "text/plain": [
       "[]"
      ]
     },
     "metadata": {},
     "output_type": "display_data"
    },
    {
     "data": {
      "text/markdown": [
       "#### 6. Асимптоты"
      ],
      "text/plain": [
       "<IPython.core.display.Markdown object>"
      ]
     },
     "metadata": {},
     "output_type": "display_data"
    },
    {
     "data": {
      "text/markdown": [
       " 6.1 Вертикальные"
      ],
      "text/plain": [
       "<IPython.core.display.Markdown object>"
      ]
     },
     "metadata": {},
     "output_type": "display_data"
    },
    {
     "data": {
      "text/plain": [
       "[0.0]"
      ]
     },
     "metadata": {},
     "output_type": "display_data"
    },
    {
     "data": {
      "text/markdown": [
       " 6.2 Наклонные/Горизонтальные"
      ],
      "text/plain": [
       "<IPython.core.display.Markdown object>"
      ]
     },
     "metadata": {},
     "output_type": "display_data"
    },
    {
     "data": {
      "text/plain": [
       "[(1, 3)]"
      ]
     },
     "metadata": {},
     "output_type": "display_data"
    },
    {
     "data": {
      "text/markdown": [
       "#### 7. График"
      ],
      "text/plain": [
       "<IPython.core.display.Markdown object>"
      ]
     },
     "metadata": {},
     "output_type": "display_data"
    },
    {
     "name": "stderr",
     "output_type": "stream",
     "text": [
      "<ipython-input-18-13cf747ad835>:5: RuntimeWarning: overflow encountered in exp\n",
      "  return x*np.exp(2/x) + 1\n",
      "<ipython-input-18-13cf747ad835>:5: RuntimeWarning: overflow encountered in exp\n",
      "  return x*np.exp(2/x) + 1\n"
     ]
    },
    {
     "data": {
      "image/png": "[encoded data removed]",
      "text/plain": [
       "<Figure size 432x288 with 1 Axes>"
      ]
     },
     "metadata": {
      "needs_background": "light"
     },
     "output_type": "display_data"
    }
   ],
   "source": [
    "def f(x, lib=\"sympy\"):\n",
    "    if lib == \"sympy\":\n",
    "        return x*sympy.exp(2/x) + 1  \n",
    "    elif lib == \"numpy\":\n",
    "        return x*np.exp(2/x) + 1  \n",
    "\n",
    "analyse(f)"
   ]
  },
  {
   "cell_type": "markdown",
   "metadata": {},
   "source": [
    "## Индивидуальное задание #11\n",
    "Исследовать функцию с помощью производной, найти необходимые пределы и решить уравнения.\n",
    "\n",
    "Построить график функции и асимптот (если есть), отметить и подписать точки экстремума и точки перегиба (если есть),\n",
    "включить функцию и асимптоты (если есть) в легенду. \n",
    "\n",
    "$$f(x) = \\left(5 x + 6\\right) e^{\\frac{2}{x}} + 4$$"
   ]
  },
  {
   "cell_type": "code",
   "execution_count": 19,
   "metadata": {
    "scrolled": false
   },
   "outputs": [
    {
     "data": {
      "text/markdown": [
       "#### 1. Область определения"
      ],
      "text/plain": [
       "<IPython.core.display.Markdown object>"
      ]
     },
     "metadata": {},
     "output_type": "display_data"
    },
    {
     "data": {
      "text/latex": [
       "$\\displaystyle \\left(-\\infty, 0\\right) \\cup \\left(0, \\infty\\right)$"
      ],
      "text/plain": [
       "Union(Interval.open(-oo, 0), Interval.open(0, oo))"
      ]
     },
     "metadata": {},
     "output_type": "display_data"
    },
    {
     "data": {
      "text/markdown": [
       "#### 2. Четность"
      ],
      "text/plain": [
       "<IPython.core.display.Markdown object>"
      ]
     },
     "metadata": {},
     "output_type": "display_data"
    },
    {
     "data": {
      "text/markdown": [
       "Функция общего вида"
      ],
      "text/plain": [
       "<IPython.core.display.Markdown object>"
      ]
     },
     "metadata": {},
     "output_type": "display_data"
    },
    {
     "data": {
      "text/markdown": [
       "#### 3. Точки пересечения с осями координат"
      ],
      "text/plain": [
       "<IPython.core.display.Markdown object>"
      ]
     },
     "metadata": {},
     "output_type": "display_data"
    },
    {
     "data": {
      "text/plain": [
       "[(-2.82420716260726, 0)]"
      ]
     },
     "metadata": {},
     "output_type": "display_data"
    },
    {
     "data": {
      "text/markdown": [
       "#### 4. Точки экстремума"
      ],
      "text/plain": [
       "<IPython.core.display.Markdown object>"
      ]
     },
     "metadata": {},
     "output_type": "display_data"
    },
    {
     "data": {
      "text/plain": [
       "[{'point': (-0.843908891458578, 4.16645091434167), 'type': 'max'},\n",
       " {'point': (2.84390889145858, 44.8500111221667), 'type': 'min'}]"
      ]
     },
     "metadata": {},
     "output_type": "display_data"
    },
    {
     "data": {
      "text/markdown": [
       "#### 5. Точки перегиба"
      ],
      "text/plain": [
       "<IPython.core.display.Markdown object>"
      ]
     },
     "metadata": {},
     "output_type": "display_data"
    },
    {
     "data": {
      "text/plain": [
       "[(-0.545454545454545, 4.08365592685766)]"
      ]
     },
     "metadata": {},
     "output_type": "display_data"
    },
    {
     "data": {
      "text/markdown": [
       "#### 6. Асимптоты"
      ],
      "text/plain": [
       "<IPython.core.display.Markdown object>"
      ]
     },
     "metadata": {},
     "output_type": "display_data"
    },
    {
     "data": {
      "text/markdown": [
       " 6.1 Вертикальные"
      ],
      "text/plain": [
       "<IPython.core.display.Markdown object>"
      ]
     },
     "metadata": {},
     "output_type": "display_data"
    },
    {
     "data": {
      "text/plain": [
       "[0.0]"
      ]
     },
     "metadata": {},
     "output_type": "display_data"
    },
    {
     "data": {
      "text/markdown": [
       " 6.2 Наклонные/Горизонтальные"
      ],
      "text/plain": [
       "<IPython.core.display.Markdown object>"
      ]
     },
     "metadata": {},
     "output_type": "display_data"
    },
    {
     "data": {
      "text/plain": [
       "[(5, 20)]"
      ]
     },
     "metadata": {},
     "output_type": "display_data"
    },
    {
     "data": {
      "text/markdown": [
       "#### 7. График"
      ],
      "text/plain": [
       "<IPython.core.display.Markdown object>"
      ]
     },
     "metadata": {},
     "output_type": "display_data"
    },
    {
     "name": "stderr",
     "output_type": "stream",
     "text": [
      "<ipython-input-19-60c7f52d29b7>:5: RuntimeWarning: overflow encountered in exp\n",
      "  return  (5*x + 6) * np.exp(2/x) + 4\n",
      "<ipython-input-19-60c7f52d29b7>:5: RuntimeWarning: overflow encountered in exp\n",
      "  return  (5*x + 6) * np.exp(2/x) + 4\n"
     ]
    },
    {
     "data": {
      "image/png": "[encoded data removed]",
      "text/plain": [
       "<Figure size 432x288 with 1 Axes>"
      ]
     },
     "metadata": {
      "needs_background": "light"
     },
     "output_type": "display_data"
    }
   ],
   "source": [
    "def f(x, lib=\"sympy\"):\n",
    "    if lib == \"sympy\":\n",
    "        return (5*x + 6) * sympy.exp(2/x) + 4\n",
    "    elif lib == \"numpy\":\n",
    "        return  (5*x + 6) * np.exp(2/x) + 4\n",
    "\n",
    "analyse(f, (-100, 100))"
   ]
  }
 ],
 "metadata": {
  "kernelspec": {
   "display_name": "Python 3",
   "language": "python",
   "name": "python3"
  },
  "language_info": {
   "codemirror_mode": {
    "name": "ipython",
    "version": 3
   },
   "file_extension": ".py",
   "mimetype": "text/x-python",
   "name": "python",
   "nbconvert_exporter": "python",
   "pygments_lexer": "ipython3",
   "version": "3.9.0"
  }
 },
 "nbformat": 4,
 "nbformat_minor": 2
}
