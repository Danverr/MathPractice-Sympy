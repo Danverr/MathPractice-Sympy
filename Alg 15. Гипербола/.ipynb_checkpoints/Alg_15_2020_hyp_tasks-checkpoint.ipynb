{
 "cells": [
  {
   "cell_type": "code",
   "execution_count": 2,
   "metadata": {
    "id": "n3TtiCO3CDvT"
   },
   "outputs": [],
   "source": [
    "import numpy as np\n",
    "import sympy\n",
    "from sympy import Expr, Eq, latex, plot_implicit, tan, cot\n",
    "from sympy.core import S, pi, sympify\n",
    "from sympy.core.logic import fuzzy_bool\n",
    "from sympy.core.numbers import Rational, oo\n",
    "from sympy.core.compatibility import ordered\n",
    "from sympy.core.symbol import Dummy, _uniquely_named_symbol, _symbol\n",
    "from sympy.simplify import simplify, trigsimp\n",
    "from sympy.functions.elementary.miscellaneous import sqrt, Max\n",
    "from sympy.functions.elementary.trigonometric import cos, sin\n",
    "from sympy.functions.special.elliptic_integrals import elliptic_e\n",
    "from sympy.geometry.exceptions import GeometryError\n",
    "from sympy.geometry.line import Ray2D, Segment2D, Line2D, LinearEntity3D\n",
    "from sympy.polys import DomainError, Poly, PolynomialError\n",
    "from sympy.polys.polyutils import _not_a_coeff, _nsort\n",
    "from sympy.solvers import solve\n",
    "from sympy.solvers.solveset import linear_coeffs\n",
    "from sympy.utilities.misc import filldedent, func_name\n",
    "from sympy.geometry.entity import GeometryEntity, GeometrySet\n",
    "from sympy.geometry.point import Point, Point2D, Point3D\n",
    "from sympy.geometry.line import Line, Segment\n",
    "from sympy.geometry.util import idiff\n",
    "import matplotlib.pyplot as plt\n",
    "%matplotlib inline"
   ]
  },
  {
   "cell_type": "markdown",
   "metadata": {
    "id": "vtTLX0McCDvf"
   },
   "source": [
    "# Занятие 15\n",
    "# Алгебра\n",
    "## Кривые второго порядка на плоскости: гипербола"
   ]
  },
  {
   "cell_type": "code",
   "execution_count": 131,
   "metadata": {
    "id": "qoGzee3LCDvi"
   },
   "outputs": [],
   "source": [
    "class Hyperbola(GeometrySet):\n",
    "    \"\"\"\n",
    "     Attributes\n",
    "    ==========\n",
    "    center\n",
    "    hradius\n",
    "    vradius\n",
    "    eccentricity\n",
    "    periapsis\n",
    "    focus_distance\n",
    "    foci\n",
    "    ==========\n",
    "    конструктор __new__\n",
    "    скопирован из Эллипса,\n",
    "    изменена формула для  hradius и vradius через эсцентриситет\n",
    "    \"\"\"\n",
    "    def __new__(\n",
    "        cls, center=None, hradius=None, vradius=None, eccentricity=None, **kwargs):\n",
    "        hradius = sympify(hradius)\n",
    "        vradius = sympify(vradius)\n",
    "\n",
    "        eccentricity = sympify(eccentricity)\n",
    "\n",
    "        if center is None:\n",
    "            center = Point(0, 0)\n",
    "        else:\n",
    "            center = Point(center, dim=2)\n",
    "\n",
    "        if len(center) != 2:\n",
    "            raise ValueError('The center of \"{0}\" must be a two dimensional point'.format(cls))\n",
    "\n",
    "        if len(list(filter(lambda x: x is not None, (hradius, vradius, eccentricity)))) != 2:\n",
    "            raise ValueError(filldedent('''\n",
    "                Exactly two arguments of \"hradius\", \"vradius\", and\n",
    "                \"eccentricity\" must not be None.'''))\n",
    "\n",
    "        if eccentricity is not None:\n",
    "            if hradius is None:\n",
    "                hradius = vradius/sqrt( eccentricity**2 - 1)\n",
    "            elif vradius is None:\n",
    "                vradius = hradius*sqrt( eccentricity**2 - 1)\n",
    "\n",
    "        if hradius == 0:\n",
    "            return \"Line\"\n",
    "        if vradius == 0:\n",
    "            return \"Rays\"\n",
    "        return GeometryEntity.__new__(cls, center, hradius, vradius, **kwargs)\n",
    "    \n",
    "    @property\n",
    "    def ambient_dimension(self):\n",
    "        return 2\n",
    "    \n",
    "    @property\n",
    "    def center(self):\n",
    "        return self.args[0]\n",
    "\n",
    "    @property\n",
    "    def hradius(self):\n",
    "        return self.args[1]\n",
    "    \n",
    "    @property\n",
    "    def vradius(self):\n",
    "        return self.args[2]\n",
    "    @property\n",
    "    def focus_distance(self):\n",
    "        return sqrt(self.hradius**2 + self.vradius**2)\n",
    "    \n",
    "    @property\n",
    "    def eccentricity(self):\n",
    "        \"\"\"The eccentricity of the ellipse.\"\"\"\n",
    "        return self.focus_distance/self.hradius\n",
    "    \n",
    "    @property\n",
    "    def periapsis(self):\n",
    "        \"\"\"The apoapsis of the hyperbola.\n",
    "        The smallest distance between the focus and the contour.\"\"\"\n",
    "        return self.focus_distance-self.hradius\n",
    "    @property\n",
    "    def foci(self):\n",
    "        return (self.center + Point(-self.focus_distance, 0), self.center + Point(self.focus_distance, 0))\n",
    "    \n",
    "    @property\n",
    "    def major(self):\n",
    "        return self.hradius\n",
    "    \n",
    "    @property\n",
    "    def minor(self):\n",
    "        return self.vradius\n",
    "    \n",
    "    def equation(self, x='x', y='y', _slope=None, equation=False):\n",
    "        \"\"\"\n",
    "        Returns the equation of a hyperbola aligned with the x and y axes;\n",
    "        when slope is given, the equation returned corresponds to a hyperbola \n",
    "        with a major axis having that slope.\n",
    "        Parameters\n",
    "        ==========\n",
    "        x : str, optional\n",
    "            Label for the x-axis. Default value is 'x'.\n",
    "        y : str, optional\n",
    "            Label for the y-axis. Default value is 'y'.\n",
    "        _slope : Expr, optional\n",
    "                The slope of the major axis. Ignored when 'None'.\n",
    "        Returns\n",
    "        =======\n",
    "        equation : sympy expression   \"\"\"\n",
    "\n",
    "        x = _symbol(x, real=True)\n",
    "        y = _symbol(y, real=True)\n",
    "\n",
    "        dx = x - self.center.x\n",
    "        dy = y - self.center.y\n",
    "\n",
    "        if _slope is not None:\n",
    "            L = (dy - _slope*dx)**2\n",
    "            l = (_slope*dy + dx)**2\n",
    "            h = 1 + _slope**2\n",
    "            a = h*self.major**2\n",
    "            b = h*self.minor**2\n",
    "            res= l/a - L/b \n",
    "\n",
    "        else:\n",
    "            t1 = (dx/self.hradius)**2\n",
    "            t2 = (dy/self.vradius)**2\n",
    "            res = t1 - t2 \n",
    "        if not equation:\n",
    "            return res - 1\n",
    "        else:\n",
    "            return Eq(res, 1)      \n",
    "        \n",
    "    def asymptote(self, x='x', y='y', alpha=None, equation=False):\n",
    "        if alpha == None:            \n",
    "            return (\n",
    "                self.center.y + self.vradius / self.hradius * (_symbol(x) - self.center.x) - _symbol(y),\n",
    "                self.center.y - self.vradius / self.hradius * (_symbol(x) - self.center.x) - _symbol(y),\n",
    "            )\n",
    "        else:\n",
    "            k1 = (self.vradius + self.hradius * sympy.tan(alpha)) / (self.hradius - self.vradius * sympy.tan(alpha))\n",
    "            k2 = (-self.vradius + self.hradius * sympy.tan(alpha)) / (self.hradius + self.vradius * sympy.tan(alpha))\n",
    "            return (\n",
    "                -_symbol(y) + self.center.y + k1 * (_symbol(x) - self.center.x),\n",
    "                -_symbol(y) + self.center.y + k2 * (_symbol(x) - self.center.x)\n",
    "            )        \n",
    "        \n",
    "    def directrix(self, x='x', y='y', alpha=None, equation=False):        \n",
    "        if alpha == None:\n",
    "            return (\n",
    "                self.center.x + self.hradius**2 / self.focus_distance - _symbol(x),\n",
    "                self.center.x - self.hradius**2 / self.focus_distance - _symbol(x),\n",
    "            )\n",
    "        else:\n",
    "            return (            \n",
    "                -_symbol(y) + self.center.y - sympy.cot(alpha)*(_symbol(x) - self.center.x) + self.hradius**2 / self.focus_distance * sqrt(1 + sympy.cot(alpha)),\n",
    "                -_symbol(y) + self.center.y - sympy.cot(alpha)*(_symbol(x) - self.center.x) - self.hradius**2 / self.focus_distance * sqrt(1 + sympy.cot(alpha)),\n",
    "            )"
   ]
  },
  {
   "cell_type": "markdown",
   "metadata": {
    "id": "g09Mub5dCDvm"
   },
   "source": [
    "# Занятие 15\n",
    "# Алгебра\n",
    "### Задание 1.\n",
    "Построить гиперболу с центром в точке А(1, 2), полуосями 12 и 5. Вывести на экран эксцентриситет, фокусное расстояние, фокусы (с координатами), periapsis и уравнение гиперболы."
   ]
  },
  {
   "cell_type": "code",
   "execution_count": 133,
   "metadata": {
    "id": "SSOc3rl0CDvp"
   },
   "outputs": [
    {
     "data": {
      "text/latex": [
       "$\\displaystyle \\frac{13}{12}$"
      ],
      "text/plain": [
       "13/12"
      ]
     },
     "metadata": {},
     "output_type": "display_data"
    },
    {
     "data": {
      "text/latex": [
       "$\\displaystyle 13$"
      ],
      "text/plain": [
       "13"
      ]
     },
     "metadata": {},
     "output_type": "display_data"
    },
    {
     "data": {
      "text/plain": [
       "(Point2D(-12, 2), Point2D(14, 2))"
      ]
     },
     "metadata": {},
     "output_type": "display_data"
    },
    {
     "data": {
      "text/latex": [
       "$\\displaystyle 1$"
      ],
      "text/plain": [
       "1"
      ]
     },
     "metadata": {},
     "output_type": "display_data"
    },
    {
     "data": {
      "text/latex": [
       "$\\displaystyle \\left(\\frac{x}{12} - \\frac{1}{12}\\right)^{2} - \\left(\\frac{y}{5} - \\frac{2}{5}\\right)^{2} - 1$"
      ],
      "text/plain": [
       "(x/12 - 1/12)**2 - (y/5 - 2/5)**2 - 1"
      ]
     },
     "metadata": {},
     "output_type": "display_data"
    }
   ],
   "source": [
    "A = Point(1, 2)\n",
    "hyp = Hyperbola(center=A, hradius=12, vradius=5)\n",
    "\n",
    "display(\n",
    "    hyp.eccentricity,\n",
    "    hyp.focus_distance,\n",
    "    hyp.foci,\n",
    "    hyp.periapsis,\n",
    "    hyp.equation(),\n",
    ")"
   ]
  },
  {
   "cell_type": "markdown",
   "metadata": {
    "id": "IXufojW2CDvr"
   },
   "source": [
    "### Задание 2.\n",
    "Добавить в описание класса гипербол методы \n",
    "\n",
    "asymptote(self, x='x', y='y', equation=False)\n",
    "\n",
    "directrix(self, x='x', equation=False)\n",
    "\n",
    "Для гиперболы Задания 1 вывести на экран уравнения асимптот и директрис."
   ]
  },
  {
   "cell_type": "code",
   "execution_count": 134,
   "metadata": {
    "id": "Nns4uMoVCDvt"
   },
   "outputs": [
    {
     "data": {
      "text/plain": [
       "(5*x/12 - y + 19/12, -5*x/12 - y + 29/12)"
      ]
     },
     "metadata": {},
     "output_type": "display_data"
    },
    {
     "data": {
      "text/plain": [
       "(157/13 - x, -x - 131/13)"
      ]
     },
     "metadata": {},
     "output_type": "display_data"
    },
    {
     "data": {
      "image/png": "[encoded data removed]",
      "text/plain": [
       "<Figure size 432x288 with 1 Axes>"
      ]
     },
     "metadata": {
      "needs_background": "light"
     },
     "output_type": "display_data"
    }
   ],
   "source": [
    "display(\n",
    "    hyp.asymptote(),\n",
    "    hyp.directrix(),\n",
    ")\n",
    "\n",
    "x, y = sympy.symbols(\"x y\")\n",
    "eq = hyp.equation(x=x, y=y)\n",
    "rng = ((x, -20, 20), (y, -20, 20))\n",
    "p = plot_implicit(eq, *rng, line_color='r', show=False, aspect_ratio=(1,1), adaptive=False)\n",
    "p.append(plot_implicit(hyp.asymptote()[0], *rng, aspect_ratio=(1,1), show=False, adaptive=False)[0])\n",
    "p.append(plot_implicit(hyp.asymptote()[1], *rng, aspect_ratio=(1,1), show=False, adaptive=False)[0])\n",
    "p.append(plot_implicit(hyp.directrix()[0], *rng, aspect_ratio=(1,1), show=False, adaptive=False)[0])\n",
    "p.append(plot_implicit(hyp.directrix()[1], *rng, aspect_ratio=(1,1), show=False, adaptive=False)[0])\n",
    "p.show()"
   ]
  },
  {
   "cell_type": "markdown",
   "metadata": {
    "id": "AiM4Ld0rCDvu"
   },
   "source": [
    "### Задание 3.\n",
    "Вывести на экран уравнение гиперболы из задания 1 с поворотом на 30 градусов против часовой стрелки относительно ее центра.\n",
    "Изобразить повернутую гиперболу с помощью plot_implicit."
   ]
  },
  {
   "cell_type": "code",
   "execution_count": 135,
   "metadata": {
    "id": "_XGBg68ICDvv"
   },
   "outputs": [
    {
     "data": {
      "image/png": "[encoded data removed]",
      "text/plain": [
       "<Figure size 432x288 with 1 Axes>"
      ]
     },
     "metadata": {
      "needs_background": "light"
     },
     "output_type": "display_data"
    }
   ],
   "source": [
    "x, y = sympy.symbols(\"x y\")\n",
    "rng = ((x, -20, 20), (y, -20, 20))\n",
    "p = plot_implicit(hyp.equation(x=x, y=y), *rng, line_color='r', show=False, aspect_ratio=(1,1), adaptive=False)\n",
    "p.append(plot_implicit(hyp.equation(x=x, y=y, _slope= tan(sympy.rad(30))), *rng, aspect_ratio=(1,1), show=False, adaptive=False)[0])\n",
    "p.show()"
   ]
  },
  {
   "cell_type": "markdown",
   "metadata": {
    "id": "hzDi5KWpCDvw"
   },
   "source": [
    "## Уравнения директрис и асимптот при повороте на угол $\\alpha$\n",
    "Пусть  $a$ - горизонтальная полуось, $c$ - фокусное расстояние, $x_0$ - горизонтальная координата центра гиперболы, тогда уравнение директрис \n",
    "$$\n",
    "x = x_0 \\pm \\frac{a^2}{c}\n",
    "$$\n",
    "При повороте на угол $\\alpha$ получается уравнение\n",
    "$$\n",
    "y = y_0 -{\\rm ctg} \\alpha(x - x_0) \\pm \\frac{a^2}{c}\\sqrt{1 + {\\rm ctg} \\alpha}\n",
    "$$\n",
    "Уравнение асимптоты\n",
    "$$\n",
    "y = y_0 \\pm \\frac{b}{a}(x - x_0)\n",
    "$$\n",
    "При повороте на угол $\\alpha$ получаются уравнения\n",
    "\\begin{align*}\n",
    "y_1 = y_0 + k_1(x - x_0), \\quad \n",
    "y_2 = y_0 + k_2(x - x_0), \\\\ \n",
    "k_1 = \\frac{b + a{\\rm tg} \\alpha}{a - b{\\rm tg} \\alpha},\\quad \n",
    "k_2 = \\frac{-b + a{\\rm tg} \\alpha}{a + b{\\rm tg} \\alpha}\n",
    "\\end{align*}\n",
    "### Задание 4.\n",
    "Изобразить гиперболу Задания 3 (т.е. повернутую на угол) и ее асимптоты и директрисы на одном графике plot_implicit."
   ]
  },
  {
   "cell_type": "code",
   "execution_count": 136,
   "metadata": {
    "id": "qxhgFotCCDvy"
   },
   "outputs": [
    {
     "data": {
      "text/plain": [
       "(-y + (5 + 4*sqrt(3))*(x - 1)/(12 - 5*sqrt(3)/3) + 2,\n",
       " -y + (-5 + 4*sqrt(3))*(x - 1)/(5*sqrt(3)/3 + 12) + 2)"
      ]
     },
     "metadata": {},
     "output_type": "display_data"
    },
    {
     "data": {
      "text/plain": [
       "(-y - sqrt(3)*(x - 1) + 2 + 144*sqrt(1 + sqrt(3))/13,\n",
       " -y - sqrt(3)*(x - 1) - 144*sqrt(1 + sqrt(3))/13 + 2)"
      ]
     },
     "metadata": {},
     "output_type": "display_data"
    },
    {
     "data": {
      "image/png": "[encoded data removed]",
      "text/plain": [
       "<Figure size 432x288 with 1 Axes>"
      ]
     },
     "metadata": {
      "needs_background": "light"
     },
     "output_type": "display_data"
    }
   ],
   "source": [
    "x, y = sympy.symbols(\"x y\")\n",
    "angle = sympy.rad(30)\n",
    "\n",
    "display(\n",
    "    hyp.asymptote(alpha=alpha),\n",
    "    hyp.directrix(alpha=alpha),\n",
    ")\n",
    "\n",
    "eq = hyp.equation(x=x, y=y, _slope=sympy.tan(angle))\n",
    "rng = ((x, -20, 20), (y, -20, 20))\n",
    "p = plot_implicit(eq, *rng, line_color='r', show=False, aspect_ratio=(1,1), adaptive=False)\n",
    "p.append(plot_implicit(hyp.asymptote(alpha=alpha)[0], *rng, aspect_ratio=(1,1), show=False, adaptive=False)[0])\n",
    "p.append(plot_implicit(hyp.asymptote(alpha=alpha)[1], *rng, aspect_ratio=(1,1), show=False, adaptive=False)[0])\n",
    "p.append(plot_implicit(hyp.directrix(alpha=alpha)[0], *rng, aspect_ratio=(1,1), show=False, adaptive=False)[0])\n",
    "p.append(plot_implicit(hyp.directrix(alpha=alpha)[1], *rng, aspect_ratio=(1,1), show=False, adaptive=False)[0])\n",
    "p.show()"
   ]
  },
  {
   "attachments": {},
   "cell_type": "markdown",
   "metadata": {
    "id": "jibp-2IiCDvz"
   },
   "source": [
    "###  Индивидуальное задание. Вариант 11.\n",
    "Определить гиперболу с центром в точке $O$, полуосями $a$ и $b$.  Вывести на экран эксцентриситет, фокусное расстояние, фокусы (с координатами), periapsis, уравнение гиперболы, уравнения асимптот и директрис. \n",
    "\n",
    "Изобразить гиперболу, повернутую на $\\alpha$ градусов против часовой стрелки относительно ее центра, соответствующие асимптоты и директрисы. Вывести на экран уравнения повернутой гиперболы, соответствующих асимптот и директрис.\n",
    "\n",
    "O\t| a |\tb\t| угол поворота\t| направление поворота\n",
    ":-:|:-:|:-:|:-:|:-:\n",
    "Point2D(2, -4)\t|14|\t8|\t$\\pi / 3$|\tпо часовой стрелке"
   ]
  },
  {
   "cell_type": "code",
   "execution_count": 146,
   "metadata": {
    "id": "GDex6Gs2CDv0"
   },
   "outputs": [
    {
     "data": {
      "text/latex": [
       "$\\displaystyle \\frac{\\sqrt{65}}{7}$"
      ],
      "text/plain": [
       "sqrt(65)/7"
      ]
     },
     "metadata": {},
     "output_type": "display_data"
    },
    {
     "data": {
      "text/latex": [
       "$\\displaystyle 2 \\sqrt{65}$"
      ],
      "text/plain": [
       "2*sqrt(65)"
      ]
     },
     "metadata": {},
     "output_type": "display_data"
    },
    {
     "data": {
      "text/plain": [
       "(Point2D(2 - 2*sqrt(65), -4), Point2D(2 + 2*sqrt(65), -4))"
      ]
     },
     "metadata": {},
     "output_type": "display_data"
    },
    {
     "data": {
      "text/latex": [
       "$\\displaystyle -14 + 2 \\sqrt{65}$"
      ],
      "text/plain": [
       "-14 + 2*sqrt(65)"
      ]
     },
     "metadata": {},
     "output_type": "display_data"
    },
    {
     "data": {
      "text/latex": [
       "$\\displaystyle \\left(\\frac{x}{14} - \\frac{1}{7}\\right)^{2} - \\left(\\frac{y}{8} + \\frac{1}{2}\\right)^{2} - 1$"
      ],
      "text/plain": [
       "(x/14 - 1/7)**2 - (y/8 + 1/2)**2 - 1"
      ]
     },
     "metadata": {},
     "output_type": "display_data"
    },
    {
     "data": {
      "text/plain": [
       "(4*x/7 - y - 36/7, -4*x/7 - y - 20/7)"
      ]
     },
     "metadata": {},
     "output_type": "display_data"
    },
    {
     "data": {
      "text/plain": [
       "(-x + 2 + 98*sqrt(65)/65, -x - 98*sqrt(65)/65 + 2)"
      ]
     },
     "metadata": {},
     "output_type": "display_data"
    },
    {
     "data": {
      "image/png": "[encoded data removed]",
      "text/plain": [
       "<Figure size 432x288 with 1 Axes>"
      ]
     },
     "metadata": {
      "needs_background": "light"
     },
     "output_type": "display_data"
    },
    {
     "data": {
      "text/latex": [
       "$\\displaystyle \\frac{\\left(x - \\sqrt{3} \\left(y + 4\\right) - 2\\right)^{2}}{784} - \\frac{\\left(y + \\sqrt{3} \\left(x - 2\\right) + 4\\right)^{2}}{256} - 1$"
      ],
      "text/plain": [
       "(x - sqrt(3)*(y + 4) - 2)**2/784 - (y + sqrt(3)*(x - 2) + 4)**2/256 - 1"
      ]
     },
     "metadata": {},
     "output_type": "display_data"
    },
    {
     "data": {
      "text/plain": [
       "(-y + (8 - 14*sqrt(3))*(x - 2)/(8*sqrt(3) + 14) - 4,\n",
       " -y + (-14*sqrt(3) - 8)*(x - 2)/(14 - 8*sqrt(3)) - 4)"
      ]
     },
     "metadata": {},
     "output_type": "display_data"
    },
    {
     "data": {
      "text/plain": [
       "(-y + sqrt(3)*(x - 2)/3 - 4 + 98*sqrt(65)*sqrt(1 - sqrt(3)/3)/65,\n",
       " -y + sqrt(3)*(x - 2)/3 - 98*sqrt(65)*sqrt(1 - sqrt(3)/3)/65 - 4)"
      ]
     },
     "metadata": {},
     "output_type": "display_data"
    }
   ],
   "source": [
    "hyp = Hyperbola(center=Point(2, -4), hradius=14, vradius=8)\n",
    "\n",
    "display(\n",
    "    hyp.eccentricity,\n",
    "    hyp.focus_distance,\n",
    "    hyp.foci,\n",
    "    hyp.periapsis,\n",
    "    hyp.equation(),\n",
    "    hyp.asymptote(),\n",
    "    hyp.directrix(),\n",
    ")\n",
    "\n",
    "alpha = -sympy.pi / 3\n",
    "\n",
    "eq = hyp.equation(x=x, y=y, _slope=sympy.tan(alpha))\n",
    "rng = ((x, -50, 50), (y, -50, 50))\n",
    "p = plot_implicit(eq, *rng, line_color='r', show=False, aspect_ratio=(1,1), adaptive=False)\n",
    "p.append(plot_implicit(hyp.asymptote(alpha=alpha)[0], *rng, aspect_ratio=(1,1), show=False, adaptive=False)[0])\n",
    "p.append(plot_implicit(hyp.asymptote(alpha=alpha)[1], *rng, aspect_ratio=(1,1), show=False, adaptive=False)[0])\n",
    "p.append(plot_implicit(hyp.directrix(alpha=alpha)[0], *rng, aspect_ratio=(1,1), show=False, adaptive=False)[0])\n",
    "p.append(plot_implicit(hyp.directrix(alpha=alpha)[1], *rng, aspect_ratio=(1,1), show=False, adaptive=False)[0])\n",
    "p.show()\n",
    "\n",
    "display(\n",
    "    eq,\n",
    "    hyp.asymptote(alpha=alpha),\n",
    "    hyp.directrix(alpha=alpha)\n",
    ")"
   ]
  },
  {
   "cell_type": "code",
   "execution_count": null,
   "metadata": {},
   "outputs": [],
   "source": []
  }
 ],
 "metadata": {
  "colab": {
   "collapsed_sections": [],
   "name": "Alg_15_2020_hyp_tasks.ipynb",
   "provenance": []
  },
  "kernelspec": {
   "display_name": "Python 3",
   "language": "python",
   "name": "python3"
  },
  "language_info": {
   "codemirror_mode": {
    "name": "ipython",
    "version": 3
   },
   "file_extension": ".py",
   "mimetype": "text/x-python",
   "name": "python",
   "nbconvert_exporter": "python",
   "pygments_lexer": "ipython3",
   "version": "3.9.0"
  }
 },
 "nbformat": 4,
 "nbformat_minor": 1
}
