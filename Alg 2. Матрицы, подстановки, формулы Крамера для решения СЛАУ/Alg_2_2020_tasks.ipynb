{
 "cells": [
  {
   "cell_type": "markdown",
   "metadata": {},
   "source": [
    "# Практическое занятие 2\n",
    "# Алгебра"
   ]
  },
  {
   "cell_type": "markdown",
   "metadata": {},
   "source": [
    "## Матрицы. Подстановки. Формулы Крамера для решения СЛАУ.\n",
    "https://docs.sympy.org/latest/tutorial/matrices.html"
   ]
  },
  {
   "cell_type": "code",
   "execution_count": 61,
   "metadata": {},
   "outputs": [],
   "source": [
    "#https://www.sympy.org/en/index.html\n",
    "# sympy - модуль для символьных преобразований\n",
    "from sympy import *"
   ]
  },
  {
   "cell_type": "code",
   "execution_count": 62,
   "metadata": {},
   "outputs": [],
   "source": [
    "def kramer(A, b):\n",
    "    A_det = A.det()\n",
    "    cols = A.shape[1]\n",
    "    X = []\n",
    "\n",
    "    for i in range(cols):\n",
    "        Ai = A.copy()              # Копируем матрицу\n",
    "        Ai[:, i] = b               # Заменяем i-тый столбец на b\n",
    "        X += [Ai.det() / A_det]    # Находим Х_i-й коэффициент по формуле\n",
    "\n",
    "    return Matrix(X)"
   ]
  },
  {
   "cell_type": "markdown",
   "metadata": {},
   "source": [
    "### Задание 1\n",
    "Решить по формулам Крамера СЛАУ \n",
    "\\begin{align*}\n",
    "\\left\\{\\begin{matrix} 2 x_{1} +  x_{3}  = -8\n",
    "\\\\- 4 x_{1} + 5 x_{2}  = 20\n",
    "\\\\- 6 x_{2} + x_{3}  = 2\n",
    "\\end{matrix}\\right.\n",
    " \\end{align*}\n",
    "Проверить правильность найденного решения подстановкой (в математическом смысле! subs не нужно использовать). "
   ]
  },
  {
   "cell_type": "code",
   "execution_count": 66,
   "metadata": {},
   "outputs": [
    {
     "data": {
      "text/latex": [
       "$\\displaystyle \\left[\\begin{matrix}-5\\\\0\\\\2\\end{matrix}\\right]$"
      ],
      "text/plain": [
       "Matrix([\n",
       "[-5],\n",
       "[ 0],\n",
       "[ 2]])"
      ]
     },
     "metadata": {},
     "output_type": "display_data"
    },
    {
     "data": {
      "text/latex": [
       "$\\displaystyle \\left[\\begin{matrix}0\\\\0\\\\0\\end{matrix}\\right]$"
      ],
      "text/plain": [
       "Matrix([\n",
       "[0],\n",
       "[0],\n",
       "[0]])"
      ]
     },
     "metadata": {},
     "output_type": "display_data"
    }
   ],
   "source": [
    "#  2 x_{1} +0 x_{2} +1 x_{3} = -8\n",
    "# -4 x_{1} +5 x_{2} +0 x_{3} =  20\n",
    "#  0 x_{1} -6 x_{2} +1 x_{3} =  2\n",
    "\n",
    "A = Matrix([\n",
    "    [2, 0, 1],\n",
    "    [-4, 5, 0],\n",
    "    [0, -6, 1],\n",
    "])\n",
    "\n",
    "b = Matrix([-8, 20, 2])\n",
    "\n",
    "X = kramer(A, b)\n",
    "\n",
    "display(X, A*X - b)"
   ]
  },
  {
   "cell_type": "markdown",
   "metadata": {},
   "source": [
    "### Задание 2\n",
    "Решить по формулам Крамера СЛАУ с параметром\n",
    "\\begin{align*}\n",
    "\\left\\{\\begin{matrix} a x_{1} + 2 x_{2}  = -7\n",
    "\\\\- 4 x_{1} + 5 x_{2} + 3 x_{3} = 9\n",
    "\\\\ 3 x_{1} + x_{3}  = 2\n",
    "\\end{matrix}\\right.\n",
    " \\end{align*}\n",
    "Проверить правильность найденного решения подстановкой.\n",
    "\n",
    "Составить матрицу $S$, столбцы которой являются решениями данной СЛАУ при $a = -1, 0, 3$.\n",
    "\n",
    "#### Указание. \n",
    "Оформить решение по формулам Крамера в виде функции.\n",
    "\n",
    "Параметр $a$ описать как символ.\n",
    "\n",
    "Использовать подстановки subs для построения матриц данной СЛАУ при $a = -1, 0, 3$ на основе матрицы с параметром.\n",
    "\n",
    "Воспользоваться simplify для того, чтобы упростить выражение при проверке."
   ]
  },
  {
   "cell_type": "code",
   "execution_count": 94,
   "metadata": {},
   "outputs": [
    {
     "data": {
      "text/latex": [
       "$\\displaystyle \\left[\\begin{matrix}- \\frac{41}{5 a + 26}\\\\\\frac{3 a - 91}{5 a + 26}\\\\\\frac{10 a + 175}{5 a + 26}\\end{matrix}\\right]$"
      ],
      "text/plain": [
       "Matrix([\n",
       "[         -41/(5*a + 26)],\n",
       "[  (3*a - 91)/(5*a + 26)],\n",
       "[(10*a + 175)/(5*a + 26)]])"
      ]
     },
     "metadata": {},
     "output_type": "display_data"
    },
    {
     "data": {
      "text/latex": [
       "$\\displaystyle \\left[\\begin{matrix}0\\\\0\\\\0\\end{matrix}\\right]$"
      ],
      "text/plain": [
       "Matrix([\n",
       "[0],\n",
       "[0],\n",
       "[0]])"
      ]
     },
     "metadata": {},
     "output_type": "display_data"
    },
    {
     "data": {
      "text/latex": [
       "$\\displaystyle \\left[\\begin{matrix}- \\frac{41}{21} & - \\frac{41}{26} & -1\\\\- \\frac{94}{21} & - \\frac{7}{2} & -2\\\\\\frac{55}{7} & \\frac{175}{26} & 5\\end{matrix}\\right]$"
      ],
      "text/plain": [
       "Matrix([\n",
       "[-41/21, -41/26, -1],\n",
       "[-94/21,   -7/2, -2],\n",
       "[  55/7, 175/26,  5]])"
      ]
     },
     "metadata": {},
     "output_type": "display_data"
    }
   ],
   "source": [
    "#  a x_{1} +2 x_{2} +0 x_{3} = -7\n",
    "# -4 x_{1} +5 x_{2} +3 x_{3} =  9\n",
    "#  3 x_{1} +0 x_{2} +1 x_{3} =  2\n",
    "\n",
    "a = Symbol(\"a\")\n",
    "\n",
    "A = Matrix([\n",
    "    [a, 2, 0],\n",
    "    [-4, 5, 3],\n",
    "    [3, 0, 1],\n",
    "])\n",
    "\n",
    "b = Matrix([-7, 9, 2])\n",
    "\n",
    "X = kramer(A, b)\n",
    "display(X, simplify(A*X - b))\n",
    "\n",
    "S = Matrix([[X.subs(a, i) for i in [-1, 0, 3]]])\n",
    "display(S)"
   ]
  },
  {
   "cell_type": "markdown",
   "metadata": {},
   "source": [
    "### Задание 3.\n",
    "Решить по формулам Крамера СЛАУ с параметрами\n",
    "\\begin{align*}\n",
    "\\left\\{\\begin{matrix} x_{1} + a_{12} x_{2}  = b_1\n",
    "\\\\ x_{1} + a_{22} x_{2}  = b_2\n",
    "\\end{matrix}\\right.\n",
    "\\end{align*}\n",
    "Проверить правильность найденного решения подстановкой.\n",
    "\n",
    "Найти такие наборы параметров, для которых полученное решение неприменимо (подсказка - из-за деления на ноль).\n",
    "\n",
    "Показать, что для этих наборов определитель матрицы левой части равен нулю, использовать подстановки subs."
   ]
  },
  {
   "cell_type": "code",
   "execution_count": 19,
   "metadata": {},
   "outputs": [
    {
     "data": {
      "text/latex": [
       "$\\displaystyle \\left[\\begin{matrix}\\frac{- a_{12} b_{2} + a_{22} b_{1}}{- a_{12} + a_{22}}\\\\\\frac{- b_{1} + b_{2}}{- a_{12} + a_{22}}\\end{matrix}\\right]$"
      ],
      "text/plain": [
       "Matrix([\n",
       "[(-a12*b2 + a22*b1)/(-a12 + a22)],\n",
       "[        (-b1 + b2)/(-a12 + a22)]])"
      ]
     },
     "metadata": {},
     "output_type": "display_data"
    },
    {
     "data": {
      "text/latex": [
       "$\\displaystyle \\left[\\begin{matrix}0\\\\0\\end{matrix}\\right]$"
      ],
      "text/plain": [
       "Matrix([\n",
       "[0],\n",
       "[0]])"
      ]
     },
     "metadata": {},
     "output_type": "display_data"
    },
    {
     "data": {
      "text/latex": [
       "$\\displaystyle 0$"
      ],
      "text/plain": [
       "0"
      ]
     },
     "execution_count": 19,
     "metadata": {},
     "output_type": "execute_result"
    }
   ],
   "source": [
    "# 1 x_{1} + a_{12} x_{2} = b_1\n",
    "# 1 x_{1} + a_{22} x_{2} = b_2\n",
    "\n",
    "a12, a22 = symbols(\"a12 a22\")\n",
    "A = Matrix([\n",
    "    [1, a12],\n",
    "    [1, a22],\n",
    "])\n",
    "\n",
    "b1, b2 = symbols(\"b1 b2\")\n",
    "b = Matrix([b1, b2])\n",
    "\n",
    "X = kramer(A, b)\n",
    "display(X, simplify(A*X - b))\n",
    "\n",
    "A.subs(a12, a22).det()"
   ]
  },
  {
   "cell_type": "markdown",
   "metadata": {},
   "source": [
    "### Задание 4.\n",
    "Дана матрица \n",
    "\\begin{align*}\n",
    "M =\n",
    "\\left(\\begin{matrix} \n",
    "p & 1 & 0 \\\\\n",
    "1 & q & 1 \\\\\n",
    "0 & 1 & r\n",
    "\\end{matrix}\\right)\n",
    "\\end{align*}\n",
    "Вычислить определитель этой матрицы.\n",
    "Найти целочисленные наборы параметров $p$, $q$, $r$, для которых определитель $M$ равен нулю. Рассматривать целые числа от 0 до 12 (НЕ включительно). Использовать подстановки subs в заранее вычисленный определитель.\n",
    "\n",
    "Из найденных наборов как столбцов составить матрицу."
   ]
  },
  {
   "cell_type": "code",
   "execution_count": 93,
   "metadata": {},
   "outputs": [
    {
     "data": {
      "text/latex": [
       "$\\displaystyle p q r - p - r$"
      ],
      "text/plain": [
       "p*q*r - p - r"
      ]
     },
     "metadata": {},
     "output_type": "display_data"
    },
    {
     "data": {
      "text/latex": [
       "$\\displaystyle \\left[\\begin{array}{cccccccccccccc}0 & 0 & 0 & 0 & 0 & 0 & 0 & 0 & 0 & 0 & 0 & 0 & 1 & 2\\\\0 & 1 & 2 & 3 & 4 & 5 & 6 & 7 & 8 & 9 & 10 & 11 & 2 & 1\\\\0 & 0 & 0 & 0 & 0 & 0 & 0 & 0 & 0 & 0 & 0 & 0 & 1 & 2\\end{array}\\right]$"
      ],
      "text/plain": [
       "Matrix([\n",
       "[0, 0, 0, 0, 0, 0, 0, 0, 0, 0,  0,  0, 1, 2],\n",
       "[0, 1, 2, 3, 4, 5, 6, 7, 8, 9, 10, 11, 2, 1],\n",
       "[0, 0, 0, 0, 0, 0, 0, 0, 0, 0,  0,  0, 1, 2]])"
      ]
     },
     "metadata": {},
     "output_type": "display_data"
    }
   ],
   "source": [
    "p, q, r = symbols(\"p q r\")\n",
    "\n",
    "M = Matrix([\n",
    "    [p, 1, 0],\n",
    "    [1, q, 1],\n",
    "    [0, 1, r]\n",
    "])\n",
    "\n",
    "M_det = M.det()\n",
    "display(M_det)\n",
    "res = []\n",
    "\n",
    "for i in range(12):\n",
    "    for j in range(12):\n",
    "        for k in range(12):\n",
    "            if M_det.subs([(p, i), (q, j), (r, k)]) == 0:\n",
    "                res += [Matrix([i, j, k])]\n",
    "\n",
    "display(Matrix([res]))"
   ]
  },
  {
   "cell_type": "markdown",
   "metadata": {},
   "source": [
    "### Индивидуальное задание N11.\n",
    "\n",
    "В данной матрице выполнить заданные подстановки:\n",
    "\\begin{align*}\n",
    "\\left[\\begin{matrix}-4 & 1 & x_{4} & -9 & -4\\\\-1 & -3 & 1 & x_{2} & -3\\\\-5 & 3 & 9 & x_{3} & -7\\\\0 & -1 & -1 & 8 & -9\\end{matrix}\\right]\n",
    "\\end{align*}\n",
    "\n",
    "\n",
    "$x_{1}$ = 6, $x_{2}$ = 7, $x_{3}$ = 9, $x_{4}$ = 10, \n",
    "\n",
    "$x_{1}$ = 10, $x_{2}$ = 8, $x_{3}$ = 10, $x_{4}$ = 10, \n",
    "\n",
    "$x_{1}$ = 9, $x_{2}$ = 7, $x_{3}$ = 6, $x_{4}$ = 7, \n",
    "\n",
    "$x_{1}$ = 7, $x_{2}$ = 9, $x_{3}$ = 8, $x_{4}$ = 8, \n",
    "\n",
    "результат каждой подстановки выводить в виде отдельной матрицы."
   ]
  },
  {
   "cell_type": "code",
   "execution_count": 37,
   "metadata": {},
   "outputs": [
    {
     "data": {
      "text/latex": [
       "$\\displaystyle \\left[\\begin{matrix}-4 & 1 & x_{4} & -9 & -4\\\\-1 & -3 & 1 & x_{2} & -3\\\\-5 & 3 & 9 & x_{3} & -7\\\\0 & -1 & -1 & 8 & -9\\end{matrix}\\right]$"
      ],
      "text/plain": [
       "Matrix([\n",
       "[-4,  1, x4, -9, -4],\n",
       "[-1, -3,  1, x2, -3],\n",
       "[-5,  3,  9, x3, -7],\n",
       "[ 0, -1, -1,  8, -9]])"
      ]
     },
     "metadata": {},
     "output_type": "display_data"
    },
    {
     "name": "stdout",
     "output_type": "stream",
     "text": [
      "\n",
      "\n",
      " [6, 7, 9, 10]\n"
     ]
    },
    {
     "data": {
      "text/latex": [
       "$\\displaystyle \\left[\\begin{matrix}-4 & 1 & 10 & -9 & -4\\\\-1 & -3 & 1 & 7 & -3\\\\-5 & 3 & 9 & 9 & -7\\\\0 & -1 & -1 & 8 & -9\\end{matrix}\\right]$"
      ],
      "text/plain": [
       "Matrix([\n",
       "[-4,  1, 10, -9, -4],\n",
       "[-1, -3,  1,  7, -3],\n",
       "[-5,  3,  9,  9, -7],\n",
       "[ 0, -1, -1,  8, -9]])"
      ]
     },
     "metadata": {},
     "output_type": "display_data"
    },
    {
     "name": "stdout",
     "output_type": "stream",
     "text": [
      "\n",
      "\n",
      " [10, 8, 10, 10]\n"
     ]
    },
    {
     "data": {
      "text/latex": [
       "$\\displaystyle \\left[\\begin{matrix}-4 & 1 & 10 & -9 & -4\\\\-1 & -3 & 1 & 8 & -3\\\\-5 & 3 & 9 & 10 & -7\\\\0 & -1 & -1 & 8 & -9\\end{matrix}\\right]$"
      ],
      "text/plain": [
       "Matrix([\n",
       "[-4,  1, 10, -9, -4],\n",
       "[-1, -3,  1,  8, -3],\n",
       "[-5,  3,  9, 10, -7],\n",
       "[ 0, -1, -1,  8, -9]])"
      ]
     },
     "metadata": {},
     "output_type": "display_data"
    },
    {
     "name": "stdout",
     "output_type": "stream",
     "text": [
      "\n",
      "\n",
      " [9, 7, 6, 7]\n"
     ]
    },
    {
     "data": {
      "text/latex": [
       "$\\displaystyle \\left[\\begin{matrix}-4 & 1 & 7 & -9 & -4\\\\-1 & -3 & 1 & 7 & -3\\\\-5 & 3 & 9 & 6 & -7\\\\0 & -1 & -1 & 8 & -9\\end{matrix}\\right]$"
      ],
      "text/plain": [
       "Matrix([\n",
       "[-4,  1,  7, -9, -4],\n",
       "[-1, -3,  1,  7, -3],\n",
       "[-5,  3,  9,  6, -7],\n",
       "[ 0, -1, -1,  8, -9]])"
      ]
     },
     "metadata": {},
     "output_type": "display_data"
    },
    {
     "name": "stdout",
     "output_type": "stream",
     "text": [
      "\n",
      "\n",
      " [7, 9, 8, 8]\n"
     ]
    },
    {
     "data": {
      "text/latex": [
       "$\\displaystyle \\left[\\begin{matrix}-4 & 1 & 8 & -9 & -4\\\\-1 & -3 & 1 & 9 & -3\\\\-5 & 3 & 9 & 8 & -7\\\\0 & -1 & -1 & 8 & -9\\end{matrix}\\right]$"
      ],
      "text/plain": [
       "Matrix([\n",
       "[-4,  1,  8, -9, -4],\n",
       "[-1, -3,  1,  9, -3],\n",
       "[-5,  3,  9,  8, -7],\n",
       "[ 0, -1, -1,  8, -9]])"
      ]
     },
     "metadata": {},
     "output_type": "display_data"
    }
   ],
   "source": [
    "x = symbols(\"x0:5\")\n",
    "\n",
    "A = Matrix([\n",
    "    [-4, 1, x[4], -9, -4],\n",
    "    [-1, -3, 1,  x[2], -3],\n",
    "    [-5, 3, 9, x[3], -7],\n",
    "    [0, -1, -1, 8, -9]\n",
    "])\n",
    "\n",
    "S = [\n",
    "    [6, 7, 9, 10],\n",
    "    [10, 8, 10, 10],\n",
    "    [9, 7, 6, 7],\n",
    "    [7, 9, 8, 8]\n",
    "]\n",
    "\n",
    "display(A)\n",
    "\n",
    "for s in S:\n",
    "    B = A.copy()\n",
    "    print(\"\\n\\n\",s)\n",
    "    \n",
    "    for i in range(len(s)):\n",
    "        B = B.subs(x[i + 1], s[i])\n",
    "    \n",
    "    display(B)"
   ]
  }
 ],
 "metadata": {
  "kernelspec": {
   "display_name": "Python 3",
   "language": "python",
   "name": "python3"
  },
  "language_info": {
   "codemirror_mode": {
    "name": "ipython",
    "version": 3
   },
   "file_extension": ".py",
   "mimetype": "text/x-python",
   "name": "python",
   "nbconvert_exporter": "python",
   "pygments_lexer": "ipython3",
   "version": "3.6.9"
  }
 },
 "nbformat": 4,
 "nbformat_minor": 2
}
