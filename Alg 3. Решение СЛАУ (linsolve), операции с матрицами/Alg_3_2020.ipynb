{
 "cells": [
  {
   "cell_type": "markdown",
   "metadata": {},
   "source": [
    "# Занятие 3\n",
    "# Алгебра\n",
    "## Решение систем линейных алгебраических уравнений (СЛАУ)"
   ]
  },
  {
   "cell_type": "markdown",
   "metadata": {},
   "source": [
    "https://docs.sympy.org/latest/modules/solvers/solveset.html#sympy.solvers.solveset.linsolve"
   ]
  },
  {
   "cell_type": "code",
   "execution_count": 4,
   "metadata": {},
   "outputs": [],
   "source": [
    "import sympy\n",
    "from sympy import linsolve, Matrix, S, Symbol, symbols, Eq, linear_eq_to_matrix"
   ]
  },
  {
   "cell_type": "markdown",
   "metadata": {},
   "source": [
    "## linsolve(system, *symbols)\n",
    "\n",
    "Это решатель СЛАУ из N уравнений от M переменных, в том числе неоопределенных и переопределенных. Возможное число решений ноль, одно или бесконечное множество решений. \n",
    "\n",
    "В случае несовместной СЛАУ ответ - пустое множество или выдается сообщение об ошибке ValueError, а бесконечное число решений описывается параметрически выражениями от переменных СЛАУ.\n",
    "\n",
    "Входные данные могут быть представлены тремя способами.\n",
    "\n",
    "1.\tВ виде расширенной матрицы СЛАУ. \n",
    "\n",
    "2.\tВ виде списка из уравнений\n",
    "\n",
    "3.\tВ матричном виде, т.е. в виде (A, b), где А – матрица левой части, b – столбец свободных членов\n",
    "\n",
    "\n",
    "Результат вычислений linsolve - множество! Это сделано для более корректного сравнения на равенство решений СЛАУ (например, в случае бесконечного множества решений).\n",
    "\n",
    "#### Множества в sympy\n",
    "https://docs.sympy.org/latest/_modules/sympy/sets/sets.html#FiniteSet\n",
    "    \n",
    "Множество - неупорядоченный набор элементов\n",
    "\n",
    "В sympy конечное множество называется FiniteSet.\n",
    "\n",
    "### Пример 1.\n",
    "\n",
    "Рассмотрим СЛАУ\n",
    "$$\n",
    "\\left\\{\n",
    "\\begin{matrix}\n",
    "2x + 3y - z = 5\\\\\n",
    "3x - 2y + z = 2\\\\\n",
    "x + y - z = 0\n",
    "\\end{matrix}\n",
    "\\right.\n",
    "$$\n",
    "### Способ 1. СЛАУ в виде расширенной матрицы. \n",
    "Составим расширенную матрицу СЛАУ и вызовем  linsolve. Передавать  linsolve имена переменных необязательно."
   ]
  },
  {
   "cell_type": "code",
   "execution_count": 5,
   "metadata": {},
   "outputs": [
    {
     "data": {
      "text/latex": [
       "$\\displaystyle \\left\\{\\left( 1, \\  2, \\  3\\right)\\right\\}$"
      ],
      "text/plain": [
       "FiniteSet((1, 2, 3))"
      ]
     },
     "execution_count": 5,
     "metadata": {},
     "output_type": "execute_result"
    }
   ],
   "source": [
    "Ab = Matrix([[2, 3, -1, 5], [3, -2, 1, 2], [1, 1, -1, 0]])\n",
    "linsolve(Ab)"
   ]
  },
  {
   "cell_type": "markdown",
   "metadata": {},
   "source": [
    "### Способ 2. В виде списка из уравнений\n",
    "Обязательно указывать имена переменных, поскольку бывают СЛАУ с параметрами, и в этом случае без явного указания переменных неясно, где переменная, а где параметр.\n",
    "\n",
    "Можно перенести свободные члены в правую часть и представить СЛАУ в таком виде:"
   ]
  },
  {
   "cell_type": "code",
   "execution_count": 6,
   "metadata": {},
   "outputs": [
    {
     "data": {
      "text/latex": [
       "$\\displaystyle \\left\\{\\left( 1, \\  2, \\  3\\right)\\right\\}$"
      ],
      "text/plain": [
       "FiniteSet((1, 2, 3))"
      ]
     },
     "execution_count": 6,
     "metadata": {},
     "output_type": "execute_result"
    }
   ],
   "source": [
    "x, y, z = symbols('x y z')\n",
    "System_eq = [2*x + 3*y - z - 5, 3*x - 2*y + z - 2, x + y - z]\n",
    "linsolve(System_eq, x, y, z)"
   ]
  },
  {
   "cell_type": "markdown",
   "metadata": {},
   "source": [
    "Альтернатива Eq(lhs, rhs), аргументы соответственно левая и правая части СЛАУ. Если правая часть уравнения 0, все равно нужно ее указывать в Eq."
   ]
  },
  {
   "cell_type": "code",
   "execution_count": 7,
   "metadata": {},
   "outputs": [
    {
     "data": {
      "text/latex": [
       "$\\displaystyle \\left\\{\\left( 1, \\  2, \\  3\\right)\\right\\}$"
      ],
      "text/plain": [
       "FiniteSet((1, 2, 3))"
      ]
     },
     "execution_count": 7,
     "metadata": {},
     "output_type": "execute_result"
    }
   ],
   "source": [
    "System_eq1 = [Eq(2*x + 3*y - z, 5), Eq(3*x - 2*y + z, 2), Eq(x + y - z, 0)]\n",
    "linsolve(System_eq1, x, y, z)"
   ]
  },
  {
   "cell_type": "markdown",
   "metadata": {},
   "source": [
    "### Способ 3.\n",
    "Перечислять переменные необязательно. Отличие от способа 2 в том, что каждому столбцу матрицы левой части СЛАУ всегда соответствует ровно одна переменная. Если имя переменной не указано, Sympy сам придумает имя."
   ]
  },
  {
   "cell_type": "code",
   "execution_count": 8,
   "metadata": {},
   "outputs": [
    {
     "data": {
      "text/latex": [
       "$\\displaystyle \\left\\{\\left( 1, \\  2, \\  3\\right)\\right\\}$"
      ],
      "text/plain": [
       "FiniteSet((1, 2, 3))"
      ]
     },
     "execution_count": 8,
     "metadata": {},
     "output_type": "execute_result"
    }
   ],
   "source": [
    "A = Matrix([[2, 3, -1], [3, -2, 1], [1, 1, -1]])\n",
    "b = Matrix([5, 2, 0])\n",
    "linsolve((A, b))"
   ]
  },
  {
   "cell_type": "markdown",
   "metadata": {},
   "source": [
    "### Пример 2. Несовместная СЛАУ\n",
    "$$\n",
    "\\left\\{\n",
    "\\begin{matrix}\n",
    "2x + 3y - z = 5\\\\\n",
    "3x - 2y + z = 2\\\\\n",
    "5x + y = 0\n",
    "\\end{matrix}\n",
    "\\right.\n",
    "$$"
   ]
  },
  {
   "cell_type": "code",
   "execution_count": 9,
   "metadata": {},
   "outputs": [
    {
     "data": {
      "text/latex": [
       "$\\displaystyle \\emptyset$"
      ],
      "text/plain": [
       "EmptySet"
      ]
     },
     "execution_count": 9,
     "metadata": {},
     "output_type": "execute_result"
    }
   ],
   "source": [
    "A = Matrix([[2, 3, -1], [3, -2, 1], [5, 1, 0]])\n",
    "b = Matrix([5, 2, 0])\n",
    "linsolve((A, b))"
   ]
  },
  {
   "cell_type": "markdown",
   "metadata": {},
   "source": [
    "### Пример 3. Недоопределенная СЛАУ\n",
    "$$\n",
    "\\left\\{\n",
    "\\begin{matrix}\n",
    "2x + 3y - z = 5\\\\\n",
    "3x - 2y + z = 2\\\\\n",
    "5x + y = 7\n",
    "\\end{matrix}\n",
    "\\right.\n",
    "$$"
   ]
  },
  {
   "cell_type": "code",
   "execution_count": 10,
   "metadata": {},
   "outputs": [
    {
     "data": {
      "text/latex": [
       "$\\displaystyle \\left\\{\\left( \\frac{16}{13} - \\frac{\\tau_{0}}{13}, \\  \\frac{5 \\tau_{0}}{13} + \\frac{11}{13}, \\  \\tau_{0}\\right)\\right\\}$"
      ],
      "text/plain": [
       "FiniteSet((16/13 - tau0/13, 5*tau0/13 + 11/13, tau0))"
      ]
     },
     "execution_count": 10,
     "metadata": {},
     "output_type": "execute_result"
    }
   ],
   "source": [
    "A = Matrix([[2, 3, -1], [3, -2, 1], [5, 1, 0]])\n",
    "b = Matrix([5, 2, 7])\n",
    "linsolve((A, b))"
   ]
  },
  {
   "cell_type": "markdown",
   "metadata": {},
   "source": [
    "#### Комментарий: \n",
    "linsolve сам придумал имя независимой переменной"
   ]
  },
  {
   "cell_type": "code",
   "execution_count": 11,
   "metadata": {},
   "outputs": [
    {
     "data": {
      "text/latex": [
       "$\\displaystyle \\left\\{\\left( \\frac{16}{13} - \\frac{z}{13}, \\  \\frac{5 z}{13} + \\frac{11}{13}, \\  z\\right)\\right\\}$"
      ],
      "text/plain": [
       "FiniteSet((16/13 - z/13, 5*z/13 + 11/13, z))"
      ]
     },
     "execution_count": 11,
     "metadata": {},
     "output_type": "execute_result"
    }
   ],
   "source": [
    "linsolve((A, b), x, y, z)"
   ]
  },
  {
   "cell_type": "markdown",
   "metadata": {},
   "source": [
    "#### Комментарий: \n",
    "linsolve выбрал имя независимой переменной из списка своих аргументов"
   ]
  },
  {
   "cell_type": "markdown",
   "metadata": {},
   "source": [
    "## Приведение СЛАУ к матричному виду\n",
    "Пусть СЛАУ задана в виде списка уравнений, но требуется записать ее в матричном виде. Для представления СЛАУ в виде tuple из матрицы левой части и столбца правой части используется\n",
    "linear_eq_to_matrix(equations, *symbols).\n",
    "\n",
    "Символы переменных СЛАУ передавать необязательно, если СЛАУ не содержит параметров и все переменные встречаются хотя бы в одном уравнении.\n",
    "\n",
    "### Пример 4.\n",
    "Представить в матричном виде СЛАУ (построить матрицу левой части и столбец правой части)\n",
    "$$\n",
    "\\left\\{\n",
    "\\begin{matrix}\n",
    "с x + z = с + 1\\\\\n",
    "x + y = -2\\\\\n",
    "x - y = 5\n",
    "\\end{matrix}\n",
    "\\right.\n",
    "$$\n"
   ]
  },
  {
   "cell_type": "code",
   "execution_count": 12,
   "metadata": {},
   "outputs": [
    {
     "data": {
      "text/latex": [
       "$\\displaystyle \\left[\\begin{matrix}c & 0 & 1\\\\0 & 1 & 1\\\\1 & -1 & 0\\end{matrix}\\right]$"
      ],
      "text/plain": [
       "Matrix([\n",
       "[c,  0, 1],\n",
       "[0,  1, 1],\n",
       "[1, -1, 0]])"
      ]
     },
     "metadata": {},
     "output_type": "display_data"
    },
    {
     "data": {
      "text/latex": [
       "$\\displaystyle \\left[\\begin{matrix}c + 1\\\\-2\\\\5\\end{matrix}\\right]$"
      ],
      "text/plain": [
       "Matrix([\n",
       "[c + 1],\n",
       "[   -2],\n",
       "[    5]])"
      ]
     },
     "metadata": {},
     "output_type": "display_data"
    }
   ],
   "source": [
    "c = Symbol('c')\n",
    "eqns = [Eq(c*x + z, c + 1), Eq(y + z, -2), Eq(x - y, 5)]\n",
    "A, b = linear_eq_to_matrix(eqns, [x, y, z])\n",
    "display(A, b)"
   ]
  },
  {
   "cell_type": "markdown",
   "metadata": {},
   "source": [
    "Решим СЛАУ $AX = b$. Во избежание путаницы будем обозначать $X$ вектор переменных СЛАУ, в нашем случае $X = \\left(\\begin{matrix}x\\\\ y\\\\ z\\end{matrix}\\right)$"
   ]
  },
  {
   "cell_type": "code",
   "execution_count": 13,
   "metadata": {},
   "outputs": [
    {
     "data": {
      "text/latex": [
       "$\\displaystyle \\left\\{\\left( \\frac{c - 2}{c - 1}, \\  \\frac{3 - 4 c}{c - 1}, \\  \\frac{2 c - 1}{c - 1}\\right)\\right\\}$"
      ],
      "text/plain": [
       "FiniteSet(((c - 2)/(c - 1), (3 - 4*c)/(c - 1), (2*c - 1)/(c - 1)))"
      ]
     },
     "execution_count": 13,
     "metadata": {},
     "output_type": "execute_result"
    }
   ],
   "source": [
    "linsolve((A, b))"
   ]
  },
  {
   "cell_type": "markdown",
   "metadata": {},
   "source": [
    "Заметим, что по этой формуле можно найти решение СЛАУ только при $c \\neq 1$. В случае $c = 1$ нужно в исходной СЛАУ выполнить подстановку  $c = 1$ и найти другие решения:"
   ]
  },
  {
   "cell_type": "code",
   "execution_count": 14,
   "metadata": {},
   "outputs": [
    {
     "data": {
      "text/latex": [
       "$\\displaystyle \\emptyset$"
      ],
      "text/plain": [
       "EmptySet"
      ]
     },
     "execution_count": 14,
     "metadata": {},
     "output_type": "execute_result"
    }
   ],
   "source": [
    "linsolve((A.subs(c, 1), b.subs(c, 1)))"
   ]
  },
  {
   "cell_type": "markdown",
   "metadata": {},
   "source": [
    "В случае $c = 1$ исходная СЛАУ несовместна."
   ]
  },
  {
   "cell_type": "markdown",
   "metadata": {},
   "source": [
    "## Проверка правильности расчетов.\n",
    "### Пример 5.\n",
    "Рассмотрим СЛАУ\n",
    "$$\n",
    "\\left\\{\n",
    "\\begin{matrix}\n",
    "5x - 3y + z = 11\\\\\n",
    "2x - 2y + z = 7\\\\\n",
    "-x + 3y -2z = -10\n",
    "\\end{matrix}\n",
    "\\right.\n",
    "$$\n",
    "Найдем решение $X_0$ данной СЛАУ, записанной в виде $АX = b$. Проверим подстановкой, что $АX_0 = b$, для удобства будем проверять эквивалентное условие  $АX_0 - b = 0$.\n",
    "\n",
    "Вначале приведем СЛАУ к матричному виду с помощью linear_eq_to_matrix и воспользуемся linsolve"
   ]
  },
  {
   "cell_type": "code",
   "execution_count": 15,
   "metadata": {},
   "outputs": [],
   "source": [
    "A, b = linear_eq_to_matrix([Eq(5*x - 3*y + z, 11), Eq(2*x - 2*y + z, 7), \n",
    "                            Eq(-x + 3*y -2*z, -10)], [x, y, z])\n",
    "X0 = linsolve((A, b), x, y, z)"
   ]
  },
  {
   "cell_type": "markdown",
   "metadata": {},
   "source": [
    "Теперь нужно преобразовать в матрицу полученное решение, предварительно распаковав с помощью * множество:"
   ]
  },
  {
   "cell_type": "code",
   "execution_count": 16,
   "metadata": {},
   "outputs": [
    {
     "data": {
      "text/latex": [
       "$\\displaystyle \\left[\\begin{matrix}\\frac{z}{4} + \\frac{1}{4}\\\\\\frac{3 z}{4} - \\frac{13}{4}\\\\z\\end{matrix}\\right]$"
      ],
      "text/plain": [
       "Matrix([\n",
       "[   z/4 + 1/4],\n",
       "[3*z/4 - 13/4],\n",
       "[           z]])"
      ]
     },
     "metadata": {},
     "output_type": "display_data"
    }
   ],
   "source": [
    "X01 = Matrix(*X0)\n",
    "display(X01)"
   ]
  },
  {
   "cell_type": "markdown",
   "metadata": {},
   "source": [
    "Теперь можно проверить $АX_0 - b = 0$"
   ]
  },
  {
   "cell_type": "code",
   "execution_count": 17,
   "metadata": {},
   "outputs": [
    {
     "data": {
      "text/latex": [
       "$\\displaystyle \\left[\\begin{matrix}0\\\\0\\\\0\\end{matrix}\\right]$"
      ],
      "text/plain": [
       "Matrix([\n",
       "[0],\n",
       "[0],\n",
       "[0]])"
      ]
     },
     "metadata": {},
     "output_type": "display_data"
    }
   ],
   "source": [
    "display(A*X01 - b)"
   ]
  },
  {
   "cell_type": "markdown",
   "metadata": {},
   "source": [
    "### Пример 6.\n",
    "Записать сразу в матричном виде СЛАУ \n",
    "$$\n",
    "\\left\\{\n",
    "\\begin{matrix}\n",
    "x + ky - z = 1\\\\\n",
    "2x + y + z = -2\\\\\n",
    "-3x + (k - 2)z -3z = 5\n",
    "\\end{matrix}\n",
    "\\right.\n",
    "$$\n",
    "Решить СЛАУ при всех значениях параметра и выполнить проверку.\n",
    "\n",
    "При вызове linsolve передаем имена переменных, поскольку наша СЛАУ с параметром $k$"
   ]
  },
  {
   "cell_type": "code",
   "execution_count": 18,
   "metadata": {},
   "outputs": [
    {
     "data": {
      "text/latex": [
       "$\\displaystyle \\left\\{\\left( - \\frac{2 k + z \\left(k + 1\\right) + 1}{2 k - 1}, \\  \\frac{3 z + 4}{2 k - 1}, \\  z\\right)\\right\\}$"
      ],
      "text/plain": [
       "FiniteSet((-(2*k + z*(k + 1) + 1)/(2*k - 1), (3*z + 4)/(2*k - 1), z))"
      ]
     },
     "metadata": {},
     "output_type": "display_data"
    }
   ],
   "source": [
    "k = Symbol('k')\n",
    "A = Matrix([[1, k, -1], [2, 1, 1], [-3, k - 2, -3]])\n",
    "b = Matrix([1, -2, 5])\n",
    "sol1 = linsolve((A, b), x, y, z)\n",
    "display(sol1)"
   ]
  },
  {
   "cell_type": "markdown",
   "metadata": {},
   "source": [
    "Преобразуем множество из одного tuple в матрицу, как в Примере 5."
   ]
  },
  {
   "cell_type": "code",
   "execution_count": 19,
   "metadata": {},
   "outputs": [
    {
     "data": {
      "text/latex": [
       "$\\displaystyle \\left[\\begin{matrix}- \\frac{2 k + z \\left(k + 1\\right) + 1}{2 k - 1}\\\\\\frac{3 z + 4}{2 k - 1}\\\\z\\end{matrix}\\right]$"
      ],
      "text/plain": [
       "Matrix([\n",
       "[-(2*k + z*(k + 1) + 1)/(2*k - 1)],\n",
       "[             (3*z + 4)/(2*k - 1)],\n",
       "[                               z]])"
      ]
     },
     "metadata": {},
     "output_type": "display_data"
    }
   ],
   "source": [
    "X1 = Matrix(*sol1)\n",
    "display(X1)"
   ]
  },
  {
   "cell_type": "markdown",
   "metadata": {},
   "source": [
    "Проверим правильность решения, вычисляя $АХ_1 - b$ и сравнивая полученное значение с нулевым вектором."
   ]
  },
  {
   "cell_type": "code",
   "execution_count": 20,
   "metadata": {},
   "outputs": [
    {
     "data": {
      "text/latex": [
       "$\\displaystyle \\left[\\begin{matrix}\\frac{k \\left(3 z + 4\\right)}{2 k - 1} - z - 1 - \\frac{2 k + z \\left(k + 1\\right) + 1}{2 k - 1}\\\\z + 2 + \\frac{3 z + 4}{2 k - 1} - \\frac{2 \\left(2 k + z \\left(k + 1\\right) + 1\\right)}{2 k - 1}\\\\- 3 z + \\frac{\\left(k - 2\\right) \\left(3 z + 4\\right)}{2 k - 1} - 5 + \\frac{3 \\left(2 k + z \\left(k + 1\\right) + 1\\right)}{2 k - 1}\\end{matrix}\\right]$"
      ],
      "text/plain": [
       "Matrix([\n",
       "[           k*(3*z + 4)/(2*k - 1) - z - 1 - (2*k + z*(k + 1) + 1)/(2*k - 1)],\n",
       "[           z + 2 + (3*z + 4)/(2*k - 1) - 2*(2*k + z*(k + 1) + 1)/(2*k - 1)],\n",
       "[-3*z + (k - 2)*(3*z + 4)/(2*k - 1) - 5 + 3*(2*k + z*(k + 1) + 1)/(2*k - 1)]])"
      ]
     },
     "metadata": {},
     "output_type": "display_data"
    }
   ],
   "source": [
    "display(A*X1 - b)"
   ]
  },
  {
   "cell_type": "markdown",
   "metadata": {},
   "source": [
    "Случай $2k - 1 = 0$ нужно рассмотреть отдельно. Выполним подстановку subs в матрице $A$ и решим полученную СЛАУ."
   ]
  },
  {
   "cell_type": "code",
   "execution_count": 21,
   "metadata": {},
   "outputs": [
    {
     "data": {
      "text/latex": [
       "$\\displaystyle \\left\\{\\left( - \\frac{y}{2} - \\frac{1}{3}, \\  y, \\  - \\frac{4}{3}\\right)\\right\\}$"
      ],
      "text/plain": [
       "FiniteSet((-y/2 - 1/3, y, -4/3))"
      ]
     },
     "execution_count": 21,
     "metadata": {},
     "output_type": "execute_result"
    }
   ],
   "source": [
    "Ak = A.subs(k, S(1)/2)\n",
    "sol2 = linsolve((Ak, b), x, y, z)\n",
    "sol2"
   ]
  },
  {
   "cell_type": "markdown",
   "metadata": {},
   "source": [
    "Проверим его, вычисляя $АХ1 - b$ и сравнивая полученное значение с нулевым вектором.\n",
    "Преобразуем множество из одного tuple в матрицу, как в Примере 5.\n",
    "\n",
    "Важно: при проверке используем не матрицу $A$ а матрицу $Ak$, в которой уже подставлено $k = 1/2$."
   ]
  },
  {
   "cell_type": "code",
   "execution_count": 22,
   "metadata": {},
   "outputs": [
    {
     "data": {
      "text/latex": [
       "$\\displaystyle \\left[\\begin{matrix}- \\frac{y}{2} - \\frac{1}{3}\\\\y\\\\- \\frac{4}{3}\\end{matrix}\\right]$"
      ],
      "text/plain": [
       "Matrix([\n",
       "[-y/2 - 1/3],\n",
       "[         y],\n",
       "[      -4/3]])"
      ]
     },
     "metadata": {},
     "output_type": "display_data"
    },
    {
     "data": {
      "text/latex": [
       "$\\displaystyle \\left[\\begin{matrix}0\\\\0\\\\0\\end{matrix}\\right]$"
      ],
      "text/plain": [
       "Matrix([\n",
       "[0],\n",
       "[0],\n",
       "[0]])"
      ]
     },
     "metadata": {},
     "output_type": "display_data"
    }
   ],
   "source": [
    "X2 = Matrix(*sol2)\n",
    "display(X2, Ak*X2 - b)"
   ]
  },
  {
   "cell_type": "markdown",
   "metadata": {},
   "source": [
    "## Присоединение матриц в строку или в столбик\n",
    "Матрицы А и В можно соединить в строку, присоединяя В справа к А, \n",
    "это делается с помощью метода  row_join. Можем использовать это для построения расширенной матрицы СЛАУ на основе матриц левой и правой части."
   ]
  },
  {
   "cell_type": "code",
   "execution_count": 23,
   "metadata": {},
   "outputs": [
    {
     "data": {
      "text/latex": [
       "$\\displaystyle \\left[\\begin{matrix}1 & 0\\\\0 & 2\\end{matrix}\\right]$"
      ],
      "text/plain": [
       "Matrix([\n",
       "[1, 0],\n",
       "[0, 2]])"
      ]
     },
     "metadata": {},
     "output_type": "display_data"
    },
    {
     "data": {
      "text/latex": [
       "$\\displaystyle \\left[\\begin{matrix}3\\\\4\\end{matrix}\\right]$"
      ],
      "text/plain": [
       "Matrix([\n",
       "[3],\n",
       "[4]])"
      ]
     },
     "metadata": {},
     "output_type": "display_data"
    },
    {
     "data": {
      "text/latex": [
       "$\\displaystyle \\left[\\begin{matrix}1 & 0 & 3\\\\0 & 2 & 4\\end{matrix}\\right]$"
      ],
      "text/plain": [
       "Matrix([\n",
       "[1, 0, 3],\n",
       "[0, 2, 4]])"
      ]
     },
     "metadata": {},
     "output_type": "display_data"
    }
   ],
   "source": [
    "A = sympy.diag(1, 2)\n",
    "b = Matrix([3, 4])\n",
    "A_with_B = A.row_join(b)\n",
    "display(A, b, A_with_B)"
   ]
  },
  {
   "cell_type": "markdown",
   "metadata": {},
   "source": [
    "Матрицу B можно присоединить к матрице А снизу с помощью col_join"
   ]
  },
  {
   "cell_type": "code",
   "execution_count": 24,
   "metadata": {},
   "outputs": [
    {
     "data": {
      "text/latex": [
       "$\\displaystyle \\left[\\begin{matrix}1 & 0\\\\0 & 2\\end{matrix}\\right]$"
      ],
      "text/plain": [
       "Matrix([\n",
       "[1, 0],\n",
       "[0, 2]])"
      ]
     },
     "metadata": {},
     "output_type": "display_data"
    },
    {
     "data": {
      "text/latex": [
       "$\\displaystyle \\left[\\begin{matrix}5 & 6\\end{matrix}\\right]$"
      ],
      "text/plain": [
       "Matrix([[5, 6]])"
      ]
     },
     "metadata": {},
     "output_type": "display_data"
    },
    {
     "data": {
      "text/latex": [
       "$\\displaystyle \\left[\\begin{matrix}1 & 0\\\\0 & 2\\\\5 & 6\\end{matrix}\\right]$"
      ],
      "text/plain": [
       "Matrix([\n",
       "[1, 0],\n",
       "[0, 2],\n",
       "[5, 6]])"
      ]
     },
     "metadata": {},
     "output_type": "display_data"
    }
   ],
   "source": [
    "C = Matrix([[5, 6]])\n",
    "C_under_A = A.col_join(C)\n",
    "display(A, C, C_under_A)"
   ]
  },
  {
   "cell_type": "markdown",
   "metadata": {},
   "source": [
    "### Выделение строки, столбца и подматрицы в матрице\n",
    "Для выделения части матрицы будем использовать диапазоны (срезы, slice)\n",
    "\n",
    "Напомним, что обращение к элементу матрицы осуществляется указанием в квадратных скобках после имени матрицы номера строки и номера столбца через запятую,\n",
    "\n",
    "например, А[2,3].\n",
    "\n",
    "Если нужно выделить элементы строки, стоящие в столбцах с 3 до 5 (не включая 5!), то вместо номера столбца указываем диапазон (срез) 3:5,\n",
    "двоеточие обозначает, что берутся и все промежуточные индексы.\n",
    "\n",
    "!!!ВАЖНО!!! \n",
    "В диапазонах не учитывается последнее значение,\n",
    "так срез 3:5 не включает элемент с номером 5!\n",
    "\n",
    "Например, можно в матрице A_with_B выделить в первой строке элементы, стоящие в столбцах с 1 до 3 (не включая 3!):"
   ]
  },
  {
   "cell_type": "code",
   "execution_count": 22,
   "metadata": {},
   "outputs": [
    {
     "data": {
      "text/latex": [
       "$\\displaystyle \\left[\\begin{matrix}0 & 3\\end{matrix}\\right]$"
      ],
      "text/plain": [
       "Matrix([[0, 3]])"
      ]
     },
     "execution_count": 22,
     "metadata": {},
     "output_type": "execute_result"
    }
   ],
   "source": [
    "A_with_B[0, 1:3]"
   ]
  },
  {
   "cell_type": "markdown",
   "metadata": {},
   "source": [
    "Выделим столбец с номером 1 в матрице А"
   ]
  },
  {
   "cell_type": "code",
   "execution_count": 23,
   "metadata": {},
   "outputs": [
    {
     "data": {
      "text/latex": [
       "$\\displaystyle \\left[\\begin{matrix}0\\\\2\\end{matrix}\\right]$"
      ],
      "text/plain": [
       "Matrix([\n",
       "[0],\n",
       "[2]])"
      ]
     },
     "execution_count": 23,
     "metadata": {},
     "output_type": "execute_result"
    }
   ],
   "source": [
    "A[:, 1]"
   ]
  },
  {
   "cell_type": "markdown",
   "metadata": {},
   "source": [
    "Выделим строку с номером 0 в матрице А"
   ]
  },
  {
   "cell_type": "code",
   "execution_count": 24,
   "metadata": {},
   "outputs": [
    {
     "data": {
      "text/latex": [
       "$\\displaystyle \\left[\\begin{matrix}1 & 0\\end{matrix}\\right]$"
      ],
      "text/plain": [
       "Matrix([[1, 0]])"
      ]
     },
     "execution_count": 24,
     "metadata": {},
     "output_type": "execute_result"
    }
   ],
   "source": [
    "A[0, :]"
   ]
  },
  {
   "cell_type": "markdown",
   "metadata": {},
   "source": [
    "Допишем снизу к матрице А ее строку номер 1"
   ]
  },
  {
   "cell_type": "code",
   "execution_count": 25,
   "metadata": {},
   "outputs": [
    {
     "data": {
      "text/latex": [
       "$\\displaystyle \\left[\\begin{matrix}1 & 0\\\\0 & 2\\\\0 & 2\\end{matrix}\\right]$"
      ],
      "text/plain": [
       "Matrix([\n",
       "[1, 0],\n",
       "[0, 2],\n",
       "[0, 2]])"
      ]
     },
     "execution_count": 25,
     "metadata": {},
     "output_type": "execute_result"
    }
   ],
   "source": [
    "A_with_A1 = A.col_join(A[1, :])\n",
    "A_with_A1"
   ]
  },
  {
   "cell_type": "markdown",
   "metadata": {},
   "source": [
    "Допишем справа к матрице А ее столбец номер 0"
   ]
  },
  {
   "cell_type": "code",
   "execution_count": 26,
   "metadata": {},
   "outputs": [
    {
     "data": {
      "text/latex": [
       "$\\displaystyle \\left[\\begin{matrix}1 & 0 & 1\\\\0 & 2 & 0\\end{matrix}\\right]$"
      ],
      "text/plain": [
       "Matrix([\n",
       "[1, 0, 1],\n",
       "[0, 2, 0]])"
      ]
     },
     "execution_count": 26,
     "metadata": {},
     "output_type": "execute_result"
    }
   ],
   "source": [
    "A_with_A0 = A.row_join(A[:, 0])\n",
    "A_with_A0"
   ]
  },
  {
   "cell_type": "markdown",
   "metadata": {},
   "source": [
    "### Выделение подматрицы\n",
    "\n",
    "Из матрицы можно выделить подматрицу, расположенную в заданных строках и столбцах с помощью метода \n",
    "\n",
    "#### extract\n",
    "\n",
    "метод применяется к матрице, аргументы - список строк и список столбцов:\n",
    "\n",
    "Matrix_name(row_list,col_list)"
   ]
  },
  {
   "cell_type": "code",
   "execution_count": 27,
   "metadata": {},
   "outputs": [
    {
     "data": {
      "text/latex": [
       "$\\displaystyle \\left[\\begin{matrix}0 & 0 & 0 & 0 & 0 & 0 & 0\\\\0 & 1 & 0 & 0 & 0 & 0 & 0\\\\0 & 0 & 2 & 0 & 0 & 0 & 0\\\\0 & 0 & 0 & 3 & 0 & 0 & 0\\\\0 & 0 & 0 & 0 & 4 & 0 & 0\\\\0 & 0 & 0 & 0 & 0 & 5 & 0\\\\0 & 0 & 0 & 0 & 0 & 0 & 6\\end{matrix}\\right]$"
      ],
      "text/plain": [
       "Matrix([\n",
       "[0, 0, 0, 0, 0, 0, 0],\n",
       "[0, 1, 0, 0, 0, 0, 0],\n",
       "[0, 0, 2, 0, 0, 0, 0],\n",
       "[0, 0, 0, 3, 0, 0, 0],\n",
       "[0, 0, 0, 0, 4, 0, 0],\n",
       "[0, 0, 0, 0, 0, 5, 0],\n",
       "[0, 0, 0, 0, 0, 0, 6]])"
      ]
     },
     "metadata": {},
     "output_type": "display_data"
    },
    {
     "data": {
      "text/latex": [
       "$\\displaystyle \\left[\\begin{matrix}0 & 0\\\\4 & 0\\\\0 & 0\\end{matrix}\\right]$"
      ],
      "text/plain": [
       "Matrix([\n",
       "[0, 0],\n",
       "[4, 0],\n",
       "[0, 0]])"
      ]
     },
     "metadata": {},
     "output_type": "display_data"
    }
   ],
   "source": [
    "M = sympy.diag(*range(7))\n",
    "display(M, M.extract([0, 4, 6], [4, 5]))"
   ]
  },
  {
   "cell_type": "markdown",
   "metadata": {},
   "source": [
    "### Ввод с консоли:\n",
    "\n",
    "input()\n",
    "\n",
    "есть необязательный переметр - приглашение к вводу:"
   ]
  },
  {
   "cell_type": "code",
   "execution_count": 28,
   "metadata": {},
   "outputs": [
    {
     "name": "stdout",
     "output_type": "stream",
     "text": [
      "Введите несколько символов\n",
      "3g4g5\n",
      "Получился вектор-столбец\n"
     ]
    },
    {
     "data": {
      "text/latex": [
       "$\\displaystyle \\left[\\begin{matrix}3\\\\g\\\\4\\\\g\\\\5\\end{matrix}\\right]$"
      ],
      "text/plain": [
       "Matrix([\n",
       "[3],\n",
       "[g],\n",
       "[4],\n",
       "[g],\n",
       "[5]])"
      ]
     },
     "execution_count": 28,
     "metadata": {},
     "output_type": "execute_result"
    }
   ],
   "source": [
    "symbols_my = input('Введите несколько символов\\n')\n",
    "K = Matrix(list(symbols_my))\n",
    "print('Получился вектор-столбец')\n",
    "K"
   ]
  },
  {
   "cell_type": "markdown",
   "metadata": {},
   "source": [
    "Удостоверимся, что элементы матрицы именно символы:"
   ]
  },
  {
   "cell_type": "code",
   "execution_count": 29,
   "metadata": {},
   "outputs": [
    {
     "data": {
      "text/plain": [
       "sympy.core.numbers.Integer"
      ]
     },
     "execution_count": 29,
     "metadata": {},
     "output_type": "execute_result"
    }
   ],
   "source": [
    "type(K[0])"
   ]
  },
  {
   "cell_type": "markdown",
   "metadata": {},
   "source": [
    "### Транспонирование\n",
    "Создадим матрицу $M$, элементы которой - произведения номеров строк и столбцов при условии нумерации с 1.\n",
    "\n",
    "Транспонируем М с помощью метода transpose() и с помощью его сокращения T."
   ]
  },
  {
   "cell_type": "code",
   "execution_count": 30,
   "metadata": {},
   "outputs": [
    {
     "data": {
      "text/latex": [
       "$\\displaystyle \\left[\\begin{matrix}1 & 2 & 3 & 4 & 5\\\\1 & 4 & 9 & 16 & 25\\\\1 & 8 & 27 & 64 & 125\\end{matrix}\\right]$"
      ],
      "text/plain": [
       "Matrix([\n",
       "[1, 2,  3,  4,   5],\n",
       "[1, 4,  9, 16,  25],\n",
       "[1, 8, 27, 64, 125]])"
      ]
     },
     "metadata": {},
     "output_type": "display_data"
    },
    {
     "data": {
      "text/latex": [
       "$\\displaystyle \\left[\\begin{matrix}1 & 1 & 1\\\\2 & 4 & 8\\\\3 & 9 & 27\\\\4 & 16 & 64\\\\5 & 25 & 125\\end{matrix}\\right]$"
      ],
      "text/plain": [
       "Matrix([\n",
       "[1,  1,   1],\n",
       "[2,  4,   8],\n",
       "[3,  9,  27],\n",
       "[4, 16,  64],\n",
       "[5, 25, 125]])"
      ]
     },
     "metadata": {},
     "output_type": "display_data"
    },
    {
     "data": {
      "text/latex": [
       "$\\displaystyle \\left[\\begin{matrix}1 & 1 & 1\\\\2 & 4 & 8\\\\3 & 9 & 27\\\\4 & 16 & 64\\\\5 & 25 & 125\\end{matrix}\\right]$"
      ],
      "text/plain": [
       "Matrix([\n",
       "[1,  1,   1],\n",
       "[2,  4,   8],\n",
       "[3,  9,  27],\n",
       "[4, 16,  64],\n",
       "[5, 25, 125]])"
      ]
     },
     "metadata": {},
     "output_type": "display_data"
    }
   ],
   "source": [
    "M = Matrix([[i**j for i in range(1, 6)] for j in range(1, 4)])\n",
    "display(M, M.transpose(), M.T)"
   ]
  },
  {
   "cell_type": "markdown",
   "metadata": {},
   "source": [
    "Перемножим столбец 1 и строку 0, нумерация с нуля!"
   ]
  },
  {
   "cell_type": "code",
   "execution_count": 31,
   "metadata": {},
   "outputs": [
    {
     "data": {
      "text/latex": [
       "$\\displaystyle \\left[\\begin{matrix}2\\\\4\\\\8\\end{matrix}\\right]$"
      ],
      "text/plain": [
       "Matrix([\n",
       "[2],\n",
       "[4],\n",
       "[8]])"
      ]
     },
     "metadata": {},
     "output_type": "display_data"
    },
    {
     "data": {
      "text/latex": [
       "$\\displaystyle \\left[\\begin{matrix}1 & 2 & 3 & 4 & 5\\end{matrix}\\right]$"
      ],
      "text/plain": [
       "Matrix([[1, 2, 3, 4, 5]])"
      ]
     },
     "metadata": {},
     "output_type": "display_data"
    },
    {
     "data": {
      "text/latex": [
       "$\\displaystyle \\left[\\begin{matrix}2 & 4 & 6 & 8 & 10\\\\4 & 8 & 12 & 16 & 20\\\\8 & 16 & 24 & 32 & 40\\end{matrix}\\right]$"
      ],
      "text/plain": [
       "Matrix([\n",
       "[2,  4,  6,  8, 10],\n",
       "[4,  8, 12, 16, 20],\n",
       "[8, 16, 24, 32, 40]])"
      ]
     },
     "execution_count": 31,
     "metadata": {},
     "output_type": "execute_result"
    }
   ],
   "source": [
    "display(M[:, 1], M[0, :])\n",
    "M2=M[:, 1]*M[0, :]\n",
    "M2"
   ]
  },
  {
   "cell_type": "markdown",
   "metadata": {},
   "source": [
    "Выделим верхнюю левую подматрицу порядка 3"
   ]
  },
  {
   "cell_type": "code",
   "execution_count": 32,
   "metadata": {},
   "outputs": [
    {
     "data": {
      "text/latex": [
       "$\\displaystyle \\left[\\begin{matrix}2 & 4 & 6\\\\4 & 8 & 12\\\\8 & 16 & 24\\end{matrix}\\right]$"
      ],
      "text/plain": [
       "Matrix([\n",
       "[2,  4,  6],\n",
       "[4,  8, 12],\n",
       "[8, 16, 24]])"
      ]
     },
     "execution_count": 32,
     "metadata": {},
     "output_type": "execute_result"
    }
   ],
   "source": [
    "M3=M2[:3, :3] \n",
    "M3"
   ]
  },
  {
   "cell_type": "markdown",
   "metadata": {},
   "source": [
    "Выделим нижнюю правую подматрицу"
   ]
  },
  {
   "cell_type": "code",
   "execution_count": 33,
   "metadata": {},
   "outputs": [
    {
     "data": {
      "text/latex": [
       "$\\displaystyle \\left[\\begin{matrix}24 & 32 & 40\\end{matrix}\\right]$"
      ],
      "text/plain": [
       "Matrix([[24, 32, 40]])"
      ]
     },
     "execution_count": 33,
     "metadata": {},
     "output_type": "execute_result"
    }
   ],
   "source": [
    "M3=M2[2:, 2:] \n",
    "M3"
   ]
  },
  {
   "cell_type": "markdown",
   "metadata": {},
   "source": [
    "Составим матрицы из 0, 1 и 2-й строк матрицы М2"
   ]
  },
  {
   "cell_type": "code",
   "execution_count": 34,
   "metadata": {},
   "outputs": [
    {
     "data": {
      "text/latex": [
       "$\\displaystyle \\left[\\begin{matrix}1 & 2 & 3 & 4 & 5\\\\1 & 4 & 9 & 16 & 25\\\\1 & 8 & 27 & 64 & 125\\end{matrix}\\right]$"
      ],
      "text/plain": [
       "Matrix([\n",
       "[1, 2,  3,  4,   5],\n",
       "[1, 4,  9, 16,  25],\n",
       "[1, 8, 27, 64, 125]])"
      ]
     },
     "execution_count": 34,
     "metadata": {},
     "output_type": "execute_result"
    }
   ],
   "source": [
    "M_013=((M[0, :]).col_join(M[1, :])).col_join(M[2, :])\n",
    "M_013                                            "
   ]
  },
  {
   "cell_type": "markdown",
   "metadata": {},
   "source": [
    "Изменим значение элемента второй троки второго столбца матрицы М_013"
   ]
  },
  {
   "cell_type": "code",
   "execution_count": 35,
   "metadata": {},
   "outputs": [
    {
     "data": {
      "text/latex": [
       "$\\displaystyle \\left[\\begin{matrix}1 & 2 & 3 & 4 & 5\\\\1 & 4 & 9 & 16 & 25\\\\1 & 8 & 0 & 64 & 125\\end{matrix}\\right]$"
      ],
      "text/plain": [
       "Matrix([\n",
       "[1, 2, 3,  4,   5],\n",
       "[1, 4, 9, 16,  25],\n",
       "[1, 8, 0, 64, 125]])"
      ]
     },
     "execution_count": 35,
     "metadata": {},
     "output_type": "execute_result"
    }
   ],
   "source": [
    "M_013[2, 2] = 0\n",
    "M_013"
   ]
  },
  {
   "cell_type": "markdown",
   "metadata": {},
   "source": [
    "### Создание матрицы на основе lambda-функции\n",
    "Используем анонимную функцию (lambda-функцию)"
   ]
  },
  {
   "cell_type": "code",
   "execution_count": 36,
   "metadata": {},
   "outputs": [
    {
     "data": {
      "text/latex": [
       "$\\displaystyle \\left[\\begin{matrix}1 & -1 & 1 & -1 & 1\\\\3 & 1 & 3 & 1 & 3\\\\5 & 3 & 5 & 3 & 5\\\\7 & 5 & 7 & 5 & 7\\end{matrix}\\right]$"
      ],
      "text/plain": [
       "Matrix([\n",
       "[1, -1, 1, -1, 1],\n",
       "[3,  1, 3,  1, 3],\n",
       "[5,  3, 5,  3, 5],\n",
       "[7,  5, 7,  5, 7]])"
      ]
     },
     "execution_count": 36,
     "metadata": {},
     "output_type": "execute_result"
    }
   ],
   "source": [
    "P = Matrix(4, 5, lambda i, j: 2*i+(-1)**j)\n",
    "P"
   ]
  },
  {
   "cell_type": "markdown",
   "metadata": {},
   "source": [
    "### Создание матрицы на основе функции пользователя"
   ]
  },
  {
   "cell_type": "code",
   "execution_count": 37,
   "metadata": {},
   "outputs": [
    {
     "data": {
      "text/latex": [
       "$\\displaystyle \\left[\\begin{matrix}1 & 1 & 2 & 3 & 4\\\\1 & 2 & 3 & 4 & 5\\\\2 & 1 & 4 & 5 & 6\\end{matrix}\\right]$"
      ],
      "text/plain": [
       "Matrix([\n",
       "[1, 1, 2, 3, 4],\n",
       "[1, 2, 3, 4, 5],\n",
       "[2, 1, 4, 5, 6]])"
      ]
     },
     "execution_count": 37,
     "metadata": {},
     "output_type": "execute_result"
    }
   ],
   "source": [
    "def matr(i, j):\n",
    "    if i > j:\n",
    "        return i - j\n",
    "    elif i == j:\n",
    "        return 2**i\n",
    "    return i + j\n",
    "\n",
    "NewM = Matrix(3, 5, matr)\n",
    "NewM"
   ]
  }
 ],
 "metadata": {
  "kernelspec": {
   "display_name": "Python 3",
   "language": "python",
   "name": "python3"
  },
  "language_info": {
   "codemirror_mode": {
    "name": "ipython",
    "version": 3
   },
   "file_extension": ".py",
   "mimetype": "text/x-python",
   "name": "python",
   "nbconvert_exporter": "python",
   "pygments_lexer": "ipython3",
   "version": "3.9.0"
  }
 },
 "nbformat": 4,
 "nbformat_minor": 2
}
