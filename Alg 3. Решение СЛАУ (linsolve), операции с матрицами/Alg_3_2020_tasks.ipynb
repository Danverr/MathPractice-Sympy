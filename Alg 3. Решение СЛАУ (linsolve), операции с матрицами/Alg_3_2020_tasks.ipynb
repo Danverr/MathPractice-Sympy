{
 "cells": [
  {
   "cell_type": "markdown",
   "metadata": {},
   "source": [
    "# Занятие 3\n",
    "# Алгебра\n",
    "## Решение систем линейных алгебраических уравнений (СЛАУ)"
   ]
  },
  {
   "cell_type": "markdown",
   "metadata": {},
   "source": [
    "https://docs.sympy.org/latest/modules/solvers/solveset.html#sympy.solvers.solveset.linsolve"
   ]
  },
  {
   "cell_type": "code",
   "execution_count": 2,
   "metadata": {},
   "outputs": [],
   "source": [
    "from IPython.display import Markdown, display, Math, Latex\n",
    "import sympy\n",
    "from sympy import linsolve, Matrix, S, Symbol, symbols, Eq, linear_eq_to_matrix, simplify\n",
    "a, x, y, z = symbols(\"a x y z\")"
   ]
  },
  {
   "cell_type": "markdown",
   "metadata": {},
   "source": [
    "### Задание 1.\n",
    "Решить СЛАУ, представив их тремя различными способами (расширенная матрица, список уравнений, матричный вид)\n",
    "$$\n",
    "a)\\ \\left\\{\n",
    "\\begin{matrix}\n",
    "-x+5y-3z=8\\\\\n",
    "4x-y+5z=-1\\\\\n",
    "3x+4y+5z=10\n",
    "\\end{matrix}\n",
    "\\right., \\quad \n",
    "b)\\ \\left\\{\n",
    "\\begin{matrix}\n",
    "-x+5y-3z=8\\\\\n",
    "4x-y+5z=-1\\\\\n",
    "3x+4y+2z=7\n",
    "\\end{matrix}\n",
    "\\right., \\quad \n",
    "c)\\ \\left\\{\n",
    "\\begin{matrix}\n",
    "-x+5y-3z=8\\\\\n",
    "4x-y+5z=-1\\\\\n",
    "3x+4y+2z=5\n",
    "\\end{matrix}\n",
    "\\right.\n",
    "$$"
   ]
  },
  {
   "cell_type": "code",
   "execution_count": 3,
   "metadata": {},
   "outputs": [
    {
     "data": {
      "text/latex": [
       "$\\displaystyle \\left\\{\\left( -1, \\  2, \\  1\\right)\\right\\}$"
      ],
      "text/plain": [
       "FiniteSet((-1, 2, 1))"
      ]
     },
     "metadata": {},
     "output_type": "display_data"
    },
    {
     "data": {
      "text/latex": [
       "$\\displaystyle \\left\\{\\left( \\frac{3}{19} - \\frac{22 z}{19}, \\  \\frac{7 z}{19} + \\frac{31}{19}, \\  z\\right)\\right\\}$"
      ],
      "text/plain": [
       "FiniteSet((3/19 - 22*z/19, 7*z/19 + 31/19, z))"
      ]
     },
     "metadata": {},
     "output_type": "display_data"
    },
    {
     "data": {
      "text/latex": [
       "$\\displaystyle \\emptyset$"
      ],
      "text/plain": [
       "EmptySet"
      ]
     },
     "metadata": {},
     "output_type": "display_data"
    }
   ],
   "source": [
    "display(\n",
    "    linsolve(Matrix([\n",
    "        [-1, 5, -3, 8],\n",
    "        [4, -1, 5, -1],\n",
    "        [3, 4, 5, 10],\n",
    "    ])),\n",
    "    linsolve([\n",
    "        Eq(-x + 5*y - 3*z, 8),\n",
    "        Eq(4*x - y + 5*z, -1),\n",
    "        Eq(3*x + 4*y + 2*z, 7)\n",
    "    ], x, y, z),\n",
    "    linsolve((\n",
    "        Matrix([\n",
    "            [-1, 5, -3],\n",
    "            [4, -1, 5],\n",
    "            [3, 4, 2],\n",
    "        ]),\n",
    "        Matrix([8, -1, 5])\n",
    "    ))\n",
    ")"
   ]
  },
  {
   "cell_type": "markdown",
   "metadata": {},
   "source": [
    "### Задание 2.\n",
    "\n",
    "Решить СЛАУ с параметром $a$, представив их списком уравнений, а затем приведя к матричному виду с помощью linear_eq_to_matrix\n",
    "$$\n",
    "a)\\ \\left\\{\n",
    "\\begin{matrix}\n",
    "ax+5y-3z=8\\\\\n",
    "4x-y+5z=-1\\\\\n",
    "3x+4y+5z=10\n",
    "\\end{matrix}\n",
    "\\right., \\quad \n",
    "b)\\ \\left\\{\n",
    "\\begin{matrix}\n",
    "(a-1)x+5y-3z=8\\\\\n",
    "(4+a)x-y+5z=-1\\\\\n",
    "(3+2a)x+4y+2z=7\n",
    "\\end{matrix}\n",
    "\\right., \\quad \n",
    "c) \\left\\{\n",
    "\\begin{matrix}\n",
    "-x+5y-3z=8a\\\\\n",
    "4x-y+5z=-a\\\\\n",
    "3x+4y+2z=5a\n",
    "\\end{matrix}\n",
    "\\right.\n",
    "$$\n",
    "Решить СЛАУ а) при $a=-82/25$, b) при $a=-19/6$, $-3.17$ и $-3.167$, c) при $a=1$.\n",
    "\n",
    "Проанализировать результаты. Для каждого случая (кроме случая несовместной СЛАУ) провести проверку подстановкой.\n",
    "\n",
    "При подстановке дробей пользоваться конструкцией вида $S(num)/den$, например,\n",
    "$S(2)/3$"
   ]
  },
  {
   "cell_type": "code",
   "execution_count": 4,
   "metadata": {},
   "outputs": [],
   "source": [
    "def solve_and_check(lin_eq, *params):\n",
    "    display(Markdown(\"### Source matrix:\"))    \n",
    "    A, b = linear_eq_to_matrix(lin_eq, [x, y, z])\n",
    "    Ab = A.row_join(b)\n",
    "    display(Ab)\n",
    "    \n",
    "    display(Markdown(\"---\"))    \n",
    "    gen_sol = linsolve(lin_eq, x, y, z)\n",
    "    zero_sol = linsolve(Ab.subs(a, 0), x, y, z)\n",
    "    display(Markdown(f\"### General solution (a ≠ 0):\"))\n",
    "    display(gen_sol)\n",
    "    \n",
    "    if gen_sol.subs(a, 0) != zero_sol:        \n",
    "        display(Markdown(f\"### General solution (a = 0):\"))\n",
    "        display(zero_sol)\n",
    "        display(Markdown(f\"#### Check:\"))\n",
    "        display(A.subs(a, 0) * Matrix(*zero_sol) - b.subs(a, 0))\n",
    "    \n",
    "    for param in params:\n",
    "        display(Markdown(\"---\"))        \n",
    "        display(Markdown(f\"### Solution with a = {param}:\"))\n",
    "        X = linsolve((A.subs(a, param), b.subs(a, param)), x, y, z)\n",
    "        display(X)\n",
    "\n",
    "        if X != S.EmptySet:\n",
    "            display(Markdown(\"#### Check:\"))\n",
    "            display(A.subs(a, param) * Matrix(*X) - b.subs(a, param))\n",
    "    \n",
    "    display(Markdown(\"---\"))"
   ]
  },
  {
   "cell_type": "code",
   "execution_count": 5,
   "metadata": {},
   "outputs": [
    {
     "data": {
      "text/markdown": [
       "### Source matrix:"
      ],
      "text/plain": [
       "<IPython.core.display.Markdown object>"
      ]
     },
     "metadata": {},
     "output_type": "display_data"
    },
    {
     "data": {
      "text/latex": [
       "$\\displaystyle \\left[\\begin{matrix}a & 5 & -3 & 8\\\\4 & -1 & 5 & -1\\\\3 & 4 & 5 & 10\\end{matrix}\\right]$"
      ],
      "text/plain": [
       "Matrix([\n",
       "[a,  5, -3,  8],\n",
       "[4, -1,  5, -1],\n",
       "[3,  4,  5, 10]])"
      ]
     },
     "metadata": {},
     "output_type": "display_data"
    },
    {
     "data": {
      "text/markdown": [
       "---"
      ],
      "text/plain": [
       "<IPython.core.display.Markdown object>"
      ]
     },
     "metadata": {},
     "output_type": "display_data"
    },
    {
     "data": {
      "text/markdown": [
       "### General solution (a ≠ 0):"
      ],
      "text/plain": [
       "<IPython.core.display.Markdown object>"
      ]
     },
     "metadata": {},
     "output_type": "display_data"
    },
    {
     "data": {
      "text/latex": [
       "$\\displaystyle \\left\\{\\left( - \\frac{57}{25 a + 82}, \\  \\frac{55 a + 169}{25 a + 82}, \\  \\frac{3 \\left(2 a + 21\\right)}{25 a + 82}\\right)\\right\\}$"
      ],
      "text/plain": [
       "FiniteSet((-57/(25*a + 82), (55*a + 169)/(25*a + 82), 3*(2*a + 21)/(25*a + 82)))"
      ]
     },
     "metadata": {},
     "output_type": "display_data"
    },
    {
     "data": {
      "text/markdown": [
       "---"
      ],
      "text/plain": [
       "<IPython.core.display.Markdown object>"
      ]
     },
     "metadata": {},
     "output_type": "display_data"
    },
    {
     "data": {
      "text/markdown": [
       "### Solution with a = -82/25:"
      ],
      "text/plain": [
       "<IPython.core.display.Markdown object>"
      ]
     },
     "metadata": {},
     "output_type": "display_data"
    },
    {
     "data": {
      "text/latex": [
       "$\\displaystyle \\emptyset$"
      ],
      "text/plain": [
       "EmptySet"
      ]
     },
     "metadata": {},
     "output_type": "display_data"
    },
    {
     "data": {
      "text/markdown": [
       "---"
      ],
      "text/plain": [
       "<IPython.core.display.Markdown object>"
      ]
     },
     "metadata": {},
     "output_type": "display_data"
    }
   ],
   "source": [
    "solve_and_check([\n",
    "    Eq(a*x + 5*y - 3*z, 8),\n",
    "    Eq(4*x - y + 5*z, -1),\n",
    "    Eq(3*x + 4*y + 5*z, 10)\n",
    "], S(-82)/25)"
   ]
  },
  {
   "cell_type": "code",
   "execution_count": 8,
   "metadata": {},
   "outputs": [
    {
     "data": {
      "text/markdown": [
       "### Source matrix:"
      ],
      "text/plain": [
       "<IPython.core.display.Markdown object>"
      ]
     },
     "metadata": {},
     "output_type": "display_data"
    },
    {
     "data": {
      "text/latex": [
       "$\\displaystyle \\left[\\begin{matrix}a - 1 & 5 & -3 & 8\\\\a + 4 & -1 & 5 & -1\\\\2 a + 3 & 4 & 2 & 7\\end{matrix}\\right]$"
      ],
      "text/plain": [
       "Matrix([\n",
       "[  a - 1,  5, -3,  8],\n",
       "[  a + 4, -1,  5, -1],\n",
       "[2*a + 3,  4,  2,  7]])"
      ]
     },
     "metadata": {},
     "output_type": "display_data"
    },
    {
     "data": {
      "text/markdown": [
       "---"
      ],
      "text/plain": [
       "<IPython.core.display.Markdown object>"
      ]
     },
     "metadata": {},
     "output_type": "display_data"
    },
    {
     "data": {
      "text/markdown": [
       "### General solution (a ≠ 0):"
      ],
      "text/plain": [
       "<IPython.core.display.Markdown object>"
      ]
     },
     "metadata": {},
     "output_type": "display_data"
    },
    {
     "data": {
      "text/latex": [
       "$\\displaystyle \\left\\{\\left( \\frac{3 - 22 z}{6 a + 19}, \\  \\frac{9 a + z \\left(8 a + 7\\right) + 31}{6 a + 19}, \\  z\\right)\\right\\}$"
      ],
      "text/plain": [
       "FiniteSet(((3 - 22*z)/(6*a + 19), (9*a + z*(8*a + 7) + 31)/(6*a + 19), z))"
      ]
     },
     "metadata": {},
     "output_type": "display_data"
    },
    {
     "data": {
      "text/markdown": [
       "---"
      ],
      "text/plain": [
       "<IPython.core.display.Markdown object>"
      ]
     },
     "metadata": {},
     "output_type": "display_data"
    },
    {
     "data": {
      "text/markdown": [
       "### Solution with a = -19/6:"
      ],
      "text/plain": [
       "<IPython.core.display.Markdown object>"
      ]
     },
     "metadata": {},
     "output_type": "display_data"
    },
    {
     "data": {
      "text/latex": [
       "$\\displaystyle \\left\\{\\left( \\frac{6 y}{5} - \\frac{111}{55}, \\  y, \\  \\frac{3}{22}\\right)\\right\\}$"
      ],
      "text/plain": [
       "FiniteSet((6*y/5 - 111/55, y, 3/22))"
      ]
     },
     "metadata": {},
     "output_type": "display_data"
    },
    {
     "data": {
      "text/markdown": [
       "#### Check:"
      ],
      "text/plain": [
       "<IPython.core.display.Markdown object>"
      ]
     },
     "metadata": {},
     "output_type": "display_data"
    },
    {
     "data": {
      "text/latex": [
       "$\\displaystyle \\left[\\begin{matrix}0\\\\0\\\\0\\end{matrix}\\right]$"
      ],
      "text/plain": [
       "Matrix([\n",
       "[0],\n",
       "[0],\n",
       "[0]])"
      ]
     },
     "metadata": {},
     "output_type": "display_data"
    },
    {
     "data": {
      "text/markdown": [
       "---"
      ],
      "text/plain": [
       "<IPython.core.display.Markdown object>"
      ]
     },
     "metadata": {},
     "output_type": "display_data"
    },
    {
     "data": {
      "text/markdown": [
       "### Solution with a = -3.17:"
      ],
      "text/plain": [
       "<IPython.core.display.Markdown object>"
      ]
     },
     "metadata": {},
     "output_type": "display_data"
    },
    {
     "data": {
      "text/latex": [
       "$\\displaystyle \\emptyset$"
      ],
      "text/plain": [
       "EmptySet"
      ]
     },
     "metadata": {},
     "output_type": "display_data"
    },
    {
     "data": {
      "text/markdown": [
       "---"
      ],
      "text/plain": [
       "<IPython.core.display.Markdown object>"
      ]
     },
     "metadata": {},
     "output_type": "display_data"
    },
    {
     "data": {
      "text/markdown": [
       "### Solution with a = -3.167:"
      ],
      "text/plain": [
       "<IPython.core.display.Markdown object>"
      ]
     },
     "metadata": {},
     "output_type": "display_data"
    },
    {
     "data": {
      "text/latex": [
       "$\\displaystyle \\emptyset$"
      ],
      "text/plain": [
       "EmptySet"
      ]
     },
     "metadata": {},
     "output_type": "display_data"
    },
    {
     "data": {
      "text/markdown": [
       "---"
      ],
      "text/plain": [
       "<IPython.core.display.Markdown object>"
      ]
     },
     "metadata": {},
     "output_type": "display_data"
    }
   ],
   "source": [
    "solve_and_check([\n",
    "    Eq((a - 1)*x + 5*y - 3*z, 8),\n",
    "    Eq((4 + a)*x - y + 5*z, -1),\n",
    "    Eq((3 + 2*a)*x + 4*y + 2*z, 7)\n",
    "], S(-19)/6, -3.17, -3.167)"
   ]
  },
  {
   "cell_type": "markdown",
   "metadata": {},
   "source": [
    "# Внимание!\n",
    "В задании $2c)$ SymPy предполагает, что $a \\neq 0$, поэтому в общем случае решений нет, хотя на самом деле при $a = 0$ решения существуют"
   ]
  },
  {
   "cell_type": "code",
   "execution_count": 105,
   "metadata": {},
   "outputs": [
    {
     "data": {
      "text/markdown": [
       "### Source matrix:"
      ],
      "text/plain": [
       "<IPython.core.display.Markdown object>"
      ]
     },
     "metadata": {},
     "output_type": "display_data"
    },
    {
     "data": {
      "text/latex": [
       "$\\displaystyle \\left[\\begin{matrix}-1 & 5 & -3 & 8 a\\\\4 & -1 & 5 & - a\\\\3 & 4 & 2 & 5 a\\end{matrix}\\right]$"
      ],
      "text/plain": [
       "Matrix([\n",
       "[-1,  5, -3, 8*a],\n",
       "[ 4, -1,  5,  -a],\n",
       "[ 3,  4,  2, 5*a]])"
      ]
     },
     "metadata": {},
     "output_type": "display_data"
    },
    {
     "data": {
      "text/markdown": [
       "---"
      ],
      "text/plain": [
       "<IPython.core.display.Markdown object>"
      ]
     },
     "metadata": {},
     "output_type": "display_data"
    },
    {
     "data": {
      "text/markdown": [
       "### General solution (a ≠ 0):"
      ],
      "text/plain": [
       "<IPython.core.display.Markdown object>"
      ]
     },
     "metadata": {},
     "output_type": "display_data"
    },
    {
     "data": {
      "text/latex": [
       "$\\displaystyle \\emptyset$"
      ],
      "text/plain": [
       "EmptySet"
      ]
     },
     "metadata": {},
     "output_type": "display_data"
    },
    {
     "data": {
      "text/markdown": [
       "### General solution (a = 0):"
      ],
      "text/plain": [
       "<IPython.core.display.Markdown object>"
      ]
     },
     "metadata": {},
     "output_type": "display_data"
    },
    {
     "data": {
      "text/latex": [
       "$\\displaystyle \\left\\{\\left( - \\frac{22 z}{19}, \\  \\frac{7 z}{19}, \\  z\\right)\\right\\}$"
      ],
      "text/plain": [
       "FiniteSet((-22*z/19, 7*z/19, z))"
      ]
     },
     "metadata": {},
     "output_type": "display_data"
    },
    {
     "data": {
      "text/markdown": [
       "#### Check:"
      ],
      "text/plain": [
       "<IPython.core.display.Markdown object>"
      ]
     },
     "metadata": {},
     "output_type": "display_data"
    },
    {
     "data": {
      "text/latex": [
       "$\\displaystyle \\left[\\begin{matrix}0\\\\0\\\\0\\end{matrix}\\right]$"
      ],
      "text/plain": [
       "Matrix([\n",
       "[0],\n",
       "[0],\n",
       "[0]])"
      ]
     },
     "metadata": {},
     "output_type": "display_data"
    },
    {
     "data": {
      "text/markdown": [
       "---"
      ],
      "text/plain": [
       "<IPython.core.display.Markdown object>"
      ]
     },
     "metadata": {},
     "output_type": "display_data"
    },
    {
     "data": {
      "text/markdown": [
       "### Solution with a = 1:"
      ],
      "text/plain": [
       "<IPython.core.display.Markdown object>"
      ]
     },
     "metadata": {},
     "output_type": "display_data"
    },
    {
     "data": {
      "text/latex": [
       "$\\displaystyle \\emptyset$"
      ],
      "text/plain": [
       "EmptySet"
      ]
     },
     "metadata": {},
     "output_type": "display_data"
    },
    {
     "data": {
      "text/markdown": [
       "---"
      ],
      "text/plain": [
       "<IPython.core.display.Markdown object>"
      ]
     },
     "metadata": {},
     "output_type": "display_data"
    }
   ],
   "source": [
    "solve_and_check([\n",
    "    Eq(-1*x + 5*y - 3*z, 8*a),\n",
    "    Eq(4*x - y + 5*z, -a),\n",
    "    Eq(3*x + 4*y + 2*z, 5*a)\n",
    "], 1)"
   ]
  },
  {
   "cell_type": "markdown",
   "metadata": {},
   "source": [
    "### Задание 3\n",
    "В расширенной матрице СЛАУ из Задания 1 а) \n",
    "\n",
    "1) выделить матрицу левой части\n",
    "\n",
    "2) выделить столбец правой части\n",
    "\n",
    "3) транспонировать матрицу, полученную в 1)\n",
    "\n",
    "4) получить расширенную матрицу из матрицы 3) и столбца 2)\n",
    "\n",
    "5) создать на основе лямбда-функции матрицу $3\\times 4$ из расположенных в шахматном порядке чисел 1 и $-1$."
   ]
  },
  {
   "cell_type": "code",
   "execution_count": 9,
   "metadata": {},
   "outputs": [
    {
     "data": {
      "text/latex": [
       "$\\displaystyle \\left[\\begin{matrix}-1 & 5 & -3 & 8\\\\4 & -1 & 5 & -1\\\\3 & 4 & 5 & 10\\end{matrix}\\right]$"
      ],
      "text/plain": [
       "Matrix([\n",
       "[-1,  5, -3,  8],\n",
       "[ 4, -1,  5, -1],\n",
       "[ 3,  4,  5, 10]])"
      ]
     },
     "metadata": {},
     "output_type": "display_data"
    },
    {
     "data": {
      "text/markdown": [
       "#### 1) Выделить матрицу левой части"
      ],
      "text/plain": [
       "<IPython.core.display.Markdown object>"
      ]
     },
     "metadata": {},
     "output_type": "display_data"
    },
    {
     "data": {
      "text/latex": [
       "$\\displaystyle \\left[\\begin{matrix}-1 & 5 & -3\\\\4 & -1 & 5\\\\3 & 4 & 5\\end{matrix}\\right]$"
      ],
      "text/plain": [
       "Matrix([\n",
       "[-1,  5, -3],\n",
       "[ 4, -1,  5],\n",
       "[ 3,  4,  5]])"
      ]
     },
     "metadata": {},
     "output_type": "display_data"
    },
    {
     "data": {
      "text/markdown": [
       "#### 2) Выделить столбец правой части"
      ],
      "text/plain": [
       "<IPython.core.display.Markdown object>"
      ]
     },
     "metadata": {},
     "output_type": "display_data"
    },
    {
     "data": {
      "text/latex": [
       "$\\displaystyle \\left[\\begin{matrix}8\\\\-1\\\\10\\end{matrix}\\right]$"
      ],
      "text/plain": [
       "Matrix([\n",
       "[ 8],\n",
       "[-1],\n",
       "[10]])"
      ]
     },
     "metadata": {},
     "output_type": "display_data"
    },
    {
     "data": {
      "text/markdown": [
       "#### 3) Транспонировать матрицу, полученную в 1)"
      ],
      "text/plain": [
       "<IPython.core.display.Markdown object>"
      ]
     },
     "metadata": {},
     "output_type": "display_data"
    },
    {
     "data": {
      "text/latex": [
       "$\\displaystyle \\left[\\begin{matrix}-1 & 4 & 3\\\\5 & -1 & 4\\\\-3 & 5 & 5\\end{matrix}\\right]$"
      ],
      "text/plain": [
       "Matrix([\n",
       "[-1,  4, 3],\n",
       "[ 5, -1, 4],\n",
       "[-3,  5, 5]])"
      ]
     },
     "metadata": {},
     "output_type": "display_data"
    },
    {
     "data": {
      "text/markdown": [
       "#### 4) Получить расширенную матрицу из матрицы 3) и столбца 2)"
      ],
      "text/plain": [
       "<IPython.core.display.Markdown object>"
      ]
     },
     "metadata": {},
     "output_type": "display_data"
    },
    {
     "data": {
      "text/latex": [
       "$\\displaystyle \\left[\\begin{matrix}-1 & 4 & 3 & 8\\\\5 & -1 & 4 & -1\\\\-3 & 5 & 5 & 10\\end{matrix}\\right]$"
      ],
      "text/plain": [
       "Matrix([\n",
       "[-1,  4, 3,  8],\n",
       "[ 5, -1, 4, -1],\n",
       "[-3,  5, 5, 10]])"
      ]
     },
     "metadata": {},
     "output_type": "display_data"
    },
    {
     "data": {
      "text/markdown": [
       "#### 5) Создать на основе лямбда-функции матрицу 3*4 из расположенных в шахматном порядке чисел 1 и -1."
      ],
      "text/plain": [
       "<IPython.core.display.Markdown object>"
      ]
     },
     "metadata": {},
     "output_type": "display_data"
    },
    {
     "data": {
      "text/latex": [
       "$\\displaystyle \\left[\\begin{matrix}1 & -1 & 1 & -1\\\\-1 & 1 & -1 & 1\\\\1 & -1 & 1 & -1\\end{matrix}\\right]$"
      ],
      "text/plain": [
       "Matrix([\n",
       "[ 1, -1,  1, -1],\n",
       "[-1,  1, -1,  1],\n",
       "[ 1, -1,  1, -1]])"
      ]
     },
     "metadata": {},
     "output_type": "display_data"
    },
    {
     "data": {
      "text/markdown": [
       "---"
      ],
      "text/plain": [
       "<IPython.core.display.Markdown object>"
      ]
     },
     "metadata": {},
     "output_type": "display_data"
    }
   ],
   "source": [
    "Ab = Matrix([\n",
    "    [-1, 5, -3, 8],\n",
    "    [4, -1, 5, -1],\n",
    "    [3, 4, 5, 10],\n",
    "])\n",
    "display(Ab)\n",
    "\n",
    "display(Markdown(\"#### 1) Выделить матрицу левой части\"))\n",
    "A = Ab[:, :3]\n",
    "display(A)\n",
    "\n",
    "display(Markdown(\"#### 2) Выделить столбец правой части\"))\n",
    "b = Ab[:, Ab.shape[1] - 1]\n",
    "display(b)\n",
    "\n",
    "display(Markdown(\"#### 3) Транспонировать матрицу, полученную в 1)\"))\n",
    "A_t = A.transpose()\n",
    "display(A_t)\n",
    "\n",
    "display(Markdown(\"#### 4) Получить расширенную матрицу из матрицы 3) и столбца 2)\"))\n",
    "display(A_t.row_join(b))\n",
    "\n",
    "display(Markdown(\"#### 5) Создать на основе лямбда-функции матрицу 3*4 из расположенных в шахматном порядке чисел 1 и -1.\"))\n",
    "display(Matrix(3, 4, lambda i, j: (-1)**((i + j) % 2)))\n",
    "\n",
    "display(Markdown(\"---\"))"
   ]
  },
  {
   "cell_type": "markdown",
   "metadata": {},
   "source": [
    "### Индивидуальное задание.\n",
    "Решить СЛАУ c параметром тремя способами. Вначале составить список уравнений и решить вторым способом, затем список уравнений преобразовать в матричный вид и решить третьим способом. Затем составить из матрицы левой части и столбца правой расширенную матрицу СЛАУ и решить первым способом. После этого провести проверку подстановкой.\n",
    "\n",
    "Затем отдельно рассмотреть значение параметра, при котором решение СЛАУ нельзя получить по общей формуле, полученной ранее.\n",
    "Найти решение СЛАУ при этом значении параметра первым или третьим способом, используя подстановку subs."
   ]
  },
  {
   "cell_type": "markdown",
   "metadata": {},
   "source": [
    "\\begin{align*}\n",
    " A = \\left[\\begin{matrix}7 & \\alpha & -4 & 4\\\\2 & -7 & 3 & -3\\\\2 & 6 & -5 & -5\\\\44 & -52 & 8 & -8\\end{matrix}\\right],\n",
    "\\qquad b = \\left[\\begin{matrix}-5\\\\7\\\\-4\\\\7\\end{matrix}\\right]. \n",
    " \\end{align*}"
   ]
  },
  {
   "cell_type": "code",
   "execution_count": 111,
   "metadata": {},
   "outputs": [
    {
     "data": {
      "text/latex": [
       "$\\displaystyle \\left[\\begin{matrix}7 & a & -4 & 4 & -5\\\\2 & -7 & 3 & -3 & 7\\\\2 & 6 & -5 & -5 & -4\\\\44 & -52 & 8 & -8 & 7\\end{matrix}\\right]$"
      ],
      "text/plain": [
       "Matrix([\n",
       "[ 7,   a, -4,  4, -5],\n",
       "[ 2,  -7,  3, -3,  7],\n",
       "[ 2,   6, -5, -5, -4],\n",
       "[44, -52,  8, -8,  7]])"
      ]
     },
     "metadata": {},
     "output_type": "display_data"
    },
    {
     "data": {
      "text/latex": [
       "$\\displaystyle \\left\\{\\left( \\frac{5 \\left(152 - 7 a\\right)}{116 \\left(a - 1\\right)}, \\  \\frac{29}{4 \\left(a - 1\\right)}, \\  \\frac{1864 a + 12027}{1160 \\left(a - 1\\right)}, \\  \\frac{177 - 1076 a}{1160 \\left(a - 1\\right)}\\right)\\right\\}$"
      ],
      "text/plain": [
       "FiniteSet((5*(152 - 7*a)/(116*(a - 1)), 29/(4*(a - 1)), (1864*a + 12027)/(1160*(a - 1)), (177 - 1076*a)/(1160*(a - 1))))"
      ]
     },
     "metadata": {},
     "output_type": "display_data"
    },
    {
     "data": {
      "text/latex": [
       "$\\displaystyle \\left\\{\\left( \\frac{5 \\left(152 - 7 a\\right)}{116 \\left(a - 1\\right)}, \\  \\frac{29}{4 \\left(a - 1\\right)}, \\  \\frac{1864 a + 12027}{1160 \\left(a - 1\\right)}, \\  \\frac{177 - 1076 a}{1160 \\left(a - 1\\right)}\\right)\\right\\}$"
      ],
      "text/plain": [
       "FiniteSet((5*(152 - 7*a)/(116*(a - 1)), 29/(4*(a - 1)), (1864*a + 12027)/(1160*(a - 1)), (177 - 1076*a)/(1160*(a - 1))))"
      ]
     },
     "metadata": {},
     "output_type": "display_data"
    },
    {
     "data": {
      "text/latex": [
       "$\\displaystyle \\left\\{\\left( \\frac{5 \\left(152 - 7 a\\right)}{116 \\left(a - 1\\right)}, \\  \\frac{29}{4 \\left(a - 1\\right)}, \\  \\frac{1864 a + 12027}{1160 \\left(a - 1\\right)}, \\  \\frac{177 - 1076 a}{1160 \\left(a - 1\\right)}\\right)\\right\\}$"
      ],
      "text/plain": [
       "FiniteSet((5*(152 - 7*a)/(116*(a - 1)), 29/(4*(a - 1)), (1864*a + 12027)/(1160*(a - 1)), (177 - 1076*a)/(1160*(a - 1))))"
      ]
     },
     "metadata": {},
     "output_type": "display_data"
    },
    {
     "data": {
      "text/latex": [
       "$\\displaystyle \\left[\\begin{matrix}0\\\\0\\\\0\\\\0\\end{matrix}\\right]$"
      ],
      "text/plain": [
       "Matrix([\n",
       "[0],\n",
       "[0],\n",
       "[0],\n",
       "[0]])"
      ]
     },
     "metadata": {},
     "output_type": "display_data"
    },
    {
     "data": {
      "text/markdown": [
       "---"
      ],
      "text/plain": [
       "<IPython.core.display.Markdown object>"
      ]
     },
     "metadata": {},
     "output_type": "display_data"
    },
    {
     "data": {
      "text/markdown": [
       "#### Solution with a = 1"
      ],
      "text/plain": [
       "<IPython.core.display.Markdown object>"
      ]
     },
     "metadata": {},
     "output_type": "display_data"
    },
    {
     "data": {
      "text/latex": [
       "$\\displaystyle \\left[\\begin{matrix}7 & 1 & -4 & 4 & -5\\\\2 & -7 & 3 & -3 & 7\\\\2 & 6 & -5 & -5 & -4\\\\44 & -52 & 8 & -8 & 7\\end{matrix}\\right]$"
      ],
      "text/plain": [
       "Matrix([\n",
       "[ 7,   1, -4,  4, -5],\n",
       "[ 2,  -7,  3, -3,  7],\n",
       "[ 2,   6, -5, -5, -4],\n",
       "[44, -52,  8, -8,  7]])"
      ]
     },
     "metadata": {},
     "output_type": "display_data"
    },
    {
     "data": {
      "text/latex": [
       "$\\displaystyle \\emptyset$"
      ],
      "text/plain": [
       "EmptySet"
      ]
     },
     "metadata": {},
     "output_type": "display_data"
    }
   ],
   "source": [
    "x = symbols(\"x:4\")\n",
    "\n",
    "lin_eqs = [\n",
    "    Eq(7*x[0] + a*x[1] - 4*x[2] + 4*x[3], -5),\n",
    "    Eq(2*x[0] - 7*x[1] + 3*x[2] - 3*x[3], 7),\n",
    "    Eq(2*x[0] + 6*x[1] - 5*x[2] - 5*x[3], -4),\n",
    "    Eq(44*x[0] - 52*x[1] + 8*x[2] - 8*x[3], 7)\n",
    "]\n",
    "\n",
    "A, b = linear_eq_to_matrix(lin_eqs, x)\n",
    "Ab = A.row_join(b)\n",
    "display(Ab)\n",
    "\n",
    "display(linsolve(lin_eqs, *x))\n",
    "display(linsolve((A, b)))\n",
    "display(linsolve(Ab))\n",
    "\n",
    "X = Matrix(*linsolve(Ab))\n",
    "display(simplify(A * X - b))\n",
    "\n",
    "display(Markdown(\"---\"))\n",
    "display(Markdown(\"#### Solution with a = 1\"))\n",
    "display(Ab.subs(a, 1))\n",
    "display(linsolve(Ab.subs(a, 1)))"
   ]
  }
 ],
 "metadata": {
  "kernelspec": {
   "display_name": "Python 3",
   "language": "python",
   "name": "python3"
  },
  "language_info": {
   "codemirror_mode": {
    "name": "ipython",
    "version": 3
   },
   "file_extension": ".py",
   "mimetype": "text/x-python",
   "name": "python",
   "nbconvert_exporter": "python",
   "pygments_lexer": "ipython3",
   "version": "3.9.0"
  }
 },
 "nbformat": 4,
 "nbformat_minor": 2
}
