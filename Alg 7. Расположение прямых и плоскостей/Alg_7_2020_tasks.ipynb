{
 "cells": [
  {
   "cell_type": "code",
   "execution_count": 2,
   "metadata": {},
   "outputs": [],
   "source": [
    "import sympy\n",
    "from sympy import  Point, Line, Plane, Point3D, solve, solveset"
   ]
  },
  {
   "cell_type": "code",
   "execution_count": 76,
   "metadata": {},
   "outputs": [],
   "source": [
    "A = Point(3, -2, 3)\n",
    "B = Point(-2, 3, 1)\n",
    "C = Point(1, -8, 6)\n",
    "D = Point(1, 2, 4)\n",
    "F = Point(-7, 8, -1)\n",
    "O = Point(0, 0, 0)\n",
    "K = Point(3,-2, 3)\n",
    "\n",
    "ABC = Plane(A, B, C)\n",
    "\n",
    "x, y, z = sympy.symbols(\"x y z\")"
   ]
  },
  {
   "cell_type": "markdown",
   "metadata": {},
   "source": [
    "# Лабораторная работа 7\n",
    "# Алгебра\n",
    "https://docs.sympy.org/latest/search.html?q=geometry\n",
    "\n",
    "## Прямые и плоскости в пространстве. Модуль Geometry\n",
    "### Задание 1.\n",
    "Даны точки: $A(3, -2, 3)$,  $B(-2, 3, 1)$, $C(1, -8, 6)$, $D(1, 2, 4)$, $F(-7, 8, -1)$.\n",
    "\n",
    "Проверить, различны ли прямые $AB$ и $AF$, $BC$ и $CD$, $ABC$ и $ACF$, $ABC$ и $ACD$. "
   ]
  },
  {
   "cell_type": "code",
   "execution_count": 24,
   "metadata": {},
   "outputs": [
    {
     "name": "stdout",
     "output_type": "stream",
     "text": [
      "AB || AF? True\n",
      "BC || CD? False\n",
      "ABC || ACF? True\n",
      "ABC || ACD? False\n"
     ]
    }
   ],
   "source": [
    "print(\"AB || AF?\", Line(A, B).is_parallel(Line(A, F)))\n",
    "print(\"BC || CD?\", Line(B, C).is_parallel(Line(C, D)))\n",
    "print(\"ABC || ACF?\", ABC.is_parallel(Plane(A, C, F)))\n",
    "print(\"ABC || ACD?\", ABC.is_parallel(Plane(A, C, D)))"
   ]
  },
  {
   "cell_type": "markdown",
   "metadata": {},
   "source": [
    "###  Задание 2\n",
    "Вывести на экран уравнение обеих биссектрис двугранных углов, образованных при пересечении плоскостей АВС и АСD.\n",
    "\n",
    "Указание: расстояние от любой точки на биссектрисе до каждой из плоскостей АВС и АСD одинаково, полученное из этого уравнение описывает обе биссектрисы, упрощать его не нужно."
   ]
  },
  {
   "cell_type": "code",
   "execution_count": 82,
   "metadata": {},
   "outputs": [
    {
     "data": {
      "text/latex": [
       "$\\displaystyle \\left|{\\frac{3 \\sqrt{1970} \\left(x - 3\\right)}{1970} + \\frac{19 \\sqrt{1970} \\left(y + 2\\right)}{1970} + \\frac{4 \\sqrt{1970} \\left(z - 3\\right)}{197}}\\right| = \\left|{\\frac{9 \\sqrt{185} \\left(x - 3\\right)}{185} + \\frac{2 \\sqrt{185} \\left(y + 2\\right)}{185} + \\frac{2 \\sqrt{185} \\left(z - 3\\right)}{37}}\\right|$"
      ],
      "text/plain": [
       "Eq(Abs(3*sqrt(1970)*(x - 3)/1970 + 19*sqrt(1970)*(y + 2)/1970 + 4*sqrt(1970)*(z - 3)/197), Abs(9*sqrt(185)*(x - 3)/185 + 2*sqrt(185)*(y + 2)/185 + 2*sqrt(185)*(z - 3)/37))"
      ]
     },
     "metadata": {},
     "output_type": "display_data"
    }
   ],
   "source": [
    "point = Point(x, y, z)\n",
    "display(sympy.Eq(ABC.distance(point), Plane(A, C, D).distance(point)))"
   ]
  },
  {
   "cell_type": "markdown",
   "metadata": {},
   "source": [
    "###  Задание 3\n",
    "Построить плоскость, перпендикулярную плоскости АВС, проходящую через D и начало координат. Найти линию пересечения АВС и этой плоскости."
   ]
  },
  {
   "cell_type": "code",
   "execution_count": 19,
   "metadata": {},
   "outputs": [
    {
     "data": {
      "text/latex": [
       "$\\displaystyle Plane\\left(Point3D\\left(1, 2, 4\\right), \\left( -4, \\  28, \\  -13\\right)\\right)$"
      ],
      "text/plain": [
       "Plane(Point3D(1, 2, 4), (-4, 28, -13))"
      ]
     },
     "metadata": {},
     "output_type": "display_data"
    },
    {
     "data": {
      "text/latex": [
       "$\\displaystyle Line3D\\left(Point3D\\left(\\frac{637}{40}, \\frac{91}{40}, 0\\right), Point3D\\left(- \\frac{54043}{40}, - \\frac{4749}{40}, 160\\right)\\right)$"
      ],
      "text/plain": [
       "Line3D(Point3D(637/40, 91/40, 0), Point3D(-54043/40, -4749/40, 160))"
      ]
     },
     "metadata": {},
     "output_type": "display_data"
    }
   ],
   "source": [
    "plane = ABC.perpendicular_plane(D, O)\n",
    "inter = ABC.intersection(plane)\n",
    "display(plane, *inter)"
   ]
  },
  {
   "cell_type": "markdown",
   "metadata": {},
   "source": [
    "###  Задание 4\n",
    "Найти пересечение плоскости АВС и прямой DK, где K(3,-2, 3)."
   ]
  },
  {
   "cell_type": "code",
   "execution_count": 26,
   "metadata": {},
   "outputs": [
    {
     "data": {
      "text/latex": [
       "$\\displaystyle Point3D\\left(3, -2, 3\\right)$"
      ],
      "text/plain": [
       "Point3D(3, -2, 3)"
      ]
     },
     "metadata": {},
     "output_type": "display_data"
    }
   ],
   "source": [
    "display(*ABC.intersection(Line(D, K)))"
   ]
  },
  {
   "cell_type": "markdown",
   "metadata": {},
   "source": [
    "###  Задание 5\n",
    "Проверить, что точка пересечения из Задания 4 лежит в плоскости AFC."
   ]
  },
  {
   "cell_type": "code",
   "execution_count": 54,
   "metadata": {},
   "outputs": [
    {
     "data": {
      "text/latex": [
       "$\\displaystyle Point3D\\left(3, -2, 3\\right)$"
      ],
      "text/plain": [
       "Point3D(3, -2, 3)"
      ]
     },
     "metadata": {},
     "output_type": "display_data"
    },
    {
     "name": "stdout",
     "output_type": "stream",
     "text": [
      "Лежит в плоскости AFC? True\n"
     ]
    }
   ],
   "source": [
    "point = ABC.intersection(Line(D, K))[0]\n",
    "display(point)\n",
    "print(\"Лежит в плоскости AFC?\", Plane(A, F, C).equation(*point) == 0)"
   ]
  },
  {
   "cell_type": "markdown",
   "metadata": {},
   "source": [
    "###  Задание 6\n",
    "Даны точки: A(3, -2, 3),  B(-2, 3, 1), C(1, -8, 6), D(1, 2, 4), F(-7, 8, -1).\n",
    "\n",
    "Составить словарь всех прямых (в нем должны быть и прямая АВ, и ВА!), каждая из которых проходит хотя бы через две заданные точки, ключ - сама прямая (Line), значение - список из имен ВСЕХ точек, лежащих на этой прямой. Вывести на экран имена только тех прямых, на которых лежит не менее трех точек из условия, а также список точек, лежащих на прямой."
   ]
  },
  {
   "cell_type": "code",
   "execution_count": 126,
   "metadata": {},
   "outputs": [
    {
     "name": "stdout",
     "output_type": "stream",
     "text": [
      "AB - A B F\n",
      "AF - A B F\n",
      "BA - A B F\n",
      "BF - A B F\n",
      "FA - A B F\n",
      "FB - A B F\n"
     ]
    }
   ],
   "source": [
    "A = Point(3, -2, 3)\n",
    "B = Point(-2, 3, 1)\n",
    "C = Point(1, -8, 6)\n",
    "D = Point(1, 2, 4)\n",
    "F = Point(-7, 8, -1)\n",
    "\n",
    "points = {\"A\": A, \"B\": B, \"C\": C, \"D\": D, \"F\": F}\n",
    "lines = {} \n",
    "\n",
    "for name1 in points:\n",
    "    for name2 in points:        \n",
    "        if name1 != name2:\n",
    "            p1, p2 = points[name1], points[name2]\n",
    "            line = Line(p1, p2)\n",
    "            lines[line] = []\n",
    "            \n",
    "            for name3 in points:\n",
    "                if line.distance(points[name3]) == 0:\n",
    "                    lines[line].append(name3)\n",
    "            \n",
    "            if len(lines[line]) >= 3:\n",
    "                print(name1 + name2, \"-\", *lines[line])"
   ]
  },
  {
   "cell_type": "markdown",
   "metadata": {},
   "source": [
    "### Индивидуальное задание (Вариант 11)\n",
    "\n",
    "Точки: $A(2, 13, 6)$, $D(8, 21, 9)$, $M(7/2, 15, 7)$, $P(-1, 9, 5)$ и $U(5, 17, 8)$.\n",
    "\n",
    "Составить список lines_list, состоящий из  tuple из троек прямых, каждая из которых проходит через две (или более) заданные точки, причем все прямые пересекаются в одной точке. Совпадающие прямые не учитывать. "
   ]
  },
  {
   "cell_type": "code",
   "execution_count": 127,
   "metadata": {},
   "outputs": [
    {
     "data": {
      "text/plain": [
       "[Line3D(Point3D(2, 13, 6), Point3D(8, 21, 9)),\n",
       " Line3D(Point3D(2, 13, 6), Point3D(7/2, 15, 7)),\n",
       " Line3D(Point3D(2, 13, 6), Point3D(-1, 9, 5)),\n",
       " Line3D(Point3D(8, 21, 9), Point3D(7/2, 15, 7)),\n",
       " Line3D(Point3D(8, 21, 9), Point3D(5, 17, 8)),\n",
       " Line3D(Point3D(-1, 9, 5), Point3D(5, 17, 8))]"
      ]
     },
     "metadata": {},
     "output_type": "display_data"
    },
    {
     "data": {
      "text/plain": [
       "[(Line3D(Point3D(2, 13, 6), Point3D(8, 21, 9)),\n",
       "  Line3D(Point3D(2, 13, 6), Point3D(7/2, 15, 7)),\n",
       "  Line3D(Point3D(2, 13, 6), Point3D(-1, 9, 5))),\n",
       " (Line3D(Point3D(2, 13, 6), Point3D(8, 21, 9)),\n",
       "  Line3D(Point3D(8, 21, 9), Point3D(7/2, 15, 7)),\n",
       "  Line3D(Point3D(8, 21, 9), Point3D(5, 17, 8))),\n",
       " (Line3D(Point3D(2, 13, 6), Point3D(7/2, 15, 7)),\n",
       "  Line3D(Point3D(8, 21, 9), Point3D(5, 17, 8)),\n",
       "  Line3D(Point3D(-1, 9, 5), Point3D(5, 17, 8))),\n",
       " (Line3D(Point3D(2, 13, 6), Point3D(-1, 9, 5)),\n",
       "  Line3D(Point3D(8, 21, 9), Point3D(7/2, 15, 7)),\n",
       "  Line3D(Point3D(-1, 9, 5), Point3D(5, 17, 8)))]"
      ]
     },
     "metadata": {},
     "output_type": "display_data"
    }
   ],
   "source": [
    "A = Point(2, 13, 6)\n",
    "D = Point(8, 21, 9)\n",
    "M = Point(7/2, 15, 7)\n",
    "P = Point(-1, 9, 5)\n",
    "U = Point(5, 17, 8)\n",
    "points = [A, D, M, P, U]\n",
    "\n",
    "lines = []\n",
    "result = []\n",
    "\n",
    "for i in range(len(points)):\n",
    "    for j in range(i + 1, len(points)):\n",
    "        currentLine = Line(points[i], points[j])\n",
    "        isUnique = True\n",
    "        \n",
    "        for l in lines:\n",
    "            if currentLine.is_similar(l):\n",
    "                isUnique = False\n",
    "                break\n",
    "        \n",
    "        if isUnique:\n",
    "            lines.append(currentLine)\n",
    "\n",
    "for i in range(len(lines)):\n",
    "    for j in range(i + 1, len(lines)):\n",
    "        for k in range(j + 1, len(lines)):\n",
    "            l1, l2, l3 = lines[i], lines[j], lines[k]\n",
    "            \n",
    "            if Line.are_concurrent(l1, l2, l3):\n",
    "                result.append((l1, l2, l3))\n",
    "\n",
    "display(lines, result)"
   ]
  }
 ],
 "metadata": {
  "kernelspec": {
   "display_name": "Python 3",
   "language": "python",
   "name": "python3"
  },
  "language_info": {
   "codemirror_mode": {
    "name": "ipython",
    "version": 3
   },
   "file_extension": ".py",
   "mimetype": "text/x-python",
   "name": "python",
   "nbconvert_exporter": "python",
   "pygments_lexer": "ipython3",
   "version": "3.9.0"
  }
 },
 "nbformat": 4,
 "nbformat_minor": 2
}
