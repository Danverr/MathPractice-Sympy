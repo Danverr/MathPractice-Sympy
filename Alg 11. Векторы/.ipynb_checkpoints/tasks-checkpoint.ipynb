{
 "cells": [
  {
   "cell_type": "code",
   "execution_count": 6,
   "metadata": {
    "id": "i5mTR9_bFUaN"
   },
   "outputs": [],
   "source": [
    "import sympy\n",
    "from sympy import  Matrix, symbols\n",
    "from sympy import sin as Sin\n",
    "from sympy import cos as Cos\n",
    "from sympy import pi as Pi\n",
    "from sympy.vector import CoordSys3D, Vector, matrix_to_vector, AxisOrienter, express"
   ]
  },
  {
   "cell_type": "code",
   "execution_count": 7,
   "metadata": {},
   "outputs": [],
   "source": [
    "def makeVector(N, x, y, z):\n",
    "    return N.i * x + N.j * y + N.k * z"
   ]
  },
  {
   "cell_type": "markdown",
   "metadata": {
    "id": "0M6OpmvAFUaa"
   },
   "source": [
    "# Занятие 11\n",
    "# Алгебра\n",
    "## Векторы\n",
    "### Задание 1.\n",
    "Задать систему координат с именем '1'. \n",
    "Найти скалярное и векторное произведение векторов $a(-\\cos(\\pi/4), \\sin(\\pi/3), 1)$ и $b(2, -1, 3)$."
   ]
  },
  {
   "cell_type": "code",
   "execution_count": 8,
   "metadata": {
    "id": "STIvjX8MFUab"
   },
   "outputs": [
    {
     "data": {
      "text/latex": [
       "$\\displaystyle - \\sqrt{2} - \\frac{\\sqrt{3}}{2} + 3$"
      ],
      "text/plain": [
       "-sqrt(2) - sqrt(3)/2 + 3"
      ]
     },
     "metadata": {},
     "output_type": "display_data"
    },
    {
     "data": {
      "text/latex": [
       "$\\displaystyle (1 + \\frac{3 \\sqrt{3}}{2})\\mathbf{\\hat{i}_{1}} + (2 + \\frac{3 \\sqrt{2}}{2})\\mathbf{\\hat{j}_{1}} + (- \\sqrt{3} + \\frac{\\sqrt{2}}{2})\\mathbf{\\hat{k}_{1}}$"
      ],
      "text/plain": [
       "(1 + 3*sqrt(3)/2)*1.i + (2 + 3*sqrt(2)/2)*1.j + (-sqrt(3) + sqrt(2)/2)*1.k"
      ]
     },
     "metadata": {},
     "output_type": "display_data"
    },
    {
     "data": {
      "text/latex": [
       "$\\displaystyle (- \\frac{3 \\sqrt{3}}{2} - 1)\\mathbf{\\hat{i}_{1}} + (- \\frac{3 \\sqrt{2}}{2} - 2)\\mathbf{\\hat{j}_{1}} + (- \\frac{\\sqrt{2}}{2} + \\sqrt{3})\\mathbf{\\hat{k}_{1}}$"
      ],
      "text/plain": [
       "(-3*sqrt(3)/2 - 1)*1.i + (-3*sqrt(2)/2 - 2)*1.j + (-sqrt(2)/2 + sqrt(3))*1.k"
      ]
     },
     "metadata": {},
     "output_type": "display_data"
    }
   ],
   "source": [
    "N = CoordSys3D('1')\n",
    "a = makeVector(N, -Cos(Pi/4), Sin(Pi/3), 1)\n",
    "b = makeVector(N, 2, -1, 3)\n",
    "display(a.dot(b), a.cross(b), b.cross(a))"
   ]
  },
  {
   "cell_type": "markdown",
   "metadata": {
    "id": "UBTS1R4MFUac"
   },
   "source": [
    "### Задание 2\n",
    "Ввести безымянную систему координат M и символы $p$ и $q$.\n",
    "Вычислить $((v + u)\\cdot(v - u)) + (((2v + u)\\times(v - 3u))\\cdot(2v - 3u)) - ((3v - 2u)\\cdot((5v - u)\\times(- u)))$, $u(q, -p, q + p)$, $v(p, 2p - q, 1)$. Скалярное произведение обозначено $\\cdot$, векторное $\\times$.\n",
    "Использовать  & и ^, скобки расставить как в условии, поскольку приоритет у & и ^ ниже, чем у + и -. Упростить полученное выражение."
   ]
  },
  {
   "cell_type": "code",
   "execution_count": 22,
   "metadata": {
    "id": "qMT0HE_8FUad"
   },
   "outputs": [
    {
     "data": {
      "text/latex": [
       "$\\displaystyle 3 p^{2} - 6 p q - q^{2} + 1$"
      ],
      "text/plain": [
       "3*p**2 - 6*p*q - q**2 + 1"
      ]
     },
     "metadata": {},
     "output_type": "display_data"
    }
   ],
   "source": [
    "M = CoordSys3D(\"\")\n",
    "p, q = symbols(\"p q\")\n",
    "u = makeVector(M, q, -p, q + p)\n",
    "v = makeVector(M, p, 2*p - q, 1)\n",
    "expr = ((v + u) & (v - u)) + (((2*v + u) ^ (v - 3*u)) & (2*v - 3*u)) - ((3*v - 2*u) & ((5*v - u) ^ (-u)))\n",
    "display(sympy.simplify(expr))"
   ]
  },
  {
   "cell_type": "markdown",
   "metadata": {
    "id": "H1xM70VEFUad"
   },
   "source": [
    "### Задание 3\n",
    "Упростить вектор $g(-2p^2 + 5pq - 3q^2, \\cos(q) + 2\\sin(q - \\pi/2), \\sin^2(p) - \\cos^2(p))$.\n",
    "Вывести на экран координаты упрощенного вектора, его длину и проекции на координатные оси"
   ]
  },
  {
   "cell_type": "code",
   "execution_count": 31,
   "metadata": {
    "id": "KsR3pMqwFUae"
   },
   "outputs": [
    {
     "data": {
      "text/latex": [
       "$\\displaystyle (- 2 p^{2} + 5 p q - 3 q^{2})\\mathbf{\\hat{i}_{}} + (- \\cos{\\left(q \\right)})\\mathbf{\\hat{j}_{}} + (\\sin^{2}{\\left(p \\right)} - \\cos^{2}{\\left(p \\right)})\\mathbf{\\hat{k}_{}}$"
      ],
      "text/plain": [
       "(-2*p**2 + 5*p*q - 3*q**2)*.i + (-cos(q))*.j + (sin(p)**2 - cos(p)**2)*.k"
      ]
     },
     "metadata": {},
     "output_type": "display_data"
    },
    {
     "data": {
      "text/latex": [
       "$\\displaystyle (- \\left(p - q\\right) \\left(2 p - 3 q\\right))\\mathbf{\\hat{i}_{}} + (- \\cos{\\left(q \\right)})\\mathbf{\\hat{j}_{}} + (- \\cos{\\left(2 p \\right)})\\mathbf{\\hat{k}_{}}$"
      ],
      "text/plain": [
       "(-(p - q)*(2*p - 3*q))*.i + (-cos(q))*.j + (-cos(2*p))*.k"
      ]
     },
     "metadata": {},
     "output_type": "display_data"
    },
    {
     "data": {
      "text/latex": [
       "$\\displaystyle \\sqrt{\\left(2 p^{2} - 5 p q + 3 q^{2}\\right)^{2} + \\cos^{2}{\\left(2 p \\right)} + \\cos^{2}{\\left(q \\right)}}$"
      ],
      "text/plain": [
       "sqrt((2*p**2 - 5*p*q + 3*q**2)**2 + cos(2*p)**2 + cos(q)**2)"
      ]
     },
     "metadata": {},
     "output_type": "display_data"
    },
    {
     "data": {
      "text/latex": [
       "$\\displaystyle (- 2 p^{2} + 5 p q - 3 q^{2})\\mathbf{\\hat{i}_{}}$"
      ],
      "text/plain": [
       "(-2*p**2 + 5*p*q - 3*q**2)*.i"
      ]
     },
     "metadata": {},
     "output_type": "display_data"
    },
    {
     "data": {
      "text/latex": [
       "$\\displaystyle (- \\cos{\\left(q \\right)})\\mathbf{\\hat{j}_{}}$"
      ],
      "text/plain": [
       "(-cos(q))*.j"
      ]
     },
     "metadata": {},
     "output_type": "display_data"
    },
    {
     "data": {
      "text/latex": [
       "$\\displaystyle \\mathbf{\\hat{k}_{}}$"
      ],
      "text/plain": [
       ".k"
      ]
     },
     "metadata": {},
     "output_type": "display_data"
    }
   ],
   "source": [
    "g = makeVector(M, -2*p**2 + 5*p*q - 3*q**2, Cos(q) + 2*Sin(q - Pi/2), Sin(p)**2 - Cos(p)**2)\n",
    "\n",
    "display(\n",
    "    g,                                                      # Сам вектор\n",
    "    g.factor().trigsimp(),                                  # Упрощенный вид\n",
    "    sympy.simplify(g.magnitude()),                          # Длина\n",
    "    M.i.projection(g), M.j.projection(g), M.k.projection(v) # Проекции на оси\n",
    ")"
   ]
  },
  {
   "cell_type": "markdown",
   "metadata": {
    "id": "KreOI99QFUae"
   },
   "source": [
    "### Задание  4\n",
    "Преобразовать матрицу $\\left(\\begin{matrix}-q\\\\ p\\\\ q + p\\end{matrix}\\right)$ в вектор в системе координат из Заданий 1 и 2."
   ]
  },
  {
   "cell_type": "code",
   "execution_count": 32,
   "metadata": {
    "id": "1eputnOPFUae"
   },
   "outputs": [
    {
     "data": {
      "text/latex": [
       "$\\displaystyle (- q)\\mathbf{\\hat{i}_{1}} + (p)\\mathbf{\\hat{j}_{1}} + (p + q)\\mathbf{\\hat{k}_{1}}$"
      ],
      "text/plain": [
       "(-q)*1.i + p*1.j + (p + q)*1.k"
      ]
     },
     "metadata": {},
     "output_type": "display_data"
    },
    {
     "data": {
      "text/latex": [
       "$\\displaystyle (- q)\\mathbf{\\hat{i}_{}} + (p)\\mathbf{\\hat{j}_{}} + (p + q)\\mathbf{\\hat{k}_{}}$"
      ],
      "text/plain": [
       "(-q)*.i + p*.j + (p + q)*.k"
      ]
     },
     "metadata": {},
     "output_type": "display_data"
    }
   ],
   "source": [
    "v = Matrix([-q, p, q + p])\n",
    "\n",
    "display(\n",
    "    matrix_to_vector(v, N),\n",
    "    matrix_to_vector(v, M)\n",
    ")"
   ]
  },
  {
   "cell_type": "markdown",
   "metadata": {
    "id": "gCx4rT71FUaf"
   },
   "source": [
    "### Задание 5.\n",
    "Ввести новую систему координат S5, которая получается поворотом системы координат M из Задания 2 на угол $\\pi/4$ относительно оси $j$ по часовой стрелке.\n",
    "Определить вектор b5 на основе матрицы из Задания 4 в соответствии с системой координат M, затем получить представление в матричном виде вектора b5_S5 в системе координат S5.  Вывести на экран матрицу поворота, вектор b5 в системе координат M  и S5."
   ]
  },
  {
   "cell_type": "code",
   "execution_count": 46,
   "metadata": {
    "id": "0EjG7CASFUaf"
   },
   "outputs": [
    {
     "data": {
      "text/latex": [
       "$\\displaystyle \\left[\\begin{matrix}\\frac{\\sqrt{2}}{2} & 0 & - \\frac{\\sqrt{2}}{2}\\\\0 & 1 & 0\\\\\\frac{\\sqrt{2}}{2} & 0 & \\frac{\\sqrt{2}}{2}\\end{matrix}\\right]$"
      ],
      "text/plain": [
       "Matrix([\n",
       "[sqrt(2)/2, 0, -sqrt(2)/2],\n",
       "[        0, 1,          0],\n",
       "[sqrt(2)/2, 0,  sqrt(2)/2]])"
      ]
     },
     "metadata": {},
     "output_type": "display_data"
    },
    {
     "data": {
      "text/latex": [
       "$\\displaystyle (- q)\\mathbf{\\hat{i}_{}} + (p)\\mathbf{\\hat{j}_{}} + (p + q)\\mathbf{\\hat{k}_{}}$"
      ],
      "text/plain": [
       "(-q)*.i + p*.j + (p + q)*.k"
      ]
     },
     "metadata": {},
     "output_type": "display_data"
    },
    {
     "data": {
      "text/latex": [
       "$\\displaystyle \\left[\\begin{matrix}\\frac{\\sqrt{2} p}{2}\\\\p\\\\\\sqrt{2} \\left(\\frac{p}{2} + q\\right)\\end{matrix}\\right]$"
      ],
      "text/plain": [
       "Matrix([\n",
       "[      sqrt(2)*p/2],\n",
       "[                p],\n",
       "[sqrt(2)*(p/2 + q)]])"
      ]
     },
     "metadata": {},
     "output_type": "display_data"
    },
    {
     "data": {
      "text/latex": [
       "$\\displaystyle \\left[\\begin{matrix}- q\\\\p\\\\p + q\\end{matrix}\\right]$"
      ],
      "text/plain": [
       "Matrix([\n",
       "[   -q],\n",
       "[    p],\n",
       "[p + q]])"
      ]
     },
     "metadata": {},
     "output_type": "display_data"
    }
   ],
   "source": [
    "S5 = M.orient_new_axis('S5', -Pi/4, M.j)\n",
    "R_matr = M.rotation_matrix(S5)\n",
    "b5 = matrix_to_vector(v, M)\n",
    "b5_S5 = sympy.simplify(b5.to_matrix(S5))\n",
    "\n",
    "display(R_matr, b5, b5_S5, sympy.simplify(R_matr * b5_S5))"
   ]
  },
  {
   "cell_type": "markdown",
   "metadata": {
    "id": "qjdatGywFUaf"
   },
   "source": [
    "### Задание 6.\n",
    "Повернуть систему координат  M  из Задания 2 на $\\pi/4$ по часовой стрелке относительно оси, определяемой вектором $(1, -1, 0)$. Выразить вектор b5 в новой системе координат."
   ]
  },
  {
   "cell_type": "code",
   "execution_count": 47,
   "metadata": {
    "id": "X5_CJBj0FUag"
   },
   "outputs": [
    {
     "data": {
      "text/latex": [
       "$\\displaystyle \\left[\\begin{matrix}\\frac{\\sqrt{2}}{4} + \\frac{1}{2} & - \\frac{1}{2} + \\frac{\\sqrt{2}}{4} & \\frac{1}{2}\\\\- \\frac{1}{2} + \\frac{\\sqrt{2}}{4} & \\frac{\\sqrt{2}}{4} + \\frac{1}{2} & \\frac{1}{2}\\\\- \\frac{1}{2} & - \\frac{1}{2} & \\frac{\\sqrt{2}}{2}\\end{matrix}\\right]$"
      ],
      "text/plain": [
       "Matrix([\n",
       "[ sqrt(2)/4 + 1/2, -1/2 + sqrt(2)/4,       1/2],\n",
       "[-1/2 + sqrt(2)/4,  sqrt(2)/4 + 1/2,       1/2],\n",
       "[            -1/2,             -1/2, sqrt(2)/2]])"
      ]
     },
     "metadata": {},
     "output_type": "display_data"
    },
    {
     "data": {
      "text/latex": [
       "$\\displaystyle (- q)\\mathbf{\\hat{i}_{}} + (p)\\mathbf{\\hat{j}_{}} + (p + q)\\mathbf{\\hat{k}_{}}$"
      ],
      "text/plain": [
       "(-q)*.i + p*.j + (p + q)*.k"
      ]
     },
     "metadata": {},
     "output_type": "display_data"
    },
    {
     "data": {
      "text/latex": [
       "$\\displaystyle \\left[\\begin{matrix}- p + \\frac{\\sqrt{2} p}{4} - q - \\frac{\\sqrt{2} q}{4}\\\\\\frac{\\sqrt{2} \\left(p - q\\right)}{4}\\\\\\frac{p}{2} - \\frac{q}{2} + \\frac{\\sqrt{2} \\left(p + q\\right)}{2}\\end{matrix}\\right]$"
      ],
      "text/plain": [
       "Matrix([\n",
       "[-p + sqrt(2)*p/4 - q - sqrt(2)*q/4],\n",
       "[                 sqrt(2)*(p - q)/4],\n",
       "[     p/2 - q/2 + sqrt(2)*(p + q)/2]])"
      ]
     },
     "metadata": {},
     "output_type": "display_data"
    },
    {
     "data": {
      "text/latex": [
       "$\\displaystyle \\left[\\begin{matrix}- q\\\\p\\\\p + q\\end{matrix}\\right]$"
      ],
      "text/plain": [
       "Matrix([\n",
       "[   -q],\n",
       "[    p],\n",
       "[p + q]])"
      ]
     },
     "metadata": {},
     "output_type": "display_data"
    }
   ],
   "source": [
    "S5 = M.orient_new_axis('S5', -Pi/4, makeVector(M, 1, -1, 0))\n",
    "R_matr = M.rotation_matrix(S5)\n",
    "b5 = matrix_to_vector(v, M)\n",
    "b5_S5 = sympy.simplify(b5.to_matrix(S5))\n",
    "\n",
    "display(R_matr, b5, b5_S5, sympy.simplify(R_matr * b5_S5))"
   ]
  },
  {
   "cell_type": "markdown",
   "metadata": {
    "id": "2Sksd5J7FUag"
   },
   "source": [
    "### Индивидуальное задание. Вариант 11.\n",
    "Ввести безымянную систему координат XYZ, задать в ней векторы $v_1$ и $v_2$. Построить новую систему координат XYZ1 с именем '1' поворотом  XYZ на $\\alpha$ против часовой стрелки относительно оси, определяемой вектором $v_3$, выразить векторы $v_1$ и $v_2$ в новой системе координат. Найти скалярное и векторное произведение векторов в новой и старой системе координат. Выразить вектор, равный векторному произведению $v_1$ и $v_2$ в старой системе координат через новую систему координат, сравнить с векторным произведением $v_1$ и $v_2$, выраженных в новой системе координат.\n",
    "\n",
    "$v_1 = (-4)\\mathbf{\\hat{i}_{}} + (-2)\\mathbf{\\hat{j}_{}} + (-4)\\mathbf{\\hat{k}_{}}$  \n",
    "$v_2 = (-2)\\mathbf{\\hat{i}_{}} + (9)\\mathbf{\\hat{j}_{}} + (3)\\mathbf{\\hat{k}_{}}$  \n",
    "Name = b  \n",
    "Угол поворота $- 3 \\pi / 2$  \n",
    "Ось $(-3)\\mathbf{\\hat{i}_{}} + (7)\\mathbf{\\hat{j}_{}}$  "
   ]
  },
  {
   "cell_type": "code",
   "execution_count": 69,
   "metadata": {
    "id": "CneYKtasFUag"
   },
   "outputs": [
    {
     "data": {
      "text/latex": [
       "$\\displaystyle -22$"
      ],
      "text/plain": [
       "-22"
      ]
     },
     "metadata": {},
     "output_type": "display_data"
    },
    {
     "data": {
      "text/latex": [
       "$\\displaystyle (30)\\mathbf{\\hat{i}_{}} + (20)\\mathbf{\\hat{j}_{}} + (-40)\\mathbf{\\hat{k}_{}}$"
      ],
      "text/plain": [
       "30*.i + 20*.j + (-40)*.k"
      ]
     },
     "metadata": {},
     "output_type": "display_data"
    },
    {
     "data": {
      "text/latex": [
       "$\\displaystyle (-30)\\mathbf{\\hat{i}_{}} + (-20)\\mathbf{\\hat{j}_{}} + (40)\\mathbf{\\hat{k}_{}}$"
      ],
      "text/plain": [
       "(-30)*.i + (-20)*.j + 40*.k"
      ]
     },
     "metadata": {},
     "output_type": "display_data"
    },
    {
     "data": {
      "text/plain": [
       "'====================='"
      ]
     },
     "metadata": {},
     "output_type": "display_data"
    },
    {
     "data": {
      "text/latex": [
       "$\\displaystyle -22$"
      ],
      "text/plain": [
       "-22"
      ]
     },
     "metadata": {},
     "output_type": "display_data"
    },
    {
     "data": {
      "text/latex": [
       "$\\displaystyle \\left[\\begin{matrix}- \\frac{75}{29} + \\frac{140 \\sqrt{58}}{29}\\\\\\frac{175}{29} + \\frac{60 \\sqrt{58}}{29}\\\\\\frac{135 \\sqrt{58}}{29}\\end{matrix}\\right]$"
      ],
      "text/plain": [
       "Matrix([\n",
       "[-75/29 + 140*sqrt(58)/29],\n",
       "[ 175/29 + 60*sqrt(58)/29],\n",
       "[         135*sqrt(58)/29]])"
      ]
     },
     "metadata": {},
     "output_type": "display_data"
    },
    {
     "data": {
      "text/latex": [
       "$\\displaystyle \\left[\\begin{matrix}\\frac{75}{29} - \\frac{140 \\sqrt{58}}{29}\\\\- \\frac{60 \\sqrt{58}}{29} - \\frac{175}{29}\\\\- \\frac{135 \\sqrt{58}}{29}\\end{matrix}\\right]$"
      ],
      "text/plain": [
       "Matrix([\n",
       "[ 75/29 - 140*sqrt(58)/29],\n",
       "[-60*sqrt(58)/29 - 175/29],\n",
       "[        -135*sqrt(58)/29]])"
      ]
     },
     "metadata": {},
     "output_type": "display_data"
    },
    {
     "data": {
      "text/plain": [
       "'====================='"
      ]
     },
     "metadata": {},
     "output_type": "display_data"
    },
    {
     "data": {
      "text/latex": [
       "$\\displaystyle (- \\frac{75}{29} + \\frac{140 \\sqrt{58}}{29})\\mathbf{\\hat{i}_{1}} + (\\frac{175}{29} + \\frac{60 \\sqrt{58}}{29})\\mathbf{\\hat{j}_{1}} + (\\frac{135 \\sqrt{58}}{29})\\mathbf{\\hat{k}_{1}}$"
      ],
      "text/plain": [
       "(-75/29 + 140*sqrt(58)/29)*1.i + (175/29 + 60*sqrt(58)/29)*1.j + (135*sqrt(58)/29)*1.k"
      ]
     },
     "metadata": {},
     "output_type": "display_data"
    }
   ],
   "source": [
    "XYZ = CoordSys3D(\"\")\n",
    "XYZ1 = XYZ.orient_new_axis('1', -3*Pi/2, makeVector(XYZ, -3, 7, 0))\n",
    "\n",
    "v1 = makeVector(XYZ, -4, -2, -4)\n",
    "v2 = makeVector(XYZ, -2, 9, 3)\n",
    "\n",
    "v1_new = sympy.simplify(v1.to_matrix(XYZ1))\n",
    "v2_new = sympy.simplify(v2.to_matrix(XYZ1))\n",
    "\n",
    "display(\n",
    "    v1.dot(v2), v1.cross(v2), v2.cross(v1), \n",
    "    '=====================',\n",
    "    sympy.simplify(v1_new.dot(v2_new)), sympy.simplify(v1_new.cross(v2_new)), sympy.simplify(v2_new.cross(v1_new)),\n",
    "    '=====================',\n",
    "    sympy.simplify(express(v1.cross(v2), XYZ1)),\n",
    ")"
   ]
  }
 ],
 "metadata": {
  "colab": {
   "collapsed_sections": [],
   "name": "Alg_11_2020_vect_task.ipynb",
   "provenance": []
  },
  "kernelspec": {
   "display_name": "Python 3",
   "language": "python",
   "name": "python3"
  },
  "language_info": {
   "codemirror_mode": {
    "name": "ipython",
    "version": 3
   },
   "file_extension": ".py",
   "mimetype": "text/x-python",
   "name": "python",
   "nbconvert_exporter": "python",
   "pygments_lexer": "ipython3",
   "version": "3.9.0"
  }
 },
 "nbformat": 4,
 "nbformat_minor": 1
}
