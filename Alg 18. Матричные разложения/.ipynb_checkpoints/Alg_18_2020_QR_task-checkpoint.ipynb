{
 "cells": [
  {
   "cell_type": "code",
   "execution_count": 2,
   "metadata": {
    "id": "vpXnL4VcfUHW"
   },
   "outputs": [],
   "source": [
    "import sympy\n",
    "from sympy import Matrix, S, Symbol, symbols, I, zeros, eye, simplify, expand, expand_complex\n",
    "import numpy as np\n",
    "from numpy import random"
   ]
  },
  {
   "cell_type": "markdown",
   "metadata": {
    "id": "CqEy_A0JfUHb"
   },
   "source": [
    "# Занятие 18\n",
    "# Алгебра\n",
    "## Матричные разложения: Холецкого, LDL, LU, QR. Жорданова форма."
   ]
  },
  {
   "cell_type": "markdown",
   "metadata": {
    "id": "zq3DD4QLfUHc"
   },
   "source": [
    "### Задание 1.\n",
    "Построить разложение Холецкого матриц\n",
    "$$\n",
    "M1=\\left(\n",
    "\\begin{matrix}\n",
    "1&-3&0\\\\\n",
    "-3&-2&10\\\\\n",
    "0&10&7\n",
    "\\end{matrix}\n",
    "\\right)\n",
    "\\quad\n",
    "M2=\\left(\n",
    "\\begin{matrix}\n",
    "18&1 - 2I& -2\\\\\n",
    "1 + 2I&4&-3I\\\\\n",
    "-2&3I&5\n",
    "\\end{matrix}\n",
    "\\right)\n",
    "$$\n",
    "Проверить положительную определенность эрмитовой матрицы."
   ]
  },
  {
   "cell_type": "code",
   "execution_count": 12,
   "metadata": {
    "id": "7B3-Bl5TfUHd"
   },
   "outputs": [
    {
     "data": {
      "text/plain": [
       "'L (A)'"
      ]
     },
     "metadata": {},
     "output_type": "display_data"
    },
    {
     "data": {
      "text/latex": [
       "$\\displaystyle \\left[\\begin{matrix}1 & 0 & 0\\\\-3 & \\sqrt{11} i & 0\\\\0 & - \\frac{10 \\sqrt{11} i}{11} & \\frac{\\sqrt{1947}}{11}\\end{matrix}\\right]$"
      ],
      "text/plain": [
       "Matrix([\n",
       "[ 1,                 0,             0],\n",
       "[-3,        sqrt(11)*I,             0],\n",
       "[ 0, -10*sqrt(11)*I/11, sqrt(1947)/11]])"
      ]
     },
     "metadata": {},
     "output_type": "display_data"
    },
    {
     "data": {
      "text/plain": [
       "'simplify(LA*LA.T - A)'"
      ]
     },
     "metadata": {},
     "output_type": "display_data"
    },
    {
     "data": {
      "text/latex": [
       "$\\displaystyle \\left[\\begin{matrix}0 & 0 & 0\\\\0 & 0 & 0\\\\0 & 0 & 0\\end{matrix}\\right]$"
      ],
      "text/plain": [
       "Matrix([\n",
       "[0, 0, 0],\n",
       "[0, 0, 0],\n",
       "[0, 0, 0]])"
      ]
     },
     "metadata": {},
     "output_type": "display_data"
    },
    {
     "data": {
      "text/plain": [
       "'B.is_positive_definite'"
      ]
     },
     "metadata": {},
     "output_type": "display_data"
    },
    {
     "data": {
      "text/plain": [
       "True"
      ]
     },
     "metadata": {},
     "output_type": "display_data"
    },
    {
     "data": {
      "text/plain": [
       "'L (B)'"
      ]
     },
     "metadata": {},
     "output_type": "display_data"
    },
    {
     "data": {
      "text/latex": [
       "$\\displaystyle \\left[\\begin{matrix}3 \\sqrt{2} & 0 & 0\\\\\\frac{\\sqrt{2} \\left(1 + 2 i\\right)}{6} & \\sqrt{- \\frac{\\left(1 - 2 i\\right) \\left(1 + 2 i\\right)}{18} + 4} & 0\\\\- \\frac{\\sqrt{2}}{3} & \\frac{\\frac{1}{9} + \\frac{25 i}{9}}{\\sqrt{- \\frac{\\left(1 - 2 i\\right) \\left(1 + 2 i\\right)}{18} + 4}} & \\sqrt{\\frac{43}{9} - \\frac{\\left(\\frac{1}{9} - \\frac{25 i}{9}\\right) \\left(\\frac{1}{9} + \\frac{25 i}{9}\\right)}{- \\frac{\\left(1 - 2 i\\right) \\left(1 + 2 i\\right)}{18} + 4}}\\end{matrix}\\right]$"
      ],
      "text/plain": [
       "Matrix([\n",
       "[          3*sqrt(2),                                                0,                                                                        0],\n",
       "[sqrt(2)*(1 + 2*I)/6,                sqrt(-(1 - 2*I)*(1 + 2*I)/18 + 4),                                                                        0],\n",
       "[         -sqrt(2)/3, (1/9 + 25*I/9)/sqrt(-(1 - 2*I)*(1 + 2*I)/18 + 4), sqrt(43/9 - (1/9 - 25*I/9)*(1/9 + 25*I/9)/(-(1 - 2*I)*(1 + 2*I)/18 + 4))]])"
      ]
     },
     "metadata": {},
     "output_type": "display_data"
    },
    {
     "data": {
      "text/plain": [
       "'simplify(LB)'"
      ]
     },
     "metadata": {},
     "output_type": "display_data"
    },
    {
     "data": {
      "text/latex": [
       "$\\displaystyle \\left[\\begin{matrix}3 \\sqrt{2} & 0 & 0\\\\\\frac{\\sqrt{2} \\left(1 + 2 i\\right)}{6} & \\frac{\\sqrt{134}}{6} & 0\\\\- \\frac{\\sqrt{2}}{3} & \\frac{\\sqrt{134} \\left(1 + 25 i\\right)}{201} & \\frac{\\sqrt{12127}}{67}\\end{matrix}\\right]$"
      ],
      "text/plain": [
       "Matrix([\n",
       "[          3*sqrt(2),                        0,              0],\n",
       "[sqrt(2)*(1 + 2*I)/6,              sqrt(134)/6,              0],\n",
       "[         -sqrt(2)/3, sqrt(134)*(1 + 25*I)/201, sqrt(12127)/67]])"
      ]
     },
     "metadata": {},
     "output_type": "display_data"
    },
    {
     "data": {
      "text/plain": [
       "'simplify(expand(LB))'"
      ]
     },
     "metadata": {},
     "output_type": "display_data"
    },
    {
     "data": {
      "text/latex": [
       "$\\displaystyle \\left[\\begin{matrix}3 \\sqrt{2} & 0 & 0\\\\\\frac{\\sqrt{2} \\left(1 + 2 i\\right)}{6} & \\frac{\\sqrt{134}}{6} & 0\\\\- \\frac{\\sqrt{2}}{3} & \\frac{\\sqrt{134} \\left(1 + 25 i\\right)}{201} & \\frac{\\sqrt{12127}}{67}\\end{matrix}\\right]$"
      ],
      "text/plain": [
       "Matrix([\n",
       "[          3*sqrt(2),                        0,              0],\n",
       "[sqrt(2)*(1 + 2*I)/6,              sqrt(134)/6,              0],\n",
       "[         -sqrt(2)/3, sqrt(134)*(1 + 25*I)/201, sqrt(12127)/67]])"
      ]
     },
     "metadata": {},
     "output_type": "display_data"
    },
    {
     "data": {
      "text/plain": [
       "'simplify(LB*LB.H - B)'"
      ]
     },
     "metadata": {},
     "output_type": "display_data"
    },
    {
     "data": {
      "text/latex": [
       "$\\displaystyle \\left[\\begin{matrix}0 & 0 & 0\\\\0 & 0 & 0\\\\0 & 0 & 0\\end{matrix}\\right]$"
      ],
      "text/plain": [
       "Matrix([\n",
       "[0, 0, 0],\n",
       "[0, 0, 0],\n",
       "[0, 0, 0]])"
      ]
     },
     "metadata": {},
     "output_type": "display_data"
    }
   ],
   "source": [
    "A = Matrix([\n",
    "    [1, -3, 0],\n",
    "    [-3, -2, 10],\n",
    "    [0, 10, 7]\n",
    "])\n",
    "B = Matrix([\n",
    "    [18, 1 - 2*I, -2],\n",
    "    [1 + 2*I, 4, -3*I],\n",
    "    [-2, 3*I, 5]\n",
    "])\n",
    "\n",
    "LA = A.cholesky(hermitian=False)\n",
    "LB = B.cholesky()\n",
    "\n",
    "display(\n",
    "    'L (A)', LA,\n",
    "    'simplify(LA*LA.T - A)', simplify(LA*LA.T-A),\n",
    "    'B.is_positive_definite', B.is_positive_definite,\n",
    "    'L (B)', LB,\n",
    "    'simplify(LB)', simplify(LB),\n",
    "    'simplify(expand(LB))', simplify(expand(LB)),\n",
    "    'simplify(LB*LB.H - B)', simplify(LB*LB.H-B),\n",
    ")"
   ]
  },
  {
   "cell_type": "markdown",
   "metadata": {
    "id": "LfI3c3BzfUHd"
   },
   "source": [
    "### Задание 2.\n",
    "Построить  LDL разложение для матриц Задания 1. Проверку положительной определенности для эрмитовой матрицы НЕ делать."
   ]
  },
  {
   "cell_type": "code",
   "execution_count": 14,
   "metadata": {
    "id": "fwH4xfbYfUHd"
   },
   "outputs": [
    {
     "data": {
      "text/plain": [
       "'L, D (A)'"
      ]
     },
     "metadata": {},
     "output_type": "display_data"
    },
    {
     "data": {
      "text/latex": [
       "$\\displaystyle \\left[\\begin{matrix}1 & 0 & 0\\\\-3 & 1 & 0\\\\0 & - \\frac{10}{11} & 1\\end{matrix}\\right]$"
      ],
      "text/plain": [
       "Matrix([\n",
       "[ 1,      0, 0],\n",
       "[-3,      1, 0],\n",
       "[ 0, -10/11, 1]])"
      ]
     },
     "metadata": {},
     "output_type": "display_data"
    },
    {
     "data": {
      "text/latex": [
       "$\\displaystyle \\left[\\begin{matrix}1 & 0 & 0\\\\0 & -11 & 0\\\\0 & 0 & \\frac{177}{11}\\end{matrix}\\right]$"
      ],
      "text/plain": [
       "Matrix([\n",
       "[1,   0,      0],\n",
       "[0, -11,      0],\n",
       "[0,   0, 177/11]])"
      ]
     },
     "metadata": {},
     "output_type": "display_data"
    },
    {
     "data": {
      "text/plain": [
       "'simplify(LA*DA*LA.T - A)'"
      ]
     },
     "metadata": {},
     "output_type": "display_data"
    },
    {
     "data": {
      "text/latex": [
       "$\\displaystyle \\left[\\begin{matrix}0 & 0 & 0\\\\0 & 0 & 0\\\\0 & 0 & 0\\end{matrix}\\right]$"
      ],
      "text/plain": [
       "Matrix([\n",
       "[0, 0, 0],\n",
       "[0, 0, 0],\n",
       "[0, 0, 0]])"
      ]
     },
     "metadata": {},
     "output_type": "display_data"
    },
    {
     "data": {
      "text/plain": [
       "'L, D (B)'"
      ]
     },
     "metadata": {},
     "output_type": "display_data"
    },
    {
     "data": {
      "text/latex": [
       "$\\displaystyle \\left[\\begin{matrix}1 & 0 & 0\\\\\\frac{1}{18} + \\frac{i}{9} & 1 & 0\\\\- \\frac{1}{9} & \\frac{\\frac{1}{9} + \\frac{25 i}{9}}{- 18 \\left(\\frac{1}{18} - \\frac{i}{9}\\right) \\left(\\frac{1}{18} + \\frac{i}{9}\\right) + 4} & 1\\end{matrix}\\right]$"
      ],
      "text/plain": [
       "Matrix([\n",
       "[         1,                                                  0, 0],\n",
       "[1/18 + I/9,                                                  1, 0],\n",
       "[      -1/9, (1/9 + 25*I/9)/(-18*(1/18 - I/9)*(1/18 + I/9) + 4), 1]])"
      ]
     },
     "metadata": {},
     "output_type": "display_data"
    },
    {
     "data": {
      "text/latex": [
       "$\\displaystyle \\left[\\begin{matrix}18 & 0 & 0\\\\0 & - 18 \\left(\\frac{1}{18} - \\frac{i}{9}\\right) \\left(\\frac{1}{18} + \\frac{i}{9}\\right) + 4 & 0\\\\0 & 0 & \\frac{43}{9} - \\frac{\\left(\\frac{1}{9} - \\frac{25 i}{9}\\right) \\left(\\frac{1}{9} + \\frac{25 i}{9}\\right)}{- 18 \\left(\\frac{1}{18} - \\frac{i}{9}\\right) \\left(\\frac{1}{18} + \\frac{i}{9}\\right) + 4}\\end{matrix}\\right]$"
      ],
      "text/plain": [
       "Matrix([\n",
       "[18,                                 0,                                                                        0],\n",
       "[ 0, -18*(1/18 - I/9)*(1/18 + I/9) + 4,                                                                        0],\n",
       "[ 0,                                 0, 43/9 - (1/9 - 25*I/9)*(1/9 + 25*I/9)/(-18*(1/18 - I/9)*(1/18 + I/9) + 4)]])"
      ]
     },
     "metadata": {},
     "output_type": "display_data"
    },
    {
     "data": {
      "text/plain": [
       "'simplify(LB)'"
      ]
     },
     "metadata": {},
     "output_type": "display_data"
    },
    {
     "data": {
      "text/latex": [
       "$\\displaystyle \\left[\\begin{matrix}1 & 0 & 0\\\\\\frac{1}{18} + \\frac{i}{9} & 1 & 0\\\\- \\frac{1}{9} & \\frac{2}{67} + \\frac{50 i}{67} & 1\\end{matrix}\\right]$"
      ],
      "text/plain": [
       "Matrix([\n",
       "[         1,              0, 0],\n",
       "[1/18 + I/9,              1, 0],\n",
       "[      -1/9, 2/67 + 50*I/67, 1]])"
      ]
     },
     "metadata": {},
     "output_type": "display_data"
    },
    {
     "data": {
      "text/plain": [
       "'simplify(LB*DB*LB.H - B)'"
      ]
     },
     "metadata": {},
     "output_type": "display_data"
    },
    {
     "data": {
      "text/latex": [
       "$\\displaystyle \\left[\\begin{matrix}0 & 0 & 0\\\\0 & 0 & 0\\\\0 & 0 & 0\\end{matrix}\\right]$"
      ],
      "text/plain": [
       "Matrix([\n",
       "[0, 0, 0],\n",
       "[0, 0, 0],\n",
       "[0, 0, 0]])"
      ]
     },
     "metadata": {},
     "output_type": "display_data"
    }
   ],
   "source": [
    "LA, DA = A.LDLdecomposition(hermitian=False)\n",
    "LB, DB = B.LDLdecomposition()\n",
    "\n",
    "display(\n",
    "    'L, D (A)', LA, DA,\n",
    "    'simplify(LA*DA*LA.T - A)', simplify(LA*DA*LA.T-A),\n",
    "    'L, D (B)', LB, DB,\n",
    "    'simplify(LB)', simplify(LB),\n",
    "    'simplify(LB*DB*LB.H - B)', simplify(LB*DB*LB.H-B)\n",
    ")"
   ]
  },
  {
   "cell_type": "markdown",
   "metadata": {
    "id": "jlQeDudhfUHe"
   },
   "source": [
    "### Задание  3.\n",
    "Построить  LU разложение для матрицы \n",
    "$$\n",
    "V=\\left(\n",
    "\\begin{matrix}\n",
    "5&-2 - I&3 - 4I&1 + 4I\\\\\n",
    "1 - I&-2&5 - I&2 - I\\\\\n",
    "5&6 + I&0&5 \n",
    "\\end{matrix}\n",
    "\\right)\n",
    "$$"
   ]
  },
  {
   "cell_type": "code",
   "execution_count": 21,
   "metadata": {
    "id": "pT0JtC4KfUHe"
   },
   "outputs": [
    {
     "data": {
      "text/latex": [
       "$\\displaystyle \\left[\\begin{matrix}5 & -2 - i & 3 - 4 i & 1 + 4 i\\\\1 - i & -2 & 5 - i & 2 - i\\\\5 & 6 + i & 0 & 5\\end{matrix}\\right]$"
      ],
      "text/plain": [
       "Matrix([\n",
       "[    5, -2 - I, 3 - 4*I, 1 + 4*I],\n",
       "[1 - I,     -2,   5 - I,   2 - I],\n",
       "[    5,  6 + I,       0,       5]])"
      ]
     },
     "metadata": {},
     "output_type": "display_data"
    },
    {
     "data": {
      "text/latex": [
       "$\\displaystyle \\left[\\begin{matrix}1 & 0 & 0\\\\1 & 1 & 0\\\\\\frac{1}{5} - \\frac{i}{5} & - \\frac{29}{170} + \\frac{3 i}{170} & 1\\end{matrix}\\right]$"
      ],
      "text/plain": [
       "Matrix([\n",
       "[        1,                 0, 0],\n",
       "[        1,                 1, 0],\n",
       "[1/5 - I/5, -29/170 + 3*I/170, 1]])"
      ]
     },
     "metadata": {},
     "output_type": "display_data"
    },
    {
     "data": {
      "text/latex": [
       "$\\displaystyle \\left[\\begin{matrix}5 & -2 - i & 3 - 4 i & 1 + 4 i\\\\0 & 8 + 2 i & -3 + 4 i & 4 - 4 i\\\\0 & 0 & \\frac{809}{170} + \\frac{193 i}{170} & \\frac{137}{85} - \\frac{40 i}{17}\\end{matrix}\\right]$"
      ],
      "text/plain": [
       "Matrix([\n",
       "[5,  -2 - I,             3 - 4*I,          1 + 4*I],\n",
       "[0, 8 + 2*I,            -3 + 4*I,          4 - 4*I],\n",
       "[0,       0, 809/170 + 193*I/170, 137/85 - 40*I/17]])"
      ]
     },
     "metadata": {},
     "output_type": "display_data"
    },
    {
     "data": {
      "text/latex": [
       "$\\displaystyle \\left[\\begin{matrix}5 & -2 - i & 3 - 4 i & 1 + 4 i\\\\5 & 6 + i & 0 & 5\\\\1 - i & -2 & 5 - i & 2 - i\\end{matrix}\\right]$"
      ],
      "text/plain": [
       "Matrix([\n",
       "[    5, -2 - I, 3 - 4*I, 1 + 4*I],\n",
       "[    5,  6 + I,       0,       5],\n",
       "[1 - I,     -2,   5 - I,   2 - I]])"
      ]
     },
     "metadata": {},
     "output_type": "display_data"
    },
    {
     "data": {
      "text/plain": [
       "[[1, 2]]"
      ]
     },
     "metadata": {},
     "output_type": "display_data"
    }
   ],
   "source": [
    "V = Matrix([\n",
    "    [5, -2 - I, 3 - 4*I, 1 + 4*I],\n",
    "    [1 - I, -2, 5 - I, 2 - I],\n",
    "    [5, 6 + I, 0, 5],\n",
    "])\n",
    "\n",
    "L, U, perm = V.LUdecomposition()\n",
    "L, U =  simplify(L),  simplify(U)\n",
    "display(V, L, U, simplify(expand(L*U)), perm)"
   ]
  },
  {
   "cell_type": "markdown",
   "metadata": {
    "id": "iIgktlgWfUHe"
   },
   "source": [
    "### Задание  4.\n",
    "Построить  QR разложение для матрицы\n",
    "$$\n",
    "A=\\left(\n",
    "\\begin{matrix}\n",
    "3 + i&  2 & -i & 4 - 2i\\\\\n",
    "-2 & -3 &  i & -3 + i\\\\\n",
    "1 + i & -1 &  0 & 1 - i\\\\\n",
    "-1 + i &  -4 & i & -2\n",
    "\\end{matrix}\n",
    "\\right)\n",
    "$$\n",
    "показать, что $A = QR$."
   ]
  },
  {
   "cell_type": "code",
   "execution_count": 25,
   "metadata": {
    "id": "XgPWaSWEfUHf"
   },
   "outputs": [
    {
     "data": {
      "text/plain": [
       "'Q'"
      ]
     },
     "metadata": {},
     "output_type": "display_data"
    },
    {
     "data": {
      "text/latex": [
       "$\\displaystyle \\left[\\begin{matrix}\\frac{\\sqrt{2} \\left(3 + i\\right)}{6} & - \\frac{\\sqrt{17} \\left(1 + 4 i\\right)}{51}\\\\- \\frac{\\sqrt{2}}{3} & \\frac{\\sqrt{17} \\left(-4 + i\\right)}{51}\\\\\\frac{\\sqrt{2} \\left(1 + i\\right)}{6} & - \\frac{\\sqrt{17} \\left(5 + 3 i\\right)}{51}\\\\\\frac{\\sqrt{2} \\left(-1 + i\\right)}{6} & - \\frac{\\sqrt{17} \\left(9 + 2 i\\right)}{51}\\end{matrix}\\right]$"
      ],
      "text/plain": [
       "Matrix([\n",
       "[ sqrt(2)*(3 + I)/6, -sqrt(17)*(1 + 4*I)/51],\n",
       "[        -sqrt(2)/3,   sqrt(17)*(-4 + I)/51],\n",
       "[ sqrt(2)*(1 + I)/6, -sqrt(17)*(5 + 3*I)/51],\n",
       "[sqrt(2)*(-1 + I)/6, -sqrt(17)*(9 + 2*I)/51]])"
      ]
     },
     "metadata": {},
     "output_type": "display_data"
    },
    {
     "data": {
      "text/plain": [
       "'R'"
      ]
     },
     "metadata": {},
     "output_type": "display_data"
    },
    {
     "data": {
      "text/latex": [
       "$\\displaystyle \\left[\\begin{matrix}3 \\sqrt{2} & \\frac{\\sqrt{2} \\left(5 + i\\right)}{2} & - \\sqrt{2} i & \\sqrt{2} \\left(3 - 2 i\\right)\\\\0 & \\sqrt{17} & \\frac{\\sqrt{17} \\left(1 - 4 i\\right)}{17} & \\frac{\\sqrt{17} \\left(11 + 7 i\\right)}{17}\\end{matrix}\\right]$"
      ],
      "text/plain": [
       "Matrix([\n",
       "[3*sqrt(2), sqrt(2)*(5 + I)/2,            -sqrt(2)*I,      sqrt(2)*(3 - 2*I)],\n",
       "[        0,          sqrt(17), sqrt(17)*(1 - 4*I)/17, sqrt(17)*(11 + 7*I)/17]])"
      ]
     },
     "metadata": {},
     "output_type": "display_data"
    },
    {
     "data": {
      "text/plain": [
       "'QR'"
      ]
     },
     "metadata": {},
     "output_type": "display_data"
    },
    {
     "data": {
      "text/latex": [
       "$\\displaystyle \\left[\\begin{matrix}3 + i & 2 & - i & 4 - 2 i\\\\-2 & -3 & i & -3 + i\\\\1 + i & -1 & 0 & 1 - i\\\\-1 + i & -4 & i & -2\\end{matrix}\\right]$"
      ],
      "text/plain": [
       "Matrix([\n",
       "[ 3 + I,  2, -I, 4 - 2*I],\n",
       "[    -2, -3,  I,  -3 + I],\n",
       "[ 1 + I, -1,  0,   1 - I],\n",
       "[-1 + I, -4,  I,      -2]])"
      ]
     },
     "metadata": {},
     "output_type": "display_data"
    },
    {
     "data": {
      "text/plain": [
       "'A'"
      ]
     },
     "metadata": {},
     "output_type": "display_data"
    },
    {
     "data": {
      "text/latex": [
       "$\\displaystyle \\left[\\begin{matrix}3 + i & 2 & - i & 4 - 2 i\\\\-2 & -3 & i & -3 + i\\\\1 + i & -1 & 0 & 1 - i\\\\-1 + i & -4 & i & -2\\end{matrix}\\right]$"
      ],
      "text/plain": [
       "Matrix([\n",
       "[ 3 + I,  2, -I, 4 - 2*I],\n",
       "[    -2, -3,  I,  -3 + I],\n",
       "[ 1 + I, -1,  0,   1 - I],\n",
       "[-1 + I, -4,  I,      -2]])"
      ]
     },
     "metadata": {},
     "output_type": "display_data"
    },
    {
     "data": {
      "text/plain": [
       "'A = QR?'"
      ]
     },
     "metadata": {},
     "output_type": "display_data"
    },
    {
     "data": {
      "text/plain": [
       "True"
      ]
     },
     "metadata": {},
     "output_type": "display_data"
    }
   ],
   "source": [
    "A = Matrix([\n",
    "    [3 + I, 2, -I, 4 - 2*I],\n",
    "    [-2, -3, I, -3 + I],\n",
    "    [1 + I, -1, 0, 1 - I],\n",
    "    [-1 + I, -4, I, -2]\n",
    "])\n",
    "Q, R = A.QRdecomposition()\n",
    "QR = simplify(expand(Q*R))\n",
    "\n",
    "display(\n",
    "    'Q', simplify(expand(Q)),\n",
    "    'R', simplify(expand(R)), \n",
    "    'QR', QR,\n",
    "    'A', A,\n",
    "    'A = QR?', A == QR\n",
    ")"
   ]
  },
  {
   "cell_type": "markdown",
   "metadata": {
    "id": "148vFBzTfUHf"
   },
   "source": [
    "### Задание  5.\n",
    "Построить  жорданову форму для матрицы\n",
    "$$\n",
    "K=\\left(\n",
    "\\begin{matrix}\n",
    "1 &  -5 & 1 & -5\\\\\n",
    "-5 & 1 &  -5 &  1\\\\\n",
    "1 &  1 & 1 & 1\\\\\n",
    "-1 &  5 &  5 &  1\n",
    "\\end{matrix}\n",
    "\\right)\n",
    "$$"
   ]
  },
  {
   "cell_type": "code",
   "execution_count": 29,
   "metadata": {
    "id": "WfQc8p5efUHf"
   },
   "outputs": [
    {
     "data": {
      "text/plain": [
       "'T'"
      ]
     },
     "metadata": {},
     "output_type": "display_data"
    },
    {
     "data": {
      "text/latex": [
       "$\\displaystyle \\left[\\begin{matrix}-2 & - \\frac{2}{3} & - \\frac{-1815 + 1078 \\sqrt{3}}{-1284 + 753 \\sqrt{3}} & - \\frac{1815 + 1078 \\sqrt{3}}{1284 + 753 \\sqrt{3}}\\\\-2 & -1 & - \\frac{184 - 115 \\sqrt{3}}{-183 + 102 \\sqrt{3}} & - \\frac{- 115 \\sqrt{3} - 184}{102 \\sqrt{3} + 183}\\\\1 & \\frac{2}{3} & - \\frac{2 - 3 \\sqrt{3}}{-39 + 24 \\sqrt{3}} & - \\frac{- 3 \\sqrt{3} - 2}{39 + 24 \\sqrt{3}}\\\\1 & 1 & 1 & 1\\end{matrix}\\right]$"
      ],
      "text/plain": [
       "Matrix([\n",
       "[-2, -2/3, -(-1815 + 1078*sqrt(3))/(-1284 + 753*sqrt(3)), -(1815 + 1078*sqrt(3))/(1284 + 753*sqrt(3))],\n",
       "[-2,   -1,     -(184 - 115*sqrt(3))/(-183 + 102*sqrt(3)),   -(-115*sqrt(3) - 184)/(102*sqrt(3) + 183)],\n",
       "[ 1,  2/3,           -(2 - 3*sqrt(3))/(-39 + 24*sqrt(3)),         -(-3*sqrt(3) - 2)/(39 + 24*sqrt(3))],\n",
       "[ 1,    1,                                             1,                                           1]])"
      ]
     },
     "metadata": {},
     "output_type": "display_data"
    },
    {
     "data": {
      "text/plain": [
       "'J'"
      ]
     },
     "metadata": {},
     "output_type": "display_data"
    },
    {
     "data": {
      "text/latex": [
       "$\\displaystyle \\left[\\begin{matrix}-2 & 0 & 0 & 0\\\\0 & 0 & 0 & 0\\\\0 & 0 & 3 - 3 \\sqrt{3} & 0\\\\0 & 0 & 0 & 3 + 3 \\sqrt{3}\\end{matrix}\\right]$"
      ],
      "text/plain": [
       "Matrix([\n",
       "[-2, 0,             0,             0],\n",
       "[ 0, 0,             0,             0],\n",
       "[ 0, 0, 3 - 3*sqrt(3),             0],\n",
       "[ 0, 0,             0, 3 + 3*sqrt(3)]])"
      ]
     },
     "metadata": {},
     "output_type": "display_data"
    }
   ],
   "source": [
    "K = Matrix([\n",
    "    [1 , -5, 1 , -5 ],\n",
    "    [-5,  1, -5, 1  ],\n",
    "    [1 ,  1, 1 , 1  ],\n",
    "    [-1,  5, 5 , 1  ]\n",
    "])\n",
    "\n",
    "T, J = K.jordan_form()\n",
    "display(\n",
    "    \"T\", T,\n",
    "    \"J\", J\n",
    ")"
   ]
  },
  {
   "cell_type": "markdown",
   "metadata": {
    "id": "hLHWPLDgfUHg"
   },
   "source": [
    "### Индивидуальное задание. Вариант 11.\n",
    "Решить с помощью  QR разложения матрицы\n",
    "$A$\n",
    "систему линейных уравнений\n",
    "$AX = b$.\n",
    "Проверить совместность СЛАУ.\n",
    "\n",
    "Матрица $A$ и вектор $b$ в файле для ИЗ18.\n",
    "\n",
    "\\begin{align*}\n",
    " A = \\left[\\begin{matrix}9 & -4 & -5 & -2\\\\5 & 2 & 1 & -1\\\\24 & 3 & 6 & 4\\\\19 & 1 & 5 & 5\\end{matrix}\\right],\n",
    "\\qquad b = \\left[\\begin{matrix}-9\\\\1\\\\0\\\\0\\end{matrix}\\right]. \n",
    " \\end{align*}"
   ]
  },
  {
   "cell_type": "code",
   "execution_count": 39,
   "metadata": {
    "id": "2n5l9OOsfUHg"
   },
   "outputs": [
    {
     "name": "stdout",
     "output_type": "stream",
     "text": [
      "Rg(A)  = 3 \n",
      "Rg(Ab) = 4 \n",
      "Rg(A) == Rg(Ab)? False\n"
     ]
    },
    {
     "data": {
      "text/latex": [
       "$\\displaystyle \\left[\\begin{matrix}- \\frac{73}{270}\\\\\\frac{238}{405}\\\\\\frac{683}{810}\\\\0\\end{matrix}\\right]$"
      ],
      "text/plain": [
       "Matrix([\n",
       "[-73/270],\n",
       "[238/405],\n",
       "[683/810],\n",
       "[      0]])"
      ]
     },
     "metadata": {},
     "output_type": "display_data"
    }
   ],
   "source": [
    "A = Matrix([\n",
    "    [9 , -4,  -5, -2],\n",
    "    [5 , 2 , 1  , -1],\n",
    "    [24,  3,  6 , 4],\n",
    "    [19,  1,  5 , 5],\n",
    "])\n",
    "b = Matrix([-9, 1, 0, 0])\n",
    "\n",
    "Ab = A.row_join(b)\n",
    "print('Rg(A)  =', A.rank(), '\\nRg(Ab) =', Ab.rank(), '\\nRg(A) == Rg(Ab)?', A.rank() == Ab.rank())\n",
    "\n",
    "X = A.QRsolve(b).col_join(Matrix([0]))\n",
    "display(X)"
   ]
  }
 ],
 "metadata": {
  "colab": {
   "collapsed_sections": [],
   "name": "Alg_18_2020_QR_task.ipynb",
   "provenance": []
  },
  "kernelspec": {
   "display_name": "Python 3",
   "language": "python",
   "name": "python3"
  },
  "language_info": {
   "codemirror_mode": {
    "name": "ipython",
    "version": 3
   },
   "file_extension": ".py",
   "mimetype": "text/x-python",
   "name": "python",
   "nbconvert_exporter": "python",
   "pygments_lexer": "ipython3",
   "version": "3.9.0"
  }
 },
 "nbformat": 4,
 "nbformat_minor": 1
}
