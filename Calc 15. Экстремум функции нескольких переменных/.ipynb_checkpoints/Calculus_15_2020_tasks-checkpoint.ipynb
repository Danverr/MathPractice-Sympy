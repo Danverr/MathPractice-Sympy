{
 "cells": [
  {
   "cell_type": "code",
   "execution_count": 2,
   "metadata": {},
   "outputs": [],
   "source": [
    "import sympy\n",
    "from IPython.display import Markdown\n",
    "from sympy import S, Symbol, symbols, simplify, nonlinsolve, Matrix, diff, factor, latex"
   ]
  },
  {
   "cell_type": "markdown",
   "metadata": {},
   "source": [
    "## Занятие 15\n",
    "## Математический анализ\n",
    "## Экстремум функции нескольких переменных \n",
    "### Задание 1\n",
    "Найти точки экстремума:\n",
    "\n",
    "1) $z = x^2 + xy + y^2 - 2x - y$\n",
    "\n",
    "2) $z = x^3y^2(6 - x - y)$, $(x, y > 0)$\n",
    "\n",
    "3) $z = \\frac{8}{x} + \\frac{x}{y} + y$\n",
    "\n",
    "4) $z = \\frac{1 + x - y}{\\sqrt{1 + x^2 + y^2}}$\n",
    "###### Указание.\n",
    "Вначале найти стационарные точки. Составить определитель из вторых производных в произвольной точке. Подставляя найденные (вещественные) стационарные точки, решить вопрос о наличии экстремума."
   ]
  },
  {
   "cell_type": "code",
   "execution_count": 32,
   "metadata": {},
   "outputs": [],
   "source": [
    "def getStatPoints(f, variables):\n",
    "    return nonlinsolve([f.diff(var) for var in variables], variables, S.Reals)"
   ]
  },
  {
   "cell_type": "code",
   "execution_count": 53,
   "metadata": {},
   "outputs": [],
   "source": [
    "def displayExtr(f, x, y):\n",
    "    stat_points = getStatPoints(f, [x, y])\n",
    "    Delta = Matrix([\n",
    "        [f.diff(x, 2), f.diff(x, y)],\n",
    "        [f.diff(x, y), f.diff(y, 2)]\n",
    "    ])\n",
    "\n",
    "    det = Delta.det()\n",
    "    res = []\n",
    "    \n",
    "    display(\n",
    "        Markdown(\"#### Функция $\" + latex(f) + \"$\"),\n",
    "        Markdown(\"Стационарные точки\"), stat_points,\n",
    "        Markdown(\"Матрица производных\"), Delta,\n",
    "        Markdown(\"Ее определитель\"), det\n",
    "    )\n",
    "\n",
    "    for x0, y0 in stat_points:\n",
    "        if x0 in S.Reals and y0 in S.Reals:\n",
    "            if f.diff(x, 2).subs({x: x0, y: y0}) > 0 or f.diff(y, 2).subs({x: x0, y: y0}) > 0:\n",
    "                point_type = \"min\"\n",
    "            else:\n",
    "                point_type = \"max\"\n",
    "    \n",
    "            display(\n",
    "                Markdown(f\"Подстановка $({latex(x0)}, {latex(y0)})$, точка {point_type}\"),\n",
    "                det.subs({x: x0, y: y0}),                \n",
    "            )       "
   ]
  },
  {
   "cell_type": "code",
   "execution_count": 54,
   "metadata": {
    "scrolled": false
   },
   "outputs": [
    {
     "data": {
      "text/markdown": [
       "#### Функция $x^{2} + x y - 2 x + y^{2} - y$"
      ],
      "text/plain": [
       "<IPython.core.display.Markdown object>"
      ]
     },
     "metadata": {},
     "output_type": "display_data"
    },
    {
     "data": {
      "text/markdown": [
       "Стационарные точки"
      ],
      "text/plain": [
       "<IPython.core.display.Markdown object>"
      ]
     },
     "metadata": {},
     "output_type": "display_data"
    },
    {
     "data": {
      "text/latex": [
       "$\\displaystyle \\left\\{\\left( 1, \\  0\\right)\\right\\}$"
      ],
      "text/plain": [
       "FiniteSet((1, 0))"
      ]
     },
     "metadata": {},
     "output_type": "display_data"
    },
    {
     "data": {
      "text/markdown": [
       "Матрица производных"
      ],
      "text/plain": [
       "<IPython.core.display.Markdown object>"
      ]
     },
     "metadata": {},
     "output_type": "display_data"
    },
    {
     "data": {
      "text/latex": [
       "$\\displaystyle \\left[\\begin{matrix}2 & 1\\\\1 & 2\\end{matrix}\\right]$"
      ],
      "text/plain": [
       "Matrix([\n",
       "[2, 1],\n",
       "[1, 2]])"
      ]
     },
     "metadata": {},
     "output_type": "display_data"
    },
    {
     "data": {
      "text/markdown": [
       "Ее определитель"
      ],
      "text/plain": [
       "<IPython.core.display.Markdown object>"
      ]
     },
     "metadata": {},
     "output_type": "display_data"
    },
    {
     "data": {
      "text/latex": [
       "$\\displaystyle 3$"
      ],
      "text/plain": [
       "3"
      ]
     },
     "metadata": {},
     "output_type": "display_data"
    },
    {
     "data": {
      "text/markdown": [
       "Подстановка $(1, 0)$, точка min"
      ],
      "text/plain": [
       "<IPython.core.display.Markdown object>"
      ]
     },
     "metadata": {},
     "output_type": "display_data"
    },
    {
     "data": {
      "text/latex": [
       "$\\displaystyle 3$"
      ],
      "text/plain": [
       "3"
      ]
     },
     "metadata": {},
     "output_type": "display_data"
    },
    {
     "data": {
      "text/markdown": [
       "#### Функция $x^{3} y^{2} \\left(- x - y + 6\\right)$"
      ],
      "text/plain": [
       "<IPython.core.display.Markdown object>"
      ]
     },
     "metadata": {},
     "output_type": "display_data"
    },
    {
     "data": {
      "text/markdown": [
       "Стационарные точки"
      ],
      "text/plain": [
       "<IPython.core.display.Markdown object>"
      ]
     },
     "metadata": {},
     "output_type": "display_data"
    },
    {
     "data": {
      "text/latex": [
       "$\\displaystyle \\emptyset$"
      ],
      "text/plain": [
       "EmptySet"
      ]
     },
     "metadata": {},
     "output_type": "display_data"
    },
    {
     "data": {
      "text/markdown": [
       "Матрица производных"
      ],
      "text/plain": [
       "<IPython.core.display.Markdown object>"
      ]
     },
     "metadata": {},
     "output_type": "display_data"
    },
    {
     "data": {
      "text/latex": [
       "$\\displaystyle \\left[\\begin{matrix}0 & 0\\\\0 & 0\\end{matrix}\\right]$"
      ],
      "text/plain": [
       "Matrix([\n",
       "[0, 0],\n",
       "[0, 0]])"
      ]
     },
     "metadata": {},
     "output_type": "display_data"
    },
    {
     "data": {
      "text/markdown": [
       "Ее определитель"
      ],
      "text/plain": [
       "<IPython.core.display.Markdown object>"
      ]
     },
     "metadata": {},
     "output_type": "display_data"
    },
    {
     "data": {
      "text/latex": [
       "$\\displaystyle 0$"
      ],
      "text/plain": [
       "0"
      ]
     },
     "metadata": {},
     "output_type": "display_data"
    },
    {
     "data": {
      "text/markdown": [
       "#### Функция $\\frac{x}{y} + y + \\frac{8}{x}$"
      ],
      "text/plain": [
       "<IPython.core.display.Markdown object>"
      ]
     },
     "metadata": {},
     "output_type": "display_data"
    },
    {
     "data": {
      "text/markdown": [
       "Стационарные точки"
      ],
      "text/plain": [
       "<IPython.core.display.Markdown object>"
      ]
     },
     "metadata": {},
     "output_type": "display_data"
    },
    {
     "data": {
      "text/latex": [
       "$\\displaystyle \\left\\{\\left( 4, \\  2\\right), \\left( \\left(-1 - \\sqrt{3} i\\right)^{2}, \\  -1 - \\sqrt{3} i\\right), \\left( \\left(-1 + \\sqrt{3} i\\right)^{2}, \\  -1 + \\sqrt{3} i\\right)\\right\\}$"
      ],
      "text/plain": [
       "FiniteSet((4, 2), ((-1 + sqrt(3)*I)**2, -1 + sqrt(3)*I), ((-1 - sqrt(3)*I)**2, -1 - sqrt(3)*I))"
      ]
     },
     "metadata": {},
     "output_type": "display_data"
    },
    {
     "data": {
      "text/markdown": [
       "Матрица производных"
      ],
      "text/plain": [
       "<IPython.core.display.Markdown object>"
      ]
     },
     "metadata": {},
     "output_type": "display_data"
    },
    {
     "data": {
      "text/latex": [
       "$\\displaystyle \\left[\\begin{matrix}\\frac{16}{x^{3}} & - \\frac{1}{y^{2}}\\\\- \\frac{1}{y^{2}} & \\frac{2 x}{y^{3}}\\end{matrix}\\right]$"
      ],
      "text/plain": [
       "Matrix([\n",
       "[16/x**3,  -1/y**2],\n",
       "[-1/y**2, 2*x/y**3]])"
      ]
     },
     "metadata": {},
     "output_type": "display_data"
    },
    {
     "data": {
      "text/markdown": [
       "Ее определитель"
      ],
      "text/plain": [
       "<IPython.core.display.Markdown object>"
      ]
     },
     "metadata": {},
     "output_type": "display_data"
    },
    {
     "data": {
      "text/latex": [
       "$\\displaystyle \\frac{- x^{2} + 32 y}{x^{2} y^{4}}$"
      ],
      "text/plain": [
       "(-x**2 + 32*y)/(x**2*y**4)"
      ]
     },
     "metadata": {},
     "output_type": "display_data"
    },
    {
     "data": {
      "text/markdown": [
       "Подстановка $(4, 2)$, точка min"
      ],
      "text/plain": [
       "<IPython.core.display.Markdown object>"
      ]
     },
     "metadata": {},
     "output_type": "display_data"
    },
    {
     "data": {
      "text/latex": [
       "$\\displaystyle \\frac{3}{16}$"
      ],
      "text/plain": [
       "3/16"
      ]
     },
     "metadata": {},
     "output_type": "display_data"
    },
    {
     "data": {
      "text/markdown": [
       "#### Функция $\\frac{x - y + 1}{\\sqrt{x^{2} + y^{2} + 1}}$"
      ],
      "text/plain": [
       "<IPython.core.display.Markdown object>"
      ]
     },
     "metadata": {},
     "output_type": "display_data"
    },
    {
     "data": {
      "text/markdown": [
       "Стационарные точки"
      ],
      "text/plain": [
       "<IPython.core.display.Markdown object>"
      ]
     },
     "metadata": {},
     "output_type": "display_data"
    },
    {
     "data": {
      "text/latex": [
       "$\\displaystyle \\left\\{\\left( 1, \\  -1\\right)\\right\\}$"
      ],
      "text/plain": [
       "FiniteSet((1, -1))"
      ]
     },
     "metadata": {},
     "output_type": "display_data"
    },
    {
     "data": {
      "text/markdown": [
       "Матрица производных"
      ],
      "text/plain": [
       "<IPython.core.display.Markdown object>"
      ]
     },
     "metadata": {},
     "output_type": "display_data"
    },
    {
     "data": {
      "text/latex": [
       "$\\displaystyle \\left[\\begin{matrix}\\frac{- 2 x + \\left(\\frac{3 x^{2}}{x^{2} + y^{2} + 1} - 1\\right) \\left(x - y + 1\\right)}{\\left(x^{2} + y^{2} + 1\\right)^{\\frac{3}{2}}} & \\frac{\\frac{3 x y \\left(x - y + 1\\right)}{x^{2} + y^{2} + 1} + x - y}{\\left(x^{2} + y^{2} + 1\\right)^{\\frac{3}{2}}}\\\\\\frac{\\frac{3 x y \\left(x - y + 1\\right)}{x^{2} + y^{2} + 1} + x - y}{\\left(x^{2} + y^{2} + 1\\right)^{\\frac{3}{2}}} & \\frac{2 y + \\left(\\frac{3 y^{2}}{x^{2} + y^{2} + 1} - 1\\right) \\left(x - y + 1\\right)}{\\left(x^{2} + y^{2} + 1\\right)^{\\frac{3}{2}}}\\end{matrix}\\right]$"
      ],
      "text/plain": [
       "Matrix([\n",
       "[(-2*x + (3*x**2/(x**2 + y**2 + 1) - 1)*(x - y + 1))/(x**2 + y**2 + 1)**(3/2),      (3*x*y*(x - y + 1)/(x**2 + y**2 + 1) + x - y)/(x**2 + y**2 + 1)**(3/2)],\n",
       "[      (3*x*y*(x - y + 1)/(x**2 + y**2 + 1) + x - y)/(x**2 + y**2 + 1)**(3/2), (2*y + (3*y**2/(x**2 + y**2 + 1) - 1)*(x - y + 1))/(x**2 + y**2 + 1)**(3/2)]])"
      ]
     },
     "metadata": {},
     "output_type": "display_data"
    },
    {
     "data": {
      "text/markdown": [
       "Ее определитель"
      ],
      "text/plain": [
       "<IPython.core.display.Markdown object>"
      ]
     },
     "metadata": {},
     "output_type": "display_data"
    },
    {
     "data": {
      "text/latex": [
       "$\\displaystyle \\frac{- x^{4} - 2 x^{3} y - 2 x^{3} - 2 x^{2} y^{2} + 2 x^{2} y - 2 x y^{3} - 2 x y^{2} - 8 x y + 4 x - y^{4} + 2 y^{3} - 4 y + 1}{x^{8} + 4 x^{6} y^{2} + 4 x^{6} + 6 x^{4} y^{4} + 12 x^{4} y^{2} + 6 x^{4} + 4 x^{2} y^{6} + 12 x^{2} y^{4} + 12 x^{2} y^{2} + 4 x^{2} + y^{8} + 4 y^{6} + 6 y^{4} + 4 y^{2} + 1}$"
      ],
      "text/plain": [
       "(-x**4 - 2*x**3*y - 2*x**3 - 2*x**2*y**2 + 2*x**2*y - 2*x*y**3 - 2*x*y**2 - 8*x*y + 4*x - y**4 + 2*y**3 - 4*y + 1)/(x**8 + 4*x**6*y**2 + 4*x**6 + 6*x**4*y**4 + 12*x**4*y**2 + 6*x**4 + 4*x**2*y**6 + 12*x**2*y**4 + 12*x**2*y**2 + 4*x**2 + y**8 + 4*y**6 + 6*y**4 + 4*y**2 + 1)"
      ]
     },
     "metadata": {},
     "output_type": "display_data"
    },
    {
     "data": {
      "text/markdown": [
       "Подстановка $(1, -1)$, точка max"
      ],
      "text/plain": [
       "<IPython.core.display.Markdown object>"
      ]
     },
     "metadata": {},
     "output_type": "display_data"
    },
    {
     "data": {
      "text/latex": [
       "$\\displaystyle \\frac{1}{9}$"
      ],
      "text/plain": [
       "1/9"
      ]
     },
     "metadata": {},
     "output_type": "display_data"
    }
   ],
   "source": [
    "x, y = symbols(\"x y\")\n",
    "x_p, y_p = symbols(\"x y\", positive=True)\n",
    "\n",
    "exprs = [\n",
    "    x**2 + x*y + y**2 - 2*x - y,\n",
    "    x_p**3 * y_p**2 * (6 - x_p - y_p),\n",
    "    S(8)/x + x/y + y,\n",
    "    (1 + x - y)/sympy.sqrt(1 + x**2 + y**2)\n",
    "]\n",
    "\n",
    "for expr in exprs:\n",
    "    displayExtr(expr, x, y)"
   ]
  },
  {
   "cell_type": "markdown",
   "metadata": {},
   "source": [
    "### Задание 2.\n",
    "С помощью метода Лагранжа найти условный экстремум функции\n",
    "$z = x + 2y$ при условии $x^2 + y^2 = 5$."
   ]
  },
  {
   "cell_type": "code",
   "execution_count": 26,
   "metadata": {},
   "outputs": [
    {
     "data": {
      "text/latex": [
       "$\\displaystyle \\left\\{\\left( -1, \\  -2, \\  \\frac{1}{2}\\right), \\left( 1, \\  2, \\  - \\frac{1}{2}\\right)\\right\\}$"
      ],
      "text/plain": [
       "FiniteSet((-1, -2, 1/2), (1, 2, -1/2))"
      ]
     },
     "metadata": {},
     "output_type": "display_data"
    },
    {
     "data": {
      "text/plain": [
       "[x, y, lamda]"
      ]
     },
     "metadata": {},
     "output_type": "display_data"
    },
    {
     "data": {
      "text/latex": [
       "$\\displaystyle 2 \\lambda \\left(dx^{2} + dy^{2}\\right)$"
      ],
      "text/plain": [
       "2*lamda*(dx^2 + dy^2)"
      ]
     },
     "metadata": {},
     "output_type": "display_data"
    },
    {
     "data": {
      "text/markdown": [
       "#### Подставим $\\lambda$ в дифференциал"
      ],
      "text/plain": [
       "<IPython.core.display.Markdown object>"
      ]
     },
     "metadata": {},
     "output_type": "display_data"
    },
    {
     "data": {
      "text/latex": [
       "$\\displaystyle dx^{2} + dy^{2}$"
      ],
      "text/plain": [
       "dx^2 + dy^2"
      ]
     },
     "metadata": {},
     "output_type": "display_data"
    },
    {
     "data": {
      "text/latex": [
       "$\\displaystyle - dx^{2} - dy^{2}$"
      ],
      "text/plain": [
       "-dx^2 - dy^2"
      ]
     },
     "metadata": {},
     "output_type": "display_data"
    },
    {
     "data": {
      "text/markdown": [
       "1) Положительный дифференциал => точка минимума"
      ],
      "text/plain": [
       "<IPython.core.display.Markdown object>"
      ]
     },
     "metadata": {},
     "output_type": "display_data"
    },
    {
     "data": {
      "text/markdown": [
       "2) Отрицательный дифференциал => точка максимума"
      ],
      "text/plain": [
       "<IPython.core.display.Markdown object>"
      ]
     },
     "metadata": {},
     "output_type": "display_data"
    },
    {
     "data": {
      "text/markdown": [
       "#### Точки экстремума и экстремумы"
      ],
      "text/plain": [
       "<IPython.core.display.Markdown object>"
      ]
     },
     "metadata": {},
     "output_type": "display_data"
    },
    {
     "data": {
      "text/latex": [
       "$\\displaystyle \\left( -1, \\  -2\\right)$"
      ],
      "text/plain": [
       "(-1, -2)"
      ]
     },
     "metadata": {},
     "output_type": "display_data"
    },
    {
     "data": {
      "text/latex": [
       "$\\displaystyle f = -5$"
      ],
      "text/plain": [
       "Eq(f, -5)"
      ]
     },
     "metadata": {},
     "output_type": "display_data"
    },
    {
     "data": {
      "text/latex": [
       "$\\displaystyle \\left( 1, \\  2\\right)$"
      ],
      "text/plain": [
       "(1, 2)"
      ]
     },
     "metadata": {},
     "output_type": "display_data"
    },
    {
     "data": {
      "text/latex": [
       "$\\displaystyle f = 5$"
      ],
      "text/plain": [
       "Eq(f, 5)"
      ]
     },
     "metadata": {},
     "output_type": "display_data"
    }
   ],
   "source": [
    "x, y, lam = symbols('x y lamda')\n",
    "variables = [x, y, lam]\n",
    "\n",
    "f = x + 2*y\n",
    "restriction = x**2 + y**2 - 5\n",
    "\n",
    "L = f + lam*restriction\n",
    "stat_points = getStatPoints(L, variables)\n",
    "display(stat_points, variables)\n",
    "\n",
    "dx, dy, dx2, dy2 = symbols('dx dy dx^2 dy^2')\n",
    "d2L = factor(L.diff(x, 2) * dx2 + 2*L.diff(x,y)*dx*dy + L.diff(y,2)*dy2)\n",
    "display(d2L)\n",
    "\n",
    "display(Markdown(\"#### Подставим $\\lambda$ в дифференциал\"))\n",
    "lam_list = [S(1)/2, -S(1)/2]\n",
    "for lam0 in lam_list:\n",
    "    display(d2L.subs(lam, lam0))\n",
    "    \n",
    "display(\n",
    "    Markdown(\"1) Положительный дифференциал => точка минимума\"),\n",
    "    Markdown(\"2) Отрицательный дифференциал => точка максимума\"),\n",
    "    Markdown(\"#### Точки экстремума и экстремумы\")\n",
    ")\n",
    "\n",
    "ff = Symbol('f')\n",
    "for point in stat_points:\n",
    "    display(point[:-1], sympy.Eq(ff, f.subs({var: point[j] for j, var in enumerate(variables)})))"
   ]
  },
  {
   "cell_type": "markdown",
   "metadata": {},
   "source": [
    "### Задание 3.\n",
    "С помощью метода Лагранжа найти условный экстремум функции\n",
    "$z=x^2+y^2$ при условии $\\frac{x}{2}+\\frac{y}{3}=1$."
   ]
  },
  {
   "cell_type": "code",
   "execution_count": 22,
   "metadata": {},
   "outputs": [
    {
     "data": {
      "text/markdown": [
       "#### Стационарные точки"
      ],
      "text/plain": [
       "<IPython.core.display.Markdown object>"
      ]
     },
     "metadata": {},
     "output_type": "display_data"
    },
    {
     "data": {
      "text/latex": [
       "$\\displaystyle \\left\\{\\left( \\frac{18}{13}, \\  \\frac{12}{13}, \\  - \\frac{72}{13}\\right)\\right\\}$"
      ],
      "text/plain": [
       "FiniteSet((18/13, 12/13, -72/13))"
      ]
     },
     "metadata": {},
     "output_type": "display_data"
    },
    {
     "data": {
      "text/plain": [
       "[x, y, lamda]"
      ]
     },
     "metadata": {},
     "output_type": "display_data"
    },
    {
     "data": {
      "text/markdown": [
       "#### Второй дифференциал функции Лагранжа"
      ],
      "text/plain": [
       "<IPython.core.display.Markdown object>"
      ]
     },
     "metadata": {},
     "output_type": "display_data"
    },
    {
     "data": {
      "text/latex": [
       "$\\displaystyle 2 \\left(dx^{2} + dy^{2}\\right)$"
      ],
      "text/plain": [
       "2*(dx^2 + dy^2)"
      ]
     },
     "metadata": {},
     "output_type": "display_data"
    },
    {
     "data": {
      "text/markdown": [
       "При любом $\\lambda$ дифференциал положительный, значит найденная точка - точка минимума"
      ],
      "text/plain": [
       "<IPython.core.display.Markdown object>"
      ]
     },
     "metadata": {},
     "output_type": "display_data"
    },
    {
     "data": {
      "text/markdown": [
       "#### Точки экстремума и экстремумы"
      ],
      "text/plain": [
       "<IPython.core.display.Markdown object>"
      ]
     },
     "metadata": {},
     "output_type": "display_data"
    },
    {
     "data": {
      "text/latex": [
       "$\\displaystyle \\left( \\frac{18}{13}, \\  \\frac{12}{13}\\right)$"
      ],
      "text/plain": [
       "(18/13, 12/13)"
      ]
     },
     "metadata": {},
     "output_type": "display_data"
    },
    {
     "data": {
      "text/latex": [
       "$\\displaystyle f = \\frac{36}{13}$"
      ],
      "text/plain": [
       "Eq(f, 36/13)"
      ]
     },
     "metadata": {},
     "output_type": "display_data"
    }
   ],
   "source": [
    "x, y, lam = symbols('x y lamda')\n",
    "variables = [x, y, lam]\n",
    "\n",
    "f = x**2 + y**2\n",
    "restriction = x/2 + y/3 - 1\n",
    "L = f + lam*restriction\n",
    "stat_points = getStatPoints(L, variables)\n",
    "display(Markdown(\"#### Стационарные точки\"), stat_points, variables)\n",
    "\n",
    "dx, dy, dx2, dy2 = symbols('dx dy dx^2 dy^2')\n",
    "d2L = factor(L.diff(x, 2) * dx2 + 2*L.diff(x,y)*dx*dy + L.diff(y,2)*dy2)\n",
    "display(\n",
    "    Markdown(\"#### Второй дифференциал функции Лагранжа\"), \n",
    "    d2L,\n",
    "    Markdown(\"При любом $\\lambda$ дифференциал положительный, значит найденная точка - точка минимума\")    \n",
    ")\n",
    "\n",
    "display(Markdown(\"#### Точки экстремума и экстремумы\"))\n",
    "ff = Symbol('f')\n",
    "for point in stat_points:   \n",
    "    display(point[:-1], sympy.Eq(ff, f.subs({var: point[j] for j, var in enumerate(variables)})))"
   ]
  },
  {
   "cell_type": "markdown",
   "metadata": {},
   "source": [
    "### Задание 4.\n",
    "С помощью метода Лагранжа найти экстремум функции $u = x - 2y + 2z$ при условии $x^2 + y^2 + z^2 = 9$."
   ]
  },
  {
   "cell_type": "code",
   "execution_count": 23,
   "metadata": {},
   "outputs": [
    {
     "data": {
      "text/markdown": [
       "#### Стационарные точки"
      ],
      "text/plain": [
       "<IPython.core.display.Markdown object>"
      ]
     },
     "metadata": {},
     "output_type": "display_data"
    },
    {
     "data": {
      "text/latex": [
       "$\\displaystyle \\left\\{\\left( -1, \\  2, \\  -2, \\  \\frac{1}{2}\\right), \\left( 1, \\  -2, \\  2, \\  - \\frac{1}{2}\\right)\\right\\}$"
      ],
      "text/plain": [
       "FiniteSet((-1, 2, -2, 1/2), (1, -2, 2, -1/2))"
      ]
     },
     "metadata": {},
     "output_type": "display_data"
    },
    {
     "data": {
      "text/plain": [
       "[x, y, z, lamda]"
      ]
     },
     "metadata": {},
     "output_type": "display_data"
    },
    {
     "data": {
      "text/markdown": [
       "#### Второй дифференциал функции Лагранжа"
      ],
      "text/plain": [
       "<IPython.core.display.Markdown object>"
      ]
     },
     "metadata": {},
     "output_type": "display_data"
    },
    {
     "data": {
      "text/latex": [
       "$\\displaystyle 2 dx^{2} \\lambda + 2 dy^{2} \\lambda + 2 dz^{2} \\lambda$"
      ],
      "text/plain": [
       "2*dx^2*lamda + 2*dy^2*lamda + 2*dz^2*lamda"
      ]
     },
     "metadata": {},
     "output_type": "display_data"
    },
    {
     "data": {
      "text/markdown": [
       "#### Подставим $\\lambda$ в дифференциал"
      ],
      "text/plain": [
       "<IPython.core.display.Markdown object>"
      ]
     },
     "metadata": {},
     "output_type": "display_data"
    },
    {
     "data": {
      "text/latex": [
       "$\\displaystyle dx^{2} + dy^{2} + dz^{2}$"
      ],
      "text/plain": [
       "dx^2 + dy^2 + dz^2"
      ]
     },
     "metadata": {},
     "output_type": "display_data"
    },
    {
     "data": {
      "text/latex": [
       "$\\displaystyle - dx^{2} - dy^{2} - dz^{2}$"
      ],
      "text/plain": [
       "-dx^2 - dy^2 - dz^2"
      ]
     },
     "metadata": {},
     "output_type": "display_data"
    },
    {
     "data": {
      "text/markdown": [
       "1) Положительный дифференциал => точка минимума"
      ],
      "text/plain": [
       "<IPython.core.display.Markdown object>"
      ]
     },
     "metadata": {},
     "output_type": "display_data"
    },
    {
     "data": {
      "text/markdown": [
       "2) Отрицательный дифференциал => точка максимума"
      ],
      "text/plain": [
       "<IPython.core.display.Markdown object>"
      ]
     },
     "metadata": {},
     "output_type": "display_data"
    },
    {
     "data": {
      "text/markdown": [
       "#### Точки экстремума и экстремумы"
      ],
      "text/plain": [
       "<IPython.core.display.Markdown object>"
      ]
     },
     "metadata": {},
     "output_type": "display_data"
    },
    {
     "data": {
      "text/latex": [
       "$\\displaystyle \\left( -1, \\  2, \\  -2\\right)$"
      ],
      "text/plain": [
       "(-1, 2, -2)"
      ]
     },
     "metadata": {},
     "output_type": "display_data"
    },
    {
     "data": {
      "text/latex": [
       "$\\displaystyle f = -9$"
      ],
      "text/plain": [
       "Eq(f, -9)"
      ]
     },
     "metadata": {},
     "output_type": "display_data"
    },
    {
     "data": {
      "text/latex": [
       "$\\displaystyle \\left( 1, \\  -2, \\  2\\right)$"
      ],
      "text/plain": [
       "(1, -2, 2)"
      ]
     },
     "metadata": {},
     "output_type": "display_data"
    },
    {
     "data": {
      "text/latex": [
       "$\\displaystyle f = 9$"
      ],
      "text/plain": [
       "Eq(f, 9)"
      ]
     },
     "metadata": {},
     "output_type": "display_data"
    }
   ],
   "source": [
    "x, y, z, lam = symbols('x y z lamda')\n",
    "variables = [x, y, z, lam]\n",
    "\n",
    "f = x - 2*y + 2*z\n",
    "restriction = x**2 + y**2 + z**2 - 9\n",
    "L = f + lam*restriction\n",
    "stat_points = getStatPoints(L, variables)\n",
    "display(Markdown(\"#### Стационарные точки\"), stat_points, variables)\n",
    "\n",
    "dx, dy, dz, dx2, dy2, dz2 = symbols('dx dy dz dx^2 dy^2 dz^2')\n",
    "d2L = 0\n",
    "diffs = {x: (dx, dx2), y: (dy, dy2), z: (dz, dz2)}\n",
    "for i, var in enumerate(variables[:-1]):\n",
    "    d2L += L.diff(var, 2)*diffs[var][1]\n",
    "    \n",
    "    for j in range(i+1, 3):\n",
    "        d2L += 2*L.diff(var, variables[j]) * diffs[var][0] * diffs[variables[j]][0]\n",
    "\n",
    "display(Markdown(\"#### Второй дифференциал функции Лагранжа\"), d2L)\n",
    "\n",
    "display(Markdown(\"#### Подставим $\\lambda$ в дифференциал\"))\n",
    "lam_list = [S(1)/2, -S(1)/2]\n",
    "for lam0 in lam_list:\n",
    "    display(d2L.subs(lam, lam0))\n",
    "    \n",
    "display(\n",
    "    Markdown(\"1) Положительный дифференциал => точка минимума\"),\n",
    "    Markdown(\"2) Отрицательный дифференциал => точка максимума\")\n",
    ")\n",
    "        \n",
    "display(Markdown(\"#### Точки экстремума и экстремумы\"))\n",
    "ff = Symbol('f')\n",
    "for point in stat_points:\n",
    "    if point[-1] != -9:\n",
    "        display(point[:-1], sympy.Eq(ff, f.subs({var: point[j] for j, var in enumerate(variables)})))"
   ]
  },
  {
   "attachments": {
    "image.png": {
     "image/png": "[encoded data removed]"
    }
   },
   "cell_type": "markdown",
   "metadata": {},
   "source": [
    "### Индивидуальное задание\n",
    "Найти точки экстремума\n",
    "![image.png](attachment:image.png)"
   ]
  },
  {
   "cell_type": "code",
   "execution_count": 57,
   "metadata": {},
   "outputs": [
    {
     "data": {
      "text/markdown": [
       "#### Функция $- 3 x^{2} - x y + 4 x z + 3 x + 2 y^{2} + 4 y z - 2 y - 4 z^{2} - 3 z$"
      ],
      "text/plain": [
       "<IPython.core.display.Markdown object>"
      ]
     },
     "metadata": {},
     "output_type": "display_data"
    },
    {
     "data": {
      "text/markdown": [
       "Стационарные точки"
      ],
      "text/plain": [
       "<IPython.core.display.Markdown object>"
      ]
     },
     "metadata": {},
     "output_type": "display_data"
    },
    {
     "data": {
      "text/latex": [
       "$\\displaystyle \\left\\{\\left( \\frac{1}{2}, \\  \\frac{1}{2}, \\  \\frac{1}{8}\\right)\\right\\}$"
      ],
      "text/plain": [
       "FiniteSet((1/2, 1/2, 1/8))"
      ]
     },
     "metadata": {},
     "output_type": "display_data"
    },
    {
     "data": {
      "text/markdown": [
       "Матрица производных"
      ],
      "text/plain": [
       "<IPython.core.display.Markdown object>"
      ]
     },
     "metadata": {},
     "output_type": "display_data"
    },
    {
     "data": {
      "text/latex": [
       "$\\displaystyle \\left[\\begin{matrix}-6 & -1 & 4\\\\-1 & 4 & 4\\\\4 & 4 & -8\\end{matrix}\\right]$"
      ],
      "text/plain": [
       "Matrix([\n",
       "[-6, -1,  4],\n",
       "[-1,  4,  4],\n",
       "[ 4,  4, -8]])"
      ]
     },
     "metadata": {},
     "output_type": "display_data"
    },
    {
     "data": {
      "text/markdown": [
       "Ее определитель"
      ],
      "text/plain": [
       "<IPython.core.display.Markdown object>"
      ]
     },
     "metadata": {},
     "output_type": "display_data"
    },
    {
     "data": {
      "text/latex": [
       "$\\displaystyle 200$"
      ],
      "text/plain": [
       "200"
      ]
     },
     "metadata": {},
     "output_type": "display_data"
    },
    {
     "data": {
      "text/markdown": [
       "Подстановка $(\\frac{1}{2}, \\frac{1}{2}, \\frac{1}{8})$, точка min"
      ],
      "text/plain": [
       "<IPython.core.display.Markdown object>"
      ]
     },
     "metadata": {},
     "output_type": "display_data"
    },
    {
     "data": {
      "text/latex": [
       "$\\displaystyle 200$"
      ],
      "text/plain": [
       "200"
      ]
     },
     "metadata": {},
     "output_type": "display_data"
    }
   ],
   "source": [
    "f = -3*x**2 - x*y + 4*x*z + 3*x + 2*y**2 + 4*y*z - 2*y - 4*z**2 - 3*z\n",
    "\n",
    "stat_points = getStatPoints(f, [x, y, z])\n",
    "Delta = Matrix([\n",
    "    [f.diff(x, 2), f.diff(x, y), f.diff(x, z)],\n",
    "    [f.diff(y, x), f.diff(y, 2), f.diff(y, z)],\n",
    "    [f.diff(z, x), f.diff(z, y), f.diff(z,2)],\n",
    "])\n",
    "\n",
    "det = Delta.det()\n",
    "res = []\n",
    "\n",
    "display(\n",
    "    Markdown(\"#### Функция $\" + latex(f) + \"$\"),\n",
    "    Markdown(\"Стационарные точки\"), stat_points,\n",
    "    Markdown(\"Матрица производных\"), Delta,\n",
    "    Markdown(\"Ее определитель\"), det\n",
    ")\n",
    "\n",
    "for x0, y0, z0 in stat_points:\n",
    "    diff1 = f.diff(x, 2).subs({x: x0, y: y0, z: z0})\n",
    "    diff2 = f.diff(y, 2).subs({x: x0, y: y0, z: z0})\n",
    "    diff3 = f.diff(z, 2).subs({x: x0, y: y0, z: z0})\n",
    "    \n",
    "    if diff1 > 0 or diff2 or diff3 > 0:\n",
    "        point_type = 'min'\n",
    "    else:\n",
    "        point_type = 'max'\n",
    "    \n",
    "    display(\n",
    "        Markdown(f\"Подстановка $({latex(x0)}, {latex(y0)}, {latex(z0)})$, точка {point_type}\"),\n",
    "        det.subs({x: x0, y: y0, z: z0})\n",
    "    )"
   ]
  },
  {
   "cell_type": "code",
   "execution_count": null,
   "metadata": {},
   "outputs": [],
   "source": []
  }
 ],
 "metadata": {
  "kernelspec": {
   "display_name": "Python 3",
   "language": "python",
   "name": "python3"
  },
  "language_info": {
   "codemirror_mode": {
    "name": "ipython",
    "version": 3
   },
   "file_extension": ".py",
   "mimetype": "text/x-python",
   "name": "python",
   "nbconvert_exporter": "python",
   "pygments_lexer": "ipython3",
   "version": "3.9.0"
  }
 },
 "nbformat": 4,
 "nbformat_minor": 2
}
