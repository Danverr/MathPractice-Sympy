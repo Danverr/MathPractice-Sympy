{
 "cells": [
  {
   "cell_type": "code",
   "execution_count": 1,
   "metadata": {},
   "outputs": [],
   "source": [
    "import numpy as np\n",
    "import sympy\n",
    "from sympy import S, symbols, Function, dsolve, solveset, linsolve, integrate, diff, plot\n",
    "from sympy import sin as Sin\n",
    "from sympy import cos as Cos\n",
    "from sympy import exp as Exp\n",
    "from sympy import log as Log\n",
    "from sympy import pi as Pi\n",
    "import matplotlib.pyplot as plt"
   ]
  },
  {
   "cell_type": "markdown",
   "metadata": {},
   "source": [
    "## Занятие 18\n",
    "## Математический анализ\n",
    "## Линейные ОДУ второго порядка с постоянными коэффициентами\n",
    "### Задача 1\n",
    "Решить ОДУ $3y''+5y'-2y=0$ по формуле из файла с примерами и с помощью dsolve."
   ]
  },
  {
   "cell_type": "code",
   "execution_count": null,
   "metadata": {},
   "outputs": [],
   "source": [
    "symbol\n",
    "expr = 3*diff()\n",
    "dsolve(expr)"
   ]
  },
  {
   "cell_type": "markdown",
   "metadata": {},
   "source": [
    "### Задача 2.\n",
    "Решить задачу Коши:\n",
    "$$\n",
    "\\left\\{\n",
    "\\begin{matrix}\n",
    "9y''+3y'+y=0\\\\\n",
    "y(0)=0\\\\\n",
    "y'(0)=2\\sqrt3\n",
    "\\end{matrix}\n",
    "\\right.\n",
    "$$\n",
    "##### Указание.\n",
    "Решить с помощью dsolve, затем составить словарь символов решения, ключи - 'x', 'C1', 'C2', а значения - соответствующие элементы из множества  ХХХ.rhs.free_symbols, решить систему линейных относительно С1 и С2 уравнений, описывающих начальные условия."
   ]
  },
  {
   "cell_type": "code",
   "execution_count": null,
   "metadata": {},
   "outputs": [],
   "source": []
  },
  {
   "cell_type": "markdown",
   "metadata": {},
   "source": [
    "### Индивидуальное задание\n",
    "Решить с помощью dsolve:\n",
    "$$\n",
    "y''' + y'' + y' + y = (4x + 6)e^{2x}.\n",
    "$$\n",
    "Построить график $y(x)$ при начальных условиях $y(0) = 4$, $y'(0) = 2$, $y''(0) = 0$."
   ]
  },
  {
   "cell_type": "code",
   "execution_count": null,
   "metadata": {},
   "outputs": [],
   "source": []
  }
 ],
 "metadata": {
  "kernelspec": {
   "display_name": "Python 3",
   "language": "python",
   "name": "python3"
  },
  "language_info": {
   "codemirror_mode": {
    "name": "ipython",
    "version": 3
   },
   "file_extension": ".py",
   "mimetype": "text/x-python",
   "name": "python",
   "nbconvert_exporter": "python",
   "pygments_lexer": "ipython3",
   "version": "3.9.0"
  }
 },
 "nbformat": 4,
 "nbformat_minor": 2
}
